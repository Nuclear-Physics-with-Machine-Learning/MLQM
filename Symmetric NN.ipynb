{
 "cells": [
  {
   "cell_type": "code",
   "execution_count": 1,
   "metadata": {},
   "outputs": [],
   "source": [
    "import torch\n",
    "import numpy"
   ]
  },
  {
   "cell_type": "code",
   "execution_count": 19,
   "metadata": {},
   "outputs": [],
   "source": [
    "def generate_points(dimension, n_points):\n",
    "    ''' Generate a set of input points.  Continuously sampled during training.'''\n",
    "    return torch.rand(n_points, dimension)"
   ]
  },
  {
   "cell_type": "code",
   "execution_count": 20,
   "metadata": {},
   "outputs": [],
   "source": [
    "class func_3layer(torch.nn.Module):\n",
    "    '''\n",
    "    Three layer network for phi, as per the paper (in appendix)\n",
    "    '''\n",
    "    def __init__(self, input_dim, output_dim, bias=False):\n",
    "        torch.nn.Module.__init__(self)\n",
    "        \n",
    "        self.layer1 = torch.nn.Linear(input_dim, 1000, bias=bias)\n",
    "        self.layer2 = torch.nn.Linear(1000, 1000, bias=bias)\n",
    "        self.layer3 = torch.nn.Linear(1000, output_dim, bias=bias)\n",
    "        \n",
    "        self.activation = torch.relu\n",
    "        \n",
    "    def forward(self, inputs):\n",
    "        \n",
    "        x = self.layer1(inputs)\n",
    "        x = self.activation(x)\n",
    "        x = self.layer2(x)\n",
    "        x = self.activation(x)\n",
    "        x = self.layer3(x)\n",
    "        \n",
    "        return x\n",
    "\n",
    "class func_2layer(torch.nn.Module):\n",
    "    '''\n",
    "    Two layer network for rho, as per the paper (in appendix)\n",
    "    '''\n",
    "    def __init__(self, input_dim, output_dim, bias=False):\n",
    "        torch.nn.Module.__init__(self)\n",
    "        \n",
    "        self.layer1 = torch.nn.Linear(input_dim, 1000, bias=bias)\n",
    "        self.layer2 = torch.nn.Linear(1000, output_dim, bias=bias)\n",
    "        \n",
    "        self.activation = torch.relu\n",
    "        \n",
    "    def forward(self, inputs):\n",
    "        \n",
    "        x = self.layer1(inputs)\n",
    "        x = self.activation(x)\n",
    "        x = self.layer2(x)\n",
    "        \n",
    "        return x\n",
    "    \n"
   ]
  },
  {
   "cell_type": "code",
   "execution_count": 21,
   "metadata": {},
   "outputs": [],
   "source": [
    "class func_symm(torch.nn.Module):\n",
    "    '''\n",
    "    Explicitly symmetric function (essentially, no rho)\n",
    "    '''\n",
    "    def __init__(self, input_dim, output_dim, bias=False):\n",
    "        torch.nn.Module.__init__(self)\n",
    "        \n",
    "        self.layer1 = torch.nn.Linear(input_dim, 256, bias=bias)\n",
    "#         self.layer2 = torch.nn.Linear(256, 256, bias=True)\n",
    "        self.layer3 = torch.nn.Linear(256, output_dim, bias=bias)\n",
    "        \n",
    "        self.activation = torch.relu\n",
    "        \n",
    "    def forward(self, x, y):\n",
    "        \n",
    "        x = self.layer1(x)\n",
    "        x = self.activation(x)\n",
    "#         x = self.layer2(x)\n",
    "#         x = self.activation(x)\n",
    "        x = self.layer3(x)\n",
    "        \n",
    "        y = self.layer1(y)\n",
    "        y = self.activation(y)\n",
    "#         y = self.layer2(y)\n",
    "#         y = self.activation(y)\n",
    "        y = self.layer3(y)\n",
    "        \n",
    "        return x + y\n",
    "    \n",
    "\n"
   ]
  },
  {
   "cell_type": "code",
   "execution_count": 43,
   "metadata": {},
   "outputs": [],
   "source": [
    "# Set the dimension of input data and the latent size:\n",
    "DIMENSION   = 1\n",
    "LATENT_SIZE = 1"
   ]
  },
  {
   "cell_type": "code",
   "execution_count": 44,
   "metadata": {},
   "outputs": [],
   "source": [
    "# Create the 3 NN to train\n",
    "phi = func_3layer(input_dim=DIMENSION, output_dim=LATENT_SIZE)\n",
    "rho = func_2layer(input_dim=LATENT_SIZE, output_dim=1)\n",
    "symm = func_symm(input_dim=DIMENSION, output_dim=1)"
   ]
  },
  {
   "cell_type": "code",
   "execution_count": null,
   "metadata": {},
   "outputs": [],
   "source": []
  },
  {
   "cell_type": "code",
   "execution_count": 45,
   "metadata": {},
   "outputs": [],
   "source": [
    "# This should generate points between 0 and 1 at random:\n",
    "x = generate_points(1,10)\n",
    "y = generate_points(1,10)"
   ]
  },
  {
   "cell_type": "code",
   "execution_count": 46,
   "metadata": {},
   "outputs": [
    {
     "data": {
      "text/plain": [
       "(tensor([[0.1916],\n",
       "         [0.2112],\n",
       "         [0.3870],\n",
       "         [0.8464],\n",
       "         [0.3852],\n",
       "         [0.6821],\n",
       "         [0.3257],\n",
       "         [0.6382],\n",
       "         [0.2114],\n",
       "         [0.0537]]), tensor([[0.9295],\n",
       "         [0.8013],\n",
       "         [0.6532],\n",
       "         [0.0630],\n",
       "         [0.4893],\n",
       "         [0.9669],\n",
       "         [0.7427],\n",
       "         [0.6462],\n",
       "         [0.3641],\n",
       "         [0.6877]]))"
      ]
     },
     "execution_count": 46,
     "metadata": {},
     "output_type": "execute_result"
    }
   ],
   "source": [
    "x, y"
   ]
  },
  {
   "cell_type": "code",
   "execution_count": 72,
   "metadata": {},
   "outputs": [],
   "source": [
    "# Now, let's compute an objective function:\n",
    "def real_function(x, y):\n",
    "    # This is symmetric by construction\n",
    "    return (x - y ) **2\n",
    "#     return abs(x - y)"
   ]
  },
  {
   "cell_type": "code",
   "execution_count": 73,
   "metadata": {},
   "outputs": [
    {
     "name": "stdout",
     "output_type": "stream",
     "text": [
      "torch.Size([10, 1])\n",
      "torch.Size([10, 1])\n"
     ]
    },
    {
     "data": {
      "text/plain": [
       "tensor([[0.],\n",
       "        [0.],\n",
       "        [0.],\n",
       "        [0.],\n",
       "        [0.],\n",
       "        [0.],\n",
       "        [0.],\n",
       "        [0.],\n",
       "        [0.],\n",
       "        [0.]])"
      ]
     },
     "execution_count": 73,
     "metadata": {},
     "output_type": "execute_result"
    }
   ],
   "source": [
    "# With the same input, it goes to 0:\n",
    "print(x.shape)\n",
    "print(real_function(x,y).shape)\n",
    "real_function(x,y) - real_function(y, x)"
   ]
  },
  {
   "cell_type": "code",
   "execution_count": 74,
   "metadata": {},
   "outputs": [
    {
     "data": {
      "text/plain": [
       "torch.Size([10, 1])"
      ]
     },
     "execution_count": 74,
     "metadata": {},
     "output_type": "execute_result"
    }
   ],
   "source": [
    "# Ten points by DIMENSION each\n",
    "x.shape"
   ]
  },
  {
   "cell_type": "code",
   "execution_count": 75,
   "metadata": {},
   "outputs": [
    {
     "data": {
      "text/plain": [
       "torch.Size([10, 1])"
      ]
     },
     "execution_count": 75,
     "metadata": {},
     "output_type": "execute_result"
    }
   ],
   "source": [
    "# Ten points by LATENT_SPACe each\n",
    "phi(x).shape"
   ]
  },
  {
   "cell_type": "code",
   "execution_count": 76,
   "metadata": {},
   "outputs": [
    {
     "data": {
      "text/plain": [
       "torch.Size([10, 1])"
      ]
     },
     "execution_count": 76,
     "metadata": {},
     "output_type": "execute_result"
    }
   ],
   "source": [
    "# Ten points by single-valued each\n",
    "rho(phi(x)).shape"
   ]
  },
  {
   "cell_type": "code",
   "execution_count": 77,
   "metadata": {},
   "outputs": [
    {
     "data": {
      "text/plain": [
       "torch.Size([10, 1])"
      ]
     },
     "execution_count": 77,
     "metadata": {},
     "output_type": "execute_result"
    }
   ],
   "source": [
    "# Ten points by single-valued each\n",
    "symm(x,y).shape"
   ]
  },
  {
   "cell_type": "markdown",
   "metadata": {},
   "source": [
    "Train the decomposed networks:"
   ]
  },
  {
   "cell_type": "code",
   "execution_count": 78,
   "metadata": {},
   "outputs": [],
   "source": [
    "# For training the net, create optimizers:\n",
    "params = list(phi.parameters()) + list(rho.parameters())\n",
    "optimizer =  torch.optim.Adam(params, lr=0.0001)\n",
    "scheduler = torch.optim.lr_scheduler.ExponentialLR(optimizer, gamma=0.99)\n",
    "loss_fn = torch.nn.MSELoss()\n",
    "\n"
   ]
  },
  {
   "cell_type": "code",
   "execution_count": 79,
   "metadata": {
    "scrolled": false
   },
   "outputs": [
    {
     "name": "stdout",
     "output_type": "stream",
     "text": [
      "tensor(0.6948, grad_fn=<MseLossBackward>)\n",
      "tensor(0.0731, grad_fn=<MseLossBackward>)\n",
      "tensor(0.0515, grad_fn=<MseLossBackward>)\n",
      "tensor(0.0801, grad_fn=<MseLossBackward>)\n",
      "tensor(0.0945, grad_fn=<MseLossBackward>)\n",
      "tensor(0.0880, grad_fn=<MseLossBackward>)\n",
      "tensor(0.0580, grad_fn=<MseLossBackward>)\n",
      "tensor(0.0833, grad_fn=<MseLossBackward>)\n",
      "tensor(0.0734, grad_fn=<MseLossBackward>)\n",
      "tensor(0.0639, grad_fn=<MseLossBackward>)\n"
     ]
    }
   ],
   "source": [
    "BATCH_SIZE = 32\n",
    "for i in range(1000):\n",
    "    # Sample fresh points\n",
    "    x = generate_points(1,BATCH_SIZE)\n",
    "    y = generate_points(1,BATCH_SIZE)\n",
    "    \n",
    "\n",
    "    # Clear gradients\n",
    "    optimizer.zero_grad()\n",
    "    \n",
    "    # Compute the true answer:\n",
    "    correct_answer = real_function(x,y)\n",
    "    \n",
    "    # Forward pass\n",
    "    phi_x = phi(x)\n",
    "    phi_y = phi(y)\n",
    "    approximation = rho(phi_x + phi_y)\n",
    "    \n",
    "    # MSE loss\n",
    "    loss = loss_fn(target=correct_answer, input=approximation)\n",
    "    if i % 100 == 0:\n",
    "        print(loss)\n",
    "    \n",
    "    # Back prop:\n",
    "    loss.backward()\n",
    "    # Update weights:\n",
    "    optimizer.step()\n",
    "    # Decay LR\n",
    "    scheduler.step()"
   ]
  },
  {
   "cell_type": "code",
   "execution_count": 80,
   "metadata": {},
   "outputs": [
    {
     "name": "stdout",
     "output_type": "stream",
     "text": [
      "x:  tensor([[0.9394],\n",
      "        [0.6550],\n",
      "        [0.5906],\n",
      "        [0.2541],\n",
      "        [0.7624],\n",
      "        [0.0547],\n",
      "        [0.7827],\n",
      "        [0.0242],\n",
      "        [0.8106],\n",
      "        [0.2213]])\n",
      "y:  tensor([[0.2046],\n",
      "        [0.0011],\n",
      "        [0.4268],\n",
      "        [0.1612],\n",
      "        [0.3806],\n",
      "        [0.5792],\n",
      "        [0.4267],\n",
      "        [0.1000],\n",
      "        [0.4402],\n",
      "        [0.0619]])\n",
      "tensor([[0.7349],\n",
      "        [0.6539],\n",
      "        [0.1638],\n",
      "        [0.0930],\n",
      "        [0.3818],\n",
      "        [0.5245],\n",
      "        [0.3560],\n",
      "        [0.0758],\n",
      "        [0.3704],\n",
      "        [0.1594]])\n",
      "tensor([[0.3271],\n",
      "        [0.1876],\n",
      "        [0.2909],\n",
      "        [0.1188],\n",
      "        [0.3268],\n",
      "        [0.1812],\n",
      "        [0.3458],\n",
      "        [0.0355],\n",
      "        [0.3576],\n",
      "        [0.0810]], grad_fn=<MmBackward>)\n",
      "Error: tensor(0.0529, grad_fn=<MseLossBackward>)\n"
     ]
    }
   ],
   "source": [
    "x = generate_points(1, 10)\n",
    "y = generate_points(1, 10)\n",
    "print(\"x: \", x)\n",
    "print(\"y: \", y)\n",
    "print(real_function(x,y))\n",
    "print(rho(phi(x) + phi(y)))\n",
    "print(\"Error:\", loss_fn(target=real_function(x,y), input=rho(phi(x) + phi(y))))"
   ]
  },
  {
   "cell_type": "code",
   "execution_count": null,
   "metadata": {},
   "outputs": [],
   "source": []
  },
  {
   "cell_type": "code",
   "execution_count": null,
   "metadata": {},
   "outputs": [],
   "source": []
  },
  {
   "cell_type": "code",
   "execution_count": null,
   "metadata": {},
   "outputs": [],
   "source": []
  },
  {
   "cell_type": "code",
   "execution_count": 16,
   "metadata": {},
   "outputs": [],
   "source": [
    "# For training the net, create optimizers:\n",
    "params = list(symm.parameters())\n",
    "optimizer =  torch.optim.Adam(params, lr=0.003)\n",
    "scheduler = torch.optim.lr_scheduler.ExponentialLR(optimizer, gamma=0.99)"
   ]
  },
  {
   "cell_type": "code",
   "execution_count": 17,
   "metadata": {},
   "outputs": [
    {
     "name": "stdout",
     "output_type": "stream",
     "text": [
      "tensor(0.0812, grad_fn=<MseLossBackward>)\n",
      "tensor(0.0083, grad_fn=<MseLossBackward>)\n",
      "tensor(0.0087, grad_fn=<MseLossBackward>)\n",
      "tensor(0.0088, grad_fn=<MseLossBackward>)\n",
      "tensor(0.0081, grad_fn=<MseLossBackward>)\n"
     ]
    }
   ],
   "source": [
    "BATCH_SIZE = 32\n",
    "for i in range(500):\n",
    "    \n",
    "    optimizer.zero_grad()\n",
    "    \n",
    "    x = generate_points(1,BATCH_SIZE)\n",
    "    y = generate_points(1,BATCH_SIZE)\n",
    "    \n",
    "#     print(x, y)\n",
    "    \n",
    "    correct_answer = real_function(x,y)\n",
    "    \n",
    "    \n",
    "#     print(phi_x)\n",
    "#     print(phi_y)\n",
    "\n",
    "\n",
    "    approximation = symm(x,y)\n",
    "    \n",
    "#     print(correct_answer)\n",
    "#     print(approximation)\n",
    "    \n",
    "    loss = torch.nn.MSELoss()(target=correct_answer, input=approximation)\n",
    "    if i % 100 == 0:\n",
    "        print(loss)\n",
    "    \n",
    "    loss.backward()\n",
    "    optimizer.step()\n",
    "    scheduler.step()"
   ]
  },
  {
   "cell_type": "code",
   "execution_count": 18,
   "metadata": {},
   "outputs": [
    {
     "name": "stdout",
     "output_type": "stream",
     "text": [
      "x:  tensor([[0.9528],\n",
      "        [0.1039],\n",
      "        [0.3522],\n",
      "        [0.7515],\n",
      "        [0.7408],\n",
      "        [0.1683],\n",
      "        [0.9277],\n",
      "        [0.1361],\n",
      "        [0.4304],\n",
      "        [0.2179]])\n",
      "y:  tensor([[0.6248],\n",
      "        [0.0087],\n",
      "        [0.2785],\n",
      "        [0.0422],\n",
      "        [0.4817],\n",
      "        [0.2681],\n",
      "        [0.0803],\n",
      "        [0.6927],\n",
      "        [0.7939],\n",
      "        [0.9807]])\n",
      "tensor([[0.5953],\n",
      "        [0.0009],\n",
      "        [0.0981],\n",
      "        [0.0317],\n",
      "        [0.3569],\n",
      "        [0.0451],\n",
      "        [0.0745],\n",
      "        [0.0943],\n",
      "        [0.3417],\n",
      "        [0.2137]])\n",
      "tensor([[ 0.5452],\n",
      "        [-0.1965],\n",
      "        [ 0.0766],\n",
      "        [ 0.1474],\n",
      "        [ 0.3670],\n",
      "        [-0.0318],\n",
      "        [ 0.2567],\n",
      "        [ 0.1618],\n",
      "        [ 0.3710],\n",
      "        [ 0.3534]], grad_fn=<AddBackward0>)\n"
     ]
    }
   ],
   "source": [
    "x = generate_points(1, 10)\n",
    "y = generate_points(1, 10)\n",
    "print(\"x: \", x)\n",
    "print(\"y: \", y)\n",
    "print(real_function(x,y))\n",
    "print(symm(x,y))"
   ]
  },
  {
   "cell_type": "code",
   "execution_count": null,
   "metadata": {},
   "outputs": [],
   "source": []
  }
 ],
 "metadata": {
  "kernelspec": {
   "display_name": "Python 3",
   "language": "python",
   "name": "python3"
  },
  "language_info": {
   "codemirror_mode": {
    "name": "ipython",
    "version": 3
   },
   "file_extension": ".py",
   "mimetype": "text/x-python",
   "name": "python",
   "nbconvert_exporter": "python",
   "pygments_lexer": "ipython3",
   "version": "3.6.10"
  }
 },
 "nbformat": 4,
 "nbformat_minor": 2
}
