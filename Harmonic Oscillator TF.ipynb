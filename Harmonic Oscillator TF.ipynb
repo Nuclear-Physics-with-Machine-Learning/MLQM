{
 "cells": [
  {
   "cell_type": "markdown",
   "metadata": {},
   "source": [
    "# Quantum Harmonic Oscillator\n",
    "\n",
    "In this notebook we'll solve the quantum harmonic oscillator with machine learning techniques.\n",
    "\n",
    "The Hamiltonian of the oscillator is:\n",
    "\n",
    "$$ H = \\frac{1}{2m}p^2 + \\frac{m \\omega^2}{2}x^2 $$"
   ]
  },
  {
   "cell_type": "markdown",
   "metadata": {},
   "source": [
    "According to the variational principle of quantum mechanics, for any wave function $|\\psi>$, \n",
    "\n",
    "$$ < \\psi | H | \\psi > ~ \\ge ~ E_0 $$"
   ]
  },
  {
   "cell_type": "markdown",
   "metadata": {},
   "source": [
    "When substitued into the variational principle, we have:\n",
    "\n",
    "$$ \\int_{-\\infty}^{\\infty} \\psi^*(x) H \\psi(x) dx $$\n",
    "$$ \\int_{-\\infty}^{\\infty} \\psi^*(x) [\\frac{1}{2m}p^2 + \\frac{m \\omega^2}{2}x^2 ] \\psi(x) dx$$"
   ]
  },
  {
   "cell_type": "markdown",
   "metadata": {},
   "source": [
    "Subsituting $p = -i \\hbar \\frac{\\partial}{\\partial x}$ :\n",
    "$$ \\int_{-\\infty}^{\\infty} \\psi^*(x) \\frac{1}{2m}[- \\hbar]^2 \\frac{\\partial^2}{\\partial x ^2}   \\psi dx + \\int_{-\\infty}^{\\infty} \\psi^* \\frac{m \\omega^2}{2}x^2  \\psi(x) dx$$\n",
    "\n",
    "$$ \\frac{-\\hbar^2}{2m} \\int_{-\\infty}^{\\infty} \\psi^*(x)  \\frac{\\partial^2}{\\partial x ^2}   \\psi dx + \\frac{m \\omega^2}{2} \\int_{-\\infty}^{\\infty} \\psi^* x^2  \\psi(x) dx $$"
   ]
  },
  {
   "cell_type": "markdown",
   "metadata": {},
   "source": [
    "To solve this numerically, let's integrate by parts to turn a second derivative into two first derivatives:\n",
    "$$ < \\psi | H | \\psi > = \\frac{m \\omega^2}{2} \\int_{-\\infty}^{\\infty} \\psi^* x^2  \\psi(x) dx - \\frac{\\hbar^2}{2m} \\left[\\psi^*(x)\\frac{\\partial \\psi (x)}{\\partial x}  \\Biggr|_{-\\infty}^{\\infty}  - \\int_{-\\infty}^{\\infty} \\frac{\\partial \\psi^*(x)}{\\partial x} \\frac{\\partial \\psi(x)}{\\partial x} dx \\right] $$"
   ]
  },
  {
   "cell_type": "markdown",
   "metadata": {},
   "source": [
    "The wavefunctions for the harmonic oscillator have to got to zero at $\\pm \\infty$, so the first term in the integration by parts can be dropped.  Then, the total integral to evaluate is:\n",
    "\n",
    "$$ < \\psi | H | \\psi > = \\frac{m \\omega^2}{2} \\int_{-\\infty}^{\\infty} \\psi^* x^2  \\psi(x) dx + \\frac{\\hbar^2}{2m}  \\int_{-\\infty}^{\\infty} \\frac{\\partial \\psi^*(x)}{\\partial x} \\frac{\\partial \\psi(x)}{\\partial x} dx $$"
   ]
  },
  {
   "cell_type": "markdown",
   "metadata": {},
   "source": [
    "We have assumed above that the wave functions are normalized, but with our approximation scheme we won't have normalized wavefunctions.  In this case, let's add in the normalization ourselves:"
   ]
  },
  {
   "cell_type": "markdown",
   "metadata": {},
   "source": [
    "$$ < \\psi | H | \\psi > = \\frac{1}{N} \\left[\\frac{m \\omega^2}{2} \\int_{-\\infty}^{\\infty} \\psi^* x^2  \\psi(x) dx + \\frac{\\hbar^2}{2m}  \\int_{-\\infty}^{\\infty} \\frac{\\partial \\psi^*(x)}{\\partial x} \\frac{\\partial \\psi(x)}{\\partial x} dx \\right]$$\n",
    "where \n",
    "$$ N = \\int_{-\\infty}^{\\infty} \\psi^*(x) \\psi(x) dx $$"
   ]
  },
  {
   "cell_type": "markdown",
   "metadata": {},
   "source": [
    "To solve this, and estimate the ground state energy of the system, we need to find a wave function and estimate these two integrals.\n",
    "\n",
    "We will use a tensorflow network to approximate our wavefunction, which we can then differentiate.  The requirements of this system are that:\n",
    "- the wavefunction must be normalizable\n",
    "- the wavefunction must go to zero at $\\pm \\infty$\n",
    "- the wavefunction must be twice differentiable (no ReLU!) since wavefunctions should have continuous derivatives."
   ]
  },
  {
   "cell_type": "markdown",
   "metadata": {},
   "source": [
    "## How to sample a wavefunction?\n",
    "\n",
    "In this simple notebook, we'll use basic grid sampling: compute the wave function at a fixed set of points.  In more advanced examples, we will use more complicated sampling schemes."
   ]
  },
  {
   "cell_type": "code",
   "execution_count": 1,
   "metadata": {},
   "outputs": [],
   "source": [
    "import numpy\n",
    "import time\n",
    "import tensorflow as tf\n",
    "from matplotlib import pyplot as plt"
   ]
  },
  {
   "cell_type": "markdown",
   "metadata": {},
   "source": [
    "These are physical constants in this problem, which we'll set to 1 for ease:"
   ]
  },
  {
   "cell_type": "code",
   "execution_count": 3,
   "metadata": {},
   "outputs": [],
   "source": [
    "omega = 1.0\n",
    "hbar  = 1.0\n",
    "M     = 1\n",
    "\n",
    "# This is a granularity parameter:\n",
    "delta = 0.0005"
   ]
  },
  {
   "cell_type": "markdown",
   "metadata": {},
   "source": [
    "There are 3 available wavefunctions here:\n",
    "- A module based on Hermite Polynomials, up to degree 3, that is exact up to normalization.\n",
    "- A polynomial module that can be fit to any polynomial up to degree 3.\n",
    "- A neural network that has no polynomial terms.\n",
    "\n",
    "All components have the same submodule to handle the boundary conditions, which is an gaussian-like exponential that decays to zero at large $|x|$."
   ]
  },
  {
   "cell_type": "code",
   "execution_count": 4,
   "metadata": {},
   "outputs": [],
   "source": [
    "class ExponentialBoundaryCondition(tf.keras.layers.Layer):\n",
    "    \n",
    "    def __init__(self, exp=1.0, trainable=True):\n",
    "        tf.keras.layers.Layer.__init__(self)\n",
    "\n",
    "        # This is the parameter controlling the shape of the exponent:\n",
    "        self.exponent = tf.Variable(exp, trainable=trainable, dtype=tf.float32)\n",
    "\n",
    "\n",
    "    def call(self, inputs):\n",
    "\n",
    "        return tf.exp(- (self.exponent * inputs) **2 / 2.)\n",
    "        \n",
    "        "
   ]
  },
  {
   "cell_type": "code",
   "execution_count": 5,
   "metadata": {},
   "outputs": [],
   "source": [
    "class CorrectWavefunction(tf.keras.layers.Layer):\n",
    "\n",
    "\n",
    "    def __init__(self, n):\n",
    "        tf.keras.layers.Layer.__init__(self)\n",
    "            \n",
    "        # N is the degree of the polynomial:\n",
    "        self.n = n\n",
    "    \n",
    "        self.alpha = M * omega / hbar\n",
    "        self.norm  = numpy.power(self.alpha / numpy.pi, 0.25)\n",
    "        \n",
    "        if self.n == 0:\n",
    "            pass\n",
    "        elif self.n == 1:\n",
    "            self.norm *= numpy.sqrt(2.)\n",
    "        elif self.n == 2:\n",
    "            self.norm *= numpy.sqrt(0.5)\n",
    "        else:\n",
    "            raise Exception(\"Unsupported degree of \", n)\n",
    "    \n",
    "        self.exp = ExponentialBoundaryCondition(exp=numpy.sqrt(self.alpha), trainable=False)\n",
    "    \n",
    "    def call(self, inputs):\n",
    "    \n",
    "        y = inputs\n",
    "        \n",
    "        boundary_condition = self.exp(y)\n",
    "        \n",
    "        if self.n == 0:\n",
    "            polynomial = 1\n",
    "        elif self.n == 1:\n",
    "            polynomial = y\n",
    "        elif self.n == 2:\n",
    "            polynomial = 2 * y**2 - 1\n",
    "            \n",
    "        return self.norm * boundary_condition * polynomial\n"
   ]
  },
  {
   "cell_type": "code",
   "execution_count": 6,
   "metadata": {},
   "outputs": [],
   "source": [
    "class PolynomialWavefunction(tf.keras.layers.Layer):\n",
    "    \n",
    "    def __init__(self):\n",
    "        tf.keras.layers.Layer.__init__(self)\n",
    "        \n",
    "#         self.layer1 = torch.nn.Linear(1,64)\n",
    "#         self.layer2 = torch.nn.Linear(64, 1)\n",
    "    \n",
    "        self.const  = tf.Variable(0.3, trainable=True, dtype=tf.float32)\n",
    "        self.linear = tf.Variable(0.2, trainable=True, dtype=tf.float32)\n",
    "        self.quad   = tf.Variable(0.2, trainable=True, dtype=tf.float32)\n",
    "\n",
    "        self.norm   = 1.0\n",
    "    \n",
    "        self.exp = ExponentialBoundaryCondition()\n",
    "\n",
    "\n",
    "\n",
    "    def call(self, inputs):\n",
    "        x = inputs\n",
    "\n",
    "        boundary_condition = self.exp(x)\n",
    "\n",
    "\n",
    "        poly = self.const + self.linear * x + self.quad * x**2\n",
    "\n",
    "        # Multiply by a factor to enforce normalization and boundary conditions:\n",
    "        # Note the exponent is within the power of 2 to make it's sign irrelevant\n",
    "        x = self.norm *  poly * boundary_condition\n",
    "        return x\n",
    "    \n",
    "    def update_normalization(self, inputs):\n",
    "        # Inputs is expected to be a range of parameters along an x axis.\n",
    "        value = self.call(inputs)\n",
    "        N = value ** 2\n",
    "\n",
    "        delta = inputs[1]-inputs[0]\n",
    "\n",
    "        N = tf.reduce_sum(N) * delta\n",
    "        self.norm *= 1/tf.sqrt(N)\n",
    "\n",
    "        # The normalization condition is that the integral of the wavefunction squared\n",
    "        # should be equal to 1 (probability sums to 1.)\n",
    "\n",
    "        return\n",
    "    \n",
    "    def analytic_derivative(self, inputs):\n",
    "        \n",
    "        poly = self.const + self.linear * x + self.quad * x**2\n",
    "        poly_prime = self.linear + 2 * self.quad * inputs\n",
    "        exp = self.exp(x)\n",
    "        \n",
    "        res = exp * (-inputs) *poly + poly_prime * exp\n",
    "        \n",
    "        return self.norm * res\n",
    "    \n",
    "    def zero_grad(self):\n",
    "        \"\"\"Sets gradients of all model parameters to zero.\"\"\"\n",
    "        for p in self.parameters():\n",
    "            if p.grad is not None:\n",
    "                p.grad.data.zero_()"
   ]
  },
  {
   "cell_type": "code",
   "execution_count": 8,
   "metadata": {},
   "outputs": [],
   "source": [
    "class NeuralWavefunction(tf.keras.layers.Layer):\n",
    "    \n",
    "    def __init__(self):\n",
    "        tf.keras.layers.Layer.__init__(self)\n",
    "        \n",
    "        self.layer1 = tf.keras.layers.Dense(32)\n",
    "        self.layer2 = tf.keras.layers.Dense(32)\n",
    "        self.layer3 = tf.keras.layers.Dense(1)\n",
    "    \n",
    "        self.norm   = 1.0\n",
    "        \n",
    "        # This is an exponent for normalization:\n",
    "        self.exp = ExponentialBoundaryCondition()\n",
    "\n",
    "\n",
    "\n",
    "\n",
    "\n",
    "    def call(self, inputs):\n",
    "        x = inputs\n",
    "        x = self.layer1(x)\n",
    "        x = tf.nn.tanh(x)\n",
    "        x = self.layer2(x)\n",
    "        x = tf.nn.tanh(x)\n",
    "        x = self.layer3(x)\n",
    "\n",
    "        boundary_condition = self.exp(inputs)\n",
    "\n",
    "        output = self.norm*x*boundary_condition\n",
    "        return output\n",
    "    \n",
    "    def update_normalization(self, inputs):\n",
    "        # Inputs is expected to be a range of parameters along an x axis.\n",
    "        value = self.call(inputs)\n",
    "        N = value ** 2\n",
    "\n",
    "        delta = inputs[1]-inputs[0]\n",
    "\n",
    "        N = tf.reduce_sum(N) * delta\n",
    "        self.norm *= 1/tf.sqrt(N)\n",
    "\n",
    "        # The normalization condition is that the integral of the wavefunction squared\n",
    "        # should be equal to 1 (probability sums to 1.)\n",
    "\n",
    "        return\n",
    "    \n"
   ]
  },
  {
   "cell_type": "markdown",
   "metadata": {},
   "source": [
    "Let's test some basic properties of the wave functions.  The CorrectWavefuntion should be normalized off the bat.  If we integrate it, it ought to come out right."
   ]
  },
  {
   "cell_type": "code",
   "execution_count": 9,
   "metadata": {},
   "outputs": [],
   "source": [
    "# This is preparing input data that is differentiable:\n",
    "_x = numpy.arange(-10, 10, delta, dtype=numpy.float32)\n",
    "_x = _x.reshape((_x.shape[0], 1))\n",
    "\n",
    "x = tf.Variable(_x, trainable = True)\n"
   ]
  },
  {
   "cell_type": "markdown",
   "metadata": {},
   "source": [
    "First, let's look at the correct wave functions:"
   ]
  },
  {
   "cell_type": "code",
   "execution_count": 10,
   "metadata": {},
   "outputs": [],
   "source": [
    "w_0 = CorrectWavefunction(n=0)\n",
    "w_1 = CorrectWavefunction(n=1)\n",
    "w_2 = CorrectWavefunction(n=2)"
   ]
  },
  {
   "cell_type": "code",
   "execution_count": 11,
   "metadata": {},
   "outputs": [],
   "source": [
    "y_0 = w_0(x)\n",
    "y_1 = w_1(x)\n",
    "y_2 = w_2(x)"
   ]
  },
  {
   "cell_type": "markdown",
   "metadata": {},
   "source": [
    "Are the wave functions normalized?"
   ]
  },
  {
   "cell_type": "code",
   "execution_count": 12,
   "metadata": {},
   "outputs": [
    {
     "name": "stdout",
     "output_type": "stream",
     "text": [
      "N==0 integral:  tf.Tensor(1.0005497, shape=(), dtype=float32)\n",
      "N==1 integral:  tf.Tensor(1.0005496, shape=(), dtype=float32)\n",
      "N==2 integral:  tf.Tensor(1.0005497, shape=(), dtype=float32)\n"
     ]
    }
   ],
   "source": [
    "print(\"N==0 integral: \", tf.reduce_sum(y_0**2) * delta)\n",
    "print(\"N==1 integral: \", tf.reduce_sum(y_1**2) * delta)\n",
    "print(\"N==2 integral: \", tf.reduce_sum(y_2**2) * delta)"
   ]
  },
  {
   "cell_type": "markdown",
   "metadata": {},
   "source": [
    "Are the wave functions orthogonal?"
   ]
  },
  {
   "cell_type": "code",
   "execution_count": 13,
   "metadata": {},
   "outputs": [
    {
     "name": "stdout",
     "output_type": "stream",
     "text": [
      "N_0 * N_1 integral:  tf.Tensor(-3.051758e-08, shape=(), dtype=float32)\n",
      "N_0 * N_2 integral:  tf.Tensor(-4.1246416e-08, shape=(), dtype=float32)\n",
      "N_1 * N_2 integral:  tf.Tensor(6.103516e-08, shape=(), dtype=float32)\n"
     ]
    }
   ],
   "source": [
    "print(\"N_0 * N_1 integral: \", tf.reduce_sum(y_0*y_1) * delta)\n",
    "print(\"N_0 * N_2 integral: \", tf.reduce_sum(y_0*y_2) * delta)\n",
    "print(\"N_1 * N_2 integral: \", tf.reduce_sum(y_1*y_2) * delta)"
   ]
  },
  {
   "cell_type": "markdown",
   "metadata": {},
   "source": [
    "Yes, to some approximation the wavefunctions are normalized and orthogonal."
   ]
  },
  {
   "cell_type": "markdown",
   "metadata": {},
   "source": [
    "Polynomial and NN wavefunctions are not normalized after initialization, but can be normalized:"
   ]
  },
  {
   "cell_type": "code",
   "execution_count": 14,
   "metadata": {},
   "outputs": [],
   "source": [
    "w_poly    = PolynomialWavefunction()\n",
    "w_nn      = NeuralWavefunction()"
   ]
  },
  {
   "cell_type": "code",
   "execution_count": 15,
   "metadata": {},
   "outputs": [],
   "source": [
    "y_poly    = w_poly(x)\n",
    "y_nn      = w_nn(x)"
   ]
  },
  {
   "cell_type": "code",
   "execution_count": 16,
   "metadata": {},
   "outputs": [
    {
     "name": "stdout",
     "output_type": "stream",
     "text": [
      "Poly function normalization:  tf.Tensor(0.3546857, shape=(), dtype=float32)\n",
      "Neural Network function normalization:  tf.Tensor(0.039966807, shape=(), dtype=float32)\n"
     ]
    }
   ],
   "source": [
    "print(\"Poly function normalization: \", tf.reduce_sum(y_poly**2)*delta)\n",
    "print(\"Neural Network function normalization: \", tf.reduce_sum(y_nn**2)*delta)"
   ]
  },
  {
   "cell_type": "markdown",
   "metadata": {},
   "source": [
    "Call the update_normalization function to fix this:"
   ]
  },
  {
   "cell_type": "code",
   "execution_count": 17,
   "metadata": {},
   "outputs": [],
   "source": [
    "w_poly.update_normalization(x)\n",
    "w_nn.update_normalization(x)\n",
    "\n",
    "y_poly    = w_poly(x)\n",
    "y_nn      = w_nn(x)"
   ]
  },
  {
   "cell_type": "code",
   "execution_count": 18,
   "metadata": {},
   "outputs": [
    {
     "name": "stdout",
     "output_type": "stream",
     "text": [
      "Poly function normalization:  tf.Tensor(1.0005494, shape=(), dtype=float32)\n",
      "Neural Network function normalization:  tf.Tensor(1.0005496, shape=(), dtype=float32)\n"
     ]
    }
   ],
   "source": [
    "print(\"Poly function normalization: \", tf.reduce_sum(y_poly**2)*delta)\n",
    "print(\"Neural Network function normalization: \", tf.reduce_sum(y_nn**2)*delta)"
   ]
  },
  {
   "cell_type": "markdown",
   "metadata": {},
   "source": [
    "## Plotting Initial Wave functions"
   ]
  },
  {
   "cell_type": "markdown",
   "metadata": {},
   "source": [
    "Let's see how the first few wavefunctions look as well as the polynomial and neural network versions."
   ]
  },
  {
   "cell_type": "code",
   "execution_count": 19,
   "metadata": {},
   "outputs": [
    {
     "data": {
      "image/png": "[encoded data removed]",
      "text/plain": [
       "<Figure size 432x288 with 1 Axes>"
      ]
     },
     "metadata": {
      "needs_background": "light"
     },
     "output_type": "display_data"
    }
   ],
   "source": [
    "\n",
    "plt.plot(x.numpy(), y_0.numpy(), label=\"N==0\")\n",
    "plt.plot(x.numpy(), y_1.numpy(), label=\"N==1\")\n",
    "plt.plot(x.numpy(), y_2.numpy(), label=\"N==2\")\n",
    "\n",
    "plt.xlim([-10,10])\n",
    "\n",
    "plt.legend()\n",
    "\n",
    "plt.grid(True)\n",
    "plt.show()"
   ]
  },
  {
   "cell_type": "code",
   "execution_count": 21,
   "metadata": {},
   "outputs": [
    {
     "data": {
      "image/png": "[encoded data removed]",
      "text/plain": [
       "<Figure size 432x288 with 1 Axes>"
      ]
     },
     "metadata": {
      "needs_background": "light"
     },
     "output_type": "display_data"
    }
   ],
   "source": [
    "plt.plot(x.numpy(), y_0.numpy(), label=\"N==0\")\n",
    "plt.plot(x.numpy(), y_poly.numpy(), label=\"Polynomial\")\n",
    "plt.plot(x.numpy(), y_nn.numpy(), label=\"N.N.\")\n",
    "''\n",
    "plt.xlim([-10,10])\n",
    "\n",
    "plt.legend()\n",
    "\n",
    "plt.grid(True)\n",
    "plt.show()"
   ]
  },
  {
   "cell_type": "markdown",
   "metadata": {},
   "source": [
    "## Plotting Probability distributions\n",
    "\n",
    "We can also plot initial probability distributions:"
   ]
  },
  {
   "cell_type": "code",
   "execution_count": 22,
   "metadata": {},
   "outputs": [
    {
     "data": {
      "image/png": "[encoded data removed]",
      "text/plain": [
       "<Figure size 432x288 with 1 Axes>"
      ]
     },
     "metadata": {
      "needs_background": "light"
     },
     "output_type": "display_data"
    }
   ],
   "source": [
    "plt.plot(x.numpy(), (y_0**2).numpy(), label=\"N==0\")\n",
    "plt.plot(x.numpy(), (y_1**2).numpy(), label=\"N==1\")\n",
    "plt.plot(x.numpy(), (y_2**2).numpy(), label=\"N==2\")\n",
    "\n",
    "plt.xlim([-10,10])\n",
    "\n",
    "plt.legend()\n",
    "\n",
    "plt.grid(True)\n",
    "plt.show()"
   ]
  },
  {
   "cell_type": "code",
   "execution_count": 23,
   "metadata": {},
   "outputs": [
    {
     "data": {
      "image/png": "[encoded data removed]",
      "text/plain": [
       "<Figure size 432x288 with 1 Axes>"
      ]
     },
     "metadata": {
      "needs_background": "light"
     },
     "output_type": "display_data"
    }
   ],
   "source": [
    "plt.plot(x.numpy(), (y_0**2).numpy(), label=\"N==0\")\n",
    "plt.plot(x.numpy(), (y_poly**2).numpy(), label=\"Polynomial\")\n",
    "plt.plot(x.numpy(), (y_nn**2).numpy(), label=\"N.N.\")\n",
    "\n",
    "plt.xlim([-10,10])\n",
    "\n",
    "plt.legend()\n",
    "\n",
    "plt.grid(True)\n",
    "plt.show()"
   ]
  },
  {
   "cell_type": "markdown",
   "metadata": {},
   "source": [
    "## Computing the energy of a wave function\n",
    "\n",
    "To compute the energy, we need to know the derivative of the wave function with respect to x, the input.\n",
    "\n",
    "For the exact solutions, we can know we have things correct since the energy is known.\n",
    "\n",
    "For the polynomial wavefunction, we have an analytical derivative.  Let's check the analytical derivative first:"
   ]
  },
  {
   "cell_type": "code",
   "execution_count": 26,
   "metadata": {},
   "outputs": [],
   "source": [
    "tape = tf.GradientTape(persistent=True)\n",
    "\n",
    "with tape:\n",
    "    y_poly = w_poly(x)"
   ]
  },
  {
   "cell_type": "code",
   "execution_count": 27,
   "metadata": {},
   "outputs": [
    {
     "name": "stdout",
     "output_type": "stream",
     "text": [
      "tf.Tensor(\n",
      "[[ 5.805122e-20]\n",
      " [ 5.833296e-20]\n",
      " [ 5.861605e-20]\n",
      " ...\n",
      " [-8.000679e-20]\n",
      " [-7.961992e-20]\n",
      " [-7.923521e-20]], shape=(40000, 1), dtype=float32)\n"
     ]
    }
   ],
   "source": [
    "# We should be able to get d \\psi / dx with this:\n",
    "grad = tape.gradient(y_poly, x)\n",
    "print(grad)"
   ]
  },
  {
   "cell_type": "markdown",
   "metadata": {},
   "source": [
    "We _know_ analytically what the derivative is for a polynomial wave function.  Let's compare the biggest offset between tensorflow's autograd computation and the analytic version:"
   ]
  },
  {
   "cell_type": "code",
   "execution_count": 28,
   "metadata": {},
   "outputs": [
    {
     "name": "stdout",
     "output_type": "stream",
     "text": [
      "tf.Tensor(1.7881393e-07, shape=(), dtype=float32)\n"
     ]
    }
   ],
   "source": [
    "print(tf.reduce_max(grad- w_poly.analytic_derivative(x)))"
   ]
  },
  {
   "cell_type": "markdown",
   "metadata": {},
   "source": [
    "As desired, it matches well.  The largest difference is $10^{-7}$"
   ]
  },
  {
   "cell_type": "markdown",
   "metadata": {},
   "source": [
    "Now that we have the derivative, we can look at computing the energy.  We need three terms: kinetic energy, potential energy, and normalization."
   ]
  },
  {
   "cell_type": "markdown",
   "metadata": {},
   "source": [
    "Now we can compute the other terms in the hamiltonian:"
   ]
  },
  {
   "cell_type": "code",
   "execution_count": 31,
   "metadata": {},
   "outputs": [],
   "source": [
    "def potential_energy(wavefunction, inputs, delta):\n",
    "    temp = 0.5*(M * omega **2) * wavefunction(inputs)**2 * inputs**2\n",
    "    return tf.reduce_sum(temp) * delta"
   ]
  },
  {
   "cell_type": "code",
   "execution_count": 32,
   "metadata": {},
   "outputs": [
    {
     "name": "stdout",
     "output_type": "stream",
     "text": [
      "PE of w_0:  tf.Tensor(0.25013742, shape=(), dtype=float32)\n",
      "PE of w_1:  tf.Tensor(0.7504123, shape=(), dtype=float32)\n",
      "PE of w_2:  tf.Tensor(1.2506871, shape=(), dtype=float32)\n",
      "PE of w_poly:  tf.Tensor(0.6003297, shape=(), dtype=float32)\n",
      "PE of w_nn:  tf.Tensor(0.71250683, shape=(), dtype=float32)\n"
     ]
    }
   ],
   "source": [
    "print(\"PE of w_0: \", potential_energy(w_0, x, delta))\n",
    "print(\"PE of w_1: \", potential_energy(w_1, x, delta))\n",
    "print(\"PE of w_2: \", potential_energy(w_2, x, delta))\n",
    "print(\"PE of w_poly: \", potential_energy(w_poly, x, delta))\n",
    "print(\"PE of w_nn: \", potential_energy(w_nn, x, delta))"
   ]
  },
  {
   "cell_type": "code",
   "execution_count": 33,
   "metadata": {},
   "outputs": [],
   "source": [
    "def kinetic_energy(wavefunction, inputs, delta):\n",
    "    tape = tf.GradientTape()\n",
    "    with tape:\n",
    "        y = wavefunction(inputs)\n",
    "    wavefunction_prime = tape.gradient(y, inputs)\n",
    "    return (hbar**2 / (2 *M)) * tf.reduce_sum(wavefunction_prime**2) * delta"
   ]
  },
  {
   "cell_type": "code",
   "execution_count": 34,
   "metadata": {},
   "outputs": [
    {
     "name": "stdout",
     "output_type": "stream",
     "text": [
      "KE of w_0:  tf.Tensor(0.25013742, shape=(), dtype=float32)\n",
      "KE of w_1:  tf.Tensor(0.7504123, shape=(), dtype=float32)\n",
      "KE of w_2:  tf.Tensor(1.250687, shape=(), dtype=float32)\n",
      "KE of w_poly:  tf.Tensor(0.20010988, shape=(), dtype=float32)\n",
      "KE of w_nn:  tf.Tensor(0.7903566, shape=(), dtype=float32)\n"
     ]
    }
   ],
   "source": [
    "print(\"KE of w_0: \", kinetic_energy(w_0, x, delta))\n",
    "print(\"KE of w_1: \", kinetic_energy(w_1, x, delta))\n",
    "print(\"KE of w_2: \", kinetic_energy(w_2, x, delta))\n",
    "print(\"KE of w_poly: \", kinetic_energy(w_poly, x, delta))\n",
    "print(\"KE of w_nn: \", kinetic_energy(w_nn, x, delta))"
   ]
  },
  {
   "cell_type": "markdown",
   "metadata": {},
   "source": [
    "Therefore, the computed energy for this wavefunction is:"
   ]
  },
  {
   "cell_type": "code",
   "execution_count": 35,
   "metadata": {},
   "outputs": [],
   "source": [
    "def energy_calculation(wavefunction, inputs, delta):\n",
    "    norm = normalization(wavefunction, inputs, delta)\n",
    "    pe = potential_energy(wavefunction, inputs, delta)\n",
    "    ke = kinetic_energy(wavefunction, inputs, delta)\n",
    "    energy = (1/norm) * ( pe +  ke)\n",
    "    return energy"
   ]
  },
  {
   "cell_type": "code",
   "execution_count": 36,
   "metadata": {},
   "outputs": [
    {
     "name": "stdout",
     "output_type": "stream",
     "text": [
      "Energy of w_0:  tf.Tensor(0.5, shape=(), dtype=float32)\n",
      "Energy of w_1:  tf.Tensor(1.5000002, shape=(), dtype=float32)\n",
      "Energy of w_2:  tf.Tensor(2.5, shape=(), dtype=float32)\n",
      "Energy of w_poly:  tf.Tensor(0.8000001, shape=(), dtype=float32)\n",
      "Energy of w_nn:  tf.Tensor(1.502038, shape=(), dtype=float32)\n"
     ]
    }
   ],
   "source": [
    "print(\"Energy of w_0: \", energy_calculation(w_0, x, delta))\n",
    "print(\"Energy of w_1: \", energy_calculation(w_1, x, delta))\n",
    "print(\"Energy of w_2: \", energy_calculation(w_2, x, delta))\n",
    "print(\"Energy of w_poly: \", energy_calculation(w_poly, x, delta))\n",
    "print(\"Energy of w_nn: \", energy_calculation(w_nn, x, delta))"
   ]
  },
  {
   "cell_type": "markdown",
   "metadata": {},
   "source": [
    "The harmonic oscillator has energy levels of:\n",
    "$$ E_n = \\hbar \\omega ( n + \\frac{1}{2} ) $$\n",
    "and so the ground state is $\\hbar \\omega / 2$. For this example, with $\\hbar = 1$ and $\\omega = 1$, we expect the estimate of the energy to be greater than or equal to 1/2.  The exact solutions are coming out exactly right.  Looks good above!"
   ]
  },
  {
   "cell_type": "markdown",
   "metadata": {},
   "source": [
    "## Optimizing the wave function to find the ground state"
   ]
  },
  {
   "cell_type": "markdown",
   "metadata": {},
   "source": [
    "In the above, we used the autograd functionality to compute the expectation value of energy of a wavefunction for the harmonic oscillator.  But, now we will use autograd again to compute the derivative of the energy with respect to the wavefunction's parameters, and optimize the parameters to update the wave function.\n",
    "\n",
    "I re-wrote the energy computations to be more efficient.  I also introduced re-normalization of the wave function after every update."
   ]
  },
  {
   "cell_type": "code",
   "execution_count": 37,
   "metadata": {},
   "outputs": [],
   "source": [
    "def energy_computation(wavefunction, inputs, delta):\n",
    "    \n",
    "    # This function takes the inputs (assumed to be a range of real value parameters)\n",
    "    # And computes the expectation value of the energy.\n",
    "    \n",
    "    # create a gradient tape:\n",
    "    tape = tf.GradientTape()\n",
    "    \n",
    "    # This is the value of the wave function:\n",
    "    with tape:\n",
    "        w_of_x = wavefunction(inputs)\n",
    "    \n",
    "    \n",
    "    # This is the first derivative of the wave function:\n",
    "    w_prime_dx = tape.gradient(w_of_x, inputs)\n",
    "    \n",
    "#     print(w_prime_dx)\n",
    "    \n",
    "    # Now we can compute integrals:\n",
    "    normalization = tf.reduce_sum(w_of_x**2) * delta\n",
    "    \n",
    "    pe = (0.5 * M * omega**2 ) * (w_of_x**2) * (inputs**2)\n",
    "    \n",
    "    ke = (hbar**2 / (2 *M)) * (w_prime_dx**2)\n",
    "    \n",
    "\n",
    "    ke = tf.reduce_sum(ke) * delta\n",
    "    pe = tf.reduce_sum(pe) * delta\n",
    "    \n",
    "#     print()\n",
    "#     print(\"pe: \", pe)\n",
    "#     print(\"ke: \", ke)\n",
    "#     print(\"norm: \", normalization)\n",
    "#     print()\n",
    "\n",
    "\n",
    "    energy = (pe + ke) / normalization\n",
    "    \n",
    "    return energy"
   ]
  },
  {
   "cell_type": "code",
   "execution_count": 38,
   "metadata": {},
   "outputs": [],
   "source": [
    "def generate_input(delta):\n",
    "    # Create fresh input data:\n",
    "    _x = numpy.arange(-10, 10, delta, dtype=numpy.float32)\n",
    "    _x = _x.reshape((_x.shape[0], 1))\n",
    "\n",
    "    x = tf.Variable(_x, trainable = True)\n",
    "\n",
    "    return x\n",
    "    \n",
    "def training_step(wavefunction, optimizer, delta):\n",
    "    # Clear all gradients from the optimizer:\n",
    "    exterior_tape = tf.GradientTape()\n",
    "    \n",
    "    x = generate_input(delta)\n",
    "\n",
    "    wavefunction.update_normalization(x)\n",
    "    \n",
    "    # Compute the energy:\n",
    "    with exterior_tape:\n",
    "        energy = energy_computation(wavefunction, x, delta)\n",
    "\n",
    "    # We back-prop'd through the wave function once already in the energy computation.  Clear the gradients:\n",
    "    \n",
    "    gradients = exterior_tape.gradient(energy, wavefunction.trainable_variables)\n",
    "\n",
    "    optimizer.apply_gradients(zip(gradients, wavefunction.trainable_variables))\n",
    "    \n",
    "    # Lastly, update the normaliztion \n",
    "    wavefunction.update_normalization(x)\n",
    "\n",
    "    return  energy\n",
    "\n"
   ]
  },
  {
   "cell_type": "markdown",
   "metadata": {},
   "source": [
    "Let's train the polynomial wave function for awhile and see if it converges:"
   ]
  },
  {
   "cell_type": "code",
   "execution_count": 40,
   "metadata": {},
   "outputs": [
    {
     "name": "stdout",
     "output_type": "stream",
     "text": [
      "Energy :0.8000000715255737, 0.036s per step\n",
      "Energy :0.5484876036643982, 0.02s per step\n",
      "Energy :0.5056378245353699, 0.019s per step\n",
      "Energy :0.5006784200668335, 0.021s per step\n",
      "Energy :0.5002404451370239, 0.02s per step\n"
     ]
    }
   ],
   "source": [
    "w_poly = PolynomialWavefunction()\n",
    "delta = 0.001\n",
    "\n",
    "optimizer = tf.keras.optimizers.Adam()\n",
    "\n",
    "energy_history = []\n",
    "step_history = []\n",
    "\n",
    "for i in range(500):\n",
    "    start = time.time()\n",
    "    energy = training_step(w_poly, optimizer, delta)\n",
    "    end = time.time()\n",
    "    if i % 100 == 0: print(f\"Energy :{energy.numpy()}, {end - start:.2}s per step\")\n",
    "    \n",
    "    energy_history.append(energy.numpy())\n",
    "    step_history.append(i)\n",
    "\n",
    "\n",
    "\n",
    "\n",
    "    \n",
    "    "
   ]
  },
  {
   "cell_type": "markdown",
   "metadata": {},
   "source": [
    "Hopefully, in your notebooks, this converged to about 0.5003 or less - pretty close!"
   ]
  },
  {
   "cell_type": "code",
   "execution_count": 42,
   "metadata": {},
   "outputs": [
    {
     "data": {
      "image/png": "[encoded data removed]",
      "text/plain": [
       "<Figure size 432x288 with 1 Axes>"
      ]
     },
     "metadata": {
      "needs_background": "light"
     },
     "output_type": "display_data"
    }
   ],
   "source": [
    "plt.plot(step_history, energy_history)\n",
    "plt.grid(True)\n",
    "plt.yscale(\"log\")\n",
    "plt.ylabel(\"Energy\")\n",
    "plt.xlabel(\"Iteration\")\n",
    "plt.show()"
   ]
  },
  {
   "cell_type": "markdown",
   "metadata": {},
   "source": [
    "Now let's compare the fitted wave function with the REAL wavefunction for the ground state:"
   ]
  },
  {
   "cell_type": "code",
   "execution_count": 43,
   "metadata": {},
   "outputs": [
    {
     "data": {
      "image/png": "[encoded data removed]",
      "text/plain": [
       "<Figure size 432x288 with 1 Axes>"
      ]
     },
     "metadata": {
      "needs_background": "light"
     },
     "output_type": "display_data"
    }
   ],
   "source": [
    "\n",
    "# Create fresh input data:\n",
    "_x = numpy.arange(-10, 10, delta, dtype=numpy.float32)\n",
    "_x = _x.reshape((_x.shape[0], 1))\n",
    "\n",
    "x = tf.Variable(_x, trainable = True)\n",
    "\n",
    "y_exact = w_0(x)\n",
    "y_fit   = w_poly(x)\n",
    "\n",
    "x_numpy = x.numpy()\n",
    "\n",
    "energy_poly = energy_computation(w_poly, x, delta)\n",
    "\n",
    "plt.plot(x_numpy, y_exact.numpy(), label=\"Exact solution\")\n",
    "plt.plot(x_numpy, y_fit.numpy(), label=f\"Polynomial Fit, E={energy:.2}\")\n",
    "plt.grid(True)\n",
    "plt.legend()\n",
    "plt.show()"
   ]
  },
  {
   "cell_type": "markdown",
   "metadata": {},
   "source": [
    "For completeness, we should also plot the probability distribution:"
   ]
  },
  {
   "cell_type": "code",
   "execution_count": 44,
   "metadata": {},
   "outputs": [
    {
     "data": {
      "image/png": "[encoded data removed]",
      "text/plain": [
       "<Figure size 432x288 with 1 Axes>"
      ]
     },
     "metadata": {
      "needs_background": "light"
     },
     "output_type": "display_data"
    }
   ],
   "source": [
    "\n",
    "# Create fresh input data:\n",
    "_x = numpy.arange(-10, 10, delta, dtype=numpy.float32)\n",
    "_x = _x.reshape((_x.shape[0], 1))\n",
    "\n",
    "x = tf.Variable(_x, trainable = True)\n",
    "\n",
    "p_exact = w_0(x)**2\n",
    "p_fit   = w_poly(x)**2\n",
    "\n",
    "x_numpy = x.numpy()\n",
    "\n",
    "energy_poly = energy_computation(w_poly, x, delta)\n",
    "\n",
    "plt.plot(x_numpy, p_exact.numpy(), label=\"Exact solution\")\n",
    "plt.plot(x_numpy, p_fit.numpy(), label=f\"Polynomial Fit, E={energy:.2}\")\n",
    "plt.grid(True)\n",
    "plt.legend()\n",
    "plt.show()"
   ]
  },
  {
   "cell_type": "markdown",
   "metadata": {},
   "source": [
    "Here are the parameters of the network:"
   ]
  },
  {
   "cell_type": "code",
   "execution_count": 45,
   "metadata": {},
   "outputs": [
    {
     "name": "stdout",
     "output_type": "stream",
     "text": [
      "const term fit:  <tf.Variable 'Variable:0' shape=() dtype=float32, numpy=0.406595>\n",
      "linear term fit:  <tf.Variable 'Variable:0' shape=() dtype=float32, numpy=0.00059328927>\n",
      "quad term fit:  <tf.Variable 'Variable:0' shape=() dtype=float32, numpy=0.05739359>\n",
      "norm term fit:  tf.Tensor([1.8406935], shape=(1,), dtype=float32)\n"
     ]
    }
   ],
   "source": [
    "\n",
    "print(\"const term fit: \", w_poly.const)\n",
    "print(\"linear term fit: \", w_poly.linear)\n",
    "print(\"quad term fit: \", w_poly.quad)\n",
    "print(\"norm term fit: \", w_poly.norm)\n",
    "\n"
   ]
  },
  {
   "cell_type": "markdown",
   "metadata": {},
   "source": [
    "In a perfect fit, we expect the linear and quadratic terms to go to 0.0 and the constant term to stay != 0.  The absolute normalization is not of much importance."
   ]
  },
  {
   "cell_type": "markdown",
   "metadata": {},
   "source": [
    "Here, we do the same process for the neural network wave function:"
   ]
  },
  {
   "cell_type": "code",
   "execution_count": 46,
   "metadata": {},
   "outputs": [
    {
     "name": "stdout",
     "output_type": "stream",
     "text": [
      "[<tf.Variable 'neural_wavefunction_1/dense_3/kernel:0' shape=(1, 32) dtype=float32, numpy=\n",
      "array([[-0.19422397,  0.20731795,  0.39380527,  0.4242761 , -0.21253005,\n",
      "         0.2049917 ,  0.29095227,  0.12480825, -0.19247763, -0.22653665,\n",
      "        -0.07812238,  0.1994065 ,  0.23734099, -0.16310158,  0.15479445,\n",
      "         0.40823525, -0.13396269,  0.35881275,  0.18500626,  0.10097283,\n",
      "         0.19141799, -0.29574633, -0.13141271,  0.2131375 , -0.09614423,\n",
      "        -0.3651946 ,  0.03534472,  0.3089642 ,  0.16634631,  0.38377768,\n",
      "         0.3299811 , -0.19876908]], dtype=float32)>, <tf.Variable 'neural_wavefunction_1/dense_3/bias:0' shape=(32,) dtype=float32, numpy=\n",
      "array([0., 0., 0., 0., 0., 0., 0., 0., 0., 0., 0., 0., 0., 0., 0., 0., 0.,\n",
      "       0., 0., 0., 0., 0., 0., 0., 0., 0., 0., 0., 0., 0., 0., 0.],\n",
      "      dtype=float32)>, <tf.Variable 'neural_wavefunction_1/dense_4/kernel:0' shape=(32, 32) dtype=float32, numpy=\n",
      "array([[ 0.10467964, -0.06719162, -0.18984024, ...,  0.07121527,\n",
      "         0.26048943,  0.12778503],\n",
      "       [ 0.06083518,  0.16273457, -0.11738215, ..., -0.06277932,\n",
      "        -0.1810666 , -0.3046595 ],\n",
      "       [-0.29084387, -0.25579423, -0.03476685, ...,  0.1056985 ,\n",
      "         0.14751983, -0.20505801],\n",
      "       ...,\n",
      "       [-0.2818331 ,  0.13197896,  0.03669122, ...,  0.0050233 ,\n",
      "        -0.2887443 ,  0.28531203],\n",
      "       [-0.00799879, -0.2947805 , -0.23225878, ...,  0.2471967 ,\n",
      "        -0.0730148 ,  0.13144636],\n",
      "       [ 0.00978667,  0.2806506 ,  0.17072499, ...,  0.2779244 ,\n",
      "         0.20172492,  0.2643169 ]], dtype=float32)>, <tf.Variable 'neural_wavefunction_1/dense_4/bias:0' shape=(32,) dtype=float32, numpy=\n",
      "array([0., 0., 0., 0., 0., 0., 0., 0., 0., 0., 0., 0., 0., 0., 0., 0., 0.,\n",
      "       0., 0., 0., 0., 0., 0., 0., 0., 0., 0., 0., 0., 0., 0., 0.],\n",
      "      dtype=float32)>, <tf.Variable 'neural_wavefunction_1/dense_5/kernel:0' shape=(32, 1) dtype=float32, numpy=\n",
      "array([[-1.47703826e-01],\n",
      "       [ 1.03279054e-01],\n",
      "       [-2.67950803e-01],\n",
      "       [-3.33577603e-01],\n",
      "       [-1.67267889e-01],\n",
      "       [ 2.73866117e-01],\n",
      "       [ 4.26197708e-01],\n",
      "       [-1.03971392e-01],\n",
      "       [-5.76479733e-02],\n",
      "       [-4.03122604e-02],\n",
      "       [ 1.50801361e-01],\n",
      "       [ 1.75132751e-01],\n",
      "       [-3.87890339e-02],\n",
      "       [ 2.57052839e-01],\n",
      "       [-4.49105203e-02],\n",
      "       [ 2.06232071e-05],\n",
      "       [ 3.45970392e-01],\n",
      "       [ 1.69677675e-01],\n",
      "       [-2.73895860e-02],\n",
      "       [-2.75660247e-01],\n",
      "       [-1.24164522e-01],\n",
      "       [ 3.18098724e-01],\n",
      "       [-4.20432866e-01],\n",
      "       [ 3.48277509e-01],\n",
      "       [ 1.77180350e-01],\n",
      "       [ 1.19629264e-01],\n",
      "       [ 4.13608074e-01],\n",
      "       [-1.77016854e-02],\n",
      "       [-3.28680456e-01],\n",
      "       [-3.87175441e-01],\n",
      "       [ 1.70382380e-01],\n",
      "       [ 8.57198834e-02]], dtype=float32)>, <tf.Variable 'neural_wavefunction_1/dense_5/bias:0' shape=(1,) dtype=float32, numpy=array([0.], dtype=float32)>, <tf.Variable 'Variable:0' shape=() dtype=float32, numpy=1.0>]\n"
     ]
    }
   ],
   "source": [
    "w_nn = NeuralWavefunction()\n",
    "delta = 0.0001\n",
    "\n",
    "x = generate_input(delta)\n",
    "y = w_nn(x)\n",
    "\n"
   ]
  },
  {
   "cell_type": "code",
   "execution_count": 47,
   "metadata": {},
   "outputs": [
    {
     "name": "stdout",
     "output_type": "stream",
     "text": [
      "Energy :1.5400160551071167, 0.44s per step\n",
      "Energy :0.6262651681900024, 0.41s per step\n",
      "Energy :0.5348863005638123, 0.39s per step\n",
      "Energy :0.5258320569992065, 0.39s per step\n",
      "Energy :0.5041561722755432, 0.39s per step\n",
      "Energy :0.5043772459030151, 0.39s per step\n",
      "Energy :0.5029569864273071, 0.39s per step\n",
      "Energy :0.501596212387085, 0.39s per step\n",
      "Energy :0.5012033581733704, 0.39s per step\n",
      "Energy :0.5008538961410522, 0.41s per step\n",
      "Energy :0.5005766153335571, 0.39s per step\n",
      "Energy :0.5004018545150757, 0.37s per step\n",
      "Energy :0.5002899169921875, 0.39s per step\n",
      "Energy :0.5002163052558899, 0.44s per step\n",
      "Energy :0.5001687407493591, 0.42s per step\n",
      "Energy :0.5001387000083923, 0.42s per step\n",
      "Energy :0.5001195669174194, 0.4s per step\n",
      "Energy :0.5001071691513062, 0.39s per step\n",
      "Energy :0.5000987648963928, 0.39s per step\n",
      "Energy :0.5000928044319153, 0.39s per step\n",
      "Energy :0.5000883340835571, 0.39s per step\n",
      "Energy :0.500084638595581, 0.4s per step\n",
      "Energy :0.5000816583633423, 0.4s per step\n",
      "Energy :0.5000792145729065, 0.4s per step\n",
      "Energy :0.5000771284103394, 0.4s per step\n",
      "Energy :0.5000754594802856, 0.4s per step\n",
      "Energy :0.5000739097595215, 0.41s per step\n",
      "Energy :0.5000726580619812, 0.37s per step\n",
      "Energy :0.5000715851783752, 0.42s per step\n",
      "Energy :0.5000706911087036, 0.42s per step\n",
      "Energy :0.5000699162483215, 0.41s per step\n",
      "Energy :0.5000691413879395, 0.4s per step\n",
      "Energy :0.5000685453414917, 0.4s per step\n",
      "Energy :0.5000680088996887, 0.41s per step\n",
      "Energy :0.5000675320625305, 0.4s per step\n",
      "Energy :0.5000671148300171, 0.4s per step\n",
      "Energy :0.5000666975975037, 0.4s per step\n",
      "Energy :0.5000662803649902, 0.4s per step\n",
      "Energy :0.5000660419464111, 0.41s per step\n",
      "Energy :0.5000656247138977, 0.4s per step\n",
      "Energy :0.5000653266906738, 0.4s per step\n",
      "Energy :0.5000650882720947, 0.4s per step\n",
      "Energy :0.5000647902488708, 0.4s per step\n",
      "Energy :0.500064492225647, 0.4s per step\n",
      "Energy :0.5000641345977783, 0.37s per step\n",
      "Energy :0.5000638961791992, 0.4s per step\n",
      "Energy :0.5000635981559753, 0.4s per step\n",
      "Energy :0.5000633001327515, 0.39s per step\n",
      "Energy :0.5000630021095276, 0.41s per step\n",
      "Energy :0.5000627040863037, 0.4s per step\n"
     ]
    }
   ],
   "source": [
    "optimizer = tf.keras.optimizers.Adam()\n",
    "\n",
    "energy_history = []\n",
    "step_history = []\n",
    "\n",
    "for i in range(500):\n",
    "    start = time.time()\n",
    "    energy = training_step(w_nn, optimizer, delta)\n",
    "    end = time.time()\n",
    "    if i % 10 == 0: print(f\"Energy :{energy.numpy()}, {end - start:.2}s per step\")\n",
    "    \n",
    "    \n",
    "    energy_history.append(energy.numpy())\n",
    "    step_history.append(i)\n",
    "\n",
    "\n",
    "\n",
    "\n",
    "\n"
   ]
  },
  {
   "cell_type": "markdown",
   "metadata": {},
   "source": [
    "Hopefully, in your notebook you saw the energy converge well."
   ]
  },
  {
   "cell_type": "code",
   "execution_count": 49,
   "metadata": {},
   "outputs": [
    {
     "data": {
      "image/png": "[encoded data removed]",
      "text/plain": [
       "<Figure size 432x288 with 1 Axes>"
      ]
     },
     "metadata": {
      "needs_background": "light"
     },
     "output_type": "display_data"
    }
   ],
   "source": [
    "\n",
    "plt.plot(step_history, energy_history)\n",
    "plt.grid(True)\n",
    "plt.ylabel(\"Energy\")\n",
    "plt.xlabel(\"Iteration\")\n",
    "plt.show()\n"
   ]
  },
  {
   "cell_type": "markdown",
   "metadata": {},
   "source": [
    "As before, let's compare the exact and learned wavefunctions:"
   ]
  },
  {
   "cell_type": "code",
   "execution_count": 54,
   "metadata": {},
   "outputs": [
    {
     "data": {
      "image/png": "[encoded data removed]",
      "text/plain": [
       "<Figure size 432x288 with 1 Axes>"
      ]
     },
     "metadata": {
      "needs_background": "light"
     },
     "output_type": "display_data"
    }
   ],
   "source": [
    "\n",
    "# Create fresh input data:\n",
    "_x = numpy.arange(-10, 10, delta, dtype=numpy.float32)\n",
    "_x = _x.reshape((_x.shape[0], 1))\n",
    "\n",
    "x = tf.Variable(_x)\n",
    "\n",
    "y_exact = w_0(x)\n",
    "y_fit   = w_nn(x)\n",
    "\n",
    "x_numpy = x.numpy()\n",
    "\n",
    "plt.plot(x_numpy, y_exact.numpy(), label=\"Exact solution\")\n",
    "plt.plot(x_numpy, y_fit.numpy(), label=f\"Neural Network Fit, E={energy:.2}\")\n",
    "plt.grid(True)\n",
    "plt.legend()\n",
    "plt.show()"
   ]
  },
  {
   "cell_type": "markdown",
   "metadata": {},
   "source": [
    "And the probability:"
   ]
  },
  {
   "cell_type": "code",
   "execution_count": 55,
   "metadata": {},
   "outputs": [
    {
     "data": {
      "image/png": "[encoded data removed]",
      "text/plain": [
       "<Figure size 432x288 with 1 Axes>"
      ]
     },
     "metadata": {
      "needs_background": "light"
     },
     "output_type": "display_data"
    }
   ],
   "source": [
    "\n",
    "# Create fresh input data:\n",
    "_x = numpy.arange(-10, 10, delta, dtype=numpy.float32)\n",
    "_x = _x.reshape((_x.shape[0], 1))\n",
    "\n",
    "x = tf.Variable(_x, trainable = True)\n",
    "\n",
    "p_exact = w_0(x)**2\n",
    "p_fit   = w_nn(x)**2\n",
    "\n",
    "x_numpy = x.numpy()\n",
    "\n",
    "plt.plot(x_numpy, p_exact.numpy(), label=\"Exact solution\")\n",
    "plt.plot(x_numpy, p_fit.numpy(), label=f\"Neural Network Fit, E={energy:.2}\")\n",
    "plt.grid(True)\n",
    "plt.legend()\n",
    "plt.show()"
   ]
  },
  {
   "cell_type": "markdown",
   "metadata": {},
   "source": [
    "## Higher level states\n",
    "\n",
    "Can we use ML techniques to learn higher level states?  The next wave function needs to be orthogonal to the ground state, so if our approximation is good, we should be able to minimize the energy and the orthogonal-ness of the first excited state at the same time."
   ]
  },
  {
   "cell_type": "code",
   "execution_count": 61,
   "metadata": {},
   "outputs": [],
   "source": [
    "def training_step_excited_state(wavefunction, known_wavefunction, optimizer, delta, alpha=50):\n",
    "    \n",
    "    x = generate_input(delta)\n",
    "\n",
    "    # Compute the energy:\n",
    "    tape = tf.GradientTape()\n",
    "    \n",
    "    with tape:\n",
    "        energy = energy_computation(wavefunction, x, delta)\n",
    "\n",
    "    # Now, we have the energy.  We should make sure it is orthogonal to the known wavefunction:\n",
    "    y0 = known_wavefunction(x)\n",
    "    with tape:\n",
    "        y1 = wavefunction(x)\n",
    "        ortho = (tf.reduce_sum(y0 * y1) * delta)**2\n",
    "    \n",
    "        # We scale here the orthogonality condition.  Note that it's a really high scaling compared to the energy.\n",
    "        # We need the orthogonality to be very good to have any hope of converging!\n",
    "        \n",
    "        # At home: Try with a lower constraint.  Does it still work?\n",
    "        energy += alpha*ortho\n",
    "    \n",
    "    \n",
    "    gradients = tape.gradient(energy, wavefunction.trainable_variables)\n",
    "\n",
    "    optimizer.apply_gradients(zip(gradients, wavefunction.trainable_variables))\n",
    "    \n",
    "\n",
    "    return  energy - alpha*ortho, ortho\n",
    "\n",
    "\n"
   ]
  },
  {
   "cell_type": "code",
   "execution_count": 62,
   "metadata": {
    "scrolled": true
   },
   "outputs": [
    {
     "name": "stdout",
     "output_type": "stream",
     "text": [
      "Step 0, E ==1.5083452463150024, Orthogonality=2.3039634436394785e-11\n",
      "Step 10, E ==1.5014209747314453, Orthogonality=6.554503488587216e-05\n",
      "Step 20, E ==1.500288724899292, Orthogonality=3.916909008694347e-06\n",
      "Step 30, E ==1.4999850988388062, Orthogonality=5.752442575612804e-06\n",
      "Step 40, E ==1.5000526905059814, Orthogonality=2.4559083158237627e-06\n",
      "Step 50, E ==1.5000039339065552, Orthogonality=1.4279734728006588e-07\n",
      "Step 60, E ==1.500010371208191, Orthogonality=1.354430700928333e-08\n",
      "Step 70, E ==1.5000017881393433, Orthogonality=3.255123814938088e-08\n",
      "Step 80, E ==1.5000026226043701, Orthogonality=1.4432119499474538e-08\n",
      "Step 90, E ==1.5000019073486328, Orthogonality=2.9006801405273563e-09\n"
     ]
    }
   ],
   "source": [
    "w_nn_excited = NeuralWavefunction()\n",
    "delta = 0.0001\n",
    "\n",
    "optimizer = tf.keras.optimizers.Adam()\n",
    "\n",
    "energy_history = []\n",
    "ortho_history = []\n",
    "step_history = []\n",
    "\n",
    "for i in range(100):\n",
    "    energy, ortho = training_step_excited_state(w_nn_excited, w_nn, optimizer, delta)\n",
    "    if i % 10 == 0:\n",
    "        print(f\"Step {i}, E =={energy}, Orthogonality={ortho}\")\n",
    "    \n",
    "    energy_history.append(energy.numpy())\n",
    "    ortho_history.append(ortho.numpy())\n",
    "    step_history.append(i)\n",
    "\n",
    "\n",
    "\n"
   ]
  },
  {
   "cell_type": "markdown",
   "metadata": {},
   "source": [
    "This technique is not as stable as searching for the ground state.  If you run this and the orthogonality constraint is 0.001 or larger, likely the energy has fallen into the ground state instead of the first excited state.  Try again, increase the alpha parameter maybe, and see if it works."
   ]
  },
  {
   "cell_type": "markdown",
   "metadata": {},
   "source": [
    "In principle, this *ought* to come out somewhere near the first excited state.  Let's take a look at the wavefunctions:"
   ]
  },
  {
   "cell_type": "code",
   "execution_count": 68,
   "metadata": {},
   "outputs": [
    {
     "data": {
      "image/png": "[encoded data removed]",
      "text/plain": [
       "<Figure size 432x288 with 1 Axes>"
      ]
     },
     "metadata": {
      "needs_background": "light"
     },
     "output_type": "display_data"
    }
   ],
   "source": [
    "\n",
    "# Create fresh input data:\n",
    "_x = numpy.arange(-10, 10, delta, dtype=numpy.float32)\n",
    "_x = _x.reshape((_x.shape[0], 1))\n",
    "\n",
    "x = tf.Variable(_x, trainable = True)\n",
    "\n",
    "# Make sure the normalization is updated:\n",
    "w_nn_excited.update_normalization(x)\n",
    "\n",
    "y_exact = w_1(x)\n",
    "y_fit   = w_nn_excited(x)\n",
    "\n",
    "x_numpy = x.numpy()\n",
    "\n",
    "\n",
    "plt.plot(x_numpy, y_exact.numpy(), label=\"Exact solution\")\n",
    "plt.plot(x_numpy, y_fit.numpy(), label=f\"Neural Network Fit, E={energy:.2}\")\n",
    "plt.grid(True)\n",
    "plt.legend()\n",
    "plt.show()\n"
   ]
  },
  {
   "cell_type": "markdown",
   "metadata": {},
   "source": [
    "This looks pretty great!"
   ]
  },
  {
   "cell_type": "code",
   "execution_count": 70,
   "metadata": {},
   "outputs": [
    {
     "data": {
      "image/png": "[encoded data removed]",
      "text/plain": [
       "<Figure size 432x288 with 1 Axes>"
      ]
     },
     "metadata": {
      "needs_background": "light"
     },
     "output_type": "display_data"
    }
   ],
   "source": [
    "\n",
    "# Create fresh input data:\n",
    "_x = numpy.arange(-10, 10, delta, dtype=numpy.float32)\n",
    "_x = _x.reshape((_x.shape[0], 1))\n",
    "\n",
    "x = tf.Variable(_x, trainable = True)\n",
    "\n",
    "p_exact = w_1(x)**2\n",
    "p_fit   = w_nn_excited(x)**2\n",
    "\n",
    "x_numpy = x.numpy()\n",
    "\n",
    "plt.plot(x_numpy, p_exact.numpy(), label=\"Exact solution\")\n",
    "plt.plot(x_numpy, p_fit.numpy(), label=f\"Neural Network Fit, E={energy:.2}\")\n",
    "plt.grid(True)\n",
    "plt.legend()\n",
    "plt.show()\n"
   ]
  },
  {
   "cell_type": "markdown",
   "metadata": {},
   "source": [
    "All in all, this is not a terrible solution to the second excited state.  Likely more sophisticate optimization tricks can make this better.  Extending to multiple particles and multiple dimensions is more complicated - we'll work towards that next."
   ]
  },
  {
   "cell_type": "code",
   "execution_count": null,
   "metadata": {},
   "outputs": [],
   "source": []
  }
 ],
 "metadata": {
  "kernelspec": {
   "display_name": "Python 3",
   "language": "python",
   "name": "python3"
  },
  "language_info": {
   "codemirror_mode": {
    "name": "ipython",
    "version": 3
   },
   "file_extension": ".py",
   "mimetype": "text/x-python",
   "name": "python",
   "nbconvert_exporter": "python",
   "pygments_lexer": "ipython3",
   "version": "3.6.10"
  }
 },
 "nbformat": 4,
 "nbformat_minor": 2
}
