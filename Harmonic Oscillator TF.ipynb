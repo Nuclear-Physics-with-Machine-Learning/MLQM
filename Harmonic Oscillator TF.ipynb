{
 "cells": [
  {
   "cell_type": "markdown",
   "metadata": {},
   "source": [
    "# Quantum Harmonic Oscillator\n",
    "\n",
    "In this notebook we'll solve the quantum harmonic oscillator with machine learning techniques.\n",
    "\n",
    "The Hamiltonian of the oscillator is:\n",
    "\n",
    "$$ H = \\frac{1}{2m}p^2 + \\frac{m \\omega^2}{2}x^2 $$"
   ]
  },
  {
   "cell_type": "markdown",
   "metadata": {},
   "source": [
    "According to the variational principle of quantum mechanics, for any wave function $|\\psi>$, \n",
    "\n",
    "$$ < \\psi | H | \\psi > ~ \\ge ~ E_0 $$"
   ]
  },
  {
   "cell_type": "markdown",
   "metadata": {},
   "source": [
    "When substitued into the variational principle, we have:\n",
    "\n",
    "$$ \\int_{-\\infty}^{\\infty} \\psi^*(x) H \\psi(x) dx $$\n",
    "$$ \\int_{-\\infty}^{\\infty} \\psi^*(x) [\\frac{1}{2m}p^2 + \\frac{m \\omega^2}{2}x^2 ] \\psi(x) dx$$"
   ]
  },
  {
   "cell_type": "markdown",
   "metadata": {},
   "source": [
    "Subsituting $p = -i \\hbar \\frac{\\partial}{\\partial x}$ :\n",
    "$$ \\int_{-\\infty}^{\\infty} \\psi^*(x) \\frac{1}{2m}[- \\hbar]^2 \\frac{\\partial^2}{\\partial x ^2}   \\psi dx + \\int_{-\\infty}^{\\infty} \\psi^* \\frac{m \\omega^2}{2}x^2  \\psi(x) dx$$\n",
    "\n",
    "$$ \\frac{-\\hbar^2}{2m} \\int_{-\\infty}^{\\infty} \\psi^*(x)  \\frac{\\partial^2}{\\partial x ^2}   \\psi dx + \\frac{m \\omega^2}{2} \\int_{-\\infty}^{\\infty} \\psi^* x^2  \\psi(x) dx $$"
   ]
  },
  {
   "cell_type": "markdown",
   "metadata": {},
   "source": [
    "To solve this numerically, let's integrate by parts to turn a second derivative into two first derivatives:\n",
    "$$ < \\psi | H | \\psi > = \\frac{m \\omega^2}{2} \\int_{-\\infty}^{\\infty} \\psi^* x^2  \\psi(x) dx - \\frac{\\hbar^2}{2m} \\left[\\psi^*(x)\\frac{\\partial \\psi (x)}{\\partial x}  \\Biggr|_{-\\infty}^{\\infty}  - \\int_{-\\infty}^{\\infty} \\frac{\\partial \\psi^*(x)}{\\partial x} \\frac{\\partial \\psi(x)}{\\partial x} dx \\right] $$"
   ]
  },
  {
   "cell_type": "markdown",
   "metadata": {},
   "source": [
    "The wavefunctions for the harmonic oscillator have to got to zero at $\\pm \\infty$, so the first term in the integration by parts can be dropped.  Then, the total integral to evaluate is:\n",
    "\n",
    "$$ < \\psi | H | \\psi > = \\frac{m \\omega^2}{2} \\int_{-\\infty}^{\\infty} \\psi^* x^2  \\psi(x) dx + \\frac{\\hbar^2}{2m}  \\int_{-\\infty}^{\\infty} \\frac{\\partial \\psi^*(x)}{\\partial x} \\frac{\\partial \\psi(x)}{\\partial x} dx $$"
   ]
  },
  {
   "cell_type": "markdown",
   "metadata": {},
   "source": [
    "We have assumed above that the wave functions are normalized, but with ou approximation scheme we won't have normalized wavefunctions.  In this case, let's add in the normalization ourselves:"
   ]
  },
  {
   "cell_type": "markdown",
   "metadata": {},
   "source": [
    "$$ < \\psi | H | \\psi > = \\frac{1}{N} \\left[\\frac{m \\omega^2}{2} \\int_{-\\infty}^{\\infty} \\psi^* x^2  \\psi(x) dx + \\frac{\\hbar^2}{2m}  \\int_{-\\infty}^{\\infty} \\frac{\\partial \\psi^*(x)}{\\partial x} \\frac{\\partial \\psi(x)}{\\partial x} dx \\right]$$\n",
    "where \n",
    "$$ N = \\int_{-\\infty}^{\\infty} \\psi^*(x) \\psi(x) dx $$"
   ]
  },
  {
   "cell_type": "markdown",
   "metadata": {},
   "source": [
    "To solve this, and estimate the ground state energy of the system, we need to find a wave function and estimate these two integrals.\n",
    "\n",
    "We will use a pytorch module to approximate our wavefunction, which we can then differentiate.  The requirements of this system are that:\n",
    "- the wavefunction must be normalizable\n",
    "- the wavefunction must go to zero at $\\pm \\infty$"
   ]
  },
  {
   "cell_type": "code",
   "execution_count": 1,
   "metadata": {},
   "outputs": [],
   "source": [
    "import numpy\n",
    "import time\n",
    "import tensorflow as tf\n",
    "from matplotlib import pyplot as plt"
   ]
  },
  {
   "cell_type": "markdown",
   "metadata": {},
   "source": [
    "These are physical constants in this problem, which we'll set to 1 for ease:"
   ]
  },
  {
   "cell_type": "code",
   "execution_count": 2,
   "metadata": {},
   "outputs": [],
   "source": [
    "omega = 1.0\n",
    "hbar  = 1.0\n",
    "M     = 1\n",
    "\n",
    "# This is a granularity parameter:\n",
    "delta = 0.0005"
   ]
  },
  {
   "cell_type": "markdown",
   "metadata": {},
   "source": [
    "There are 3 available wavefunctions here:\n",
    "- A module based on Hermite Polynomials, up to degree 3, that is exact up to normalization.\n",
    "- A polynomial module that can be fit to any polynomial up to degree 3.\n",
    "- A neural network that has no polynomial terms.\n",
    "\n",
    "All components have the same submodule to handle the boundary conditions, which is an gaussian-like exponential that decays to zero at large $|x|$."
   ]
  },
  {
   "cell_type": "code",
   "execution_count": 3,
   "metadata": {},
   "outputs": [],
   "source": [
    "class ExponentialBoundaryCondition(tf.keras.layers.Layer):\n",
    "    \n",
    "    def __init__(self, exp=1.0, trainable=True):\n",
    "        tf.keras.layers.Layer.__init__(self)\n",
    "\n",
    "        # This is the parameter controlling the shape of the exponent:\n",
    "        self.exponent = tf.Variable(exp, trainable=trainable, dtype=tf.float32)\n",
    "\n",
    "\n",
    "    def call(self, inputs):\n",
    "\n",
    "        return tf.exp(- (self.exponent * inputs) **2 / 2.)\n",
    "        \n",
    "        "
   ]
  },
  {
   "cell_type": "code",
   "execution_count": 4,
   "metadata": {},
   "outputs": [],
   "source": [
    "class CorrectWavefunction(tf.keras.layers.Layer):\n",
    "\n",
    "\n",
    "    def __init__(self, n):\n",
    "        tf.keras.layers.Layer.__init__(self)\n",
    "            \n",
    "        # N is the degree of the polynomial:\n",
    "        self.n = n\n",
    "    \n",
    "        self.alpha = M * omega / hbar\n",
    "        self.norm  = numpy.power(self.alpha / numpy.pi, 0.25)\n",
    "        \n",
    "        if self.n == 0:\n",
    "            pass\n",
    "        elif self.n == 1:\n",
    "            self.norm *= numpy.sqrt(2.)\n",
    "        elif self.n == 2:\n",
    "            self.norm *= numpy.sqrt(0.5)\n",
    "        else:\n",
    "            raise Exception(\"Unsupported degree of \", n)\n",
    "    \n",
    "        self.exp = ExponentialBoundaryCondition(exp=numpy.sqrt(self.alpha), trainable=False)\n",
    "    \n",
    "    def call(self, inputs):\n",
    "    \n",
    "        y = inputs\n",
    "        \n",
    "        boundary_condition = self.exp(y)\n",
    "        \n",
    "        if self.n == 0:\n",
    "            polynomial = 1\n",
    "        elif self.n == 1:\n",
    "            polynomial = y\n",
    "        elif self.n == 2:\n",
    "            polynomial = 2 * y**2 - 1\n",
    "            \n",
    "        return self.norm * boundary_condition * polynomial\n"
   ]
  },
  {
   "cell_type": "code",
   "execution_count": 5,
   "metadata": {},
   "outputs": [],
   "source": [
    "class PolynomialWavefunction(tf.keras.layers.Layer):\n",
    "    \n",
    "    def __init__(self):\n",
    "        tf.keras.layers.Layer.__init__(self)\n",
    "        \n",
    "#         self.layer1 = torch.nn.Linear(1,64)\n",
    "#         self.layer2 = torch.nn.Linear(64, 1)\n",
    "    \n",
    "        self.const  = tf.Variable(0.3, trainable=True, dtype=tf.float32)\n",
    "        self.linear = tf.Variable(0.2, trainable=True, dtype=tf.float32)\n",
    "        self.quad   = tf.Variable(0.2, trainable=True, dtype=tf.float32)\n",
    "\n",
    "        self.norm   = 1.0\n",
    "    \n",
    "        self.exp = ExponentialBoundaryCondition()\n",
    "\n",
    "\n",
    "\n",
    "    def call(self, inputs):\n",
    "        x = inputs\n",
    "\n",
    "        boundary_condition = self.exp(x)\n",
    "\n",
    "\n",
    "        poly = self.const + self.linear * x + self.quad * x**2\n",
    "\n",
    "        # Multiply by a factor to enforce normalization and boundary conditions:\n",
    "        # Note the exponent is within the power of 2 to make it's sign irrelevant\n",
    "        x = self.norm *  poly * boundary_condition\n",
    "        return x\n",
    "    \n",
    "    def update_normalization(self, inputs):\n",
    "        # Inputs is expected to be a range of parameters along an x axis.\n",
    "        value = self.call(inputs)\n",
    "        N = value ** 2\n",
    "\n",
    "        delta = inputs[1]-inputs[0]\n",
    "\n",
    "        N = tf.reduce_sum(N) * delta\n",
    "        self.norm *= 1/tf.sqrt(N)\n",
    "\n",
    "        # The normalization condition is that the integral of the wavefunction squared\n",
    "        # should be equal to 1 (probability sums to 1.)\n",
    "\n",
    "        return\n",
    "    \n",
    "    def analytic_derivative(self, inputs):\n",
    "        \n",
    "        poly = self.const + self.linear * x + self.quad * x**2\n",
    "        poly_prime = self.linear + 2 * self.quad * inputs\n",
    "        exp = self.exp(x)\n",
    "        \n",
    "        res = exp * (-inputs) *poly + poly_prime * exp\n",
    "        \n",
    "        return self.norm * res\n",
    "    \n",
    "    def zero_grad(self):\n",
    "        \"\"\"Sets gradients of all model parameters to zero.\"\"\"\n",
    "        for p in self.parameters():\n",
    "            if p.grad is not None:\n",
    "                p.grad.data.zero_()"
   ]
  },
  {
   "cell_type": "code",
   "execution_count": 6,
   "metadata": {},
   "outputs": [],
   "source": [
    "class NeuralWavefunction(tf.keras.layers.Layer):\n",
    "    \n",
    "    def __init__(self):\n",
    "        tf.keras.layers.Layer.__init__(self)\n",
    "        \n",
    "        self.layer1 = tf.keras.layers.Dense(32)\n",
    "        self.layer2 = tf.keras.layers.Dense(32)\n",
    "        self.layer3 = tf.keras.layers.Dense(1)\n",
    "    \n",
    "        self.norm   = 1.0\n",
    "        \n",
    "        # This is an exponent for normalization:\n",
    "        self.exp = ExponentialBoundaryCondition()\n",
    "\n",
    "\n",
    "\n",
    "\n",
    "\n",
    "    def call(self, inputs):\n",
    "        x = inputs\n",
    "        x = self.layer1(x)\n",
    "        x = tf.nn.relu(x)\n",
    "        x = self.layer2(x)\n",
    "        x = tf.nn.relu(x)\n",
    "        x = self.layer3(x)\n",
    "\n",
    "        boundary_condition = self.exp(inputs)\n",
    "\n",
    "        output = self.norm*x*boundary_condition\n",
    "        return output\n",
    "    \n",
    "    def update_normalization(self, inputs):\n",
    "        # Inputs is expected to be a range of parameters along an x axis.\n",
    "        value = self.call(inputs)\n",
    "        N = value ** 2\n",
    "\n",
    "        delta = inputs[1]-inputs[0]\n",
    "\n",
    "        N = tf.reduce_sum(N) * delta\n",
    "        self.norm *= 1/tf.sqrt(N)\n",
    "\n",
    "        # The normalization condition is that the integral of the wavefunction squared\n",
    "        # should be equal to 1 (probability sums to 1.)\n",
    "\n",
    "        return\n",
    "    \n"
   ]
  },
  {
   "cell_type": "markdown",
   "metadata": {},
   "source": [
    "Let's test some basic properties of the wave functions.  The CorrectWavefuntion should be normalized off the bat.  If we integrate it, it ought to come out right."
   ]
  },
  {
   "cell_type": "code",
   "execution_count": 7,
   "metadata": {},
   "outputs": [],
   "source": [
    "# This is preparing input data that is differentiable:\n",
    "_x = numpy.arange(-10, 10, delta, dtype=numpy.float32)\n",
    "_x = _x.reshape((_x.shape[0], 1))\n",
    "\n",
    "x = tf.Variable(_x, trainable = True)\n"
   ]
  },
  {
   "cell_type": "markdown",
   "metadata": {},
   "source": [
    "First, let's look at the correct wave functions:"
   ]
  },
  {
   "cell_type": "code",
   "execution_count": 8,
   "metadata": {},
   "outputs": [],
   "source": [
    "w_0 = CorrectWavefunction(n=0)\n",
    "w_1 = CorrectWavefunction(n=1)\n",
    "w_2 = CorrectWavefunction(n=2)"
   ]
  },
  {
   "cell_type": "code",
   "execution_count": 9,
   "metadata": {},
   "outputs": [],
   "source": [
    "y_0 = w_0(x)\n",
    "y_1 = w_1(x)\n",
    "y_2 = w_2(x)"
   ]
  },
  {
   "cell_type": "markdown",
   "metadata": {},
   "source": [
    "Are the wave functions normalized?"
   ]
  },
  {
   "cell_type": "code",
   "execution_count": 10,
   "metadata": {},
   "outputs": [
    {
     "name": "stdout",
     "output_type": "stream",
     "text": [
      "N==0 integral:  tf.Tensor(1.0005497, shape=(), dtype=float32)\n",
      "N==1 integral:  tf.Tensor(1.0005497, shape=(), dtype=float32)\n",
      "N==2 integral:  tf.Tensor(1.0005496, shape=(), dtype=float32)\n"
     ]
    }
   ],
   "source": [
    "print(\"N==0 integral: \", tf.reduce_sum(y_0**2) * delta)\n",
    "print(\"N==1 integral: \", tf.reduce_sum(y_1**2) * delta)\n",
    "print(\"N==2 integral: \", tf.reduce_sum(y_2**2) * delta)"
   ]
  },
  {
   "cell_type": "markdown",
   "metadata": {},
   "source": [
    "Are the wave functions orthogonal?"
   ]
  },
  {
   "cell_type": "code",
   "execution_count": 11,
   "metadata": {},
   "outputs": [
    {
     "name": "stdout",
     "output_type": "stream",
     "text": [
      "N_0 * N_1 integral:  tf.Tensor(-6.103516e-08, shape=(), dtype=float32)\n",
      "N_0 * N_2 integral:  tf.Tensor(4.5299533e-09, shape=(), dtype=float32)\n",
      "N_1 * N_2 integral:  tf.Tensor(-9.1552735e-08, shape=(), dtype=float32)\n"
     ]
    }
   ],
   "source": [
    "print(\"N_0 * N_1 integral: \", tf.reduce_sum(y_0*y_1) * delta)\n",
    "print(\"N_0 * N_2 integral: \", tf.reduce_sum(y_0*y_2) * delta)\n",
    "print(\"N_1 * N_2 integral: \", tf.reduce_sum(y_1*y_2) * delta)"
   ]
  },
  {
   "cell_type": "markdown",
   "metadata": {},
   "source": [
    "Yes, to some approximation the wavefunctions are normalized and orthogonal."
   ]
  },
  {
   "cell_type": "markdown",
   "metadata": {},
   "source": [
    "Polynomial and NN wavefunctions are not normalized after initialization, but can be normalized:"
   ]
  },
  {
   "cell_type": "code",
   "execution_count": 12,
   "metadata": {},
   "outputs": [],
   "source": [
    "w_poly    = PolynomialWavefunction()\n",
    "w_nn      = NeuralWavefunction()"
   ]
  },
  {
   "cell_type": "code",
   "execution_count": 13,
   "metadata": {},
   "outputs": [],
   "source": [
    "y_poly    = w_poly(x)\n",
    "y_nn      = w_nn(x)"
   ]
  },
  {
   "cell_type": "code",
   "execution_count": 14,
   "metadata": {},
   "outputs": [
    {
     "name": "stdout",
     "output_type": "stream",
     "text": [
      "Poly function normalization:  tf.Tensor(0.35468563, shape=(), dtype=float32)\n",
      "Neural Network function normalization:  tf.Tensor(0.01870768, shape=(), dtype=float32)\n"
     ]
    }
   ],
   "source": [
    "print(\"Poly function normalization: \", tf.reduce_sum(y_poly**2)*delta)\n",
    "print(\"Neural Network function normalization: \", tf.reduce_sum(y_nn**2)*delta)"
   ]
  },
  {
   "cell_type": "markdown",
   "metadata": {},
   "source": [
    "Call the update_normalization function to fix this:"
   ]
  },
  {
   "cell_type": "code",
   "execution_count": 15,
   "metadata": {},
   "outputs": [],
   "source": [
    "w_poly.update_normalization(x)\n",
    "w_nn.update_normalization(x)\n",
    "\n",
    "y_poly    = w_poly(x)\n",
    "y_nn      = w_nn(x)"
   ]
  },
  {
   "cell_type": "code",
   "execution_count": 16,
   "metadata": {},
   "outputs": [
    {
     "name": "stdout",
     "output_type": "stream",
     "text": [
      "Poly function normalization:  tf.Tensor(1.0005497, shape=(), dtype=float32)\n",
      "Neural Network function normalization:  tf.Tensor(1.0005494, shape=(), dtype=float32)\n"
     ]
    }
   ],
   "source": [
    "print(\"Poly function normalization: \", tf.reduce_sum(y_poly**2)*delta)\n",
    "print(\"Neural Network function normalization: \", tf.reduce_sum(y_nn**2)*delta)"
   ]
  },
  {
   "cell_type": "markdown",
   "metadata": {},
   "source": [
    "## Plotting Initial Wave functions"
   ]
  },
  {
   "cell_type": "markdown",
   "metadata": {},
   "source": [
    "Let's see how the first few wavefunctions look as well as the polynomial and neural network versions."
   ]
  },
  {
   "cell_type": "code",
   "execution_count": 17,
   "metadata": {},
   "outputs": [
    {
     "data": {
      "image/png": "[encoded data removed]",
      "text/plain": [
       "<Figure size 432x288 with 1 Axes>"
      ]
     },
     "metadata": {
      "needs_background": "light"
     },
     "output_type": "display_data"
    }
   ],
   "source": [
    "\n",
    "plt.plot(x.numpy(), y_0.numpy(), label=\"N==0\")\n",
    "plt.plot(x.numpy(), y_1.numpy(), label=\"N==1\")\n",
    "plt.plot(x.numpy(), y_2.numpy(), label=\"N==2\")\n",
    "\n",
    "plt.xlim([-10,10])\n",
    "\n",
    "plt.legend()\n",
    "\n",
    "plt.grid(True)\n",
    "plt.show()"
   ]
  },
  {
   "cell_type": "code",
   "execution_count": 18,
   "metadata": {},
   "outputs": [
    {
     "data": {
      "image/png": "[encoded data removed]",
      "text/plain": [
       "<Figure size 432x288 with 1 Axes>"
      ]
     },
     "metadata": {
      "needs_background": "light"
     },
     "output_type": "display_data"
    }
   ],
   "source": [
    "plt.plot(x.numpy(), y_0.numpy(), label=\"N==0\")\n",
    "plt.plot(x.numpy(), y_poly.numpy(), label=\"Polynomial\")\n",
    "plt.plot(x.numpy(), y_nn.numpy(), label=\"N.N.\")\n",
    "''\n",
    "plt.xlim([-20,20])\n",
    "\n",
    "plt.legend()\n",
    "\n",
    "plt.grid(True)\n",
    "plt.show()"
   ]
  },
  {
   "cell_type": "markdown",
   "metadata": {},
   "source": [
    "## Plotting Probability distributions\n",
    "\n",
    "We can also plot initial probability distributions:"
   ]
  },
  {
   "cell_type": "code",
   "execution_count": 19,
   "metadata": {},
   "outputs": [
    {
     "data": {
      "image/png": "[encoded data removed]",
      "text/plain": [
       "<Figure size 432x288 with 1 Axes>"
      ]
     },
     "metadata": {
      "needs_background": "light"
     },
     "output_type": "display_data"
    }
   ],
   "source": [
    "plt.plot(x.numpy(), (y_0**2).numpy(), label=\"N==0\")\n",
    "plt.plot(x.numpy(), (y_1**2).numpy(), label=\"N==1\")\n",
    "plt.plot(x.numpy(), (y_2**2).numpy(), label=\"N==2\")\n",
    "\n",
    "plt.xlim([-10,10])\n",
    "\n",
    "plt.legend()\n",
    "\n",
    "plt.grid(True)\n",
    "plt.show()"
   ]
  },
  {
   "cell_type": "code",
   "execution_count": 20,
   "metadata": {},
   "outputs": [
    {
     "data": {
      "image/png": "[encoded data removed]",
      "text/plain": [
       "<Figure size 432x288 with 1 Axes>"
      ]
     },
     "metadata": {
      "needs_background": "light"
     },
     "output_type": "display_data"
    }
   ],
   "source": [
    "plt.plot(x.numpy(), (y_0**2).numpy(), label=\"N==0\")\n",
    "plt.plot(x.numpy(), (y_poly**2).numpy(), label=\"Polynomial\")\n",
    "plt.plot(x.numpy(), (y_nn**2).numpy(), label=\"N.N.\")\n",
    "\n",
    "plt.xlim([-10,10])\n",
    "\n",
    "plt.legend()\n",
    "\n",
    "plt.grid(True)\n",
    "plt.show()"
   ]
  },
  {
   "cell_type": "markdown",
   "metadata": {},
   "source": [
    "## Computing the energy of a wave function\n",
    "\n",
    "To compute the energy, we need to know the derivative of the wave function with respect to x, the input.\n",
    "\n",
    "For the exact solutions, we can know we have things correct since the energy is known.\n",
    "\n",
    "For the polynomial wavefunction, we have an analytical derivative.  Let's check the analytical derivative first:"
   ]
  },
  {
   "cell_type": "code",
   "execution_count": 21,
   "metadata": {},
   "outputs": [],
   "source": [
    "tape = tf.GradientTape(persistent=True)\n",
    "\n",
    "with tape:\n",
    "    y_poly = w_poly(x)"
   ]
  },
  {
   "cell_type": "code",
   "execution_count": 22,
   "metadata": {},
   "outputs": [
    {
     "name": "stdout",
     "output_type": "stream",
     "text": [
      "tf.Tensor(\n",
      "[[ 5.8051232e-20]\n",
      " [ 5.8332964e-20]\n",
      " [ 5.8616054e-20]\n",
      " ...\n",
      " [-8.0006802e-20]\n",
      " [-7.9619927e-20]\n",
      " [-7.9235217e-20]], shape=(40000, 1), dtype=float32)\n"
     ]
    }
   ],
   "source": [
    "# We should be able to get d \\psi / dx with this:\n",
    "grad = tape.gradient(y_poly, x)\n",
    "print(grad)"
   ]
  },
  {
   "cell_type": "markdown",
   "metadata": {},
   "source": [
    "Torch's autodifferentiation requires a scalar value.  I sum over all outputs since that introduces a chain rule of $1$ for every element, and doesn't distort the derivative.  Now we can compare:"
   ]
  },
  {
   "cell_type": "code",
   "execution_count": 23,
   "metadata": {},
   "outputs": [
    {
     "name": "stdout",
     "output_type": "stream",
     "text": [
      "tf.Tensor(1.7881393e-07, shape=(), dtype=float32)\n"
     ]
    }
   ],
   "source": [
    "print(tf.reduce_max(grad- w_poly.analytic_derivative(x)))"
   ]
  },
  {
   "cell_type": "markdown",
   "metadata": {},
   "source": [
    "As desired, it matches well.  The largest difference is $10^{-7}$"
   ]
  },
  {
   "cell_type": "markdown",
   "metadata": {},
   "source": [
    "Now that we have the derivative, we can look at computing the energy.  We need three terms: kinetic energy, potential energy, and normalization."
   ]
  },
  {
   "cell_type": "code",
   "execution_count": 24,
   "metadata": {},
   "outputs": [],
   "source": [
    "def normalization(wavefunction, inputs, delta):\n",
    "    return tf.reduce_sum(wavefunction(inputs) ** 2) * delta"
   ]
  },
  {
   "cell_type": "code",
   "execution_count": 25,
   "metadata": {},
   "outputs": [
    {
     "name": "stdout",
     "output_type": "stream",
     "text": [
      "Normalization of w_0:  tf.Tensor(1.0005497, shape=(), dtype=float32)\n",
      "Normalization of w_1:  tf.Tensor(1.0005497, shape=(), dtype=float32)\n",
      "Normalization of w_2:  tf.Tensor(1.0005496, shape=(), dtype=float32)\n",
      "Normalization of w_poly:  tf.Tensor(1.0005497, shape=(), dtype=float32)\n",
      "Normalization of w_nn:  tf.Tensor(1.0005494, shape=(), dtype=float32)\n"
     ]
    }
   ],
   "source": [
    "print(\"Normalization of w_0: \", normalization(w_0, x, delta))\n",
    "print(\"Normalization of w_1: \", normalization(w_1, x, delta))\n",
    "print(\"Normalization of w_2: \", normalization(w_2, x, delta))\n",
    "print(\"Normalization of w_poly: \", normalization(w_poly, x, delta))\n",
    "print(\"Normalization of w_nn: \", normalization(w_nn, x, delta))"
   ]
  },
  {
   "cell_type": "markdown",
   "metadata": {},
   "source": [
    "As desired, all of the normalizations are coming out close to 1."
   ]
  },
  {
   "cell_type": "markdown",
   "metadata": {},
   "source": [
    "Now we can compute the other terms in the hamiltonian:"
   ]
  },
  {
   "cell_type": "code",
   "execution_count": 26,
   "metadata": {},
   "outputs": [],
   "source": [
    "def potential_energy(wavefunction, inputs, delta):\n",
    "    temp = 0.5*(M * omega **2) * wavefunction(inputs)**2 * inputs**2\n",
    "    return tf.reduce_sum(temp) * delta"
   ]
  },
  {
   "cell_type": "code",
   "execution_count": 27,
   "metadata": {},
   "outputs": [
    {
     "name": "stdout",
     "output_type": "stream",
     "text": [
      "PE of w_0:  tf.Tensor(0.25013745, shape=(), dtype=float32)\n",
      "PE of w_1:  tf.Tensor(0.75041217, shape=(), dtype=float32)\n",
      "PE of w_2:  tf.Tensor(1.250687, shape=(), dtype=float32)\n",
      "PE of w_poly:  tf.Tensor(0.6003298, shape=(), dtype=float32)\n",
      "PE of w_nn:  tf.Tensor(0.75041234, shape=(), dtype=float32)\n"
     ]
    }
   ],
   "source": [
    "print(\"PE of w_0: \", potential_energy(w_0, x, delta))\n",
    "print(\"PE of w_1: \", potential_energy(w_1, x, delta))\n",
    "print(\"PE of w_2: \", potential_energy(w_2, x, delta))\n",
    "print(\"PE of w_poly: \", potential_energy(w_poly, x, delta))\n",
    "print(\"PE of w_nn: \", potential_energy(w_nn, x, delta))"
   ]
  },
  {
   "cell_type": "code",
   "execution_count": 28,
   "metadata": {},
   "outputs": [],
   "source": [
    "def kinetic_energy(wavefunction, inputs, delta):\n",
    "    tape = tf.GradientTape()\n",
    "    with tape:\n",
    "        y = wavefunction(inputs)\n",
    "    wavefunction_prime = tape.gradient(y, inputs)\n",
    "    return (hbar**2 / (2 *M)) * tf.reduce_sum(wavefunction_prime**2) * delta"
   ]
  },
  {
   "cell_type": "code",
   "execution_count": 29,
   "metadata": {},
   "outputs": [
    {
     "name": "stdout",
     "output_type": "stream",
     "text": [
      "KE of w_0:  tf.Tensor(0.25013745, shape=(), dtype=float32)\n",
      "KE of w_1:  tf.Tensor(0.7504123, shape=(), dtype=float32)\n",
      "KE of w_2:  tf.Tensor(1.2506871, shape=(), dtype=float32)\n",
      "KE of w_poly:  tf.Tensor(0.20010994, shape=(), dtype=float32)\n",
      "KE of w_nn:  tf.Tensor(0.750135, shape=(), dtype=float32)\n"
     ]
    }
   ],
   "source": [
    "print(\"KE of w_0: \", kinetic_energy(w_0, x, delta))\n",
    "print(\"KE of w_1: \", kinetic_energy(w_1, x, delta))\n",
    "print(\"KE of w_2: \", kinetic_energy(w_2, x, delta))\n",
    "print(\"KE of w_poly: \", kinetic_energy(w_poly, x, delta))\n",
    "print(\"KE of w_nn: \", kinetic_energy(w_nn, x, delta))"
   ]
  },
  {
   "cell_type": "markdown",
   "metadata": {},
   "source": [
    "Therefore, the computed energy for this wavefunction is:"
   ]
  },
  {
   "cell_type": "code",
   "execution_count": 30,
   "metadata": {},
   "outputs": [],
   "source": [
    "def energy_calculation(wavefunction, inputs, delta):\n",
    "    norm = normalization(wavefunction, inputs, delta)\n",
    "    pe = potential_energy(wavefunction, inputs, delta)\n",
    "    ke = kinetic_energy(wavefunction, inputs, delta)\n",
    "    energy = (1/norm) * ( pe +  ke)\n",
    "    return energy"
   ]
  },
  {
   "cell_type": "code",
   "execution_count": 31,
   "metadata": {},
   "outputs": [
    {
     "name": "stdout",
     "output_type": "stream",
     "text": [
      "Energy of w_0:  tf.Tensor(0.50000006, shape=(), dtype=float32)\n",
      "Energy of w_1:  tf.Tensor(1.4999999, shape=(), dtype=float32)\n",
      "Energy of w_2:  tf.Tensor(2.5000002, shape=(), dtype=float32)\n",
      "Energy of w_poly:  tf.Tensor(0.8, shape=(), dtype=float32)\n",
      "Energy of w_nn:  tf.Tensor(1.4997234, shape=(), dtype=float32)\n"
     ]
    }
   ],
   "source": [
    "print(\"Energy of w_0: \", energy_calculation(w_0, x, delta))\n",
    "print(\"Energy of w_1: \", energy_calculation(w_1, x, delta))\n",
    "print(\"Energy of w_2: \", energy_calculation(w_2, x, delta))\n",
    "print(\"Energy of w_poly: \", energy_calculation(w_poly, x, delta))\n",
    "print(\"Energy of w_nn: \", energy_calculation(w_nn, x, delta))"
   ]
  },
  {
   "cell_type": "markdown",
   "metadata": {},
   "source": [
    "The harmonic oscillator has energy levels of:\n",
    "$$ E_n = \\hbar \\omega ( n + \\frac{1}{2} ) $$\n",
    "and so the ground state is $\\hbar \\omega / 2$. For this example, with $\\hbar = 1$ and $\\omega = 1$, we expect the estimate of the energy to be greater than or equal to 1/2.  The exact solutions are coming out exactly right.  Looks good above!"
   ]
  },
  {
   "cell_type": "markdown",
   "metadata": {},
   "source": [
    "## Optimizing the wave function to find the ground state"
   ]
  },
  {
   "cell_type": "markdown",
   "metadata": {},
   "source": [
    "In the above, we used the autograd functionality to compute the expectation value of energy of a wavefunction for the harmonic oscillator.  But, now we will use autograd again to compute the derivative of the energy with respect to the wavefunction's parameters, and optimize the parameters to update the wave function.\n",
    "\n",
    "I re-wrote the energy computations to be more efficient.  I also introduced re-normalization of the wave function after every update."
   ]
  },
  {
   "cell_type": "code",
   "execution_count": 32,
   "metadata": {},
   "outputs": [],
   "source": [
    "def energy_computation(wavefunction, inputs, delta):\n",
    "    \n",
    "    # This function takes the inputs (assumed to be a range of real value parameters)\n",
    "    # And computes the expectation value of the energy.\n",
    "    \n",
    "    # create a gradient tape:\n",
    "    tape = tf.GradientTape()\n",
    "    \n",
    "    # This is the value of the wave function:\n",
    "    with tape:\n",
    "        w_of_x = wavefunction(inputs)\n",
    "    \n",
    "    \n",
    "    # This is the first derivative of the wave function:\n",
    "    w_prime_dx = tape.gradient(w_of_x, inputs)\n",
    "    \n",
    "#     print(w_prime_dx)\n",
    "    \n",
    "    # Now we can compute integrals:\n",
    "    normalization = tf.reduce_sum(w_of_x**2) * delta\n",
    "    \n",
    "    pe = (0.5 * M * omega**2 ) * (w_of_x**2) * (inputs**2)\n",
    "    \n",
    "    ke = (hbar**2 / (2 *M)) * (w_prime_dx**2)\n",
    "    \n",
    "\n",
    "    ke = tf.reduce_sum(ke) * delta\n",
    "    pe = tf.reduce_sum(pe) * delta\n",
    "    \n",
    "#     print()\n",
    "#     print(\"pe: \", pe)\n",
    "#     print(\"ke: \", ke)\n",
    "#     print(\"norm: \", normalization)\n",
    "#     print()\n",
    "\n",
    "\n",
    "    energy = (pe + ke) / normalization\n",
    "    \n",
    "    return energy"
   ]
  },
  {
   "cell_type": "code",
   "execution_count": 33,
   "metadata": {},
   "outputs": [],
   "source": [
    "def generate_input(delta):\n",
    "    # Create fresh input data:\n",
    "    _x = numpy.arange(-10, 10, delta, dtype=numpy.float32)\n",
    "    _x = _x.reshape((_x.shape[0], 1))\n",
    "\n",
    "    x = tf.Variable(_x, trainable = True)\n",
    "\n",
    "    return x\n",
    "    \n",
    "def training_step(wavefunction, optimizer, delta):\n",
    "    # Clear all gradients from the optimizer:\n",
    "    exterior_tape = tf.GradientTape()\n",
    "    \n",
    "    x = generate_input(delta)\n",
    "\n",
    "    wavefunction.update_normalization(x)\n",
    "    \n",
    "    # Compute the energy:\n",
    "    with exterior_tape:\n",
    "        energy = energy_computation(wavefunction, x, delta)\n",
    "\n",
    "    # We back-prop'd through the wave function once already in the energy computation.  Clear the gradients:\n",
    "    \n",
    "    gradients = exterior_tape.gradient(energy, wavefunction.trainable_variables)\n",
    "\n",
    "    optimizer.apply_gradients(zip(gradients, wavefunction.trainable_variables))\n",
    "    \n",
    "    # Lastly, update the normaliztion \n",
    "    wavefunction.update_normalization(x)\n",
    "\n",
    "    return  energy\n",
    "\n"
   ]
  },
  {
   "cell_type": "markdown",
   "metadata": {},
   "source": [
    "Let's train the polynomial wave function for awhile and see if it converges:"
   ]
  },
  {
   "cell_type": "code",
   "execution_count": 34,
   "metadata": {},
   "outputs": [
    {
     "name": "stdout",
     "output_type": "stream",
     "text": [
      "Energy :0.7999998927116394, 0.038s per step\n",
      "Energy :0.5484874844551086, 0.021s per step\n",
      "Energy :0.5056377649307251, 0.02s per step\n",
      "Energy :0.500678539276123, 0.021s per step\n",
      "Energy :0.5002404451370239, 0.022s per step\n"
     ]
    }
   ],
   "source": [
    "w_poly = PolynomialWavefunction()\n",
    "delta = 0.001\n",
    "\n",
    "optimizer = tf.keras.optimizers.Adam()\n",
    "\n",
    "energy_history = []\n",
    "step_history = []\n",
    "\n",
    "for i in range(500):\n",
    "    start = time.time()\n",
    "    energy = training_step(w_poly, optimizer, delta)\n",
    "    end = time.time()\n",
    "    if i % 100 == 0: print(f\"Energy :{energy.numpy()}, {end - start:.2}s per step\")\n",
    "    \n",
    "    energy_history.append(energy.numpy())\n",
    "    step_history.append(i)\n",
    "\n",
    "\n",
    "\n",
    "\n",
    "    \n",
    "    "
   ]
  },
  {
   "cell_type": "code",
   "execution_count": 35,
   "metadata": {},
   "outputs": [
    {
     "data": {
      "image/png": "[encoded data removed]",
      "text/plain": [
       "<Figure size 432x288 with 1 Axes>"
      ]
     },
     "metadata": {
      "needs_background": "light"
     },
     "output_type": "display_data"
    }
   ],
   "source": [
    "plt.plot(step_history, energy_history)\n",
    "plt.grid(True)\n",
    "plt.yscale(\"log\")\n",
    "plt.show()"
   ]
  },
  {
   "cell_type": "markdown",
   "metadata": {},
   "source": []
  },
  {
   "cell_type": "markdown",
   "metadata": {},
   "source": [
    "Now let's compare the fitted wave function with the REAL wavefunction for the ground state:"
   ]
  },
  {
   "cell_type": "code",
   "execution_count": 36,
   "metadata": {},
   "outputs": [
    {
     "data": {
      "image/png": "[encoded data removed]",
      "text/plain": [
       "<Figure size 432x288 with 1 Axes>"
      ]
     },
     "metadata": {
      "needs_background": "light"
     },
     "output_type": "display_data"
    }
   ],
   "source": [
    "\n",
    "# Create fresh input data:\n",
    "_x = numpy.arange(-10, 10, delta, dtype=numpy.float32)\n",
    "_x = _x.reshape((_x.shape[0], 1))\n",
    "\n",
    "x = tf.Variable(_x, trainable = True)\n",
    "\n",
    "y_exact = w_0(x)\n",
    "y_fit   = w_poly(x)\n",
    "\n",
    "x_numpy = x.numpy()\n",
    "\n",
    "energy_poly = energy_computation(w_poly, x, delta)\n",
    "\n",
    "plt.plot(x_numpy, y_exact.numpy(), label=\"Exact solution\")\n",
    "plt.plot(x_numpy, y_fit.numpy(), label=f\"Polynomial Fit, E={energy:.2}\")\n",
    "plt.grid(True)\n",
    "plt.legend()\n",
    "plt.show()"
   ]
  },
  {
   "cell_type": "markdown",
   "metadata": {},
   "source": [
    "For completeness, we should also plot the probability distribution:"
   ]
  },
  {
   "cell_type": "code",
   "execution_count": 37,
   "metadata": {},
   "outputs": [
    {
     "data": {
      "image/png": "[encoded data removed]",
      "text/plain": [
       "<Figure size 432x288 with 1 Axes>"
      ]
     },
     "metadata": {
      "needs_background": "light"
     },
     "output_type": "display_data"
    }
   ],
   "source": [
    "\n",
    "# Create fresh input data:\n",
    "_x = numpy.arange(-10, 10, delta, dtype=numpy.float32)\n",
    "_x = _x.reshape((_x.shape[0], 1))\n",
    "\n",
    "x = tf.Variable(_x, trainable = True)\n",
    "\n",
    "p_exact = w_0(x)**2\n",
    "p_fit   = w_poly(x)**2\n",
    "\n",
    "x_numpy = x.numpy()\n",
    "\n",
    "energy_poly = energy_computation(w_poly, x, delta)\n",
    "\n",
    "plt.plot(x_numpy, p_exact.numpy(), label=\"Exact solution\")\n",
    "plt.plot(x_numpy, p_fit.numpy(), label=f\"Polynomial Fit, E={energy:.2}\")\n",
    "plt.grid(True)\n",
    "plt.legend()\n",
    "plt.show()"
   ]
  },
  {
   "cell_type": "markdown",
   "metadata": {},
   "source": [
    "Here are the parameters of the network:"
   ]
  },
  {
   "cell_type": "code",
   "execution_count": 38,
   "metadata": {},
   "outputs": [
    {
     "name": "stdout",
     "output_type": "stream",
     "text": [
      "const term fit:  <tf.Variable 'Variable:0' shape=() dtype=float32, numpy=0.406595>\n",
      "linear term fit:  <tf.Variable 'Variable:0' shape=() dtype=float32, numpy=0.0005932863>\n",
      "quad term fit:  <tf.Variable 'Variable:0' shape=() dtype=float32, numpy=0.057393596>\n",
      "norm term fit:  tf.Tensor([1.8406936], shape=(1,), dtype=float32)\n"
     ]
    }
   ],
   "source": [
    "\n",
    "print(\"const term fit: \", w_poly.const)\n",
    "print(\"linear term fit: \", w_poly.linear)\n",
    "print(\"quad term fit: \", w_poly.quad)\n",
    "print(\"norm term fit: \", w_poly.norm)\n",
    "\n"
   ]
  },
  {
   "cell_type": "markdown",
   "metadata": {},
   "source": [
    "In a perfect fit, we expect the linear and quadratic terms to go to 0.0 and the constant term to stay != 0.  The absolute normalization is not of much importance."
   ]
  },
  {
   "cell_type": "markdown",
   "metadata": {},
   "source": [
    "Here, we do the same process for the neural network wave function:"
   ]
  },
  {
   "cell_type": "code",
   "execution_count": 39,
   "metadata": {},
   "outputs": [
    {
     "name": "stdout",
     "output_type": "stream",
     "text": [
      "[<tf.Variable 'neural_wavefunction_1/dense_3/kernel:0' shape=(1, 32) dtype=float32, numpy=\n",
      "array([[ 0.33355755,  0.2613688 ,  0.18678504, -0.22403169, -0.30016172,\n",
      "         0.00439262,  0.3078333 , -0.19529335, -0.40777534, -0.1115143 ,\n",
      "        -0.42398474,  0.0270412 ,  0.41937   , -0.05804911,  0.17289966,\n",
      "         0.13667452, -0.36192858, -0.1565825 ,  0.21426249, -0.42039922,\n",
      "        -0.03266776, -0.11119285, -0.05014825, -0.21801381,  0.08330369,\n",
      "         0.23665679,  0.4159838 ,  0.29823315, -0.37369466,  0.31518143,\n",
      "        -0.389106  ,  0.27626717]], dtype=float32)>, <tf.Variable 'neural_wavefunction_1/dense_3/bias:0' shape=(32,) dtype=float32, numpy=\n",
      "array([0., 0., 0., 0., 0., 0., 0., 0., 0., 0., 0., 0., 0., 0., 0., 0., 0.,\n",
      "       0., 0., 0., 0., 0., 0., 0., 0., 0., 0., 0., 0., 0., 0., 0.],\n",
      "      dtype=float32)>, <tf.Variable 'neural_wavefunction_1/dense_4/kernel:0' shape=(32, 32) dtype=float32, numpy=\n",
      "array([[ 0.26142517, -0.06840831,  0.28610596, ..., -0.01987299,\n",
      "         0.30130288, -0.2705573 ],\n",
      "       [ 0.09237212,  0.19262895, -0.1707831 , ..., -0.14058214,\n",
      "         0.14821377,  0.18689716],\n",
      "       [-0.1133469 ,  0.24278757,  0.02393079, ..., -0.07902084,\n",
      "         0.02146754,  0.21510813],\n",
      "       ...,\n",
      "       [ 0.17488295, -0.04720086,  0.04389608, ...,  0.0359439 ,\n",
      "         0.15335709,  0.2502359 ],\n",
      "       [ 0.09851152, -0.1195707 , -0.13456836, ...,  0.2581556 ,\n",
      "         0.02873328,  0.17823046],\n",
      "       [ 0.12331557,  0.28753397, -0.0950413 , ...,  0.23098698,\n",
      "         0.27183065,  0.15393299]], dtype=float32)>, <tf.Variable 'neural_wavefunction_1/dense_4/bias:0' shape=(32,) dtype=float32, numpy=\n",
      "array([0., 0., 0., 0., 0., 0., 0., 0., 0., 0., 0., 0., 0., 0., 0., 0., 0.,\n",
      "       0., 0., 0., 0., 0., 0., 0., 0., 0., 0., 0., 0., 0., 0., 0.],\n",
      "      dtype=float32)>, <tf.Variable 'neural_wavefunction_1/dense_5/kernel:0' shape=(32, 1) dtype=float32, numpy=\n",
      "array([[ 0.21765882],\n",
      "       [ 0.38671196],\n",
      "       [-0.02447289],\n",
      "       [-0.0490315 ],\n",
      "       [-0.04936394],\n",
      "       [ 0.37924856],\n",
      "       [-0.34141392],\n",
      "       [-0.10509852],\n",
      "       [-0.30559403],\n",
      "       [ 0.03915888],\n",
      "       [-0.1183477 ],\n",
      "       [ 0.34547013],\n",
      "       [ 0.04432687],\n",
      "       [ 0.40088385],\n",
      "       [-0.07980844],\n",
      "       [ 0.18496805],\n",
      "       [-0.17740887],\n",
      "       [ 0.34563482],\n",
      "       [ 0.08510655],\n",
      "       [-0.39929762],\n",
      "       [-0.19846328],\n",
      "       [ 0.3302279 ],\n",
      "       [-0.06205866],\n",
      "       [ 0.08016485],\n",
      "       [-0.08459023],\n",
      "       [ 0.23144954],\n",
      "       [-0.28517824],\n",
      "       [-0.20271651],\n",
      "       [-0.23478813],\n",
      "       [ 0.404728  ],\n",
      "       [-0.40756935],\n",
      "       [ 0.2035231 ]], dtype=float32)>, <tf.Variable 'neural_wavefunction_1/dense_5/bias:0' shape=(1,) dtype=float32, numpy=array([0.], dtype=float32)>, <tf.Variable 'Variable:0' shape=() dtype=float32, numpy=1.0>]\n"
     ]
    }
   ],
   "source": [
    "w_nn = NeuralWavefunction()\n",
    "delta = 0.0001\n",
    "\n",
    "x = generate_input(delta)\n",
    "y = w_nn(x)\n",
    "\n",
    "print(w_nn.trainable_weights)"
   ]
  },
  {
   "cell_type": "code",
   "execution_count": 40,
   "metadata": {},
   "outputs": [
    {
     "name": "stdout",
     "output_type": "stream",
     "text": [
      "Energy :1.4999868869781494, 0.42s per step\n",
      "Energy :0.6957566142082214, 0.42s per step\n",
      "Energy :0.5442829728126526, 0.4s per step\n",
      "Energy :0.5305700302124023, 0.37s per step\n",
      "Energy :0.5289440751075745, 0.41s per step\n",
      "Energy :0.5171223282814026, 0.48s per step\n",
      "Energy :0.5164408683776855, 0.39s per step\n",
      "Energy :0.5157034993171692, 0.4s per step\n",
      "Energy :0.5108321309089661, 0.44s per step\n",
      "Energy :0.5111419558525085, 0.42s per step\n",
      "Energy :0.510994017124176, 0.44s per step\n",
      "Energy :0.511522650718689, 0.42s per step\n",
      "Energy :0.5112339854240417, 0.41s per step\n",
      "Energy :0.5096302628517151, 0.4s per step\n",
      "Energy :0.5086519718170166, 0.4s per step\n",
      "Energy :0.5069428086280823, 0.4s per step\n",
      "Energy :0.5056834816932678, 0.4s per step\n",
      "Energy :0.5053966641426086, 0.43s per step\n",
      "Energy :0.5050645470619202, 0.44s per step\n",
      "Energy :0.5049183964729309, 0.39s per step\n",
      "Energy :0.5045235753059387, 0.4s per step\n",
      "Energy :0.5041301250457764, 0.4s per step\n",
      "Energy :0.5037704110145569, 0.41s per step\n",
      "Energy :0.5037364959716797, 0.4s per step\n",
      "Energy :0.5033697485923767, 0.4s per step\n",
      "Energy :0.502918541431427, 0.36s per step\n",
      "Energy :0.5028762221336365, 0.36s per step\n",
      "Energy :0.5032767653465271, 0.39s per step\n",
      "Energy :0.5026538968086243, 0.41s per step\n",
      "Energy :0.5026765465736389, 0.39s per step\n",
      "Energy :0.5024124979972839, 0.4s per step\n",
      "Energy :0.5024266242980957, 0.4s per step\n",
      "Energy :0.5023913979530334, 0.39s per step\n",
      "Energy :0.5029017925262451, 0.4s per step\n",
      "Energy :0.504218578338623, 0.4s per step\n",
      "Energy :0.5037383437156677, 0.4s per step\n",
      "Energy :0.5021515488624573, 0.4s per step\n",
      "Energy :0.5017311573028564, 0.4s per step\n",
      "Energy :0.5014778971672058, 0.42s per step\n",
      "Energy :0.50140780210495, 0.41s per step\n",
      "Energy :0.5014044642448425, 0.41s per step\n",
      "Energy :0.5013598203659058, 0.39s per step\n",
      "Energy :0.5013062357902527, 0.39s per step\n",
      "Energy :0.5012774467468262, 0.4s per step\n",
      "Energy :0.5012733936309814, 0.4s per step\n",
      "Energy :0.501255214214325, 0.4s per step\n",
      "Energy :0.5012073516845703, 0.39s per step\n",
      "Energy :0.5011632442474365, 0.39s per step\n",
      "Energy :0.5011393427848816, 0.4s per step\n",
      "Energy :0.5011118650436401, 0.39s per step\n"
     ]
    }
   ],
   "source": [
    "optimizer = tf.keras.optimizers.Adam()\n",
    "\n",
    "energy_history = []\n",
    "step_history = []\n",
    "\n",
    "for i in range(500):\n",
    "    start = time.time()\n",
    "    energy = training_step(w_nn, optimizer, delta)\n",
    "    end = time.time()\n",
    "    if i % 10 == 0: print(f\"Energy :{energy.numpy()}, {end - start:.2}s per step\")\n",
    "    \n",
    "    \n",
    "    energy_history.append(energy.numpy())\n",
    "    step_history.append(i)\n",
    "\n",
    "\n",
    "\n",
    "\n",
    "\n"
   ]
  },
  {
   "cell_type": "code",
   "execution_count": 41,
   "metadata": {},
   "outputs": [
    {
     "data": {
      "text/plain": [
       "[<tf.Variable 'neural_wavefunction_1/dense_3/kernel:0' shape=(1, 32) dtype=float32, numpy=\n",
       " array([[ 3.15292507e-01,  2.46594042e-01,  1.63089722e-01,\n",
       "         -5.22238053e-02, -2.94203699e-01,  1.08134225e-02,\n",
       "          2.65543520e-01, -2.08097592e-01, -3.74875784e-01,\n",
       "         -3.19222212e-02, -1.45351395e-01,  6.07659668e-03,\n",
       "          3.68833363e-01, -2.26566643e-02,  1.15368575e-01,\n",
       "          1.48092791e-01, -1.14974305e-01, -4.67783511e-02,\n",
       "          2.00519904e-01, -3.93468082e-01, -4.69188131e-02,\n",
       "         -2.29422394e-02,  3.27232498e-04, -2.11748898e-01,\n",
       "          1.81684662e-02,  2.51876593e-01,  4.05140162e-01,\n",
       "          1.15375824e-01, -3.26953828e-01,  3.05121243e-01,\n",
       "         -1.14339285e-01,  4.67819944e-02]], dtype=float32)>,\n",
       " <tf.Variable 'neural_wavefunction_1/dense_3/bias:0' shape=(32,) dtype=float32, numpy=\n",
       " array([-0.00812394,  0.026785  ,  0.00459766,  0.13336022,  0.01140648,\n",
       "         0.0286603 , -0.06024849,  0.01056809,  0.07220948,  0.14708978,\n",
       "         0.3083566 , -0.03140794,  0.07304627,  0.09258907, -0.00050499,\n",
       "         0.01788534,  0.32045346,  0.12492447, -0.00705187,  0.04045638,\n",
       "        -0.0404114 ,  0.09273855, -0.0106808 ,  0.01376833,  0.05223065,\n",
       "         0.01822083,  0.02135045,  0.13218932,  0.0230153 ,  0.01952657,\n",
       "         0.23079768,  0.11610758], dtype=float32)>,\n",
       " <tf.Variable 'neural_wavefunction_1/dense_4/kernel:0' shape=(32, 32) dtype=float32, numpy=\n",
       " array([[ 0.31823677, -0.05594791,  0.28322875, ..., -0.00724674,\n",
       "          0.28346232, -0.25919724],\n",
       "        [ 0.13481942,  0.19784266, -0.17368273, ..., -0.13523294,\n",
       "          0.13031422,  0.19180381],\n",
       "        [-0.08551684,  0.22920598,  0.03457348, ..., -0.09271755,\n",
       "          0.00326293,  0.20133391],\n",
       "        ...,\n",
       "        [ 0.1854861 , -0.05914451,  0.05018028, ...,  0.02395023,\n",
       "          0.13381155,  0.23820035],\n",
       "        [ 0.12610574, -0.11256239, -0.1120402 , ...,  0.2650927 ,\n",
       "          0.04981744,  0.18551849],\n",
       "        [ 0.12936334,  0.2708685 , -0.08071329, ...,  0.21420644,\n",
       "          0.25418726,  0.13693881]], dtype=float32)>,\n",
       " <tf.Variable 'neural_wavefunction_1/dense_4/bias:0' shape=(32,) dtype=float32, numpy=\n",
       " array([ 0.06891973,  0.02809558, -0.002827  , -0.01504715, -0.02330822,\n",
       "         0.06690048, -0.02374849,  0.03448238, -0.03254878,  0.01719144,\n",
       "        -0.01826611,  0.09937269,  0.074021  ,  0.0302296 ,  0.02229476,\n",
       "         0.05190095, -0.02806219,  0.02523959,  0.0550561 ,  0.05482538,\n",
       "        -0.02209206,  0.02812315, -0.0095375 ,  0.04867664, -0.00997094,\n",
       "        -0.00284865, -0.01443802,  0.        , -0.00933331,  0.02830191,\n",
       "        -0.02144606,  0.0278893 ], dtype=float32)>,\n",
       " <tf.Variable 'neural_wavefunction_1/dense_5/kernel:0' shape=(32, 1) dtype=float32, numpy=\n",
       " array([[ 0.26402506],\n",
       "        [ 0.38833284],\n",
       "        [ 0.00869144],\n",
       "        [-0.04653515],\n",
       "        [-0.03994366],\n",
       "        [ 0.22160757],\n",
       "        [-0.3241386 ],\n",
       "        [-0.03473923],\n",
       "        [-0.27456012],\n",
       "        [ 0.02748876],\n",
       "        [-0.11481446],\n",
       "        [ 0.45389834],\n",
       "        [ 0.07170615],\n",
       "        [ 0.39712378],\n",
       "        [-0.07358697],\n",
       "        [ 0.20839004],\n",
       "        [-0.16137855],\n",
       "        [ 0.41356203],\n",
       "        [ 0.06157797],\n",
       "        [-0.30989316],\n",
       "        [-0.18834276],\n",
       "        [ 0.31280398],\n",
       "        [-0.05700243],\n",
       "        [ 0.1038157 ],\n",
       "        [-0.07784668],\n",
       "        [ 0.23145048],\n",
       "        [-0.28788957],\n",
       "        [-0.20271651],\n",
       "        [-0.21377873],\n",
       "        [ 0.4200603 ],\n",
       "        [-0.4048695 ],\n",
       "        [ 0.1811617 ]], dtype=float32)>,\n",
       " <tf.Variable 'neural_wavefunction_1/dense_5/bias:0' shape=(1,) dtype=float32, numpy=array([0.02828211], dtype=float32)>,\n",
       " <tf.Variable 'Variable:0' shape=() dtype=float32, numpy=1.0365461>]"
      ]
     },
     "execution_count": 41,
     "metadata": {},
     "output_type": "execute_result"
    }
   ],
   "source": [
    "w_nn.trainable_variables"
   ]
  },
  {
   "cell_type": "code",
   "execution_count": 42,
   "metadata": {},
   "outputs": [
    {
     "data": {
      "image/png": "[encoded data removed]",
      "text/plain": [
       "<Figure size 432x288 with 1 Axes>"
      ]
     },
     "metadata": {
      "needs_background": "light"
     },
     "output_type": "display_data"
    }
   ],
   "source": [
    "plt.plot(step_history, energy_history)\n",
    "plt.grid(True)\n",
    "plt.show()"
   ]
  },
  {
   "cell_type": "markdown",
   "metadata": {},
   "source": [
    "As before, let's compare the exact and learned wavefunctions:"
   ]
  },
  {
   "cell_type": "code",
   "execution_count": 43,
   "metadata": {},
   "outputs": [
    {
     "name": "stderr",
     "output_type": "stream",
     "text": [
      "/Users/corey.adams/Library/Python/3.6/lib/python/site-packages/IPython/core/pylabtools.py:128: UserWarning: Creating legend with loc=\"best\" can be slow with large amounts of data.\n",
      "  fig.canvas.print_figure(bytes_io, **kw)\n"
     ]
    },
    {
     "data": {
      "image/png": "[encoded data removed]",
      "text/plain": [
       "<Figure size 432x288 with 1 Axes>"
      ]
     },
     "metadata": {
      "needs_background": "light"
     },
     "output_type": "display_data"
    }
   ],
   "source": [
    "\n",
    "# Create fresh input data:\n",
    "_x = numpy.arange(-10, 10, delta, dtype=numpy.float32)\n",
    "_x = _x.reshape((_x.shape[0], 1))\n",
    "\n",
    "x = tf.Variable(_x)\n",
    "\n",
    "y_exact = w_0(x)\n",
    "y_fit   = w_nn(x)\n",
    "\n",
    "x_numpy = x.numpy()\n",
    "\n",
    "energy_poly = energy_computation(w_poly, x, delta)\n",
    "\n",
    "plt.plot(x_numpy, y_exact.numpy(), label=\"Exact solution\")\n",
    "plt.plot(x_numpy, y_fit.numpy(), label=f\"Neural Network Fit, E={energy:.2}\")\n",
    "plt.grid(True)\n",
    "plt.legend()\n",
    "plt.show()"
   ]
  },
  {
   "cell_type": "markdown",
   "metadata": {},
   "source": [
    "And the energy:"
   ]
  },
  {
   "cell_type": "code",
   "execution_count": 44,
   "metadata": {},
   "outputs": [
    {
     "data": {
      "image/png": "[encoded data removed]",
      "text/plain": [
       "<Figure size 432x288 with 1 Axes>"
      ]
     },
     "metadata": {
      "needs_background": "light"
     },
     "output_type": "display_data"
    }
   ],
   "source": [
    "\n",
    "# Create fresh input data:\n",
    "_x = numpy.arange(-10, 10, delta, dtype=numpy.float32)\n",
    "_x = _x.reshape((_x.shape[0], 1))\n",
    "\n",
    "x = tf.Variable(_x, trainable = True)\n",
    "\n",
    "p_exact = w_0(x)**2\n",
    "p_fit   = w_nn(x)**2\n",
    "\n",
    "x_numpy = x.numpy()\n",
    "\n",
    "energy_poly = energy_computation(w_poly, x, delta)\n",
    "\n",
    "plt.plot(x_numpy, p_exact.numpy(), label=\"Exact solution\")\n",
    "plt.plot(x_numpy, p_fit.numpy(), label=f\"Neural Network Fit, E={energy:.2}\")\n",
    "plt.grid(True)\n",
    "plt.legend()\n",
    "plt.show()"
   ]
  },
  {
   "cell_type": "markdown",
   "metadata": {},
   "source": [
    "## Higher level states\n",
    "\n",
    "Can we use ML techniques to learn higher level states?  The next wave function needs to be orthogonal to the ground state, so if our approximation is good, we should be able to minimize the energy and the orthogonal-ness of the first excited state at the same time."
   ]
  },
  {
   "cell_type": "code",
   "execution_count": null,
   "metadata": {},
   "outputs": [],
   "source": [
    "def training_step_excited_state(wavefunction, known_wavefunction, optimizer, delta, alpha=5):\n",
    "    \n",
    "    x = generate_input(delta)\n",
    "\n",
    "    # Compute the energy:\n",
    "    tape = tf.GradientTape()\n",
    "    \n",
    "    with tape:\n",
    "        energy = energy_computation(wavefunction, x, delta)\n",
    "\n",
    "    # Now, we have the energy.  We should make sure it is orthogonal to the known wavefunction:\n",
    "    y0 = known_wavefunction(x)\n",
    "    with tape:\n",
    "        y1 = wavefunction(x)\n",
    "        ortho = (tf.reduce_sum(y0 * y1) * delta)**2\n",
    "    \n",
    "        energy += alpha*ortho\n",
    "    \n",
    "    \n",
    "    gradients = tape.gradient(energy, wavefunction.trainable_variables)\n",
    "\n",
    "    optimizer.apply_gradients(zip(gradients, wavefunction.trainable_variables))\n",
    "    \n",
    "\n",
    "    return  energy - alpha*ortho, ortho\n",
    "\n",
    "\n"
   ]
  },
  {
   "cell_type": "code",
   "execution_count": 54,
   "metadata": {
    "scrolled": true
   },
   "outputs": [
    {
     "name": "stdout",
     "output_type": "stream",
     "text": [
      "Step 0, E ==1.5587440729141235, Orthogonality=-0.011613288894295692\n",
      "Step 10, E ==1.9799928665161133, Orthogonality=-0.09364298731088638\n",
      "Step 20, E ==2.3595988750457764, Orthogonality=-0.19066210091114044\n",
      "Step 30, E ==2.3493528366088867, Orthogonality=-0.22554147243499756\n",
      "Step 40, E ==2.000709056854248, Orthogonality=-0.21192790567874908\n",
      "Step 50, E ==1.608788013458252, Orthogonality=-0.16688548028469086\n",
      "Step 60, E ==1.6575192213058472, Orthogonality=-0.17669570446014404\n",
      "Step 70, E ==1.6213314533233643, Orthogonality=-0.1774856001138687\n",
      "Step 80, E ==1.525310754776001, Orthogonality=-0.16540326178073883\n",
      "Step 90, E ==1.3508563041687012, Orthogonality=-0.14038890600204468\n",
      "Step 100, E ==1.2754039764404297, Orthogonality=-0.1252259612083435\n",
      "Step 110, E ==1.2400288581848145, Orthogonality=-0.11998133361339569\n",
      "Step 120, E ==1.2290863990783691, Orthogonality=-0.12007568031549454\n",
      "Step 130, E ==1.1600065231323242, Orthogonality=-0.11011756211519241\n",
      "Step 140, E ==1.0362906455993652, Orthogonality=-0.09250397980213165\n",
      "Step 150, E ==0.923930823802948, Orthogonality=-0.07416848093271255\n",
      "Step 160, E ==0.8141893744468689, Orthogonality=-0.05659104511141777\n",
      "Step 170, E ==0.752468466758728, Orthogonality=-0.0459347628057003\n",
      "Step 180, E ==0.9072697162628174, Orthogonality=-0.06771361827850342\n",
      "Step 190, E ==1.025534987449646, Orthogonality=-0.0943349301815033\n",
      "Step 200, E ==0.8932443857192993, Orthogonality=-0.07093003392219543\n",
      "Step 210, E ==0.7723115086555481, Orthogonality=-0.04823703691363335\n",
      "Step 220, E ==0.7809222936630249, Orthogonality=-0.050643425434827805\n",
      "Step 230, E ==0.9220436215400696, Orthogonality=-0.0752052292227745\n",
      "Step 240, E ==0.8990131616592407, Orthogonality=-0.07342041283845901\n",
      "Step 250, E ==0.7488600015640259, Orthogonality=-0.04522392153739929\n",
      "Step 260, E ==0.7307772636413574, Orthogonality=-0.042304765433073044\n",
      "Step 270, E ==0.7438853979110718, Orthogonality=-0.044407036155462265\n",
      "Step 280, E ==0.8117327690124512, Orthogonality=-0.05685056000947952\n",
      "Step 290, E ==0.7679626941680908, Orthogonality=-0.049530114978551865\n",
      "Step 300, E ==0.7405241131782532, Orthogonality=-0.043238863348960876\n",
      "Step 310, E ==0.7600867748260498, Orthogonality=-0.04868403822183609\n",
      "Step 320, E ==0.6770979166030884, Orthogonality=-0.03229328989982605\n",
      "Step 330, E ==0.8883568048477173, Orthogonality=-0.06957623362541199\n",
      "Step 340, E ==0.8939922451972961, Orthogonality=-0.07127942889928818\n",
      "Step 350, E ==0.7719210982322693, Orthogonality=-0.04795076698064804\n",
      "Step 360, E ==0.9695800542831421, Orthogonality=-0.08106871694326401\n",
      "Step 370, E ==1.0381379127502441, Orthogonality=-0.09449104219675064\n",
      "Step 380, E ==0.7982404232025146, Orthogonality=-0.05401795357465744\n"
     ]
    },
    {
     "ename": "KeyboardInterrupt",
     "evalue": "",
     "output_type": "error",
     "traceback": [
      "\u001b[0;31m---------------------------------------------------------------------------\u001b[0m",
      "\u001b[0;31mKeyboardInterrupt\u001b[0m                         Traceback (most recent call last)",
      "\u001b[0;32m<ipython-input-54-d42dd77564fc>\u001b[0m in \u001b[0;36m<module>\u001b[0;34m\u001b[0m\n\u001b[1;32m      9\u001b[0m \u001b[0;34m\u001b[0m\u001b[0m\n\u001b[1;32m     10\u001b[0m \u001b[0;32mfor\u001b[0m \u001b[0mi\u001b[0m \u001b[0;32min\u001b[0m \u001b[0mrange\u001b[0m\u001b[0;34m(\u001b[0m\u001b[0;36m5000\u001b[0m\u001b[0;34m)\u001b[0m\u001b[0;34m:\u001b[0m\u001b[0;34m\u001b[0m\u001b[0;34m\u001b[0m\u001b[0m\n\u001b[0;32m---> 11\u001b[0;31m     \u001b[0menergy\u001b[0m\u001b[0;34m,\u001b[0m \u001b[0mortho\u001b[0m \u001b[0;34m=\u001b[0m \u001b[0mtraining_step_excited_state\u001b[0m\u001b[0;34m(\u001b[0m\u001b[0mw_nn_excited\u001b[0m\u001b[0;34m,\u001b[0m \u001b[0mw_nn\u001b[0m\u001b[0;34m,\u001b[0m \u001b[0moptimizer\u001b[0m\u001b[0;34m,\u001b[0m \u001b[0mdelta\u001b[0m\u001b[0;34m)\u001b[0m\u001b[0;34m\u001b[0m\u001b[0;34m\u001b[0m\u001b[0m\n\u001b[0m\u001b[1;32m     12\u001b[0m     \u001b[0;32mif\u001b[0m \u001b[0mi\u001b[0m \u001b[0;34m%\u001b[0m \u001b[0;36m10\u001b[0m \u001b[0;34m==\u001b[0m \u001b[0;36m0\u001b[0m\u001b[0;34m:\u001b[0m\u001b[0;34m\u001b[0m\u001b[0;34m\u001b[0m\u001b[0m\n\u001b[1;32m     13\u001b[0m         \u001b[0mprint\u001b[0m\u001b[0;34m(\u001b[0m\u001b[0;34mf\"Step {i}, E =={energy}, Orthogonality={ortho}\"\u001b[0m\u001b[0;34m)\u001b[0m\u001b[0;34m\u001b[0m\u001b[0;34m\u001b[0m\u001b[0m\n",
      "\u001b[0;32m<ipython-input-47-7d9a8034cc48>\u001b[0m in \u001b[0;36mtraining_step_excited_state\u001b[0;34m(wavefunction, known_wavefunction, optimizer, delta, alpha)\u001b[0m\n\u001b[1;32m     18\u001b[0m \u001b[0;34m\u001b[0m\u001b[0m\n\u001b[1;32m     19\u001b[0m \u001b[0;34m\u001b[0m\u001b[0m\n\u001b[0;32m---> 20\u001b[0;31m     \u001b[0mgradients\u001b[0m \u001b[0;34m=\u001b[0m \u001b[0mtape\u001b[0m\u001b[0;34m.\u001b[0m\u001b[0mgradient\u001b[0m\u001b[0;34m(\u001b[0m\u001b[0menergy\u001b[0m\u001b[0;34m,\u001b[0m \u001b[0mwavefunction\u001b[0m\u001b[0;34m.\u001b[0m\u001b[0mtrainable_variables\u001b[0m\u001b[0;34m)\u001b[0m\u001b[0;34m\u001b[0m\u001b[0;34m\u001b[0m\u001b[0m\n\u001b[0m\u001b[1;32m     21\u001b[0m \u001b[0;34m\u001b[0m\u001b[0m\n\u001b[1;32m     22\u001b[0m     \u001b[0moptimizer\u001b[0m\u001b[0;34m.\u001b[0m\u001b[0mapply_gradients\u001b[0m\u001b[0;34m(\u001b[0m\u001b[0mzip\u001b[0m\u001b[0;34m(\u001b[0m\u001b[0mgradients\u001b[0m\u001b[0;34m,\u001b[0m \u001b[0mwavefunction\u001b[0m\u001b[0;34m.\u001b[0m\u001b[0mtrainable_variables\u001b[0m\u001b[0;34m)\u001b[0m\u001b[0;34m)\u001b[0m\u001b[0;34m\u001b[0m\u001b[0;34m\u001b[0m\u001b[0m\n",
      "\u001b[0;32m~/Library/Python/3.6/lib/python/site-packages/tensorflow/python/eager/backprop.py\u001b[0m in \u001b[0;36mgradient\u001b[0;34m(self, target, sources, output_gradients, unconnected_gradients)\u001b[0m\n\u001b[1;32m   1046\u001b[0m         \u001b[0moutput_gradients\u001b[0m\u001b[0;34m=\u001b[0m\u001b[0moutput_gradients\u001b[0m\u001b[0;34m,\u001b[0m\u001b[0;34m\u001b[0m\u001b[0;34m\u001b[0m\u001b[0m\n\u001b[1;32m   1047\u001b[0m         \u001b[0msources_raw\u001b[0m\u001b[0;34m=\u001b[0m\u001b[0mflat_sources_raw\u001b[0m\u001b[0;34m,\u001b[0m\u001b[0;34m\u001b[0m\u001b[0;34m\u001b[0m\u001b[0m\n\u001b[0;32m-> 1048\u001b[0;31m         unconnected_gradients=unconnected_gradients)\n\u001b[0m\u001b[1;32m   1049\u001b[0m \u001b[0;34m\u001b[0m\u001b[0m\n\u001b[1;32m   1050\u001b[0m     \u001b[0;32mif\u001b[0m \u001b[0;32mnot\u001b[0m \u001b[0mself\u001b[0m\u001b[0;34m.\u001b[0m\u001b[0m_persistent\u001b[0m\u001b[0;34m:\u001b[0m\u001b[0;34m\u001b[0m\u001b[0;34m\u001b[0m\u001b[0m\n",
      "\u001b[0;32m~/Library/Python/3.6/lib/python/site-packages/tensorflow/python/eager/imperative_grad.py\u001b[0m in \u001b[0;36mimperative_grad\u001b[0;34m(tape, target, sources, output_gradients, sources_raw, unconnected_gradients)\u001b[0m\n\u001b[1;32m     75\u001b[0m       \u001b[0moutput_gradients\u001b[0m\u001b[0;34m,\u001b[0m\u001b[0;34m\u001b[0m\u001b[0;34m\u001b[0m\u001b[0m\n\u001b[1;32m     76\u001b[0m       \u001b[0msources_raw\u001b[0m\u001b[0;34m,\u001b[0m\u001b[0;34m\u001b[0m\u001b[0;34m\u001b[0m\u001b[0m\n\u001b[0;32m---> 77\u001b[0;31m       compat.as_str(unconnected_gradients.value))\n\u001b[0m",
      "\u001b[0;32m~/Library/Python/3.6/lib/python/site-packages/tensorflow/python/eager/backprop.py\u001b[0m in \u001b[0;36m_gradient_function\u001b[0;34m(op_name, attr_tuple, num_inputs, inputs, outputs, out_grads, skip_input_indices, forward_pass_name_scope)\u001b[0m\n\u001b[1;32m    155\u001b[0m       \u001b[0mgradient_name_scope\u001b[0m \u001b[0;34m=\u001b[0m \u001b[0;34m\"gradient_tape/\"\u001b[0m\u001b[0;34m\u001b[0m\u001b[0;34m\u001b[0m\u001b[0m\n\u001b[1;32m    156\u001b[0m     \u001b[0;32mwith\u001b[0m \u001b[0mops\u001b[0m\u001b[0;34m.\u001b[0m\u001b[0mname_scope\u001b[0m\u001b[0;34m(\u001b[0m\u001b[0mgradient_name_scope\u001b[0m\u001b[0;34m)\u001b[0m\u001b[0;34m:\u001b[0m\u001b[0;34m\u001b[0m\u001b[0;34m\u001b[0m\u001b[0m\n\u001b[0;32m--> 157\u001b[0;31m       \u001b[0;32mreturn\u001b[0m \u001b[0mgrad_fn\u001b[0m\u001b[0;34m(\u001b[0m\u001b[0mmock_op\u001b[0m\u001b[0;34m,\u001b[0m \u001b[0;34m*\u001b[0m\u001b[0mout_grads\u001b[0m\u001b[0;34m)\u001b[0m\u001b[0;34m\u001b[0m\u001b[0;34m\u001b[0m\u001b[0m\n\u001b[0m\u001b[1;32m    158\u001b[0m   \u001b[0;32melse\u001b[0m\u001b[0;34m:\u001b[0m\u001b[0;34m\u001b[0m\u001b[0;34m\u001b[0m\u001b[0m\n\u001b[1;32m    159\u001b[0m     \u001b[0;32mreturn\u001b[0m \u001b[0mgrad_fn\u001b[0m\u001b[0;34m(\u001b[0m\u001b[0mmock_op\u001b[0m\u001b[0;34m,\u001b[0m \u001b[0;34m*\u001b[0m\u001b[0mout_grads\u001b[0m\u001b[0;34m)\u001b[0m\u001b[0;34m\u001b[0m\u001b[0;34m\u001b[0m\u001b[0m\n",
      "\u001b[0;32m~/Library/Python/3.6/lib/python/site-packages/tensorflow/python/ops/math_grad.py\u001b[0m in \u001b[0;36m_MatMulGrad\u001b[0;34m(op, grad)\u001b[0m\n\u001b[1;32m   1688\u001b[0m     \u001b[0mgrad_b\u001b[0m \u001b[0;34m=\u001b[0m \u001b[0mgen_math_ops\u001b[0m\u001b[0;34m.\u001b[0m\u001b[0mmat_mul\u001b[0m\u001b[0;34m(\u001b[0m\u001b[0ma\u001b[0m\u001b[0;34m,\u001b[0m \u001b[0mgrad\u001b[0m\u001b[0;34m,\u001b[0m \u001b[0mtranspose_a\u001b[0m\u001b[0;34m=\u001b[0m\u001b[0;32mTrue\u001b[0m\u001b[0;34m)\u001b[0m\u001b[0;34m\u001b[0m\u001b[0;34m\u001b[0m\u001b[0m\n\u001b[1;32m   1689\u001b[0m   \u001b[0;32melif\u001b[0m \u001b[0;32mnot\u001b[0m \u001b[0mt_a\u001b[0m \u001b[0;32mand\u001b[0m \u001b[0mt_b\u001b[0m\u001b[0;34m:\u001b[0m\u001b[0;34m\u001b[0m\u001b[0;34m\u001b[0m\u001b[0m\n\u001b[0;32m-> 1690\u001b[0;31m     \u001b[0mgrad_a\u001b[0m \u001b[0;34m=\u001b[0m \u001b[0mgen_math_ops\u001b[0m\u001b[0;34m.\u001b[0m\u001b[0mmat_mul\u001b[0m\u001b[0;34m(\u001b[0m\u001b[0mgrad\u001b[0m\u001b[0;34m,\u001b[0m \u001b[0mb\u001b[0m\u001b[0;34m)\u001b[0m\u001b[0;34m\u001b[0m\u001b[0;34m\u001b[0m\u001b[0m\n\u001b[0m\u001b[1;32m   1691\u001b[0m     \u001b[0mgrad_b\u001b[0m \u001b[0;34m=\u001b[0m \u001b[0mgen_math_ops\u001b[0m\u001b[0;34m.\u001b[0m\u001b[0mmat_mul\u001b[0m\u001b[0;34m(\u001b[0m\u001b[0mgrad\u001b[0m\u001b[0;34m,\u001b[0m \u001b[0ma\u001b[0m\u001b[0;34m,\u001b[0m \u001b[0mtranspose_a\u001b[0m\u001b[0;34m=\u001b[0m\u001b[0;32mTrue\u001b[0m\u001b[0;34m)\u001b[0m\u001b[0;34m\u001b[0m\u001b[0;34m\u001b[0m\u001b[0m\n\u001b[1;32m   1692\u001b[0m   \u001b[0;32melif\u001b[0m \u001b[0mt_a\u001b[0m \u001b[0;32mand\u001b[0m \u001b[0;32mnot\u001b[0m \u001b[0mt_b\u001b[0m\u001b[0;34m:\u001b[0m\u001b[0;34m\u001b[0m\u001b[0;34m\u001b[0m\u001b[0m\n",
      "\u001b[0;32m~/Library/Python/3.6/lib/python/site-packages/tensorflow/python/ops/gen_math_ops.py\u001b[0m in \u001b[0;36mmat_mul\u001b[0;34m(a, b, transpose_a, transpose_b, name)\u001b[0m\n\u001b[1;32m   5565\u001b[0m         \u001b[0m_ctx\u001b[0m\u001b[0;34m.\u001b[0m\u001b[0m_context_handle\u001b[0m\u001b[0;34m,\u001b[0m \u001b[0mtld\u001b[0m\u001b[0;34m.\u001b[0m\u001b[0mdevice_name\u001b[0m\u001b[0;34m,\u001b[0m \u001b[0;34m\"MatMul\"\u001b[0m\u001b[0;34m,\u001b[0m \u001b[0mname\u001b[0m\u001b[0;34m,\u001b[0m\u001b[0;34m\u001b[0m\u001b[0;34m\u001b[0m\u001b[0m\n\u001b[1;32m   5566\u001b[0m         \u001b[0mtld\u001b[0m\u001b[0;34m.\u001b[0m\u001b[0mop_callbacks\u001b[0m\u001b[0;34m,\u001b[0m \u001b[0ma\u001b[0m\u001b[0;34m,\u001b[0m \u001b[0mb\u001b[0m\u001b[0;34m,\u001b[0m \u001b[0;34m\"transpose_a\"\u001b[0m\u001b[0;34m,\u001b[0m \u001b[0mtranspose_a\u001b[0m\u001b[0;34m,\u001b[0m \u001b[0;34m\"transpose_b\"\u001b[0m\u001b[0;34m,\u001b[0m\u001b[0;34m\u001b[0m\u001b[0;34m\u001b[0m\u001b[0m\n\u001b[0;32m-> 5567\u001b[0;31m         transpose_b)\n\u001b[0m\u001b[1;32m   5568\u001b[0m       \u001b[0;32mreturn\u001b[0m \u001b[0m_result\u001b[0m\u001b[0;34m\u001b[0m\u001b[0;34m\u001b[0m\u001b[0m\n\u001b[1;32m   5569\u001b[0m     \u001b[0;32mexcept\u001b[0m \u001b[0m_core\u001b[0m\u001b[0;34m.\u001b[0m\u001b[0m_FallbackException\u001b[0m\u001b[0;34m:\u001b[0m\u001b[0;34m\u001b[0m\u001b[0;34m\u001b[0m\u001b[0m\n",
      "\u001b[0;31mKeyboardInterrupt\u001b[0m: "
     ]
    }
   ],
   "source": [
    "w_nn_excited = NeuralWavefunction()\n",
    "delta = 0.0001\n",
    "\n",
    "optimizer = tf.keras.optimizers.Adam()\n",
    "\n",
    "energy_history = []\n",
    "ortho_history = []\n",
    "step_history = []\n",
    "\n",
    "for i in range(5000):\n",
    "    energy, ortho = training_step_excited_state(w_nn_excited, w_nn, optimizer, delta)\n",
    "    if i % 10 == 0:\n",
    "        print(f\"Step {i}, E =={energy}, Orthogonality={ortho}\")\n",
    "    \n",
    "    energy_history.append(energy.numpy())\n",
    "    ortho_history.append(ortho.numpy())\n",
    "    step_history.append(i)\n",
    "\n",
    "\n",
    "\n"
   ]
  },
  {
   "cell_type": "markdown",
   "metadata": {},
   "source": [
    "##### "
   ]
  },
  {
   "cell_type": "markdown",
   "metadata": {},
   "source": [
    "In principle, this *ought* to come out somewhere near the first excited state.  Let's take a look at the wavefunctions:"
   ]
  },
  {
   "cell_type": "code",
   "execution_count": null,
   "metadata": {},
   "outputs": [],
   "source": [
    "\n",
    "# Create fresh input data:\n",
    "_x = numpy.arange(-10, 10, delta, dtype=numpy.float32)\n",
    "_x = _x.reshape((_x.shape[0], 1))\n",
    "\n",
    "x = torch.autograd.Variable(torch.tensor(_x), requires_grad = True)\n",
    "\n",
    "y_exact = w_1(x)\n",
    "y_fit   = w_nn_excited(x)\n",
    "\n",
    "x_numpy = x.detach().numpy()\n",
    "\n",
    "energy_poly = energy_computation(w_poly, x, delta)\n",
    "\n",
    "plt.plot(x_numpy, y_exact.detach().numpy(), label=\"Exact solution\")\n",
    "plt.plot(x_numpy, y_fit.detach().numpy(), label=f\"Neural Network Fit, E={energy:.2}\")\n",
    "plt.grid(True)\n",
    "plt.legend()\n",
    "plt.show()\n"
   ]
  },
  {
   "cell_type": "code",
   "execution_count": null,
   "metadata": {},
   "outputs": [],
   "source": [
    "\n",
    "# Create fresh input data:\n",
    "_x = numpy.arange(-10, 10, delta, dtype=numpy.float32)\n",
    "_x = _x.reshape((_x.shape[0], 1))\n",
    "\n",
    "x = torch.autograd.Variable(torch.tensor(_x), requires_grad = True)\n",
    "\n",
    "p_exact = w_1(x)**2\n",
    "p_fit   = w_nn_excited(x)**2\n",
    "\n",
    "x_numpy = x.detach().numpy()\n",
    "\n",
    "energy_poly = energy_computation(w_poly, x, delta)\n",
    "\n",
    "plt.plot(x_numpy, p_exact.detach().numpy(), label=\"Exact solution\")\n",
    "plt.plot(x_numpy, p_fit.detach().numpy(), label=f\"Neural Network Fit, E={energy:.2}\")\n",
    "plt.grid(True)\n",
    "plt.legend()\n",
    "plt.show()"
   ]
  },
  {
   "cell_type": "markdown",
   "metadata": {},
   "source": [
    "All in all, this is not a terrible solution to the second excited state.  Likely more sophisticate optimization tricks can make this better."
   ]
  },
  {
   "cell_type": "code",
   "execution_count": null,
   "metadata": {},
   "outputs": [],
   "source": []
  }
 ],
 "metadata": {
  "kernelspec": {
   "display_name": "Python 3",
   "language": "python",
   "name": "python3"
  },
  "language_info": {
   "codemirror_mode": {
    "name": "ipython",
    "version": 3
   },
   "file_extension": ".py",
   "mimetype": "text/x-python",
   "name": "python",
   "nbconvert_exporter": "python",
   "pygments_lexer": "ipython3",
   "version": "3.6.10"
  }
 },
 "nbformat": 4,
 "nbformat_minor": 2
}
