{
 "cells": [
  {
   "cell_type": "markdown",
   "metadata": {},
   "source": [
    "# Quantum Harmonic Oscillator\n",
    "\n",
    "In this notebook we'll solve the quantum harmonic oscillator with machine learning techniques.\n",
    "\n",
    "The Hamiltonian of the oscillator is:\n",
    "\n",
    "$$ H = \\frac{1}{2m}p^2 + \\frac{m \\omega^2}{2}x^2 $$"
   ]
  },
  {
   "cell_type": "markdown",
   "metadata": {},
   "source": [
    "According to the variational principle of quantum mechanics, for any wave function $|\\psi>$, \n",
    "\n",
    "$$ < \\psi | H | \\psi > ~ \\ge ~ E_0 $$"
   ]
  },
  {
   "cell_type": "markdown",
   "metadata": {},
   "source": [
    "When substitued into the variational principle, we have:\n",
    "\n",
    "$$ \\int_{-\\infty}^{\\infty} \\psi^*(x) H \\psi(x) dx $$\n",
    "$$ \\int_{-\\infty}^{\\infty} \\psi^*(x) [\\frac{1}{2m}p^2 + \\frac{m \\omega^2}{2}x^2 ] \\psi(x) dx$$"
   ]
  },
  {
   "cell_type": "markdown",
   "metadata": {},
   "source": [
    "Subsituting $p = -i \\hbar \\frac{\\partial}{\\partial x}$ :\n",
    "$$ \\int_{-\\infty}^{\\infty} \\psi^*(x) \\frac{1}{2m}[- \\hbar]^2 \\frac{\\partial^2}{\\partial x ^2}   \\psi dx + \\int_{-\\infty}^{\\infty} \\psi^* \\frac{m \\omega^2}{2}x^2  \\psi(x) dx$$\n",
    "\n",
    "$$ \\frac{-\\hbar^2}{2m} \\int_{-\\infty}^{\\infty} \\psi^*(x)  \\frac{\\partial^2}{\\partial x ^2}   \\psi dx + \\frac{m \\omega^2}{2} \\int_{-\\infty}^{\\infty} \\psi^* x^2  \\psi(x) dx $$"
   ]
  },
  {
   "cell_type": "markdown",
   "metadata": {},
   "source": [
    "To solve this numerically, let's integrate by parts to turn a second derivative into two first derivatives:\n",
    "$$ < \\psi | H | \\psi > = \\frac{m \\omega^2}{2} \\int_{-\\infty}^{\\infty} \\psi^* x^2  \\psi(x) dx - \\frac{\\hbar^2}{2m} \\left[\\psi^*(x)\\frac{\\partial \\psi (x)}{\\partial x}  \\Biggr|_{-\\infty}^{\\infty}  - \\int_{-\\infty}^{\\infty} \\frac{\\partial \\psi^*(x)}{\\partial x} \\frac{\\partial \\psi(x)}{\\partial x} dx \\right] $$"
   ]
  },
  {
   "cell_type": "markdown",
   "metadata": {},
   "source": [
    "The wavefunctions for the harmonic oscillator have to got to zero at $\\pm \\infty$, so the first term in the integration by parts can be dropped.  Then, the total integral to evaluate is:\n",
    "\n",
    "$$ < \\psi | H | \\psi > = \\frac{m \\omega^2}{2} \\int_{-\\infty}^{\\infty} \\psi^* x^2  \\psi(x) dx + \\frac{\\hbar^2}{2m}  \\int_{-\\infty}^{\\infty} \\frac{\\partial \\psi^*(x)}{\\partial x} \\frac{\\partial \\psi(x)}{\\partial x} dx $$"
   ]
  },
  {
   "cell_type": "markdown",
   "metadata": {},
   "source": [
    "We have assumed above that the wave functions are normalized, but with ou approximation scheme we won't have normalized wavefunctions.  In this case, let's add in the normalization ourselves:"
   ]
  },
  {
   "cell_type": "markdown",
   "metadata": {},
   "source": [
    "$$ < \\psi | H | \\psi > = \\frac{1}{N} \\left[\\frac{m \\omega^2}{2} \\int_{-\\infty}^{\\infty} \\psi^* x^2  \\psi(x) dx + \\frac{\\hbar^2}{2m}  \\int_{-\\infty}^{\\infty} \\frac{\\partial \\psi^*(x)}{\\partial x} \\frac{\\partial \\psi(x)}{\\partial x} dx \\right]$$\n",
    "where \n",
    "$$ N = \\int_{-\\infty}^{\\infty} \\psi^*(x) \\psi(x) dx $$"
   ]
  },
  {
   "cell_type": "markdown",
   "metadata": {},
   "source": [
    "To solve this, and estimate the ground state energy of the system, we need to find a wave function and estimate these two integrals.\n",
    "\n",
    "We will use a pytorch module to approximate our wavefunction, which we can then differentiate.  The requirements of this system are that:\n",
    "- the wavefunction must be normalizable\n",
    "- the wavefunction must go to zero at $\\pm \\infty$"
   ]
  },
  {
   "cell_type": "code",
   "execution_count": 1,
   "metadata": {},
   "outputs": [],
   "source": [
    "import numpy\n",
    "import torch\n",
    "from matplotlib import pyplot as plt"
   ]
  },
  {
   "cell_type": "markdown",
   "metadata": {},
   "source": [
    "These are physical constants in this problem, which we'll set to 1 for ease:"
   ]
  },
  {
   "cell_type": "code",
   "execution_count": 2,
   "metadata": {},
   "outputs": [],
   "source": [
    "omega = 1.0\n",
    "hbar  = 1.0\n",
    "M     = 1\n",
    "\n",
    "# This is a granularity parameter:\n",
    "delta = 0.0005"
   ]
  },
  {
   "cell_type": "markdown",
   "metadata": {},
   "source": [
    "There are 3 available wavefunctions here:\n",
    "- A module based on Hermite Polynomials, up to degree 3, that is exact up to normalization.\n",
    "- A polynomial module that can be fit to any polynomial up to degree 3.\n",
    "- A neural network that has no polynomial terms.\n",
    "\n",
    "All components have the same submodule to handle the boundary conditions, which is an gaussian-like exponential that decays to zero at large $|x|$."
   ]
  },
  {
   "cell_type": "code",
   "execution_count": 3,
   "metadata": {},
   "outputs": [],
   "source": [
    "class ExponentialBoundaryCondition(torch.nn.Module):\n",
    "    \n",
    "    def __init__(self, exp=1.0, trainable=True):\n",
    "        torch.nn.Module.__init__(self)\n",
    "\n",
    "        # This is the parameter controlling the shape of the exponent:\n",
    "        self.exponent = torch.nn.Parameter(torch.tensor(exp), requires_grad=trainable)\n",
    "\n",
    "\n",
    "    def forward(self, inputs):\n",
    "        \n",
    "        return torch.exp(- (self.exponent * inputs) **2 / 2.)\n",
    "        \n",
    "        "
   ]
  },
  {
   "cell_type": "code",
   "execution_count": 4,
   "metadata": {},
   "outputs": [],
   "source": [
    "class CorrectWavefunction(torch.nn.Module):\n",
    "\n",
    "\n",
    "    def __init__(self, n):\n",
    "        torch.nn.Module.__init__(self)\n",
    "            \n",
    "        # N is the degree of the polynomial:\n",
    "        self.n = n\n",
    "    \n",
    "        self.alpha = M * omega / hbar\n",
    "        self.norm  = numpy.power(self.alpha / numpy.pi, 0.25)\n",
    "        \n",
    "        if self.n == 0:\n",
    "            pass\n",
    "        elif self.n == 1:\n",
    "            self.norm *= numpy.sqrt(2.)\n",
    "        elif self.n == 2:\n",
    "            self.norm *= numpy.sqrt(0.5)\n",
    "        else:\n",
    "            raise Exception(\"Unsupported degree of \", n)\n",
    "    \n",
    "        self.exp = ExponentialBoundaryCondition(exp=numpy.sqrt(self.alpha), trainable=False)\n",
    "    \n",
    "    def forward(self, inputs):\n",
    "    \n",
    "        y = inputs\n",
    "        \n",
    "        boundary_condition = self.exp(y)\n",
    "        \n",
    "        if self.n == 0:\n",
    "            polynomial = 1\n",
    "        elif self.n == 1:\n",
    "            polynomial = y\n",
    "        elif self.n == 2:\n",
    "            polynomial = 2 * y**2 - 1\n",
    "            \n",
    "        return self.norm * boundary_condition * polynomial\n"
   ]
  },
  {
   "cell_type": "code",
   "execution_count": 5,
   "metadata": {},
   "outputs": [],
   "source": [
    "class PolynomialWavefunction(torch.nn.Module):\n",
    "    \n",
    "    def __init__(self):\n",
    "        torch.nn.Module.__init__(self)\n",
    "        \n",
    "#         self.layer1 = torch.nn.Linear(1,64)\n",
    "#         self.layer2 = torch.nn.Linear(64, 1)\n",
    "    \n",
    "        self.const  = torch.nn.Parameter(torch.tensor(0.3), requires_grad=True)\n",
    "        self.linear = torch.nn.Parameter(torch.tensor(0.2), requires_grad=True)\n",
    "        self.quad   = torch.nn.Parameter(torch.tensor(0.2), requires_grad=True)\n",
    "\n",
    "        self.norm   = torch.Tensor([1.0])\n",
    "    \n",
    "        self.exp = ExponentialBoundaryCondition()\n",
    "\n",
    "\n",
    "\n",
    "    def forward(self, inputs):\n",
    "        x = inputs\n",
    "\n",
    "        boundary_condition = self.exp(x)\n",
    "\n",
    "\n",
    "        poly = self.const + self.linear * x + self.quad * x**2\n",
    "\n",
    "        # Multiply by a factor to enforce normalization and boundary conditions:\n",
    "        # Note the exponent is within the power of 2 to make it's sign irrelevant\n",
    "        x = self.norm *  poly * boundary_condition\n",
    "        return x\n",
    "    \n",
    "    def update_normalization(self, inputs):\n",
    "        # Inputs is expected to be a range of parameters along an x axis.\n",
    "        with torch.no_grad():\n",
    "            value = self.forward(inputs)\n",
    "            N = value ** 2\n",
    "\n",
    "            delta = inputs[1]-inputs[0]\n",
    "\n",
    "            N = torch.sum(N) * delta\n",
    "            self.norm *= 1/torch.sqrt(N)\n",
    "\n",
    "            # The normalization condition is that the integral of the wavefunction squared\n",
    "            # should be equal to 1 (probability sums to 1.)\n",
    "\n",
    "        return\n",
    "    \n",
    "    def analytic_derivative(self, inputs):\n",
    "        \n",
    "        poly = self.const + self.linear * x + self.quad * x**2\n",
    "        poly_prime = self.linear + 2 * self.quad * inputs\n",
    "        exp = self.exp(x)\n",
    "        \n",
    "        res = exp * (-inputs) *poly + poly_prime * exp\n",
    "        \n",
    "        return self.norm * res\n",
    "    \n",
    "    def zero_grad(self):\n",
    "        \"\"\"Sets gradients of all model parameters to zero.\"\"\"\n",
    "        for p in self.parameters():\n",
    "            if p.grad is not None:\n",
    "                p.grad.data.zero_()"
   ]
  },
  {
   "cell_type": "code",
   "execution_count": 50,
   "metadata": {},
   "outputs": [],
   "source": [
    "class NeuralWavefunction(torch.nn.Module):\n",
    "    \n",
    "    def __init__(self):\n",
    "        torch.nn.Module.__init__(self)\n",
    "        \n",
    "        self.layer1 = torch.nn.Linear(1,32)\n",
    "        self.layer2 = torch.nn.Linear(32, 32)\n",
    "        self.layer3 = torch.nn.Linear(32, 1)\n",
    "    \n",
    "        self.norm   = torch.Tensor([1.0])\n",
    "        \n",
    "        # This is an exponent for normalization:\n",
    "        self.exp = ExponentialBoundaryCondition()\n",
    "\n",
    "\n",
    "\n",
    "\n",
    "\n",
    "    def forward(self, inputs):\n",
    "        x = inputs\n",
    "        x = self.layer1(x)\n",
    "        x = torch.sigmoid(x)\n",
    "        x = self.layer2(x)\n",
    "        x = torch.sigmoid(x)\n",
    "        x = self.layer3(x)\n",
    "\n",
    "        boundary_condition = self.exp(x)\n",
    "\n",
    "\n",
    "        return self.norm*x*boundary_condition\n",
    "    \n",
    "    def update_normalization(self, inputs):\n",
    "        # Inputs is expected to be a range of parameters along an x axis.\n",
    "        with torch.no_grad():\n",
    "            value = self.forward(inputs)\n",
    "            N = value ** 2\n",
    "\n",
    "            delta = inputs[1]-inputs[0]\n",
    "\n",
    "            N = torch.sum(N) * delta\n",
    "            self.norm *= 1/torch.sqrt(N)\n",
    "\n",
    "            # The normalization condition is that the integral of the wavefunction squared\n",
    "            # should be equal to 1 (probability sums to 1.)\n",
    "\n",
    "        return\n",
    "    \n",
    "    \n",
    "    def zero_grad(self):\n",
    "        \"\"\"Sets gradients of all model parameters to zero.\"\"\"\n",
    "        for p in self.parameters():\n",
    "            if p.grad is not None:\n",
    "                p.grad.data.zero_()"
   ]
  },
  {
   "cell_type": "markdown",
   "metadata": {},
   "source": [
    "Let's test some basic properties of the wave functions.  The CorrectWavefuntion should be normalized off the bat.  If we integrate it, it ought to come out right."
   ]
  },
  {
   "cell_type": "code",
   "execution_count": 51,
   "metadata": {},
   "outputs": [],
   "source": [
    "# This is preparing input data that is differentiable:\n",
    "_x = numpy.arange(-100, 100, delta, dtype=numpy.float32)\n",
    "_x = _x.reshape((_x.shape[0], 1))\n",
    "\n",
    "x = torch.autograd.Variable(torch.tensor(_x), requires_grad = True)\n"
   ]
  },
  {
   "cell_type": "markdown",
   "metadata": {},
   "source": [
    "First, let's look at the correct wave functions:"
   ]
  },
  {
   "cell_type": "code",
   "execution_count": 52,
   "metadata": {},
   "outputs": [],
   "source": [
    "w_0 = CorrectWavefunction(n=0)\n",
    "w_1 = CorrectWavefunction(n=1)\n",
    "w_2 = CorrectWavefunction(n=2)"
   ]
  },
  {
   "cell_type": "code",
   "execution_count": 53,
   "metadata": {},
   "outputs": [],
   "source": [
    "y_0 = w_0(x)\n",
    "y_1 = w_1(x)\n",
    "y_2 = w_2(x)"
   ]
  },
  {
   "cell_type": "markdown",
   "metadata": {},
   "source": [
    "Are the wave functions normalized?"
   ]
  },
  {
   "cell_type": "code",
   "execution_count": 54,
   "metadata": {},
   "outputs": [
    {
     "name": "stdout",
     "output_type": "stream",
     "text": [
      "N==0 integral:  tensor(1.0005, grad_fn=<MulBackward0>)\n",
      "N==1 integral:  tensor(1.0005, grad_fn=<MulBackward0>)\n",
      "N==2 integral:  tensor(1.0005, grad_fn=<MulBackward0>)\n"
     ]
    }
   ],
   "source": [
    "print(\"N==0 integral: \", torch.sum(y_0**2) * delta)\n",
    "print(\"N==1 integral: \", torch.sum(y_1**2) * delta)\n",
    "print(\"N==2 integral: \", torch.sum(y_2**2) * delta)"
   ]
  },
  {
   "cell_type": "markdown",
   "metadata": {},
   "source": [
    "Are the wave functions orthogonal?"
   ]
  },
  {
   "cell_type": "code",
   "execution_count": 11,
   "metadata": {},
   "outputs": [
    {
     "name": "stdout",
     "output_type": "stream",
     "text": [
      "N_0 * N_1 integral:  tensor(3.2002e-09, grad_fn=<MulBackward0>)\n",
      "N_0 * N_2 integral:  tensor(-4.4788e-09, grad_fn=<MulBackward0>)\n",
      "N_1 * N_2 integral:  tensor(1.2061e-08, grad_fn=<MulBackward0>)\n"
     ]
    }
   ],
   "source": [
    "print(\"N_0 * N_1 integral: \", torch.sum(y_0*y_1) * delta)\n",
    "print(\"N_0 * N_2 integral: \", torch.sum(y_0*y_2) * delta)\n",
    "print(\"N_1 * N_2 integral: \", torch.sum(y_1*y_2) * delta)"
   ]
  },
  {
   "cell_type": "markdown",
   "metadata": {},
   "source": [
    "Yes, to some approximation the wavefunctions are normalized and orthogonal."
   ]
  },
  {
   "cell_type": "markdown",
   "metadata": {},
   "source": [
    "Polynomial and NN wavefunctions are not normalized after initialization, but can be normalized:"
   ]
  },
  {
   "cell_type": "code",
   "execution_count": 12,
   "metadata": {},
   "outputs": [],
   "source": [
    "w_poly    = PolynomialWavefunction()\n",
    "w_nn      = NeuralWavefunction()"
   ]
  },
  {
   "cell_type": "code",
   "execution_count": 13,
   "metadata": {},
   "outputs": [],
   "source": [
    "y_poly    = w_poly(x)\n",
    "y_nn      = w_nn(x)"
   ]
  },
  {
   "cell_type": "code",
   "execution_count": 14,
   "metadata": {},
   "outputs": [
    {
     "name": "stdout",
     "output_type": "stream",
     "text": [
      "Poly function normalization:  tensor(0.3520, grad_fn=<MulBackward0>)\n",
      "Neural Network function normalization:  tensor(62.1706, grad_fn=<MulBackward0>)\n"
     ]
    }
   ],
   "source": [
    "print(\"Poly function normalization: \", torch.sum(y_poly**2)*delta)\n",
    "print(\"Neural Network function normalization: \", torch.sum(y_nn**2)*delta)"
   ]
  },
  {
   "cell_type": "markdown",
   "metadata": {},
   "source": [
    "Call the update_normalization function to fix this:"
   ]
  },
  {
   "cell_type": "code",
   "execution_count": 15,
   "metadata": {},
   "outputs": [],
   "source": [
    "w_poly.update_normalization(x)\n",
    "w_nn.update_normalization(x)\n",
    "\n",
    "y_poly    = w_poly(x)\n",
    "y_nn      = w_nn(x)"
   ]
  },
  {
   "cell_type": "code",
   "execution_count": 16,
   "metadata": {},
   "outputs": [
    {
     "name": "stdout",
     "output_type": "stream",
     "text": [
      "Poly function normalization:  tensor(0.9930, grad_fn=<MulBackward0>)\n",
      "Neural Network function normalization:  tensor(0.9930, grad_fn=<MulBackward0>)\n"
     ]
    }
   ],
   "source": [
    "print(\"Poly function normalization: \", torch.sum(y_poly**2)*delta)\n",
    "print(\"Neural Network function normalization: \", torch.sum(y_nn**2)*delta)"
   ]
  },
  {
   "cell_type": "markdown",
   "metadata": {},
   "source": [
    "## Plotting Initial Wave functions"
   ]
  },
  {
   "cell_type": "markdown",
   "metadata": {},
   "source": [
    "Let's see how the first few wavefunctions look as well as the polynomial and neural network versions."
   ]
  },
  {
   "cell_type": "code",
   "execution_count": 17,
   "metadata": {},
   "outputs": [
    {
     "name": "stderr",
     "output_type": "stream",
     "text": [
      "/Users/corey.adams/Library/Python/3.6/lib/python/site-packages/IPython/core/pylabtools.py:128: UserWarning: Creating legend with loc=\"best\" can be slow with large amounts of data.\n",
      "  fig.canvas.print_figure(bytes_io, **kw)\n"
     ]
    },
    {
     "data": {
      "image/png": "[encoded data removed]",
      "text/plain": [
       "<Figure size 432x288 with 1 Axes>"
      ]
     },
     "metadata": {
      "needs_background": "light"
     },
     "output_type": "display_data"
    }
   ],
   "source": [
    "\n",
    "plt.plot(x.detach(), y_0.detach(), label=\"N==0\")\n",
    "plt.plot(x.detach(), y_1.detach(), label=\"N==1\")\n",
    "plt.plot(x.detach(), y_2.detach(), label=\"N==2\")\n",
    "\n",
    "plt.xlim([-10,10])\n",
    "\n",
    "plt.legend()\n",
    "\n",
    "plt.grid(True)\n",
    "plt.show()"
   ]
  },
  {
   "cell_type": "code",
   "execution_count": 18,
   "metadata": {},
   "outputs": [
    {
     "data": {
      "image/png": "[encoded data removed]",
      "text/plain": [
       "<Figure size 432x288 with 1 Axes>"
      ]
     },
     "metadata": {
      "needs_background": "light"
     },
     "output_type": "display_data"
    }
   ],
   "source": [
    "plt.plot(x.detach(), y_0.detach(), label=\"N==0\")\n",
    "plt.plot(x.detach(), y_poly.detach(), label=\"Polynomial\")\n",
    "plt.plot(x.detach(), y_nn.detach(), label=\"N.N.\")\n",
    "\n",
    "plt.xlim([-10,10])\n",
    "\n",
    "plt.legend()\n",
    "\n",
    "plt.grid(True)\n",
    "plt.show()"
   ]
  },
  {
   "cell_type": "markdown",
   "metadata": {},
   "source": [
    "## Plotting Probability distributions\n",
    "\n",
    "We can also plot initial probability distributions:"
   ]
  },
  {
   "cell_type": "code",
   "execution_count": 19,
   "metadata": {},
   "outputs": [
    {
     "data": {
      "image/png": "[encoded data removed]",
      "text/plain": [
       "<Figure size 432x288 with 1 Axes>"
      ]
     },
     "metadata": {
      "needs_background": "light"
     },
     "output_type": "display_data"
    }
   ],
   "source": [
    "plt.plot(x.detach(), (y_0**2).detach(), label=\"N==0\")\n",
    "plt.plot(x.detach(), (y_1**2).detach(), label=\"N==1\")\n",
    "plt.plot(x.detach(), (y_2**2).detach(), label=\"N==2\")\n",
    "\n",
    "plt.xlim([-10,10])\n",
    "\n",
    "plt.legend()\n",
    "\n",
    "plt.grid(True)\n",
    "plt.show()"
   ]
  },
  {
   "cell_type": "code",
   "execution_count": 20,
   "metadata": {},
   "outputs": [
    {
     "data": {
      "image/png": "[encoded data removed]",
      "text/plain": [
       "<Figure size 432x288 with 1 Axes>"
      ]
     },
     "metadata": {
      "needs_background": "light"
     },
     "output_type": "display_data"
    }
   ],
   "source": [
    "plt.plot(x.detach(), (y_0**2).detach(), label=\"N==0\")\n",
    "plt.plot(x.detach(), (y_poly**2).detach(), label=\"Polynomial\")\n",
    "plt.plot(x.detach(), (y_nn**2).detach(), label=\"N.N.\")\n",
    "\n",
    "plt.xlim([-10,10])\n",
    "\n",
    "plt.legend()\n",
    "\n",
    "plt.grid(True)\n",
    "plt.show()"
   ]
  },
  {
   "cell_type": "markdown",
   "metadata": {},
   "source": [
    "## Computing the energy of a wave function\n",
    "\n",
    "To compute the energy, we need to know the derivative of the wave function with respect to x, the input.\n",
    "\n",
    "For the exact solutions, we can know we have things correct since the energy is known.\n",
    "\n",
    "For the polynomial wavefunction, we have an analytical derivative.  Let's check the analytical derivative first:"
   ]
  },
  {
   "cell_type": "code",
   "execution_count": 21,
   "metadata": {},
   "outputs": [],
   "source": [
    "y_poly = w_poly(x)"
   ]
  },
  {
   "cell_type": "code",
   "execution_count": 22,
   "metadata": {},
   "outputs": [],
   "source": [
    "# We should be able to get d \\psi / dx with this:\n",
    "if x.grad is not None:\n",
    "    x.grad.zero_()\n",
    "torch.sum(y_poly).backward(retain_graph=True)"
   ]
  },
  {
   "cell_type": "markdown",
   "metadata": {},
   "source": [
    "Torch's autodifferentiation requires a scalar value.  I sum over all outputs since that introduces a chain rule of $1$ for every element, and doesn't distort the derivative.  Now we can compare:"
   ]
  },
  {
   "cell_type": "code",
   "execution_count": 23,
   "metadata": {},
   "outputs": [
    {
     "name": "stdout",
     "output_type": "stream",
     "text": [
      "tensor(1.7881e-07, grad_fn=<MaxBackward1>)\n"
     ]
    }
   ],
   "source": [
    "print(torch.max(x.grad - w_poly.analytic_derivative(x)))"
   ]
  },
  {
   "cell_type": "markdown",
   "metadata": {},
   "source": [
    "As desired, it matches well.  The largest difference is $10^{-7}$"
   ]
  },
  {
   "cell_type": "markdown",
   "metadata": {},
   "source": [
    "Now that we have the derivative, we can look at computing the energy.  We need three terms: kinetic energy, potential energy, and normalization."
   ]
  },
  {
   "cell_type": "code",
   "execution_count": 24,
   "metadata": {},
   "outputs": [],
   "source": [
    "def normalization(wavefunction, inputs, delta):\n",
    "    return torch.sum(wavefunction(inputs) ** 2) * delta"
   ]
  },
  {
   "cell_type": "code",
   "execution_count": 25,
   "metadata": {},
   "outputs": [
    {
     "name": "stdout",
     "output_type": "stream",
     "text": [
      "Normalization of w_0:  tensor(0.9930, grad_fn=<MulBackward0>)\n",
      "Normalization of w_1:  tensor(0.9930, grad_fn=<MulBackward0>)\n",
      "Normalization of w_2:  tensor(0.9930, grad_fn=<MulBackward0>)\n",
      "Normalization of w_poly:  tensor(0.9930, grad_fn=<MulBackward0>)\n",
      "Normalization of w_nn:  tensor(0.9930, grad_fn=<MulBackward0>)\n"
     ]
    }
   ],
   "source": [
    "print(\"Normalization of w_0: \", normalization(w_0, x, delta))\n",
    "print(\"Normalization of w_1: \", normalization(w_1, x, delta))\n",
    "print(\"Normalization of w_2: \", normalization(w_2, x, delta))\n",
    "print(\"Normalization of w_poly: \", normalization(w_poly, x, delta))\n",
    "print(\"Normalization of w_nn: \", normalization(w_nn, x, delta))"
   ]
  },
  {
   "cell_type": "markdown",
   "metadata": {},
   "source": [
    "As desired, all of the normalizations are coming out close to 1."
   ]
  },
  {
   "cell_type": "markdown",
   "metadata": {},
   "source": [
    "Now we can compute the other terms in the hamiltonian:"
   ]
  },
  {
   "cell_type": "code",
   "execution_count": 26,
   "metadata": {},
   "outputs": [],
   "source": [
    "def potential_energy(wavefunction, inputs, delta):\n",
    "    temp = 0.5*(M * omega **2) * wavefunction(inputs)**2 * inputs**2\n",
    "    return torch.sum(temp) * delta"
   ]
  },
  {
   "cell_type": "code",
   "execution_count": 27,
   "metadata": {},
   "outputs": [
    {
     "name": "stdout",
     "output_type": "stream",
     "text": [
      "PE of w_0:  tensor(0.2482, grad_fn=<MulBackward0>)\n",
      "PE of w_1:  tensor(0.7447, grad_fn=<MulBackward0>)\n",
      "PE of w_2:  tensor(1.2412, grad_fn=<MulBackward0>)\n",
      "PE of w_poly:  tensor(0.5958, grad_fn=<MulBackward0>)\n",
      "PE of w_nn:  tensor(1681.3990, grad_fn=<MulBackward0>)\n"
     ]
    }
   ],
   "source": [
    "print(\"PE of w_0: \", potential_energy(w_0, x, delta))\n",
    "print(\"PE of w_1: \", potential_energy(w_1, x, delta))\n",
    "print(\"PE of w_2: \", potential_energy(w_2, x, delta))\n",
    "print(\"PE of w_poly: \", potential_energy(w_poly, x, delta))\n",
    "print(\"PE of w_nn: \", potential_energy(w_nn, x, delta))"
   ]
  },
  {
   "cell_type": "code",
   "execution_count": 28,
   "metadata": {},
   "outputs": [],
   "source": [
    "def kinetic_energy(wavefunction, inputs, delta):\n",
    "    if inputs.grad is not None:\n",
    "        inputs.grad.zero_()\n",
    "    scalar = torch.sum(wavefunction(inputs))\n",
    "    scalar.backward(retain_graph=True)\n",
    "    wavefunction_prime = x.grad\n",
    "    return (hbar**2 / (2 *M)) * torch.sum(wavefunction_prime**2) * delta"
   ]
  },
  {
   "cell_type": "code",
   "execution_count": 29,
   "metadata": {},
   "outputs": [
    {
     "name": "stdout",
     "output_type": "stream",
     "text": [
      "KE of w_0:  tensor(0.2482)\n",
      "KE of w_1:  tensor(0.7447)\n",
      "KE of w_2:  tensor(1.2412)\n",
      "KE of w_poly:  tensor(0.1986)\n",
      "KE of w_nn:  tensor(3.8611e-07)\n"
     ]
    }
   ],
   "source": [
    "print(\"KE of w_0: \", kinetic_energy(w_0, x, delta))\n",
    "print(\"KE of w_1: \", kinetic_energy(w_1, x, delta))\n",
    "print(\"KE of w_2: \", kinetic_energy(w_2, x, delta))\n",
    "print(\"KE of w_poly: \", kinetic_energy(w_poly, x, delta))\n",
    "print(\"KE of w_nn: \", kinetic_energy(w_nn, x, delta))"
   ]
  },
  {
   "cell_type": "markdown",
   "metadata": {},
   "source": [
    "Therefore, the computed energy for this wavefunction is:"
   ]
  },
  {
   "cell_type": "code",
   "execution_count": 30,
   "metadata": {},
   "outputs": [],
   "source": [
    "def energy_calculation(wavefunction, inputs, delta):\n",
    "    norm = normalization(wavefunction, inputs, delta)\n",
    "    pe = potential_energy(wavefunction, inputs, delta)\n",
    "    ke = kinetic_energy(wavefunction, inputs, delta)\n",
    "    energy = (1/norm) * ( pe +  ke)\n",
    "    return energy"
   ]
  },
  {
   "cell_type": "code",
   "execution_count": 31,
   "metadata": {},
   "outputs": [
    {
     "name": "stdout",
     "output_type": "stream",
     "text": [
      "Energy of w_0:  tensor(0.5000, grad_fn=<MulBackward0>)\n",
      "Energy of w_1:  tensor(1.5000, grad_fn=<MulBackward0>)\n",
      "Energy of w_2:  tensor(2.5000, grad_fn=<MulBackward0>)\n",
      "Energy of w_poly:  tensor(0.8000, grad_fn=<MulBackward0>)\n",
      "Energy of w_nn:  tensor(1693.2157, grad_fn=<MulBackward0>)\n"
     ]
    }
   ],
   "source": [
    "print(\"Energy of w_0: \", energy_calculation(w_0, x, delta))\n",
    "print(\"Energy of w_1: \", energy_calculation(w_1, x, delta))\n",
    "print(\"Energy of w_2: \", energy_calculation(w_2, x, delta))\n",
    "print(\"Energy of w_poly: \", energy_calculation(w_poly, x, delta))\n",
    "print(\"Energy of w_nn: \", energy_calculation(w_nn, x, delta))"
   ]
  },
  {
   "cell_type": "markdown",
   "metadata": {},
   "source": [
    "The harmonic oscillator has energy levels of:\n",
    "$$ E_n = \\hbar \\omega ( n + \\frac{1}{2} ) $$\n",
    "and so the ground state is $\\hbar \\omega / 2$. For this example, with $\\hbar = 1$ and $\\omega = 1$, we expect the estimate of the energy to be greater than or equal to 1/2.  The exact solutions are coming out exactly right.  Looks good above!"
   ]
  },
  {
   "cell_type": "markdown",
   "metadata": {},
   "source": [
    "## Optimizing the wave function to find the ground state"
   ]
  },
  {
   "cell_type": "markdown",
   "metadata": {},
   "source": [
    "In the above, we used the autograd functionality to compute the expectation value of energy of a wavefunction for the harmonic oscillator.  But, now we will use autograd again to compute the derivative of the energy with respect to the wavefunction's parameters, and optimize the parameters to update the wave function.\n",
    "\n",
    "I re-wrote the energy computations to be more efficient.  I also introduced re-normalization of the wave function after every update."
   ]
  },
  {
   "cell_type": "code",
   "execution_count": 32,
   "metadata": {},
   "outputs": [],
   "source": [
    "def energy_computation(wavefunction, inputs, delta):\n",
    "    \n",
    "    # This function takes the inputs (assumed to be a range of real value parameters)\n",
    "    # And computes the expectation value of the energy.\n",
    "    \n",
    "    # This is the value of the wave function:\n",
    "    w_of_x = wavefunction(inputs)\n",
    "    \n",
    "    # Sum the wavefunction and call backwards to get the derivative of it with respect to x:\n",
    "    grad_catalyst = torch.sum(w_of_x)\n",
    "    grad_catalyst.backward(retain_graph = True)\n",
    "    \n",
    "    # This is the first derivative of the wave function:\n",
    "    w_prime_dx = inputs.grad\n",
    "    \n",
    "    # Now we can compute integrals:\n",
    "    normalization = torch.sum(w_of_x**2) * delta\n",
    "    \n",
    "    pe = (0.5 * M * omega**2 ) * torch.sum(w_of_x**2 * inputs**2) * delta\n",
    "    \n",
    "    ke = (hbar**2 / (2 *M)) * torch.sum(w_prime_dx**2) * delta\n",
    "    \n",
    "#     print()\n",
    "#     print(\"pe: \", pe)\n",
    "#     print(\"ke: \", ke)\n",
    "#     print(\"norm: \", normalization)\n",
    "#     print()\n",
    "\n",
    "    \n",
    "    energy = (pe + ke) / normalization\n",
    "    \n",
    "    return energy"
   ]
  },
  {
   "cell_type": "code",
   "execution_count": 35,
   "metadata": {},
   "outputs": [],
   "source": [
    "def training_step(wavefunction, optimizer, delta):\n",
    "    # Clear all gradients from the optimizer:\n",
    "    optimizer.zero_grad()\n",
    "    \n",
    "    # Create fresh input data:\n",
    "    _x = numpy.arange(-10, 10, delta, dtype=numpy.float32)\n",
    "    _x = _x.reshape((_x.shape[0], 1))\n",
    "\n",
    "    x = torch.autograd.Variable(torch.tensor(_x), requires_grad = True)\n",
    "\n",
    "    # Compute the energy:\n",
    "    energy = energy_computation(wavefunction, x, delta)\n",
    "\n",
    "    # We back-prop'd through the wave function once already in the energy computation.  Clear the gradients:\n",
    "    wavefunction.zero_grad()\n",
    "    \n",
    "    energy.backward(retain_graph=True)\n",
    "\n",
    "    optimizer.step()\n",
    "    \n",
    "    # Lastly, update the normaliztion \n",
    "    wavefunction.update_normalization(x)\n",
    "\n",
    "    return  energy\n",
    "\n"
   ]
  },
  {
   "cell_type": "markdown",
   "metadata": {},
   "source": [
    "Let's train the polynomial wave function for awhile and see if it converges:"
   ]
  },
  {
   "cell_type": "code",
   "execution_count": 36,
   "metadata": {},
   "outputs": [
    {
     "name": "stdout",
     "output_type": "stream",
     "text": [
      "tensor(0.8000, grad_fn=<DivBackward0>)\n",
      "tensor(0.7722, grad_fn=<DivBackward0>)\n",
      "tensor(0.7480, grad_fn=<DivBackward0>)\n",
      "tensor(0.7265, grad_fn=<DivBackward0>)\n",
      "tensor(0.7070, grad_fn=<DivBackward0>)\n",
      "tensor(0.6887, grad_fn=<DivBackward0>)\n",
      "tensor(0.6705, grad_fn=<DivBackward0>)\n",
      "tensor(0.6514, grad_fn=<DivBackward0>)\n",
      "tensor(0.6309, grad_fn=<DivBackward0>)\n",
      "tensor(0.6097, grad_fn=<DivBackward0>)\n",
      "tensor(0.5893, grad_fn=<DivBackward0>)\n",
      "tensor(0.5714, grad_fn=<DivBackward0>)\n",
      "tensor(0.5563, grad_fn=<DivBackward0>)\n",
      "tensor(0.5442, grad_fn=<DivBackward0>)\n",
      "tensor(0.5347, grad_fn=<DivBackward0>)\n",
      "tensor(0.5275, grad_fn=<DivBackward0>)\n",
      "tensor(0.5222, grad_fn=<DivBackward0>)\n",
      "tensor(0.5185, grad_fn=<DivBackward0>)\n",
      "tensor(0.5161, grad_fn=<DivBackward0>)\n",
      "tensor(0.5147, grad_fn=<DivBackward0>)\n",
      "tensor(0.5140, grad_fn=<DivBackward0>)\n",
      "tensor(0.5139, grad_fn=<DivBackward0>)\n",
      "tensor(0.5143, grad_fn=<DivBackward0>)\n",
      "tensor(0.5150, grad_fn=<DivBackward0>)\n",
      "tensor(0.5159, grad_fn=<DivBackward0>)\n",
      "tensor(0.5170, grad_fn=<DivBackward0>)\n",
      "tensor(0.5181, grad_fn=<DivBackward0>)\n",
      "tensor(0.5193, grad_fn=<DivBackward0>)\n",
      "tensor(0.5204, grad_fn=<DivBackward0>)\n",
      "tensor(0.5216, grad_fn=<DivBackward0>)\n",
      "tensor(0.5227, grad_fn=<DivBackward0>)\n",
      "tensor(0.5237, grad_fn=<DivBackward0>)\n",
      "tensor(0.5247, grad_fn=<DivBackward0>)\n",
      "tensor(0.5256, grad_fn=<DivBackward0>)\n",
      "tensor(0.5264, grad_fn=<DivBackward0>)\n",
      "tensor(0.5272, grad_fn=<DivBackward0>)\n",
      "tensor(0.5278, grad_fn=<DivBackward0>)\n",
      "tensor(0.5284, grad_fn=<DivBackward0>)\n",
      "tensor(0.5290, grad_fn=<DivBackward0>)\n",
      "tensor(0.5295, grad_fn=<DivBackward0>)\n",
      "tensor(0.5299, grad_fn=<DivBackward0>)\n",
      "tensor(0.5303, grad_fn=<DivBackward0>)\n",
      "tensor(0.5306, grad_fn=<DivBackward0>)\n",
      "tensor(0.5309, grad_fn=<DivBackward0>)\n",
      "tensor(0.5312, grad_fn=<DivBackward0>)\n",
      "tensor(0.5314, grad_fn=<DivBackward0>)\n",
      "tensor(0.5316, grad_fn=<DivBackward0>)\n",
      "tensor(0.5317, grad_fn=<DivBackward0>)\n",
      "tensor(0.5319, grad_fn=<DivBackward0>)\n",
      "tensor(0.5320, grad_fn=<DivBackward0>)\n"
     ]
    }
   ],
   "source": [
    "w_poly = PolynomialWavefunction()\n",
    "delta = 0.0001\n",
    "\n",
    "optimizer = torch.optim.Adam(w_poly.parameters(),lr=0.0001, weight_decay=1e-3)\n",
    "\n",
    "energy_history = []\n",
    "step_history = []\n",
    "\n",
    "for i in range(5000):\n",
    "    energy = training_step(w_poly, optimizer, delta)\n",
    "    if i % 100 == 0: print(energy)\n",
    "    \n",
    "    energy_history.append(energy.detach().numpy())\n",
    "    step_history.append(i)\n",
    "\n",
    "\n",
    "\n",
    "\n",
    "    \n",
    "    "
   ]
  },
  {
   "cell_type": "code",
   "execution_count": 38,
   "metadata": {},
   "outputs": [
    {
     "data": {
      "image/png": "[encoded data removed]",
      "text/plain": [
       "<Figure size 432x288 with 1 Axes>"
      ]
     },
     "metadata": {
      "needs_background": "light"
     },
     "output_type": "display_data"
    }
   ],
   "source": [
    "plt.plot(step_history, energy_history)\n",
    "plt.grid(True)\n",
    "plt.show()"
   ]
  },
  {
   "cell_type": "markdown",
   "metadata": {},
   "source": [
    "As of now, it is strange: The energy decreased rapidly then bounced into a higher level and seems to have stabilized."
   ]
  },
  {
   "cell_type": "markdown",
   "metadata": {},
   "source": [
    "Now let's compare the fitted wave function with the REAL wavefunction for the ground state:"
   ]
  },
  {
   "cell_type": "code",
   "execution_count": 40,
   "metadata": {},
   "outputs": [
    {
     "data": {
      "image/png": "[encoded data removed]",
      "text/plain": [
       "<Figure size 432x288 with 1 Axes>"
      ]
     },
     "metadata": {
      "needs_background": "light"
     },
     "output_type": "display_data"
    }
   ],
   "source": [
    "\n",
    "# Create fresh input data:\n",
    "_x = numpy.arange(-10, 10, delta, dtype=numpy.float32)\n",
    "_x = _x.reshape((_x.shape[0], 1))\n",
    "\n",
    "x = torch.autograd.Variable(torch.tensor(_x), requires_grad = True)\n",
    "\n",
    "y_exact = w_0(x)\n",
    "y_fit   = w_poly(x)\n",
    "\n",
    "x_numpy = x.detach().numpy()\n",
    "\n",
    "energy_poly = energy_computation(w_poly, x, delta)\n",
    "\n",
    "plt.plot(x_numpy, y_exact.detach().numpy(), label=\"Exact solution\")\n",
    "plt.plot(x_numpy, y_fit.detach().numpy(), label=f\"Polynomial Fit, E={energy:.2}\")\n",
    "plt.grid(True)\n",
    "plt.legend()\n",
    "plt.show()"
   ]
  },
  {
   "cell_type": "markdown",
   "metadata": {},
   "source": [
    "For completeness, we should also plot the probability distribution:"
   ]
  },
  {
   "cell_type": "code",
   "execution_count": 60,
   "metadata": {},
   "outputs": [
    {
     "data": {
      "image/png": "[encoded data removed]",
      "text/plain": [
       "<Figure size 432x288 with 1 Axes>"
      ]
     },
     "metadata": {
      "needs_background": "light"
     },
     "output_type": "display_data"
    }
   ],
   "source": [
    "\n",
    "# Create fresh input data:\n",
    "_x = numpy.arange(-10, 10, delta, dtype=numpy.float32)\n",
    "_x = _x.reshape((_x.shape[0], 1))\n",
    "\n",
    "x = torch.autograd.Variable(torch.tensor(_x), requires_grad = True)\n",
    "\n",
    "p_exact = w_0(x)**2\n",
    "p_fit   = w_poly(x)**2\n",
    "\n",
    "x_numpy = x.detach().numpy()\n",
    "\n",
    "energy_poly = energy_computation(w_poly, x, delta)\n",
    "\n",
    "plt.plot(x_numpy, p_exact.detach().numpy(), label=\"Exact solution\")\n",
    "plt.plot(x_numpy, p_fit.detach().numpy(), label=f\"Polynomial Fit, E={energy:.2}\")\n",
    "plt.grid(True)\n",
    "plt.legend()\n",
    "plt.show()"
   ]
  },
  {
   "cell_type": "markdown",
   "metadata": {},
   "source": [
    "Here are the parameters of the network:"
   ]
  },
  {
   "cell_type": "code",
   "execution_count": 47,
   "metadata": {},
   "outputs": [
    {
     "name": "stdout",
     "output_type": "stream",
     "text": [
      "const term fit:  tensor(0.7621)\n",
      "linear term fit:  tensor(0.0170)\n",
      "quad term fit:  tensor(-0.0326)\n",
      "norm term fit:  tensor([1.0767])\n"
     ]
    }
   ],
   "source": [
    "\n",
    "print(\"const term fit: \", w_poly.const.data)\n",
    "print(\"linear term fit: \", w_poly.linear.data)\n",
    "print(\"quad term fit: \", w_poly.quad.data)\n",
    "print(\"norm term fit: \", w_poly.norm.data)\n",
    "\n"
   ]
  },
  {
   "cell_type": "markdown",
   "metadata": {},
   "source": [
    "In a perfect fit, we expect the linear and quadratic terms to go to 0.0 and the constant term to stay != 0.  The absolute normalization is not of much importance."
   ]
  },
  {
   "cell_type": "markdown",
   "metadata": {},
   "source": [
    "Here, we do the same process for the neural network wave function:"
   ]
  },
  {
   "cell_type": "code",
   "execution_count": 56,
   "metadata": {},
   "outputs": [
    {
     "name": "stdout",
     "output_type": "stream",
     "text": [
      "tensor(23.6332, grad_fn=<DivBackward0>)\n",
      "tensor(17.1398, grad_fn=<DivBackward0>)\n",
      "tensor(16.2782, grad_fn=<DivBackward0>)\n",
      "tensor(15.1223, grad_fn=<DivBackward0>)\n",
      "tensor(1.7075, grad_fn=<DivBackward0>)\n",
      "tensor(1.5809, grad_fn=<DivBackward0>)\n",
      "tensor(1.4808, grad_fn=<DivBackward0>)\n",
      "tensor(1.3927, grad_fn=<DivBackward0>)\n",
      "tensor(1.3134, grad_fn=<DivBackward0>)\n",
      "tensor(1.2406, grad_fn=<DivBackward0>)\n",
      "tensor(1.1728, grad_fn=<DivBackward0>)\n",
      "tensor(1.1090, grad_fn=<DivBackward0>)\n",
      "tensor(1.0484, grad_fn=<DivBackward0>)\n",
      "tensor(0.9908, grad_fn=<DivBackward0>)\n",
      "tensor(0.9362, grad_fn=<DivBackward0>)\n",
      "tensor(0.8855, grad_fn=<DivBackward0>)\n",
      "tensor(0.8399, grad_fn=<DivBackward0>)\n",
      "tensor(0.8010, grad_fn=<DivBackward0>)\n",
      "tensor(0.7698, grad_fn=<DivBackward0>)\n",
      "tensor(0.7459, grad_fn=<DivBackward0>)\n",
      "tensor(0.7275, grad_fn=<DivBackward0>)\n",
      "tensor(0.7126, grad_fn=<DivBackward0>)\n",
      "tensor(0.7000, grad_fn=<DivBackward0>)\n",
      "tensor(0.6888, grad_fn=<DivBackward0>)\n",
      "tensor(0.6787, grad_fn=<DivBackward0>)\n",
      "tensor(0.6694, grad_fn=<DivBackward0>)\n",
      "tensor(0.6609, grad_fn=<DivBackward0>)\n",
      "tensor(0.6529, grad_fn=<DivBackward0>)\n",
      "tensor(0.6455, grad_fn=<DivBackward0>)\n",
      "tensor(0.6385, grad_fn=<DivBackward0>)\n",
      "tensor(0.6320, grad_fn=<DivBackward0>)\n",
      "tensor(0.6259, grad_fn=<DivBackward0>)\n",
      "tensor(0.6202, grad_fn=<DivBackward0>)\n",
      "tensor(0.6148, grad_fn=<DivBackward0>)\n",
      "tensor(0.6097, grad_fn=<DivBackward0>)\n",
      "tensor(0.6050, grad_fn=<DivBackward0>)\n",
      "tensor(0.6005, grad_fn=<DivBackward0>)\n",
      "tensor(0.5963, grad_fn=<DivBackward0>)\n",
      "tensor(0.5924, grad_fn=<DivBackward0>)\n",
      "tensor(0.5887, grad_fn=<DivBackward0>)\n",
      "tensor(0.5852, grad_fn=<DivBackward0>)\n",
      "tensor(0.5819, grad_fn=<DivBackward0>)\n",
      "tensor(0.5788, grad_fn=<DivBackward0>)\n",
      "tensor(0.5758, grad_fn=<DivBackward0>)\n",
      "tensor(0.5730, grad_fn=<DivBackward0>)\n",
      "tensor(0.5704, grad_fn=<DivBackward0>)\n",
      "tensor(0.5679, grad_fn=<DivBackward0>)\n",
      "tensor(0.5655, grad_fn=<DivBackward0>)\n",
      "tensor(0.5633, grad_fn=<DivBackward0>)\n",
      "tensor(0.5611, grad_fn=<DivBackward0>)\n"
     ]
    }
   ],
   "source": [
    "w_nn = NeuralWavefunction()\n",
    "delta = 0.001\n",
    "\n",
    "optimizer = torch.optim.Adam(w_nn.parameters(),lr=0.0001, weight_decay=1e-3)\n",
    "\n",
    "energy_history = []\n",
    "step_history = []\n",
    "\n",
    "for i in range(5000):\n",
    "    energy = training_step(w_nn, optimizer, delta)\n",
    "    if i % 100 == 0: print(energy)\n",
    "    \n",
    "    energy_history.append(energy.detach().numpy())\n",
    "    step_history.append(i)\n",
    "\n",
    "\n",
    "\n",
    "\n",
    "\n"
   ]
  },
  {
   "cell_type": "code",
   "execution_count": 57,
   "metadata": {},
   "outputs": [
    {
     "data": {
      "image/png": "[encoded data removed]",
      "text/plain": [
       "<Figure size 432x288 with 1 Axes>"
      ]
     },
     "metadata": {
      "needs_background": "light"
     },
     "output_type": "display_data"
    }
   ],
   "source": [
    "plt.plot(step_history, energy_history)\n",
    "plt.grid(True)\n",
    "plt.show()"
   ]
  },
  {
   "cell_type": "markdown",
   "metadata": {},
   "source": [
    "As before, let's compare the exact and learned wavefunctions:"
   ]
  },
  {
   "cell_type": "code",
   "execution_count": 58,
   "metadata": {},
   "outputs": [
    {
     "data": {
      "image/png": "[encoded data removed]",
      "text/plain": [
       "<Figure size 432x288 with 1 Axes>"
      ]
     },
     "metadata": {
      "needs_background": "light"
     },
     "output_type": "display_data"
    }
   ],
   "source": [
    "\n",
    "# Create fresh input data:\n",
    "_x = numpy.arange(-10, 10, delta, dtype=numpy.float32)\n",
    "_x = _x.reshape((_x.shape[0], 1))\n",
    "\n",
    "x = torch.autograd.Variable(torch.tensor(_x), requires_grad = True)\n",
    "\n",
    "y_exact = w_0(x)\n",
    "y_fit   = w_nn(x)\n",
    "\n",
    "x_numpy = x.detach().numpy()\n",
    "\n",
    "energy_poly = energy_computation(w_poly, x, delta)\n",
    "\n",
    "plt.plot(x_numpy, y_exact.detach().numpy(), label=\"Exact solution\")\n",
    "plt.plot(x_numpy, y_fit.detach().numpy(), label=f\"Polynomial Fit, E={energy:.2}\")\n",
    "plt.grid(True)\n",
    "plt.legend()\n",
    "plt.show()"
   ]
  },
  {
   "cell_type": "markdown",
   "metadata": {},
   "source": [
    "And the energy:"
   ]
  },
  {
   "cell_type": "code",
   "execution_count": 61,
   "metadata": {},
   "outputs": [
    {
     "data": {
      "image/png": "[encoded data removed]",
      "text/plain": [
       "<Figure size 432x288 with 1 Axes>"
      ]
     },
     "metadata": {
      "needs_background": "light"
     },
     "output_type": "display_data"
    }
   ],
   "source": [
    "\n",
    "# Create fresh input data:\n",
    "_x = numpy.arange(-10, 10, delta, dtype=numpy.float32)\n",
    "_x = _x.reshape((_x.shape[0], 1))\n",
    "\n",
    "x = torch.autograd.Variable(torch.tensor(_x), requires_grad = True)\n",
    "\n",
    "p_exact = w_0(x)**2\n",
    "p_fit   = w_nn(x)**2\n",
    "\n",
    "x_numpy = x.detach().numpy()\n",
    "\n",
    "energy_poly = energy_computation(w_poly, x, delta)\n",
    "\n",
    "plt.plot(x_numpy, p_exact.detach().numpy(), label=\"Exact solution\")\n",
    "plt.plot(x_numpy, p_fit.detach().numpy(), label=f\"Polynomial Fit, E={energy:.2}\")\n",
    "plt.grid(True)\n",
    "plt.legend()\n",
    "plt.show()"
   ]
  },
  {
   "cell_type": "code",
   "execution_count": null,
   "metadata": {},
   "outputs": [],
   "source": []
  },
  {
   "cell_type": "code",
   "execution_count": null,
   "metadata": {},
   "outputs": [],
   "source": []
  },
  {
   "cell_type": "markdown",
   "metadata": {},
   "source": [
    "##### "
   ]
  },
  {
   "cell_type": "code",
   "execution_count": null,
   "metadata": {},
   "outputs": [],
   "source": []
  }
 ],
 "metadata": {
  "kernelspec": {
   "display_name": "Python 3",
   "language": "python",
   "name": "python3"
  },
  "language_info": {
   "codemirror_mode": {
    "name": "ipython",
    "version": 3
   },
   "file_extension": ".py",
   "mimetype": "text/x-python",
   "name": "python",
   "nbconvert_exporter": "python",
   "pygments_lexer": "ipython3",
   "version": "3.6.10"
  }
 },
 "nbformat": 4,
 "nbformat_minor": 2
}
