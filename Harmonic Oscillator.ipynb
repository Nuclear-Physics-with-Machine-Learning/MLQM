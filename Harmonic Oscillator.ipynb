{
 "cells": [
  {
   "cell_type": "markdown",
   "metadata": {},
   "source": [
    "# Quantum Harmonic Oscillator\n",
    "\n",
    "In this notebook we'll solve the quantum harmonic oscillator with machine learning techniques.\n",
    "\n",
    "The Hamiltonian of the oscillator is:\n",
    "\n",
    "$$ H = \\frac{1}{2m}p^2 + \\frac{m \\omega^2}{2}x^2 $$"
   ]
  },
  {
   "cell_type": "markdown",
   "metadata": {},
   "source": [
    "According to the variational principle of quantum mechanics, for any wave function $|\\psi>$, \n",
    "\n",
    "$$ < \\psi | H | \\psi > ~ \\ge ~ E_0 $$"
   ]
  },
  {
   "cell_type": "markdown",
   "metadata": {},
   "source": [
    "When substitued into the variational principle, we have:\n",
    "\n",
    "$$ \\int_{-\\infty}^{\\infty} \\psi^*(x) H \\psi(x) dx $$\n",
    "$$ \\int_{-\\infty}^{\\infty} \\psi^*(x) [\\frac{1}{2m}p^2 + \\frac{m \\omega^2}{2}x^2 ] \\psi(x) dx$$"
   ]
  },
  {
   "cell_type": "markdown",
   "metadata": {},
   "source": [
    "Subsituting $p = -i \\hbar \\frac{\\partial}{\\partial x}$ :\n",
    "$$ \\int_{-\\infty}^{\\infty} \\psi^*(x) \\frac{1}{2m}[- \\hbar]^2 \\frac{\\partial^2}{\\partial x ^2}   \\psi dx + \\int_{-\\infty}^{\\infty} \\psi^* \\frac{m \\omega^2}{2}x^2  \\psi(x) dx$$\n",
    "\n",
    "$$ \\frac{-\\hbar^2}{2m} \\int_{-\\infty}^{\\infty} \\psi^*(x)  \\frac{\\partial^2}{\\partial x ^2}   \\psi dx + \\frac{m \\omega^2}{2} \\int_{-\\infty}^{\\infty} \\psi^* x^2  \\psi(x) dx $$"
   ]
  },
  {
   "cell_type": "markdown",
   "metadata": {},
   "source": [
    "To solve this numerically, let's integrate by parts to turn a second derivative into two first derivatives:\n",
    "$$ < \\psi | H | \\psi > = \\frac{m \\omega^2}{2} \\int_{-\\infty}^{\\infty} \\psi^* x^2  \\psi(x) dx - \\frac{\\hbar^2}{2m} \\left[\\psi^*(x)\\frac{\\partial \\psi (x)}{\\partial x}  \\Biggr|_{-\\infty}^{\\infty}  - \\int_{-\\infty}^{\\infty} \\frac{\\partial \\psi^*(x)}{\\partial x} \\frac{\\partial \\psi(x)}{\\partial x} dx \\right] $$"
   ]
  },
  {
   "cell_type": "markdown",
   "metadata": {},
   "source": [
    "The wavefunctions for the harmonic oscillator have to got to zero at $\\pm \\infty$, so the first term in the integration by parts can be dropped.  Then, the total integral to evaluate is:\n",
    "\n",
    "$$ < \\psi | H | \\psi > = \\frac{m \\omega^2}{2} \\int_{-\\infty}^{\\infty} \\psi^* x^2  \\psi(x) dx + \\frac{\\hbar^2}{2m}  \\int_{-\\infty}^{\\infty} \\frac{\\partial \\psi^*(x)}{\\partial x} \\frac{\\partial \\psi(x)}{\\partial x} dx $$"
   ]
  },
  {
   "cell_type": "markdown",
   "metadata": {},
   "source": [
    "We have assumed above that the wave functions are normalized, but with ou approximation scheme we won't have normalized wavefunctions.  In this case, let's add in the normalization ourselves:"
   ]
  },
  {
   "cell_type": "markdown",
   "metadata": {},
   "source": [
    "$$ < \\psi | H | \\psi > = \\frac{1}{N} \\left[\\frac{m \\omega^2}{2} \\int_{-\\infty}^{\\infty} \\psi^* x^2  \\psi(x) dx + \\frac{\\hbar^2}{2m}  \\int_{-\\infty}^{\\infty} \\frac{\\partial \\psi^*(x)}{\\partial x} \\frac{\\partial \\psi(x)}{\\partial x} dx \\right]$$\n",
    "where \n",
    "$$ N = \\int_{-\\infty}^{\\infty} \\psi^*(x) \\psi(x) dx $$"
   ]
  },
  {
   "cell_type": "markdown",
   "metadata": {},
   "source": [
    "To solve this, and estimate the ground state energy of the system, we need to find a wave function and estimate these two integrals.\n",
    "\n",
    "We will use a pytorch module to approximate our wavefunction, which we can then differentiate.  The requirements of this system are that:\n",
    "- the wavefunction must be normalizable\n",
    "- the wavefunction must go to zero at $\\pm \\infty$"
   ]
  },
  {
   "cell_type": "code",
   "execution_count": 1,
   "metadata": {},
   "outputs": [],
   "source": [
    "import numpy\n",
    "import torch\n",
    "from matplotlib import pyplot as plt"
   ]
  },
  {
   "cell_type": "markdown",
   "metadata": {},
   "source": [
    "These are physical constants in this problem, which we'll set to 1 for ease:"
   ]
  },
  {
   "cell_type": "code",
   "execution_count": 2,
   "metadata": {},
   "outputs": [],
   "source": [
    "omega = 1.0\n",
    "hbar  = 1.0\n",
    "M     = 1\n",
    "\n",
    "# This is a granularity parameter:\n",
    "delta = 0.0005"
   ]
  },
  {
   "cell_type": "markdown",
   "metadata": {},
   "source": [
    "There are 3 available wavefunctions here:\n",
    "- A module based on Hermite Polynomials, up to degree 3, that is exact up to normalization.\n",
    "- A polynomial module that can be fit to any polynomial up to degree 3.\n",
    "- A neural network that has no polynomial terms.\n",
    "\n",
    "All components have the same submodule to handle the boundary conditions, which is an gaussian-like exponential that decays to zero at large $|x|$."
   ]
  },
  {
   "cell_type": "code",
   "execution_count": 3,
   "metadata": {},
   "outputs": [],
   "source": [
    "class ExponentialBoundaryCondition(torch.nn.Module):\n",
    "    \n",
    "    def __init__(self, exp=1.0, trainable=True):\n",
    "        torch.nn.Module.__init__(self)\n",
    "\n",
    "        # This is the parameter controlling the shape of the exponent:\n",
    "        self.exponent = torch.nn.Parameter(torch.tensor(exp), requires_grad=trainable)\n",
    "\n",
    "\n",
    "    def forward(self, inputs):\n",
    "        \n",
    "        return torch.exp(- (self.exponent * inputs) **2 / 2.)\n",
    "        \n",
    "        "
   ]
  },
  {
   "cell_type": "code",
   "execution_count": 4,
   "metadata": {},
   "outputs": [],
   "source": [
    "class CorrectWavefunction(torch.nn.Module):\n",
    "\n",
    "\n",
    "    def __init__(self, n):\n",
    "        torch.nn.Module.__init__(self)\n",
    "            \n",
    "        # N is the degree of the polynomial:\n",
    "        self.n = n\n",
    "    \n",
    "        self.alpha = M * omega / hbar\n",
    "        self.norm  = numpy.power(self.alpha / numpy.pi, 0.25)\n",
    "        \n",
    "        if self.n == 0:\n",
    "            pass\n",
    "        elif self.n == 1:\n",
    "            self.norm *= numpy.sqrt(2.)\n",
    "        elif self.n == 2:\n",
    "            self.norm *= numpy.sqrt(0.5)\n",
    "        else:\n",
    "            raise Exception(\"Unsupported degree of \", n)\n",
    "    \n",
    "        self.exp = ExponentialBoundaryCondition(exp=numpy.sqrt(self.alpha), trainable=False)\n",
    "    \n",
    "    def forward(self, inputs):\n",
    "    \n",
    "        y = inputs\n",
    "        \n",
    "        boundary_condition = self.exp(y)\n",
    "        \n",
    "        if self.n == 0:\n",
    "            polynomial = 1\n",
    "        elif self.n == 1:\n",
    "            polynomial = y\n",
    "        elif self.n == 2:\n",
    "            polynomial = 2 * y**2 - 1\n",
    "            \n",
    "        return self.norm * boundary_condition * polynomial\n"
   ]
  },
  {
   "cell_type": "code",
   "execution_count": 5,
   "metadata": {},
   "outputs": [],
   "source": [
    "class PolynomialWavefunction(torch.nn.Module):\n",
    "    \n",
    "    def __init__(self):\n",
    "        torch.nn.Module.__init__(self)\n",
    "        \n",
    "#         self.layer1 = torch.nn.Linear(1,64)\n",
    "#         self.layer2 = torch.nn.Linear(64, 1)\n",
    "    \n",
    "        self.const  = torch.nn.Parameter(torch.tensor(0.3), requires_grad=True)\n",
    "        self.linear = torch.nn.Parameter(torch.tensor(0.2), requires_grad=True)\n",
    "        self.quad   = torch.nn.Parameter(torch.tensor(0.2), requires_grad=True)\n",
    "\n",
    "        self.norm   = torch.Tensor([1.0])\n",
    "    \n",
    "        self.exp = ExponentialBoundaryCondition()\n",
    "\n",
    "\n",
    "\n",
    "    def forward(self, inputs):\n",
    "        x = inputs\n",
    "\n",
    "        boundary_condition = self.exp(x)\n",
    "\n",
    "\n",
    "        poly = self.const + self.linear * x + self.quad * x**2\n",
    "\n",
    "        # Multiply by a factor to enforce normalization and boundary conditions:\n",
    "        # Note the exponent is within the power of 2 to make it's sign irrelevant\n",
    "        x = self.norm *  poly * boundary_condition\n",
    "        return x\n",
    "    \n",
    "    def update_normalization(self, inputs):\n",
    "        # Inputs is expected to be a range of parameters along an x axis.\n",
    "        with torch.no_grad():\n",
    "            value = self.forward(inputs)\n",
    "            N = value ** 2\n",
    "\n",
    "            delta = inputs[1]-inputs[0]\n",
    "\n",
    "            N = torch.sum(N) * delta\n",
    "            self.norm *= 1/torch.sqrt(N)\n",
    "\n",
    "            # The normalization condition is that the integral of the wavefunction squared\n",
    "            # should be equal to 1 (probability sums to 1.)\n",
    "\n",
    "        return\n",
    "    \n",
    "    def analytic_derivative(self, inputs):\n",
    "        \n",
    "        poly = self.const + self.linear * x + self.quad * x**2\n",
    "        poly_prime = self.linear + 2 * self.quad * inputs\n",
    "        exp = self.exp(x)\n",
    "        \n",
    "        res = exp * (-inputs) *poly + poly_prime * exp\n",
    "        \n",
    "        return self.norm * res\n",
    "    \n",
    "    def zero_grad(self):\n",
    "        \"\"\"Sets gradients of all model parameters to zero.\"\"\"\n",
    "        for p in self.parameters():\n",
    "            if p.grad is not None:\n",
    "                p.grad.data.zero_()"
   ]
  },
  {
   "cell_type": "code",
   "execution_count": 6,
   "metadata": {},
   "outputs": [],
   "source": [
    "class NeuralWavefunction(torch.nn.Module):\n",
    "    \n",
    "    def __init__(self):\n",
    "        torch.nn.Module.__init__(self)\n",
    "        \n",
    "        self.layer1 = torch.nn.Linear(1,32)\n",
    "        self.layer2 = torch.nn.Linear(32, 32)\n",
    "        self.layer3 = torch.nn.Linear(32, 1)\n",
    "    \n",
    "        self.norm   = torch.Tensor([1.0])\n",
    "        \n",
    "        # This is an exponent for normalization:\n",
    "        self.exp = ExponentialBoundaryCondition()\n",
    "\n",
    "\n",
    "\n",
    "\n",
    "\n",
    "    def forward(self, inputs):\n",
    "        x = inputs\n",
    "        x = self.layer1(x)\n",
    "        x = torch.sigmoid(x)\n",
    "        x = self.layer2(x)\n",
    "        x = torch.sigmoid(x)\n",
    "        x = self.layer3(x)\n",
    "\n",
    "        boundary_condition = self.exp(x)\n",
    "\n",
    "\n",
    "        return self.norm*x*boundary_condition\n",
    "    \n",
    "    def update_normalization(self, inputs):\n",
    "        # Inputs is expected to be a range of parameters along an x axis.\n",
    "        with torch.no_grad():\n",
    "            value = self.forward(inputs)\n",
    "            N = value ** 2\n",
    "\n",
    "            delta = inputs[1]-inputs[0]\n",
    "\n",
    "            N = torch.sum(N) * delta\n",
    "            self.norm *= 1/torch.sqrt(N)\n",
    "\n",
    "            # The normalization condition is that the integral of the wavefunction squared\n",
    "            # should be equal to 1 (probability sums to 1.)\n",
    "\n",
    "        return\n",
    "    \n",
    "    \n",
    "    def zero_grad(self):\n",
    "        \"\"\"Sets gradients of all model parameters to zero.\"\"\"\n",
    "        for p in self.parameters():\n",
    "            if p.grad is not None:\n",
    "                p.grad.data.zero_()"
   ]
  },
  {
   "cell_type": "markdown",
   "metadata": {},
   "source": [
    "Let's test some basic properties of the wave functions.  The CorrectWavefuntion should be normalized off the bat.  If we integrate it, it ought to come out right."
   ]
  },
  {
   "cell_type": "code",
   "execution_count": 7,
   "metadata": {},
   "outputs": [],
   "source": [
    "# This is preparing input data that is differentiable:\n",
    "_x = numpy.arange(-100, 100, delta, dtype=numpy.float32)\n",
    "_x = _x.reshape((_x.shape[0], 1))\n",
    "\n",
    "x = torch.autograd.Variable(torch.tensor(_x), requires_grad = True)\n"
   ]
  },
  {
   "cell_type": "markdown",
   "metadata": {},
   "source": [
    "First, let's look at the correct wave functions:"
   ]
  },
  {
   "cell_type": "code",
   "execution_count": 8,
   "metadata": {},
   "outputs": [],
   "source": [
    "w_0 = CorrectWavefunction(n=0)\n",
    "w_1 = CorrectWavefunction(n=1)\n",
    "w_2 = CorrectWavefunction(n=2)"
   ]
  },
  {
   "cell_type": "code",
   "execution_count": 9,
   "metadata": {},
   "outputs": [],
   "source": [
    "y_0 = w_0(x)\n",
    "y_1 = w_1(x)\n",
    "y_2 = w_2(x)"
   ]
  },
  {
   "cell_type": "markdown",
   "metadata": {},
   "source": [
    "Are the wave functions normalized?"
   ]
  },
  {
   "cell_type": "code",
   "execution_count": 10,
   "metadata": {},
   "outputs": [
    {
     "name": "stdout",
     "output_type": "stream",
     "text": [
      "N==0 integral:  tensor(0.9930, grad_fn=<MulBackward0>)\n",
      "N==1 integral:  tensor(0.9930, grad_fn=<MulBackward0>)\n",
      "N==2 integral:  tensor(0.9930, grad_fn=<MulBackward0>)\n"
     ]
    }
   ],
   "source": [
    "print(\"N==0 integral: \", torch.sum(y_0**2) * delta)\n",
    "print(\"N==1 integral: \", torch.sum(y_1**2) * delta)\n",
    "print(\"N==2 integral: \", torch.sum(y_2**2) * delta)"
   ]
  },
  {
   "cell_type": "markdown",
   "metadata": {},
   "source": [
    "Are the wave functions orthogonal?"
   ]
  },
  {
   "cell_type": "code",
   "execution_count": 11,
   "metadata": {},
   "outputs": [
    {
     "name": "stdout",
     "output_type": "stream",
     "text": [
      "N_0 * N_1 integral:  tensor(3.2002e-09, grad_fn=<MulBackward0>)\n",
      "N_0 * N_2 integral:  tensor(-4.4788e-09, grad_fn=<MulBackward0>)\n",
      "N_1 * N_2 integral:  tensor(1.2061e-08, grad_fn=<MulBackward0>)\n"
     ]
    }
   ],
   "source": [
    "print(\"N_0 * N_1 integral: \", torch.sum(y_0*y_1) * delta)\n",
    "print(\"N_0 * N_2 integral: \", torch.sum(y_0*y_2) * delta)\n",
    "print(\"N_1 * N_2 integral: \", torch.sum(y_1*y_2) * delta)"
   ]
  },
  {
   "cell_type": "markdown",
   "metadata": {},
   "source": [
    "Yes, to some approximation the wavefunctions are normalized and orthogonal."
   ]
  },
  {
   "cell_type": "markdown",
   "metadata": {},
   "source": [
    "Polynomial and NN wavefunctions are not normalized after initialization, but can be normalized:"
   ]
  },
  {
   "cell_type": "code",
   "execution_count": 12,
   "metadata": {},
   "outputs": [],
   "source": [
    "w_poly    = PolynomialWavefunction()\n",
    "w_nn      = NeuralWavefunction()"
   ]
  },
  {
   "cell_type": "code",
   "execution_count": 13,
   "metadata": {},
   "outputs": [],
   "source": [
    "y_poly    = w_poly(x)\n",
    "y_nn      = w_nn(x)"
   ]
  },
  {
   "cell_type": "code",
   "execution_count": 14,
   "metadata": {},
   "outputs": [
    {
     "name": "stdout",
     "output_type": "stream",
     "text": [
      "Poly function normalization:  tensor(0.3520, grad_fn=<MulBackward0>)\n",
      "Neural Network function normalization:  tensor(4.2743, grad_fn=<MulBackward0>)\n"
     ]
    }
   ],
   "source": [
    "print(\"Poly function normalization: \", torch.sum(y_poly**2)*delta)\n",
    "print(\"Neural Network function normalization: \", torch.sum(y_nn**2)*delta)"
   ]
  },
  {
   "cell_type": "markdown",
   "metadata": {},
   "source": [
    "Call the update_normalization function to fix this:"
   ]
  },
  {
   "cell_type": "code",
   "execution_count": 15,
   "metadata": {},
   "outputs": [],
   "source": [
    "w_poly.update_normalization(x)\n",
    "w_nn.update_normalization(x)\n",
    "\n",
    "y_poly    = w_poly(x)\n",
    "y_nn      = w_nn(x)"
   ]
  },
  {
   "cell_type": "code",
   "execution_count": 16,
   "metadata": {},
   "outputs": [
    {
     "name": "stdout",
     "output_type": "stream",
     "text": [
      "Poly function normalization:  tensor(0.9930, grad_fn=<MulBackward0>)\n",
      "Neural Network function normalization:  tensor(0.9930, grad_fn=<MulBackward0>)\n"
     ]
    }
   ],
   "source": [
    "print(\"Poly function normalization: \", torch.sum(y_poly**2)*delta)\n",
    "print(\"Neural Network function normalization: \", torch.sum(y_nn**2)*delta)"
   ]
  },
  {
   "cell_type": "markdown",
   "metadata": {},
   "source": [
    "## Plotting Initial Wave functions"
   ]
  },
  {
   "cell_type": "markdown",
   "metadata": {},
   "source": [
    "Let's see how the first few wavefunctions look as well as the polynomial and neural network versions."
   ]
  },
  {
   "cell_type": "code",
   "execution_count": 17,
   "metadata": {},
   "outputs": [
    {
     "name": "stderr",
     "output_type": "stream",
     "text": [
      "/Users/corey.adams/Library/Python/3.6/lib/python/site-packages/IPython/core/pylabtools.py:128: UserWarning: Creating legend with loc=\"best\" can be slow with large amounts of data.\n",
      "  fig.canvas.print_figure(bytes_io, **kw)\n"
     ]
    },
    {
     "data": {
      "image/png": "[encoded data removed]",
      "text/plain": [
       "<Figure size 432x288 with 1 Axes>"
      ]
     },
     "metadata": {
      "needs_background": "light"
     },
     "output_type": "display_data"
    }
   ],
   "source": [
    "\n",
    "plt.plot(x.detach(), y_0.detach(), label=\"N==0\")\n",
    "plt.plot(x.detach(), y_1.detach(), label=\"N==1\")\n",
    "plt.plot(x.detach(), y_2.detach(), label=\"N==2\")\n",
    "\n",
    "plt.xlim([-10,10])\n",
    "\n",
    "plt.legend()\n",
    "\n",
    "plt.grid(True)\n",
    "plt.show()"
   ]
  },
  {
   "cell_type": "code",
   "execution_count": 18,
   "metadata": {},
   "outputs": [
    {
     "data": {
      "image/png": "[encoded data removed]",
      "text/plain": [
       "<Figure size 432x288 with 1 Axes>"
      ]
     },
     "metadata": {
      "needs_background": "light"
     },
     "output_type": "display_data"
    }
   ],
   "source": [
    "plt.plot(x.detach(), y_0.detach(), label=\"N==0\")\n",
    "plt.plot(x.detach(), y_poly.detach(), label=\"Polynomial\")\n",
    "plt.plot(x.detach(), y_nn.detach(), label=\"N.N.\")\n",
    "\n",
    "plt.xlim([-10,10])\n",
    "\n",
    "plt.legend()\n",
    "\n",
    "plt.grid(True)\n",
    "plt.show()"
   ]
  },
  {
   "cell_type": "markdown",
   "metadata": {},
   "source": [
    "## Plotting Probability distributions\n",
    "\n",
    "We can also plot initial probability distributions:"
   ]
  },
  {
   "cell_type": "code",
   "execution_count": 19,
   "metadata": {},
   "outputs": [
    {
     "data": {
      "image/png": "[encoded data removed]",
      "text/plain": [
       "<Figure size 432x288 with 1 Axes>"
      ]
     },
     "metadata": {
      "needs_background": "light"
     },
     "output_type": "display_data"
    }
   ],
   "source": [
    "plt.plot(x.detach(), (y_0**2).detach(), label=\"N==0\")\n",
    "plt.plot(x.detach(), (y_1**2).detach(), label=\"N==1\")\n",
    "plt.plot(x.detach(), (y_2**2).detach(), label=\"N==2\")\n",
    "\n",
    "plt.xlim([-10,10])\n",
    "\n",
    "plt.legend()\n",
    "\n",
    "plt.grid(True)\n",
    "plt.show()"
   ]
  },
  {
   "cell_type": "code",
   "execution_count": 20,
   "metadata": {},
   "outputs": [
    {
     "data": {
      "image/png": "[encoded data removed]",
      "text/plain": [
       "<Figure size 432x288 with 1 Axes>"
      ]
     },
     "metadata": {
      "needs_background": "light"
     },
     "output_type": "display_data"
    }
   ],
   "source": [
    "plt.plot(x.detach(), (y_0**2).detach(), label=\"N==0\")\n",
    "plt.plot(x.detach(), (y_poly**2).detach(), label=\"Polynomial\")\n",
    "plt.plot(x.detach(), (y_nn**2).detach(), label=\"N.N.\")\n",
    "\n",
    "plt.xlim([-10,10])\n",
    "\n",
    "plt.legend()\n",
    "\n",
    "plt.grid(True)\n",
    "plt.show()"
   ]
  },
  {
   "cell_type": "markdown",
   "metadata": {},
   "source": [
    "## Computing the energy of a wave function\n",
    "\n",
    "To compute the energy, we need to know the derivative of the wave function with respect to x, the input.\n",
    "\n",
    "For the exact solutions, we can know we have things correct since the energy is known.\n",
    "\n",
    "For the polynomial wavefunction, we have an analytical derivative.  Let's check the analytical derivative first:"
   ]
  },
  {
   "cell_type": "code",
   "execution_count": 21,
   "metadata": {},
   "outputs": [],
   "source": [
    "y_poly = w_poly(x)"
   ]
  },
  {
   "cell_type": "code",
   "execution_count": 22,
   "metadata": {},
   "outputs": [],
   "source": [
    "# We should be able to get d \\psi / dx with this:\n",
    "if x.grad is not None:\n",
    "    x.grad.zero_()\n",
    "torch.sum(y_poly).backward(retain_graph=True)"
   ]
  },
  {
   "cell_type": "markdown",
   "metadata": {},
   "source": [
    "Torch's autodifferentiation requires a scalar value.  I sum over all outputs since that introduces a chain rule of $1$ for every element, and doesn't distort the derivative.  Now we can compare:"
   ]
  },
  {
   "cell_type": "code",
   "execution_count": 23,
   "metadata": {},
   "outputs": [
    {
     "name": "stdout",
     "output_type": "stream",
     "text": [
      "tensor(1.7881e-07, grad_fn=<MaxBackward1>)\n"
     ]
    }
   ],
   "source": [
    "print(torch.max(x.grad - w_poly.analytic_derivative(x)))"
   ]
  },
  {
   "cell_type": "markdown",
   "metadata": {},
   "source": [
    "As desired, it matches well.  The largest difference is $10^{-7}$"
   ]
  },
  {
   "cell_type": "markdown",
   "metadata": {},
   "source": [
    "Now that we have the derivative, we can look at computing the energy.  We need three terms: kinetic energy, potential energy, and normalization."
   ]
  },
  {
   "cell_type": "code",
   "execution_count": 24,
   "metadata": {},
   "outputs": [],
   "source": [
    "def normalization(wavefunction, inputs, delta):\n",
    "    return torch.sum(wavefunction(inputs) ** 2) * delta"
   ]
  },
  {
   "cell_type": "code",
   "execution_count": 25,
   "metadata": {},
   "outputs": [
    {
     "name": "stdout",
     "output_type": "stream",
     "text": [
      "Normalization of w_0:  tensor(0.9930, grad_fn=<MulBackward0>)\n",
      "Normalization of w_1:  tensor(0.9930, grad_fn=<MulBackward0>)\n",
      "Normalization of w_2:  tensor(0.9930, grad_fn=<MulBackward0>)\n",
      "Normalization of w_poly:  tensor(0.9930, grad_fn=<MulBackward0>)\n",
      "Normalization of w_nn:  tensor(0.9930, grad_fn=<MulBackward0>)\n"
     ]
    }
   ],
   "source": [
    "print(\"Normalization of w_0: \", normalization(w_0, x, delta))\n",
    "print(\"Normalization of w_1: \", normalization(w_1, x, delta))\n",
    "print(\"Normalization of w_2: \", normalization(w_2, x, delta))\n",
    "print(\"Normalization of w_poly: \", normalization(w_poly, x, delta))\n",
    "print(\"Normalization of w_nn: \", normalization(w_nn, x, delta))"
   ]
  },
  {
   "cell_type": "markdown",
   "metadata": {},
   "source": [
    "As desired, all of the normalizations are coming out close to 1."
   ]
  },
  {
   "cell_type": "markdown",
   "metadata": {},
   "source": [
    "Now we can compute the other terms in the hamiltonian:"
   ]
  },
  {
   "cell_type": "code",
   "execution_count": 26,
   "metadata": {},
   "outputs": [],
   "source": [
    "def potential_energy(wavefunction, inputs, delta):\n",
    "    temp = 0.5*(M * omega **2) * wavefunction(inputs)**2 * inputs**2\n",
    "    return torch.sum(temp) * delta"
   ]
  },
  {
   "cell_type": "code",
   "execution_count": 27,
   "metadata": {},
   "outputs": [
    {
     "name": "stdout",
     "output_type": "stream",
     "text": [
      "PE of w_0:  tensor(0.2482, grad_fn=<MulBackward0>)\n",
      "PE of w_1:  tensor(0.7447, grad_fn=<MulBackward0>)\n",
      "PE of w_2:  tensor(1.2412, grad_fn=<MulBackward0>)\n",
      "PE of w_poly:  tensor(0.5958, grad_fn=<MulBackward0>)\n",
      "PE of w_nn:  tensor(1658.1676, grad_fn=<MulBackward0>)\n"
     ]
    }
   ],
   "source": [
    "print(\"PE of w_0: \", potential_energy(w_0, x, delta))\n",
    "print(\"PE of w_1: \", potential_energy(w_1, x, delta))\n",
    "print(\"PE of w_2: \", potential_energy(w_2, x, delta))\n",
    "print(\"PE of w_poly: \", potential_energy(w_poly, x, delta))\n",
    "print(\"PE of w_nn: \", potential_energy(w_nn, x, delta))"
   ]
  },
  {
   "cell_type": "code",
   "execution_count": 28,
   "metadata": {},
   "outputs": [],
   "source": [
    "def kinetic_energy(wavefunction, inputs, delta):\n",
    "    if inputs.grad is not None:\n",
    "        inputs.grad.zero_()\n",
    "    scalar = torch.sum(wavefunction(inputs))\n",
    "    scalar.backward(retain_graph=True)\n",
    "    wavefunction_prime = x.grad\n",
    "    return (hbar**2 / (2 *M)) * torch.sum(wavefunction_prime**2) * delta"
   ]
  },
  {
   "cell_type": "code",
   "execution_count": 29,
   "metadata": {},
   "outputs": [
    {
     "name": "stdout",
     "output_type": "stream",
     "text": [
      "KE of w_0:  tensor(0.2482)\n",
      "KE of w_1:  tensor(0.7447)\n",
      "KE of w_2:  tensor(1.2412)\n",
      "KE of w_poly:  tensor(0.1986)\n",
      "KE of w_nn:  tensor(2.6148e-05)\n"
     ]
    }
   ],
   "source": [
    "print(\"KE of w_0: \", kinetic_energy(w_0, x, delta))\n",
    "print(\"KE of w_1: \", kinetic_energy(w_1, x, delta))\n",
    "print(\"KE of w_2: \", kinetic_energy(w_2, x, delta))\n",
    "print(\"KE of w_poly: \", kinetic_energy(w_poly, x, delta))\n",
    "print(\"KE of w_nn: \", kinetic_energy(w_nn, x, delta))"
   ]
  },
  {
   "cell_type": "markdown",
   "metadata": {},
   "source": [
    "Therefore, the computed energy for this wavefunction is:"
   ]
  },
  {
   "cell_type": "code",
   "execution_count": 30,
   "metadata": {},
   "outputs": [],
   "source": [
    "def energy_calculation(wavefunction, inputs, delta):\n",
    "    norm = normalization(wavefunction, inputs, delta)\n",
    "    pe = potential_energy(wavefunction, inputs, delta)\n",
    "    ke = kinetic_energy(wavefunction, inputs, delta)\n",
    "    energy = (1/norm) * ( pe +  ke)\n",
    "    return energy"
   ]
  },
  {
   "cell_type": "code",
   "execution_count": 31,
   "metadata": {},
   "outputs": [
    {
     "name": "stdout",
     "output_type": "stream",
     "text": [
      "Energy of w_0:  tensor(0.5000, grad_fn=<MulBackward0>)\n",
      "Energy of w_1:  tensor(1.5000, grad_fn=<MulBackward0>)\n",
      "Energy of w_2:  tensor(2.5000, grad_fn=<MulBackward0>)\n",
      "Energy of w_poly:  tensor(0.8000, grad_fn=<MulBackward0>)\n",
      "Energy of w_nn:  tensor(1669.9153, grad_fn=<MulBackward0>)\n"
     ]
    }
   ],
   "source": [
    "print(\"Energy of w_0: \", energy_calculation(w_0, x, delta))\n",
    "print(\"Energy of w_1: \", energy_calculation(w_1, x, delta))\n",
    "print(\"Energy of w_2: \", energy_calculation(w_2, x, delta))\n",
    "print(\"Energy of w_poly: \", energy_calculation(w_poly, x, delta))\n",
    "print(\"Energy of w_nn: \", energy_calculation(w_nn, x, delta))"
   ]
  },
  {
   "cell_type": "markdown",
   "metadata": {},
   "source": [
    "The harmonic oscillator has energy levels of:\n",
    "$$ E_n = \\hbar \\omega ( n + \\frac{1}{2} ) $$\n",
    "and so the ground state is $\\hbar \\omega / 2$. For this example, with $\\hbar = 1$ and $\\omega = 1$, we expect the estimate of the energy to be greater than or equal to 1/2.  The exact solutions are coming out exactly right.  Looks good above!"
   ]
  },
  {
   "cell_type": "markdown",
   "metadata": {},
   "source": [
    "## Optimizing the wave function to find the ground state"
   ]
  },
  {
   "cell_type": "markdown",
   "metadata": {},
   "source": [
    "In the above, we used the autograd functionality to compute the expectation value of energy of a wavefunction for the harmonic oscillator.  But, now we will use autograd again to compute the derivative of the energy with respect to the wavefunction's parameters, and optimize the parameters to update the wave function.\n",
    "\n",
    "I re-wrote the energy computations to be more efficient.  I also introduced re-normalization of the wave function after every update."
   ]
  },
  {
   "cell_type": "code",
   "execution_count": 32,
   "metadata": {},
   "outputs": [],
   "source": [
    "def energy_computation(wavefunction, inputs, delta):\n",
    "    \n",
    "    # This function takes the inputs (assumed to be a range of real value parameters)\n",
    "    # And computes the expectation value of the energy.\n",
    "    \n",
    "    # This is the value of the wave function:\n",
    "    w_of_x = wavefunction(inputs)\n",
    "    \n",
    "    # Sum the wavefunction and call backwards to get the derivative of it with respect to x:\n",
    "    grad_catalyst = torch.sum(w_of_x)\n",
    "    grad_catalyst.backward(retain_graph = True)\n",
    "    \n",
    "    # This is the first derivative of the wave function:\n",
    "    w_prime_dx = inputs.grad\n",
    "    \n",
    "    # Now we can compute integrals:\n",
    "    normalization = torch.sum(w_of_x**2) * delta\n",
    "    \n",
    "    pe = (0.5 * M * omega**2 ) * torch.sum(w_of_x**2 * inputs**2) * delta\n",
    "    \n",
    "    ke = (hbar**2 / (2 *M)) * torch.sum(w_prime_dx**2) * delta\n",
    "    \n",
    "#     print()\n",
    "#     print(\"pe: \", pe)\n",
    "#     print(\"ke: \", ke)\n",
    "#     print(\"norm: \", normalization)\n",
    "#     print()\n",
    "\n",
    "    \n",
    "    energy = (pe + ke) / normalization\n",
    "    \n",
    "    return energy"
   ]
  },
  {
   "cell_type": "code",
   "execution_count": 33,
   "metadata": {},
   "outputs": [],
   "source": [
    "def training_step(wavefunction, optimizer, delta):\n",
    "    # Clear all gradients from the optimizer:\n",
    "    optimizer.zero_grad()\n",
    "    \n",
    "    # Create fresh input data:\n",
    "    _x = numpy.arange(-10, 10, delta, dtype=numpy.float32)\n",
    "    _x = _x.reshape((_x.shape[0], 1))\n",
    "\n",
    "    x = torch.autograd.Variable(torch.tensor(_x), requires_grad = True)\n",
    "\n",
    "    # Compute the energy:\n",
    "    energy = energy_computation(wavefunction, x, delta)\n",
    "\n",
    "    # We back-prop'd through the wave function once already in the energy computation.  Clear the gradients:\n",
    "    wavefunction.zero_grad()\n",
    "    \n",
    "    energy.backward(retain_graph=True)\n",
    "\n",
    "    optimizer.step()\n",
    "    \n",
    "    # Lastly, update the normaliztion \n",
    "    wavefunction.update_normalization(x)\n",
    "\n",
    "    return  energy\n",
    "\n"
   ]
  },
  {
   "cell_type": "markdown",
   "metadata": {},
   "source": [
    "Let's train the polynomial wave function for awhile and see if it converges:"
   ]
  },
  {
   "cell_type": "code",
   "execution_count": 34,
   "metadata": {},
   "outputs": [
    {
     "name": "stdout",
     "output_type": "stream",
     "text": [
      "tensor(0.8000, grad_fn=<DivBackward0>)\n",
      "tensor(0.7722, grad_fn=<DivBackward0>)\n",
      "tensor(0.7480, grad_fn=<DivBackward0>)\n",
      "tensor(0.7265, grad_fn=<DivBackward0>)\n",
      "tensor(0.7070, grad_fn=<DivBackward0>)\n",
      "tensor(0.6887, grad_fn=<DivBackward0>)\n",
      "tensor(0.6705, grad_fn=<DivBackward0>)\n",
      "tensor(0.6514, grad_fn=<DivBackward0>)\n",
      "tensor(0.6309, grad_fn=<DivBackward0>)\n",
      "tensor(0.6097, grad_fn=<DivBackward0>)\n",
      "tensor(0.5893, grad_fn=<DivBackward0>)\n",
      "tensor(0.5714, grad_fn=<DivBackward0>)\n",
      "tensor(0.5563, grad_fn=<DivBackward0>)\n",
      "tensor(0.5442, grad_fn=<DivBackward0>)\n",
      "tensor(0.5347, grad_fn=<DivBackward0>)\n",
      "tensor(0.5275, grad_fn=<DivBackward0>)\n",
      "tensor(0.5222, grad_fn=<DivBackward0>)\n",
      "tensor(0.5185, grad_fn=<DivBackward0>)\n",
      "tensor(0.5161, grad_fn=<DivBackward0>)\n",
      "tensor(0.5147, grad_fn=<DivBackward0>)\n",
      "tensor(0.5140, grad_fn=<DivBackward0>)\n",
      "tensor(0.5139, grad_fn=<DivBackward0>)\n",
      "tensor(0.5143, grad_fn=<DivBackward0>)\n",
      "tensor(0.5150, grad_fn=<DivBackward0>)\n",
      "tensor(0.5159, grad_fn=<DivBackward0>)\n",
      "tensor(0.5170, grad_fn=<DivBackward0>)\n",
      "tensor(0.5181, grad_fn=<DivBackward0>)\n",
      "tensor(0.5193, grad_fn=<DivBackward0>)\n",
      "tensor(0.5204, grad_fn=<DivBackward0>)\n",
      "tensor(0.5216, grad_fn=<DivBackward0>)\n",
      "tensor(0.5227, grad_fn=<DivBackward0>)\n",
      "tensor(0.5237, grad_fn=<DivBackward0>)\n",
      "tensor(0.5247, grad_fn=<DivBackward0>)\n",
      "tensor(0.5256, grad_fn=<DivBackward0>)\n",
      "tensor(0.5264, grad_fn=<DivBackward0>)\n",
      "tensor(0.5272, grad_fn=<DivBackward0>)\n",
      "tensor(0.5278, grad_fn=<DivBackward0>)\n",
      "tensor(0.5284, grad_fn=<DivBackward0>)\n",
      "tensor(0.5290, grad_fn=<DivBackward0>)\n",
      "tensor(0.5295, grad_fn=<DivBackward0>)\n",
      "tensor(0.5299, grad_fn=<DivBackward0>)\n",
      "tensor(0.5303, grad_fn=<DivBackward0>)\n",
      "tensor(0.5306, grad_fn=<DivBackward0>)\n",
      "tensor(0.5309, grad_fn=<DivBackward0>)\n",
      "tensor(0.5312, grad_fn=<DivBackward0>)\n",
      "tensor(0.5314, grad_fn=<DivBackward0>)\n",
      "tensor(0.5316, grad_fn=<DivBackward0>)\n",
      "tensor(0.5317, grad_fn=<DivBackward0>)\n",
      "tensor(0.5319, grad_fn=<DivBackward0>)\n",
      "tensor(0.5320, grad_fn=<DivBackward0>)\n"
     ]
    }
   ],
   "source": [
    "w_poly = PolynomialWavefunction()\n",
    "delta = 0.0001\n",
    "\n",
    "optimizer = torch.optim.Adam(w_poly.parameters(),lr=0.0001, weight_decay=1e-3)\n",
    "\n",
    "energy_history = []\n",
    "step_history = []\n",
    "\n",
    "for i in range(5000):\n",
    "    energy = training_step(w_poly, optimizer, delta)\n",
    "    if i % 100 == 0: print(energy)\n",
    "    \n",
    "    energy_history.append(energy.detach().numpy())\n",
    "    step_history.append(i)\n",
    "\n",
    "\n",
    "\n",
    "\n",
    "    \n",
    "    "
   ]
  },
  {
   "cell_type": "code",
   "execution_count": 35,
   "metadata": {},
   "outputs": [
    {
     "data": {
      "image/png": "[encoded data removed]",
      "text/plain": [
       "<Figure size 432x288 with 1 Axes>"
      ]
     },
     "metadata": {
      "needs_background": "light"
     },
     "output_type": "display_data"
    }
   ],
   "source": [
    "plt.plot(step_history, energy_history)\n",
    "plt.grid(True)\n",
    "plt.show()"
   ]
  },
  {
   "cell_type": "markdown",
   "metadata": {},
   "source": [
    "As of now, it is strange: The energy decreased rapidly then bounced into a higher level and seems to have stabilized."
   ]
  },
  {
   "cell_type": "markdown",
   "metadata": {},
   "source": [
    "Now let's compare the fitted wave function with the REAL wavefunction for the ground state:"
   ]
  },
  {
   "cell_type": "code",
   "execution_count": 36,
   "metadata": {},
   "outputs": [
    {
     "data": {
      "image/png": "[encoded data removed]",
      "text/plain": [
       "<Figure size 432x288 with 1 Axes>"
      ]
     },
     "metadata": {
      "needs_background": "light"
     },
     "output_type": "display_data"
    }
   ],
   "source": [
    "\n",
    "# Create fresh input data:\n",
    "_x = numpy.arange(-10, 10, delta, dtype=numpy.float32)\n",
    "_x = _x.reshape((_x.shape[0], 1))\n",
    "\n",
    "x = torch.autograd.Variable(torch.tensor(_x), requires_grad = True)\n",
    "\n",
    "y_exact = w_0(x)\n",
    "y_fit   = w_poly(x)\n",
    "\n",
    "x_numpy = x.detach().numpy()\n",
    "\n",
    "energy_poly = energy_computation(w_poly, x, delta)\n",
    "\n",
    "plt.plot(x_numpy, y_exact.detach().numpy(), label=\"Exact solution\")\n",
    "plt.plot(x_numpy, y_fit.detach().numpy(), label=f\"Polynomial Fit, E={energy:.2}\")\n",
    "plt.grid(True)\n",
    "plt.legend()\n",
    "plt.show()"
   ]
  },
  {
   "cell_type": "markdown",
   "metadata": {},
   "source": [
    "For completeness, we should also plot the probability distribution:"
   ]
  },
  {
   "cell_type": "code",
   "execution_count": 37,
   "metadata": {},
   "outputs": [
    {
     "data": {
      "image/png": "[encoded data removed]",
      "text/plain": [
       "<Figure size 432x288 with 1 Axes>"
      ]
     },
     "metadata": {
      "needs_background": "light"
     },
     "output_type": "display_data"
    }
   ],
   "source": [
    "\n",
    "# Create fresh input data:\n",
    "_x = numpy.arange(-10, 10, delta, dtype=numpy.float32)\n",
    "_x = _x.reshape((_x.shape[0], 1))\n",
    "\n",
    "x = torch.autograd.Variable(torch.tensor(_x), requires_grad = True)\n",
    "\n",
    "p_exact = w_0(x)**2\n",
    "p_fit   = w_poly(x)**2\n",
    "\n",
    "x_numpy = x.detach().numpy()\n",
    "\n",
    "energy_poly = energy_computation(w_poly, x, delta)\n",
    "\n",
    "plt.plot(x_numpy, p_exact.detach().numpy(), label=\"Exact solution\")\n",
    "plt.plot(x_numpy, p_fit.detach().numpy(), label=f\"Polynomial Fit, E={energy:.2}\")\n",
    "plt.grid(True)\n",
    "plt.legend()\n",
    "plt.show()"
   ]
  },
  {
   "cell_type": "markdown",
   "metadata": {},
   "source": [
    "Here are the parameters of the network:"
   ]
  },
  {
   "cell_type": "code",
   "execution_count": 38,
   "metadata": {},
   "outputs": [
    {
     "name": "stdout",
     "output_type": "stream",
     "text": [
      "const term fit:  tensor(0.7621)\n",
      "linear term fit:  tensor(0.0170)\n",
      "quad term fit:  tensor(-0.0326)\n",
      "norm term fit:  tensor([1.0767])\n"
     ]
    }
   ],
   "source": [
    "\n",
    "print(\"const term fit: \", w_poly.const.data)\n",
    "print(\"linear term fit: \", w_poly.linear.data)\n",
    "print(\"quad term fit: \", w_poly.quad.data)\n",
    "print(\"norm term fit: \", w_poly.norm.data)\n",
    "\n"
   ]
  },
  {
   "cell_type": "markdown",
   "metadata": {},
   "source": [
    "In a perfect fit, we expect the linear and quadratic terms to go to 0.0 and the constant term to stay != 0.  The absolute normalization is not of much importance."
   ]
  },
  {
   "cell_type": "markdown",
   "metadata": {},
   "source": [
    "Here, we do the same process for the neural network wave function:"
   ]
  },
  {
   "cell_type": "code",
   "execution_count": 39,
   "metadata": {},
   "outputs": [
    {
     "name": "stdout",
     "output_type": "stream",
     "text": [
      "tensor(17.3775, grad_fn=<DivBackward0>)\n",
      "tensor(1.5330, grad_fn=<DivBackward0>)\n",
      "tensor(1.1555, grad_fn=<DivBackward0>)\n",
      "tensor(1.3213, grad_fn=<DivBackward0>)\n",
      "tensor(1.0387, grad_fn=<DivBackward0>)\n",
      "tensor(0.8954, grad_fn=<DivBackward0>)\n",
      "tensor(0.7864, grad_fn=<DivBackward0>)\n",
      "tensor(0.7117, grad_fn=<DivBackward0>)\n",
      "tensor(0.6655, grad_fn=<DivBackward0>)\n",
      "tensor(0.6366, grad_fn=<DivBackward0>)\n",
      "tensor(0.6159, grad_fn=<DivBackward0>)\n",
      "tensor(0.5992, grad_fn=<DivBackward0>)\n",
      "tensor(0.5850, grad_fn=<DivBackward0>)\n",
      "tensor(0.5727, grad_fn=<DivBackward0>)\n",
      "tensor(0.5621, grad_fn=<DivBackward0>)\n",
      "tensor(0.5529, grad_fn=<DivBackward0>)\n",
      "tensor(0.5450, grad_fn=<DivBackward0>)\n",
      "tensor(0.5382, grad_fn=<DivBackward0>)\n",
      "tensor(0.5323, grad_fn=<DivBackward0>)\n",
      "tensor(0.5274, grad_fn=<DivBackward0>)\n",
      "tensor(0.5232, grad_fn=<DivBackward0>)\n",
      "tensor(0.5197, grad_fn=<DivBackward0>)\n",
      "tensor(0.5167, grad_fn=<DivBackward0>)\n",
      "tensor(0.5141, grad_fn=<DivBackward0>)\n",
      "tensor(0.5120, grad_fn=<DivBackward0>)\n",
      "tensor(0.5102, grad_fn=<DivBackward0>)\n",
      "tensor(0.5087, grad_fn=<DivBackward0>)\n",
      "tensor(0.5075, grad_fn=<DivBackward0>)\n",
      "tensor(0.5064, grad_fn=<DivBackward0>)\n",
      "tensor(0.5055, grad_fn=<DivBackward0>)\n",
      "tensor(0.5048, grad_fn=<DivBackward0>)\n",
      "tensor(0.5042, grad_fn=<DivBackward0>)\n",
      "tensor(0.5037, grad_fn=<DivBackward0>)\n",
      "tensor(0.5033, grad_fn=<DivBackward0>)\n",
      "tensor(0.5030, grad_fn=<DivBackward0>)\n",
      "tensor(0.5028, grad_fn=<DivBackward0>)\n",
      "tensor(0.5027, grad_fn=<DivBackward0>)\n",
      "tensor(0.5026, grad_fn=<DivBackward0>)\n",
      "tensor(0.5026, grad_fn=<DivBackward0>)\n",
      "tensor(0.5026, grad_fn=<DivBackward0>)\n",
      "tensor(0.5026, grad_fn=<DivBackward0>)\n",
      "tensor(0.5027, grad_fn=<DivBackward0>)\n",
      "tensor(0.5029, grad_fn=<DivBackward0>)\n",
      "tensor(0.5030, grad_fn=<DivBackward0>)\n",
      "tensor(0.5032, grad_fn=<DivBackward0>)\n",
      "tensor(0.5034, grad_fn=<DivBackward0>)\n",
      "tensor(0.5037, grad_fn=<DivBackward0>)\n",
      "tensor(0.5040, grad_fn=<DivBackward0>)\n",
      "tensor(0.5043, grad_fn=<DivBackward0>)\n",
      "tensor(0.5046, grad_fn=<DivBackward0>)\n"
     ]
    }
   ],
   "source": [
    "w_nn = NeuralWavefunction()\n",
    "delta = 0.001\n",
    "\n",
    "optimizer = torch.optim.Adam(w_nn.parameters(),lr=0.001, weight_decay=1e-3)\n",
    "\n",
    "energy_history = []\n",
    "step_history = []\n",
    "\n",
    "for i in range(5000):\n",
    "    energy = training_step(w_nn, optimizer, delta)\n",
    "    if i % 100 == 0: print(energy)\n",
    "    \n",
    "    energy_history.append(energy.detach().numpy())\n",
    "    step_history.append(i)\n",
    "\n",
    "\n",
    "\n",
    "\n",
    "\n"
   ]
  },
  {
   "cell_type": "code",
   "execution_count": 40,
   "metadata": {},
   "outputs": [
    {
     "data": {
      "image/png": "[encoded data removed]",
      "text/plain": [
       "<Figure size 432x288 with 1 Axes>"
      ]
     },
     "metadata": {
      "needs_background": "light"
     },
     "output_type": "display_data"
    }
   ],
   "source": [
    "plt.plot(step_history, energy_history)\n",
    "plt.grid(True)\n",
    "plt.show()"
   ]
  },
  {
   "cell_type": "markdown",
   "metadata": {},
   "source": [
    "As before, let's compare the exact and learned wavefunctions:"
   ]
  },
  {
   "cell_type": "code",
   "execution_count": 41,
   "metadata": {},
   "outputs": [
    {
     "data": {
      "image/png": "[encoded data removed]",
      "text/plain": [
       "<Figure size 432x288 with 1 Axes>"
      ]
     },
     "metadata": {
      "needs_background": "light"
     },
     "output_type": "display_data"
    }
   ],
   "source": [
    "\n",
    "# Create fresh input data:\n",
    "_x = numpy.arange(-10, 10, delta, dtype=numpy.float32)\n",
    "_x = _x.reshape((_x.shape[0], 1))\n",
    "\n",
    "x = torch.autograd.Variable(torch.tensor(_x), requires_grad = True)\n",
    "\n",
    "y_exact = w_0(x)\n",
    "y_fit   = w_nn(x)\n",
    "\n",
    "x_numpy = x.detach().numpy()\n",
    "\n",
    "energy_poly = energy_computation(w_poly, x, delta)\n",
    "\n",
    "plt.plot(x_numpy, y_exact.detach().numpy(), label=\"Exact solution\")\n",
    "plt.plot(x_numpy, y_fit.detach().numpy(), label=f\"Neural Network Fit, E={energy:.2}\")\n",
    "plt.grid(True)\n",
    "plt.legend()\n",
    "plt.show()"
   ]
  },
  {
   "cell_type": "markdown",
   "metadata": {},
   "source": [
    "And the energy:"
   ]
  },
  {
   "cell_type": "code",
   "execution_count": 42,
   "metadata": {},
   "outputs": [
    {
     "data": {
      "image/png": "[encoded data removed]",
      "text/plain": [
       "<Figure size 432x288 with 1 Axes>"
      ]
     },
     "metadata": {
      "needs_background": "light"
     },
     "output_type": "display_data"
    }
   ],
   "source": [
    "\n",
    "# Create fresh input data:\n",
    "_x = numpy.arange(-10, 10, delta, dtype=numpy.float32)\n",
    "_x = _x.reshape((_x.shape[0], 1))\n",
    "\n",
    "x = torch.autograd.Variable(torch.tensor(_x), requires_grad = True)\n",
    "\n",
    "p_exact = w_0(x)**2\n",
    "p_fit   = w_nn(x)**2\n",
    "\n",
    "x_numpy = x.detach().numpy()\n",
    "\n",
    "energy_poly = energy_computation(w_poly, x, delta)\n",
    "\n",
    "plt.plot(x_numpy, p_exact.detach().numpy(), label=\"Exact solution\")\n",
    "plt.plot(x_numpy, p_fit.detach().numpy(), label=f\"Neural Network Fit, E={energy:.2}\")\n",
    "plt.grid(True)\n",
    "plt.legend()\n",
    "plt.show()"
   ]
  },
  {
   "cell_type": "markdown",
   "metadata": {},
   "source": [
    "## Higher level states\n",
    "\n",
    "Can we use ML techniques to learn higher level states?  The next wave function needs to be orthogonal to the ground state, so if our approximation is good, we should be able to minimize the energy and the orthogonal-ness of the first excited state at the same time."
   ]
  },
  {
   "cell_type": "code",
   "execution_count": 45,
   "metadata": {},
   "outputs": [],
   "source": [
    "def training_step_excited_state(wavefunction, known_wavefunction, optimizer, delta, alpha=5):\n",
    "    # Clear all gradients from the optimizer:\n",
    "    optimizer.zero_grad()\n",
    "    \n",
    "    # Create fresh input data:\n",
    "    _x = numpy.arange(-10, 10, delta, dtype=numpy.float32)\n",
    "    _x = _x.reshape((_x.shape[0], 1))\n",
    "\n",
    "    x = torch.autograd.Variable(torch.tensor(_x), requires_grad = True)\n",
    "\n",
    "    # Compute the energy:\n",
    "    energy = energy_computation(wavefunction, x, delta)\n",
    "\n",
    "    # Now, we have the energy.  We should make sure it is orthogonal to the known wavefunction:\n",
    "    y1 = wavefunction(x)\n",
    "    y0 = known_wavefunction(x)\n",
    "    ortho = torch.sum(y0 * y1) * delta\n",
    "    \n",
    "    energy += alpha*ortho**2\n",
    "    \n",
    "    # We back-prop'd through the wave function once already in the energy computation.  Clear the gradients:\n",
    "    wavefunction.zero_grad()\n",
    "    \n",
    "    energy.backward(retain_graph=True)\n",
    "\n",
    "    optimizer.step()\n",
    "    \n",
    "    # Lastly, update the normaliztion \n",
    "    wavefunction.update_normalization(x)\n",
    "\n",
    "    return  energy - alpha*ortho, ortho\n",
    "\n",
    "\n"
   ]
  },
  {
   "cell_type": "code",
   "execution_count": 46,
   "metadata": {
    "scrolled": true
   },
   "outputs": [
    {
     "name": "stdout",
     "output_type": "stream",
     "text": [
      "Step 0, E ==17.90654945373535, Orthogonality=0.14177972078323364\n",
      "Step 100, E ==19.371417999267578, Orthogonality=-0.42262598872184753\n",
      "Step 200, E ==9.350375175476074, Orthogonality=-0.7703830003738403\n",
      "Step 300, E ==12.022425651550293, Orthogonality=-0.7678571343421936\n",
      "Step 400, E ==18.953968048095703, Orthogonality=-0.44033539295196533\n",
      "Step 500, E ==11.952428817749023, Orthogonality=-0.7936426997184753\n",
      "Step 600, E ==10.387229919433594, Orthogonality=-0.7821113467216492\n",
      "Step 700, E ==8.773139953613281, Orthogonality=-0.7480602264404297\n",
      "Step 800, E ==9.334588050842285, Orthogonality=-0.6927585005760193\n",
      "Step 900, E ==14.334228515625, Orthogonality=-0.6086705327033997\n",
      "Step 1000, E ==15.46530532836914, Orthogonality=-0.11477971076965332\n",
      "Step 1100, E ==6.918178558349609, Orthogonality=-0.4199848473072052\n",
      "Step 1200, E ==3.4061012268066406, Orthogonality=-0.11350009590387344\n",
      "Step 1300, E ==2.6905882358551025, Orthogonality=-0.05280487984418869\n",
      "Step 1400, E ==2.4459750652313232, Orthogonality=-0.03145994618535042\n",
      "Step 1500, E ==2.2871687412261963, Orthogonality=-0.021124187856912613\n",
      "Step 1600, E ==2.1709413528442383, Orthogonality=-0.015449702739715576\n",
      "Step 1700, E ==2.0809786319732666, Orthogonality=-0.012101148255169392\n",
      "Step 1800, E ==2.009000062942505, Orthogonality=-0.009974446147680283\n",
      "Step 1900, E ==1.9502321481704712, Orthogonality=-0.008511282503604889\n",
      "Step 2000, E ==1.9017086029052734, Orthogonality=-0.007430362515151501\n",
      "Step 2100, E ==1.8613587617874146, Orthogonality=-0.00657364958897233\n",
      "Step 2200, E ==1.827696442604065, Orthogonality=-0.00585800688713789\n",
      "Step 2300, E ==1.7995795011520386, Orthogonality=-0.005236192140728235\n",
      "Step 2400, E ==1.7761064767837524, Orthogonality=-0.004681716673076153\n",
      "Step 2500, E ==1.7565420866012573, Orthogonality=-0.004178155679255724\n",
      "Step 2600, E ==1.7402622699737549, Orthogonality=-0.003711821511387825\n",
      "Step 2700, E ==1.7267730236053467, Orthogonality=-0.00327813858166337\n",
      "Step 2800, E ==1.715653896331787, Orthogonality=-0.0028727964963763952\n",
      "Step 2900, E ==1.7065401077270508, Orthogonality=-0.0024907393380999565\n",
      "Step 3000, E ==1.699131965637207, Orthogonality=-0.0021290029399096966\n",
      "Step 3100, E ==1.6931772232055664, Orthogonality=-0.0017856031190603971\n",
      "Step 3200, E ==1.6884671449661255, Orthogonality=-0.001459333230741322\n",
      "Step 3300, E ==1.6848032474517822, Orthogonality=-0.001144900219514966\n",
      "Step 3400, E ==1.6820402145385742, Orthogonality=-0.0008422554819844663\n",
      "Step 3500, E ==1.6800435781478882, Orthogonality=-0.0005490516196005046\n",
      "Step 3600, E ==1.6787068843841553, Orthogonality=-0.00026476779021322727\n",
      "Step 3700, E ==1.6779296398162842, Orthogonality=1.3238980500318576e-05\n",
      "Step 3800, E ==1.677626371383667, Orthogonality=0.00028632028261199594\n",
      "Step 3900, E ==1.6777297258377075, Orthogonality=0.0005552467773668468\n",
      "Step 4000, E ==1.6781818866729736, Orthogonality=0.0008195172995328903\n",
      "Step 4100, E ==1.678924798965454, Orthogonality=0.001080901944078505\n",
      "Step 4200, E ==1.6799145936965942, Orthogonality=0.0013383139157667756\n",
      "Step 4300, E ==1.6811087131500244, Orthogonality=0.0015928336651995778\n",
      "Step 4400, E ==1.6824761629104614, Orthogonality=0.0018421406857669353\n",
      "Step 4500, E ==1.6839779615402222, Orthogonality=0.0020865879487246275\n",
      "Step 4600, E ==1.6855868101119995, Orthogonality=0.0023247357457876205\n",
      "Step 4700, E ==1.687279224395752, Orthogonality=0.0025550122372806072\n",
      "Step 4800, E ==1.689031720161438, Orthogonality=0.002775752916932106\n",
      "Step 4900, E ==1.6908190250396729, Orthogonality=0.0029864185489714146\n"
     ]
    }
   ],
   "source": [
    "w_nn_excited = NeuralWavefunction()\n",
    "delta = 0.001\n",
    "\n",
    "optimizer = torch.optim.Adam(w_nn_excited.parameters(),lr=0.001, weight_decay=1e-3)\n",
    "\n",
    "energy_history = []\n",
    "ortho_history = []\n",
    "step_history = []\n",
    "\n",
    "for i in range(5000):\n",
    "    energy, ortho = training_step_excited_state(w_nn_excited, w_nn, optimizer, delta)\n",
    "    if i % 100 == 0:\n",
    "        print(f\"Step {i}, E =={energy.data}, Orthogonality={ortho.data}\")\n",
    "    \n",
    "    energy_history.append(energy.detach().numpy())\n",
    "    ortho_history.append(energy.detach().numpy())\n",
    "    step_history.append(i)\n",
    "\n",
    "\n",
    "\n"
   ]
  },
  {
   "cell_type": "markdown",
   "metadata": {},
   "source": [
    "##### "
   ]
  },
  {
   "cell_type": "markdown",
   "metadata": {},
   "source": [
    "In principle, this *ought* to come out somewhere near the first excited state.  Let's take a look at the wavefunctions:"
   ]
  },
  {
   "cell_type": "code",
   "execution_count": 47,
   "metadata": {},
   "outputs": [
    {
     "data": {
      "image/png": "[encoded data removed]",
      "text/plain": [
       "<Figure size 432x288 with 1 Axes>"
      ]
     },
     "metadata": {
      "needs_background": "light"
     },
     "output_type": "display_data"
    }
   ],
   "source": [
    "\n",
    "# Create fresh input data:\n",
    "_x = numpy.arange(-10, 10, delta, dtype=numpy.float32)\n",
    "_x = _x.reshape((_x.shape[0], 1))\n",
    "\n",
    "x = torch.autograd.Variable(torch.tensor(_x), requires_grad = True)\n",
    "\n",
    "y_exact = w_1(x)\n",
    "y_fit   = w_nn_excited(x)\n",
    "\n",
    "x_numpy = x.detach().numpy()\n",
    "\n",
    "energy_poly = energy_computation(w_poly, x, delta)\n",
    "\n",
    "plt.plot(x_numpy, y_exact.detach().numpy(), label=\"Exact solution\")\n",
    "plt.plot(x_numpy, y_fit.detach().numpy(), label=f\"Neural Network Fit, E={energy:.2}\")\n",
    "plt.grid(True)\n",
    "plt.legend()\n",
    "plt.show()\n"
   ]
  },
  {
   "cell_type": "code",
   "execution_count": 48,
   "metadata": {},
   "outputs": [
    {
     "data": {
      "image/png": "[encoded data removed]",
      "text/plain": [
       "<Figure size 432x288 with 1 Axes>"
      ]
     },
     "metadata": {
      "needs_background": "light"
     },
     "output_type": "display_data"
    }
   ],
   "source": [
    "\n",
    "# Create fresh input data:\n",
    "_x = numpy.arange(-10, 10, delta, dtype=numpy.float32)\n",
    "_x = _x.reshape((_x.shape[0], 1))\n",
    "\n",
    "x = torch.autograd.Variable(torch.tensor(_x), requires_grad = True)\n",
    "\n",
    "p_exact = w_1(x)**2\n",
    "p_fit   = w_nn_excited(x)**2\n",
    "\n",
    "x_numpy = x.detach().numpy()\n",
    "\n",
    "energy_poly = energy_computation(w_poly, x, delta)\n",
    "\n",
    "plt.plot(x_numpy, p_exact.detach().numpy(), label=\"Exact solution\")\n",
    "plt.plot(x_numpy, p_fit.detach().numpy(), label=f\"Neural Network Fit, E={energy:.2}\")\n",
    "plt.grid(True)\n",
    "plt.legend()\n",
    "plt.show()"
   ]
  },
  {
   "cell_type": "markdown",
   "metadata": {},
   "source": [
    "All in all, this is not a terrible solution to the second excited state.  Likely more sophisticate optimization tricks can make this better."
   ]
  },
  {
   "cell_type": "code",
   "execution_count": null,
   "metadata": {},
   "outputs": [],
   "source": []
  }
 ],
 "metadata": {
  "kernelspec": {
   "display_name": "Python 3",
   "language": "python",
   "name": "python3"
  },
  "language_info": {
   "codemirror_mode": {
    "name": "ipython",
    "version": 3
   },
   "file_extension": ".py",
   "mimetype": "text/x-python",
   "name": "python",
   "nbconvert_exporter": "python",
   "pygments_lexer": "ipython3",
   "version": "3.6.10"
  }
 },
 "nbformat": 4,
 "nbformat_minor": 2
}
