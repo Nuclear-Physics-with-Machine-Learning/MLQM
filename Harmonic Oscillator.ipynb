{
 "cells": [
  {
   "cell_type": "markdown",
   "metadata": {},
   "source": [
    "# Quantum Harmonic Oscillator\n",
    "\n",
    "In this notebook we'll solve the quantum harmonic oscillator with machine learning techniques.\n",
    "\n",
    "The Hamiltonian of the oscillator is:\n",
    "\n",
    "$$ H = \\frac{1}{2m}p^2 + \\frac{m \\omega^2}{2}x^2 $$"
   ]
  },
  {
   "cell_type": "markdown",
   "metadata": {},
   "source": [
    "According to the variational principle of quantum mechanics, for any wave function $|\\psi>$, \n",
    "\n",
    "$$ < \\psi | H | \\psi > ~ \\ge ~ E_0 $$"
   ]
  },
  {
   "cell_type": "markdown",
   "metadata": {},
   "source": [
    "When substitued into the variational principle, we have:\n",
    "\n",
    "$$ \\int_{-\\infty}^{\\infty} \\psi^*(x) H \\psi(x) dx $$\n",
    "$$ \\int_{-\\infty}^{\\infty} \\psi^*(x) [\\frac{1}{2m}p^2 + \\frac{m \\omega^2}{2}x^2 ] \\psi(x) dx$$"
   ]
  },
  {
   "cell_type": "markdown",
   "metadata": {},
   "source": [
    "Subsituting $p = -i \\hbar \\frac{\\partial}{\\partial x}$ :\n",
    "$$ \\int_{-\\infty}^{\\infty} \\psi^*(x) \\frac{1}{2m}[- \\hbar]^2 \\frac{\\partial^2}{\\partial x ^2}   \\psi dx + \\int_{-\\infty}^{\\infty} \\psi^* \\frac{m \\omega^2}{2}x^2  \\psi(x) dx$$\n",
    "\n",
    "$$ \\frac{-\\hbar^2}{2m} \\int_{-\\infty}^{\\infty} \\psi^*(x)  \\frac{\\partial^2}{\\partial x ^2}   \\psi dx + \\frac{m \\omega^2}{2} \\int_{-\\infty}^{\\infty} \\psi^* x^2  \\psi(x) dx $$"
   ]
  },
  {
   "cell_type": "markdown",
   "metadata": {},
   "source": [
    "To solve this numerically, let's integrate by parts to turn a second derivative into two first derivatives:\n",
    "$$ < \\psi | H | \\psi > = \\frac{m \\omega^2}{2} \\int_{-\\infty}^{\\infty} \\psi^* x^2  \\psi(x) dx - \\frac{\\hbar^2}{2m} \\left[\\psi^*(x)\\frac{\\partial \\psi (x)}{\\partial x}  \\Biggr|_{-\\infty}^{\\infty}  - \\int_{-\\infty}^{\\infty} \\frac{\\partial \\psi^*(x)}{\\partial x} \\frac{\\partial \\psi(x)}{\\partial x} dx \\right] $$"
   ]
  },
  {
   "cell_type": "markdown",
   "metadata": {},
   "source": [
    "The wavefunctions for the harmonic oscillator have to got to zero at $\\pm \\infty$, so the first term in the integration by parts can be dropped.  Then, the total integral to evaluate is:\n",
    "\n",
    "$$ < \\psi | H | \\psi > = \\frac{m \\omega^2}{2} \\int_{-\\infty}^{\\infty} \\psi^* x^2  \\psi(x) dx + \\frac{\\hbar^2}{2m}  \\int_{-\\infty}^{\\infty} \\frac{\\partial \\psi^*(x)}{\\partial x} \\frac{\\partial \\psi(x)}{\\partial x} dx $$"
   ]
  },
  {
   "cell_type": "markdown",
   "metadata": {},
   "source": [
    "We have assumed above that the wave functions are normalized, but with ou approximation scheme we won't have normalized wavefunctions.  In this case, let's add in the normalization ourselves:"
   ]
  },
  {
   "cell_type": "markdown",
   "metadata": {},
   "source": [
    "$$ < \\psi | H | \\psi > = \\frac{1}{N} \\left[\\frac{m \\omega^2}{2} \\int_{-\\infty}^{\\infty} \\psi^* x^2  \\psi(x) dx + \\frac{\\hbar^2}{2m}  \\int_{-\\infty}^{\\infty} \\frac{\\partial \\psi^*(x)}{\\partial x} \\frac{\\partial \\psi(x)}{\\partial x} dx \\right]$$\n",
    "where \n",
    "$$ N = \\int_{-\\infty}^{\\infty} \\psi^*(x) \\psi(x) dx $$"
   ]
  },
  {
   "cell_type": "markdown",
   "metadata": {},
   "source": [
    "To solve this, and estimate the ground state energy of the system, we need to find a wave function and estimate these two integrals.\n",
    "\n",
    "We will use a pytorch module to approximate our wavefunction, which we can then differentiate.  The requirements of this system are that:\n",
    "- the wavefunction must be normalizable\n",
    "- the wavefunction must go to zero at $\\pm \\infty$"
   ]
  },
  {
   "cell_type": "code",
   "execution_count": 1,
   "metadata": {},
   "outputs": [],
   "source": [
    "import numpy\n",
    "import torch\n",
    "from matplotlib import pyplot as plt"
   ]
  },
  {
   "cell_type": "code",
   "execution_count": 2,
   "metadata": {},
   "outputs": [],
   "source": [
    "omega = 1.0\n",
    "hbar  = 1.0\n",
    "M     = 1\n",
    "delta = 0.5"
   ]
  },
  {
   "cell_type": "code",
   "execution_count": 26,
   "metadata": {},
   "outputs": [],
   "source": [
    "class Wavefunction(torch.nn.Module):\n",
    "    \n",
    "    def __init__(self):\n",
    "        torch.nn.Module.__init__(self)\n",
    "        \n",
    "#         self.layer1 = torch.nn.Linear(1,64)\n",
    "#         self.layer2 = torch.nn.Linear(64, 1)\n",
    "    \n",
    "        self.const  = torch.nn.Parameter(torch.tensor(0.1), requires_grad=True)\n",
    "        self.linear = torch.nn.Parameter(torch.tensor(0.0), requires_grad=True)\n",
    "        self.quad   = torch.nn.Parameter(torch.tensor(0.0), requires_grad=True)\n",
    "\n",
    "        self.norm   = torch.Tensor([1.0])\n",
    "    \n",
    "        self.exponent = torch.nn.Parameter(torch.tensor(1.0), requires_grad=True)\n",
    "\n",
    "\n",
    "    def forward(self, inputs):\n",
    "        x = inputs\n",
    "#         x = self.layer1(x)\n",
    "#         x = torch.sigmoid(x)\n",
    "#         x = self.layer2(x)\n",
    "    \n",
    "        poly = self.const + self.linear * x + self.quad * x**2\n",
    "\n",
    "        # Multiply by a factor to enforce normalization and boundary conditions:\n",
    "        # Note the exponent is within the power of 2 to make it's sign irrelevant\n",
    "        x = self.norm *  poly * torch.exp(- 0.5*(self.exponent * inputs) **2)\n",
    "        return x\n",
    "    \n",
    "    def update_normalization(self, inputs):\n",
    "        # Inputs is expected to be a range of parameters along an x axis.\n",
    "        \n",
    "        value = self.forward(inputs)\n",
    "        N = value ** 2\n",
    "        \n",
    "        delta = inputs[1]-inputs[0]\n",
    "        \n",
    "        N = torch.sum(N) * delta\n",
    "        \n",
    "        self.norm = 1/torch.sqrt(N)\n",
    "        \n",
    "        # The normalization condition is that the integral of the wavefunction squared\n",
    "        # should be equal to 1 (probability sums to 1.)\n",
    "        \n",
    "        return\n",
    "    \n",
    "    def analytic_derivative(self, inputs):\n",
    "        \n",
    "        poly = self.const + self.linear * x + self.quad * x**2\n",
    "        poly_prime = self.linear + 2 * self.quad * inputs\n",
    "        exp = torch.exp(- 0.5*(self.exponent * inputs) **2)\n",
    "        \n",
    "        res = exp * (-inputs) *poly + poly_prime * exp\n",
    "        \n",
    "        return self.norm * res\n",
    "    \n",
    "    def zero_grad(self):\n",
    "        \"\"\"Sets gradients of all model parameters to zero.\"\"\"\n",
    "        for p in self.parameters():\n",
    "            if p.grad is not None:\n",
    "                p.grad.data.zero_()"
   ]
  },
  {
   "cell_type": "code",
   "execution_count": null,
   "metadata": {},
   "outputs": [],
   "source": [
    "\n",
    "    "
   ]
  },
  {
   "cell_type": "code",
   "execution_count": 27,
   "metadata": {},
   "outputs": [],
   "source": [
    "w = Wavefunction()\n"
   ]
  },
  {
   "cell_type": "markdown",
   "metadata": {},
   "source": [
    "Let's create a test vector to see what the wavefunction looks like so far:"
   ]
  },
  {
   "cell_type": "code",
   "execution_count": 28,
   "metadata": {},
   "outputs": [
    {
     "name": "stdout",
     "output_type": "stream",
     "text": [
      "(800,)\n",
      "torch.Size([800])\n"
     ]
    }
   ],
   "source": [
    "_x = numpy.arange(-20, 20, 0.05, dtype=numpy.float32)\n",
    "print(_x.shape)\n",
    "\n",
    "x = torch.autograd.Variable(torch.tensor(_x), requires_grad = True)\n",
    "print(x.shape)\n"
   ]
  },
  {
   "cell_type": "code",
   "execution_count": 29,
   "metadata": {},
   "outputs": [],
   "source": [
    "val = w(x)\n"
   ]
  },
  {
   "cell_type": "code",
   "execution_count": 30,
   "metadata": {},
   "outputs": [],
   "source": [
    "\n",
    "torch.sum(val).backward()"
   ]
  },
  {
   "cell_type": "code",
   "execution_count": 31,
   "metadata": {},
   "outputs": [
    {
     "name": "stdout",
     "output_type": "stream",
     "text": [
      "tensor(3.7253e-09, grad_fn=<MaxBackward1>)\n"
     ]
    }
   ],
   "source": [
    "print(torch.max(x.grad - w.analytic_derivative(x)))"
   ]
  },
  {
   "cell_type": "code",
   "execution_count": null,
   "metadata": {},
   "outputs": [],
   "source": []
  },
  {
   "cell_type": "code",
   "execution_count": null,
   "metadata": {},
   "outputs": [],
   "source": []
  },
  {
   "cell_type": "markdown",
   "metadata": {},
   "source": [
    "The shaping scheme above is a bit artificial but it makes each input into the wavefunction approximator a \"batch\"."
   ]
  },
  {
   "cell_type": "code",
   "execution_count": 32,
   "metadata": {},
   "outputs": [
    {
     "name": "stdout",
     "output_type": "stream",
     "text": [
      "tensor(7.5113, grad_fn=<MulBackward0>)\n"
     ]
    }
   ],
   "source": [
    "w.update_normalization(x)\n",
    "print(w.norm)\n",
    "psi = w(x)"
   ]
  },
  {
   "cell_type": "markdown",
   "metadata": {},
   "source": [
    "To trigger torch to compute the derivative on all X, we need a scalar.  Sumation has a derivative of 1 for every object being summed and therefore we can use it as a proxy:"
   ]
  },
  {
   "cell_type": "code",
   "execution_count": 33,
   "metadata": {},
   "outputs": [],
   "source": [
    "x.grad.zero_()\n",
    "w.zero_grad()\n",
    "torch.sum(psi).backward(retain_graph=True)"
   ]
  },
  {
   "cell_type": "code",
   "execution_count": 34,
   "metadata": {},
   "outputs": [],
   "source": [
    "autograd = x.grad\n",
    "analytic = w.analytic_derivative(x)"
   ]
  },
  {
   "cell_type": "code",
   "execution_count": null,
   "metadata": {},
   "outputs": [],
   "source": []
  },
  {
   "cell_type": "markdown",
   "metadata": {},
   "source": [
    "We also have the derivative of our wave function with respect to it's parameters, differentiating the sum."
   ]
  },
  {
   "cell_type": "markdown",
   "metadata": {},
   "source": [
    "Let's plot the wave function and it's "
   ]
  },
  {
   "cell_type": "code",
   "execution_count": 35,
   "metadata": {},
   "outputs": [
    {
     "data": {
      "text/plain": [
       "[Parameter containing:\n",
       " tensor(0.1000, requires_grad=True), Parameter containing:\n",
       " tensor(0., requires_grad=True), Parameter containing:\n",
       " tensor(0., requires_grad=True), Parameter containing:\n",
       " tensor(1., requires_grad=True)]"
      ]
     },
     "execution_count": 35,
     "metadata": {},
     "output_type": "execute_result"
    }
   ],
   "source": [
    "list(w.parameters())"
   ]
  },
  {
   "cell_type": "code",
   "execution_count": 36,
   "metadata": {},
   "outputs": [
    {
     "data": {
      "text/plain": [
       "Parameter containing:\n",
       "tensor(1., requires_grad=True)"
      ]
     },
     "execution_count": 36,
     "metadata": {},
     "output_type": "execute_result"
    }
   ],
   "source": [
    "w.exponent"
   ]
  },
  {
   "cell_type": "markdown",
   "metadata": {},
   "source": [
    "Let's look at our function:"
   ]
  },
  {
   "cell_type": "code",
   "execution_count": 37,
   "metadata": {},
   "outputs": [
    {
     "data": {
      "image/png": "[encoded data removed]",
      "text/plain": [
       "<Figure size 432x288 with 1 Axes>"
      ]
     },
     "metadata": {
      "needs_background": "light"
     },
     "output_type": "display_data"
    }
   ],
   "source": [
    "x_numpy = x.detach().numpy()\n",
    "psi_numpy = psi.detach().numpy()\n",
    "\n",
    "plt.plot(x_numpy, psi_numpy)\n",
    "plt.grid(True)\n",
    "plt.show()"
   ]
  },
  {
   "cell_type": "markdown",
   "metadata": {},
   "source": [
    "Right now, it just looks like a gaussian which makes sense since that is the normalization factor.  Let's compute the normalization:"
   ]
  },
  {
   "cell_type": "code",
   "execution_count": 38,
   "metadata": {},
   "outputs": [],
   "source": [
    "def normalization(wavefunction, inputs):\n",
    "    return torch.sum(wavefunction(inputs) ** 2) * delta"
   ]
  },
  {
   "cell_type": "code",
   "execution_count": 39,
   "metadata": {},
   "outputs": [
    {
     "name": "stdout",
     "output_type": "stream",
     "text": [
      "tensor(2.0000, grad_fn=<MulBackward0>)\n"
     ]
    }
   ],
   "source": [
    "norm = normalization(w, x)\n",
    "print(norm)"
   ]
  },
  {
   "cell_type": "markdown",
   "metadata": {},
   "source": [
    "Now we can compute the other terms in the hamiltonian:"
   ]
  },
  {
   "cell_type": "code",
   "execution_count": 40,
   "metadata": {},
   "outputs": [],
   "source": [
    "def potential_energy(wavefunction, inputs, k):\n",
    "    temp = 0.5*(M * omega **2) * wavefunction(inputs)**2 * inputs**2\n",
    "    return torch.sum(temp) * delta"
   ]
  },
  {
   "cell_type": "code",
   "execution_count": 41,
   "metadata": {},
   "outputs": [],
   "source": [
    "pe = potential_energy(w, x, k=1)"
   ]
  },
  {
   "cell_type": "code",
   "execution_count": 42,
   "metadata": {},
   "outputs": [],
   "source": [
    "def kinetic_energy(wavefunction_prime,):\n",
    "    return (hbar**2 / (2 *M)) * torch.sum(wavefunction_prime**2) * delta"
   ]
  },
  {
   "cell_type": "code",
   "execution_count": 43,
   "metadata": {},
   "outputs": [],
   "source": [
    "ke = kinetic_energy(x.grad)"
   ]
  },
  {
   "cell_type": "markdown",
   "metadata": {},
   "source": [
    "Therefore, the computed energy for this wavefunction is:"
   ]
  },
  {
   "cell_type": "code",
   "execution_count": 44,
   "metadata": {},
   "outputs": [],
   "source": [
    "energy = (1/norm) * ( pe +  ke)"
   ]
  },
  {
   "cell_type": "code",
   "execution_count": 45,
   "metadata": {},
   "outputs": [
    {
     "name": "stdout",
     "output_type": "stream",
     "text": [
      "tensor(7090.4316, grad_fn=<MulBackward0>)\n"
     ]
    }
   ],
   "source": [
    "print(energy)"
   ]
  },
  {
   "cell_type": "markdown",
   "metadata": {},
   "source": [
    "The harmonic oscillator has energy levels of:\n",
    "$$ E_n = \\hbar \\omega ( n + \\frac{1}{2} ) $$\n",
    "and so the ground state is $\\hbar \\omega / 2$. For this example, with $\\hbar = 1$ and $\\omega = 1$, we expect the estimate of the energy to be greater than or equal to 1/2.  Looks good above!"
   ]
  },
  {
   "cell_type": "markdown",
   "metadata": {},
   "source": [
    "## Optimizing the wave function to find the ground state"
   ]
  },
  {
   "cell_type": "markdown",
   "metadata": {},
   "source": [
    "In the above, we used the autograd functionality to compute the expectation value of energy of a wavefunction for the harmonic oscillator.  But, now we will use autograd again to compute the derivative of the energy with respect to the wavefunction's parameters, and optimize the parameters to update the wave function."
   ]
  },
  {
   "cell_type": "code",
   "execution_count": 46,
   "metadata": {},
   "outputs": [],
   "source": [
    "def integrate(tensor, step_size):\n",
    "    return torch.sum(tensor) * step_size\n",
    "\n",
    "\n",
    "def energy_computation(wavefunction, inputs, step_size):\n",
    "    # This function takes the inputs (assumed to be a range of real value parameters)\n",
    "    # And computes the expectation value of the energy.\n",
    "    w_of_x = wavefunction(inputs)\n",
    "    \n",
    "    # Sum the wavefunction and call backwards to get the derivative of it with respect to x:\n",
    "    grad_catalyst = torch.sum(w_of_x)\n",
    "    grad_catalyst.backward(retain_graph = True)\n",
    "    \n",
    "    \n",
    "    w_prime_dx = inputs.grad\n",
    "#     w_prime_dx = w.analytic_derivative(inputs)\n",
    "    \n",
    "    # Now we can compute integrals:\n",
    "    normalization = integrate(w_of_x**2, step_size)\n",
    "    \n",
    "    pe = (0.5 * M * omega**2 ) * integrate(w_of_x**2 * inputs**2, step_size)\n",
    "    \n",
    "    ke = (hbar**2 / (2 *M)) * integrate(w_prime_dx**2, step_size)\n",
    "    \n",
    "#     print()\n",
    "#     print(\"pe: \", pe)\n",
    "#     print(\"ke: \", ke)\n",
    "#     print(\"norm: \", normalization)\n",
    "#     print()\n",
    "\n",
    "    \n",
    "    energy = (pe + ke) / normalization\n",
    "    \n",
    "    return energy"
   ]
  },
  {
   "cell_type": "code",
   "execution_count": 47,
   "metadata": {},
   "outputs": [],
   "source": [
    "def training_step(wavefunction, optimizer, delta):\n",
    "    optimizer.zero_grad()\n",
    "    _x = numpy.arange(-10, 10, delta, dtype=numpy.float32)\n",
    "    _x = _x.reshape((_x.shape[0], 1))\n",
    "\n",
    "    x = torch.autograd.Variable(torch.tensor(_x), requires_grad = True)\n",
    "\n",
    "    energy = energy_computation(wavefunction, x, delta)\n",
    "    w.zero_grad()\n",
    "    \n",
    "    energy.backward(retain_graph=True)\n",
    "#     if i % 100 == 0: print(energy)\n",
    "    optimizer.step()\n",
    "    \n",
    "    w.update_normalization(x.detach())\n",
    "\n",
    "#     print(\"Const: \", w.const.data)\n",
    "#     print(\"Linear: \", w.linear.data)\n",
    "#     print(\"Quad: \", w.quad.data)\n",
    "#     print(\"Exponent: \", w.exponent.data)\n",
    "\n",
    "    return  energy\n",
    "\n"
   ]
  },
  {
   "cell_type": "code",
   "execution_count": 48,
   "metadata": {},
   "outputs": [
    {
     "name": "stdout",
     "output_type": "stream",
     "text": [
      "tensor(0.5000, grad_fn=<DivBackward0>)\n",
      "tensor(0.6045, grad_fn=<DivBackward0>)\n",
      "tensor(0.6076, grad_fn=<DivBackward0>)\n",
      "tensor(0.6097, grad_fn=<DivBackward0>)\n"
     ]
    },
    {
     "ename": "KeyboardInterrupt",
     "evalue": "",
     "output_type": "error",
     "traceback": [
      "\u001b[0;31m---------------------------------------------------------------------------\u001b[0m",
      "\u001b[0;31mKeyboardInterrupt\u001b[0m                         Traceback (most recent call last)",
      "\u001b[0;32m<ipython-input-48-a7279fad863b>\u001b[0m in \u001b[0;36m<module>\u001b[0;34m\u001b[0m\n\u001b[1;32m      5\u001b[0m \u001b[0;34m\u001b[0m\u001b[0m\n\u001b[1;32m      6\u001b[0m \u001b[0;32mfor\u001b[0m \u001b[0mi\u001b[0m \u001b[0;32min\u001b[0m \u001b[0mrange\u001b[0m\u001b[0;34m(\u001b[0m\u001b[0;36m5000\u001b[0m\u001b[0;34m)\u001b[0m\u001b[0;34m:\u001b[0m\u001b[0;34m\u001b[0m\u001b[0;34m\u001b[0m\u001b[0m\n\u001b[0;32m----> 7\u001b[0;31m     \u001b[0menergy\u001b[0m \u001b[0;34m=\u001b[0m \u001b[0mtraining_step\u001b[0m\u001b[0;34m(\u001b[0m\u001b[0mw\u001b[0m\u001b[0;34m,\u001b[0m \u001b[0moptimizer\u001b[0m\u001b[0;34m,\u001b[0m \u001b[0mdelta\u001b[0m\u001b[0;34m)\u001b[0m\u001b[0;34m\u001b[0m\u001b[0;34m\u001b[0m\u001b[0m\n\u001b[0m\u001b[1;32m      8\u001b[0m     \u001b[0;32mif\u001b[0m \u001b[0mi\u001b[0m \u001b[0;34m%\u001b[0m \u001b[0;36m100\u001b[0m \u001b[0;34m==\u001b[0m \u001b[0;36m0\u001b[0m\u001b[0;34m:\u001b[0m \u001b[0mprint\u001b[0m\u001b[0;34m(\u001b[0m\u001b[0menergy\u001b[0m\u001b[0;34m)\u001b[0m\u001b[0;34m\u001b[0m\u001b[0;34m\u001b[0m\u001b[0m\n\u001b[1;32m      9\u001b[0m \u001b[0;34m\u001b[0m\u001b[0m\n",
      "\u001b[0;32m<ipython-input-47-3a5572ea4c7a>\u001b[0m in \u001b[0;36mtraining_step\u001b[0;34m(wavefunction, optimizer, delta)\u001b[0m\n\u001b[1;32m      9\u001b[0m     \u001b[0mw\u001b[0m\u001b[0;34m.\u001b[0m\u001b[0mzero_grad\u001b[0m\u001b[0;34m(\u001b[0m\u001b[0;34m)\u001b[0m\u001b[0;34m\u001b[0m\u001b[0;34m\u001b[0m\u001b[0m\n\u001b[1;32m     10\u001b[0m \u001b[0;34m\u001b[0m\u001b[0m\n\u001b[0;32m---> 11\u001b[0;31m     \u001b[0menergy\u001b[0m\u001b[0;34m.\u001b[0m\u001b[0mbackward\u001b[0m\u001b[0;34m(\u001b[0m\u001b[0mretain_graph\u001b[0m\u001b[0;34m=\u001b[0m\u001b[0;32mTrue\u001b[0m\u001b[0;34m)\u001b[0m\u001b[0;34m\u001b[0m\u001b[0;34m\u001b[0m\u001b[0m\n\u001b[0m\u001b[1;32m     12\u001b[0m \u001b[0;31m#     if i % 100 == 0: print(energy)\u001b[0m\u001b[0;34m\u001b[0m\u001b[0;34m\u001b[0m\u001b[0;34m\u001b[0m\u001b[0m\n\u001b[1;32m     13\u001b[0m     \u001b[0moptimizer\u001b[0m\u001b[0;34m.\u001b[0m\u001b[0mstep\u001b[0m\u001b[0;34m(\u001b[0m\u001b[0;34m)\u001b[0m\u001b[0;34m\u001b[0m\u001b[0;34m\u001b[0m\u001b[0m\n",
      "\u001b[0;32m/opt/local/Library/Frameworks/Python.framework/Versions/3.6/lib/python3.6/site-packages/torch/tensor.py\u001b[0m in \u001b[0;36mbackward\u001b[0;34m(self, gradient, retain_graph, create_graph)\u001b[0m\n\u001b[1;32m    193\u001b[0m                 \u001b[0mproducts\u001b[0m\u001b[0;34m.\u001b[0m \u001b[0mDefaults\u001b[0m \u001b[0mto\u001b[0m\u001b[0;31m \u001b[0m\u001b[0;31m`\u001b[0m\u001b[0;31m`\u001b[0m\u001b[0;32mFalse\u001b[0m\u001b[0;31m`\u001b[0m\u001b[0;31m`\u001b[0m\u001b[0;34m.\u001b[0m\u001b[0;34m\u001b[0m\u001b[0;34m\u001b[0m\u001b[0m\n\u001b[1;32m    194\u001b[0m         \"\"\"\n\u001b[0;32m--> 195\u001b[0;31m         \u001b[0mtorch\u001b[0m\u001b[0;34m.\u001b[0m\u001b[0mautograd\u001b[0m\u001b[0;34m.\u001b[0m\u001b[0mbackward\u001b[0m\u001b[0;34m(\u001b[0m\u001b[0mself\u001b[0m\u001b[0;34m,\u001b[0m \u001b[0mgradient\u001b[0m\u001b[0;34m,\u001b[0m \u001b[0mretain_graph\u001b[0m\u001b[0;34m,\u001b[0m \u001b[0mcreate_graph\u001b[0m\u001b[0;34m)\u001b[0m\u001b[0;34m\u001b[0m\u001b[0;34m\u001b[0m\u001b[0m\n\u001b[0m\u001b[1;32m    196\u001b[0m \u001b[0;34m\u001b[0m\u001b[0m\n\u001b[1;32m    197\u001b[0m     \u001b[0;32mdef\u001b[0m \u001b[0mregister_hook\u001b[0m\u001b[0;34m(\u001b[0m\u001b[0mself\u001b[0m\u001b[0;34m,\u001b[0m \u001b[0mhook\u001b[0m\u001b[0;34m)\u001b[0m\u001b[0;34m:\u001b[0m\u001b[0;34m\u001b[0m\u001b[0;34m\u001b[0m\u001b[0m\n",
      "\u001b[0;32m/opt/local/Library/Frameworks/Python.framework/Versions/3.6/lib/python3.6/site-packages/torch/autograd/__init__.py\u001b[0m in \u001b[0;36mbackward\u001b[0;34m(tensors, grad_tensors, retain_graph, create_graph, grad_variables)\u001b[0m\n\u001b[1;32m     97\u001b[0m     Variable._execution_engine.run_backward(\n\u001b[1;32m     98\u001b[0m         \u001b[0mtensors\u001b[0m\u001b[0;34m,\u001b[0m \u001b[0mgrad_tensors\u001b[0m\u001b[0;34m,\u001b[0m \u001b[0mretain_graph\u001b[0m\u001b[0;34m,\u001b[0m \u001b[0mcreate_graph\u001b[0m\u001b[0;34m,\u001b[0m\u001b[0;34m\u001b[0m\u001b[0;34m\u001b[0m\u001b[0m\n\u001b[0;32m---> 99\u001b[0;31m         allow_unreachable=True)  # allow_unreachable flag\n\u001b[0m\u001b[1;32m    100\u001b[0m \u001b[0;34m\u001b[0m\u001b[0m\n\u001b[1;32m    101\u001b[0m \u001b[0;34m\u001b[0m\u001b[0m\n",
      "\u001b[0;31mKeyboardInterrupt\u001b[0m: "
     ]
    }
   ],
   "source": [
    "w = Wavefunction()\n",
    "delta = 0.1\n",
    "\n",
    "optimizer = torch.optim.Adam(w.parameters(),lr=0.01, weight_decay=0)\n",
    "\n",
    "for i in range(5000):\n",
    "    energy = training_step(w, optimizer, delta)\n",
    "    if i % 100 == 0: print(energy)\n",
    "    \n",
    "    \n",
    "    \n",
    "    "
   ]
  },
  {
   "cell_type": "code",
   "execution_count": 49,
   "metadata": {},
   "outputs": [
    {
     "data": {
      "image/png": "[encoded data removed]",
      "text/plain": [
       "<Figure size 432x288 with 1 Axes>"
      ]
     },
     "metadata": {
      "needs_background": "light"
     },
     "output_type": "display_data"
    }
   ],
   "source": [
    "training_step(w, optimizer, delta)\n",
    "\n",
    "x_numpy = x.detach().numpy()\n",
    "psi_numpy = w(x).detach().numpy()\n",
    "\n",
    "plt.plot(x_numpy, psi_numpy)\n",
    "plt.grid(True)\n",
    "plt.show()"
   ]
  },
  {
   "cell_type": "code",
   "execution_count": 50,
   "metadata": {},
   "outputs": [
    {
     "name": "stdout",
     "output_type": "stream",
     "text": [
      "Parameter containing:\n",
      "tensor(0.8694, requires_grad=True)\n",
      "Parameter containing:\n",
      "tensor(-0.0015, requires_grad=True)\n",
      "Parameter containing:\n",
      "tensor(-0.1768, requires_grad=True)\n",
      "tensor([0.4951], grad_fn=<MulBackward0>)\n"
     ]
    }
   ],
   "source": [
    "print(w.const)\n",
    "print(w.linear)\n",
    "print(w.quad)\n",
    "print(w.norm)\n",
    "\n",
    "\n"
   ]
  },
  {
   "cell_type": "code",
   "execution_count": null,
   "metadata": {},
   "outputs": [],
   "source": []
  },
  {
   "cell_type": "code",
   "execution_count": null,
   "metadata": {},
   "outputs": [],
   "source": []
  },
  {
   "cell_type": "code",
   "execution_count": null,
   "metadata": {},
   "outputs": [],
   "source": []
  },
  {
   "cell_type": "code",
   "execution_count": null,
   "metadata": {},
   "outputs": [],
   "source": [
    "import scipy"
   ]
  },
  {
   "cell_type": "code",
   "execution_count": null,
   "metadata": {},
   "outputs": [],
   "source": [
    "import scipy.integrate as integrate"
   ]
  },
  {
   "cell_type": "code",
   "execution_count": null,
   "metadata": {},
   "outputs": [],
   "source": [
    "integrate(lambda x: w(torch.tensor(x))) "
   ]
  },
  {
   "cell_type": "code",
   "execution_count": null,
   "metadata": {},
   "outputs": [],
   "source": []
  },
  {
   "cell_type": "code",
   "execution_count": null,
   "metadata": {},
   "outputs": [],
   "source": []
  }
 ],
 "metadata": {
  "kernelspec": {
   "display_name": "Python 3",
   "language": "python",
   "name": "python3"
  },
  "language_info": {
   "codemirror_mode": {
    "name": "ipython",
    "version": 3
   },
   "file_extension": ".py",
   "mimetype": "text/x-python",
   "name": "python",
   "nbconvert_exporter": "python",
   "pygments_lexer": "ipython3",
   "version": "3.6.10"
  }
 },
 "nbformat": 4,
 "nbformat_minor": 2
}
