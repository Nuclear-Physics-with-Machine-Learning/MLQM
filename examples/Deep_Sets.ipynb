{
 "cells": [
  {
   "cell_type": "code",
   "execution_count": 230,
   "metadata": {},
   "outputs": [],
   "source": [
    "import torch\n",
    "import numpy"
   ]
  },
  {
   "cell_type": "code",
   "execution_count": 231,
   "metadata": {},
   "outputs": [],
   "source": [
    "def generate_points(dimension, n_points):\n",
    "    ''' Generate a set of input points.  Continuously sampled during training.'''\n",
    "    return torch.rand(n_points, dimension)"
   ]
  },
  {
   "cell_type": "code",
   "execution_count": 260,
   "metadata": {},
   "outputs": [],
   "source": [
    "class func_3layer(torch.nn.Module):\n",
    "    '''\n",
    "    Three layer network for phi, as per the paper (in appendix)\n",
    "    '''\n",
    "    def __init__(self, input_dim, output_dim, bias=True):\n",
    "        torch.nn.Module.__init__(self)\n",
    "        \n",
    "        self.layer1 = torch.nn.Linear(input_dim, 100, bias=bias)\n",
    "        self.layer2 = torch.nn.Linear(100, 100, bias=bias)\n",
    "        self.layer3 = torch.nn.Linear(100, output_dim, bias=bias)\n",
    "        \n",
    "        self.activation = torch.relu\n",
    "        \n",
    "    def forward(self, inputs):\n",
    "        \n",
    "        x = self.layer1(inputs)\n",
    "        x = self.activation(x)\n",
    "        x = self.layer2(x)\n",
    "        x = self.activation(x)\n",
    "        x = self.layer3(x)\n",
    "        \n",
    "        return x\n",
    "\n",
    "class func_2layer(torch.nn.Module):\n",
    "    '''\n",
    "    Two layer network for rho, as per the paper (in appendix)\n",
    "    '''\n",
    "    def __init__(self, input_dim, output_dim, bias=True):\n",
    "        torch.nn.Module.__init__(self)\n",
    "        \n",
    "        self.layer1 = torch.nn.Linear(input_dim, 100, bias=bias)\n",
    "        self.layer2 = torch.nn.Linear(100, output_dim, bias=bias)\n",
    "        \n",
    "        self.activation = torch.relu\n",
    "        \n",
    "    def forward(self, inputs):\n",
    "        \n",
    "        x = self.layer1(inputs)\n",
    "        x = self.activation(x)\n",
    "        x = self.layer2(x)\n",
    "        \n",
    "        return x"
   ]
  },
  {
   "cell_type": "code",
   "execution_count": 233,
   "metadata": {},
   "outputs": [],
   "source": [
    "class func_symm(torch.nn.Module):\n",
    "    '''\n",
    "    Explicitly symmetric function (essentially, no rho)\n",
    "    '''\n",
    "    def __init__(self, input_dim, output_dim, bias=True):\n",
    "        torch.nn.Module.__init__(self)\n",
    "        \n",
    "        self.layer1 = torch.nn.Linear(input_dim, 256, bias=bias)\n",
    "        self.layer2 = torch.nn.Linear(256, 256, bias=True)\n",
    "        self.layer3 = torch.nn.Linear(256, output_dim, bias=bias)\n",
    "        \n",
    "        self.activation = torch.relu\n",
    "#        self.input_dim = input_dim\n",
    "        \n",
    "    def forward(self, inputs):\n",
    "        if (2 == 2):\n",
    "            inputs_12 = torch.zeros_like(inputs)\n",
    "            inputs_12[:,0] = inputs[:,1]\n",
    "            inputs_12[:,1] = inputs[:,0]\n",
    "            \n",
    "            x = self.layer1(inputs)\n",
    "            x = self.activation(x)\n",
    "            x = self.layer2(x)\n",
    "            x = self.activation(x)\n",
    "            x = self.layer3(x) \n",
    "            \n",
    "            x_12 = self.layer1(inputs_12)\n",
    "            x_12 = self.activation(x_12)\n",
    "            x_12 = self.layer2(x_12)\n",
    "            x_12 = self.activation(x_12)\n",
    "            x_12 = self.layer3(x_12)\n",
    "            \n",
    "            output = ( x + x_12 ) / 2\n",
    "        else: \n",
    "            output = 0\n",
    "            print(\"PROBLEM, ONLY 2-D INPUTS FOR NOW\")\n",
    "        return output"
   ]
  },
  {
   "cell_type": "code",
   "execution_count": 234,
   "metadata": {},
   "outputs": [],
   "source": [
    "# Define the explicitly symmetric function\n",
    "symm = func_symm(input_dim=DIMENSION, output_dim=1)"
   ]
  },
  {
   "cell_type": "code",
   "execution_count": 235,
   "metadata": {},
   "outputs": [
    {
     "name": "stdout",
     "output_type": "stream",
     "text": [
      "x= tensor([0.9686, 0.8799, 0.2161, 0.3617, 0.8503, 0.2479, 0.0261, 0.4880, 0.5819,\n",
      "        0.7291])\n",
      "y= tensor([0.1999, 0.6622, 0.1192, 0.0167, 0.9620, 0.2946, 0.0891, 0.0860, 0.0066,\n",
      "        0.4305])\n",
      "xy= tensor([[0.9686, 0.1999],\n",
      "        [0.8799, 0.6622],\n",
      "        [0.2161, 0.1192],\n",
      "        [0.3617, 0.0167],\n",
      "        [0.8503, 0.9620],\n",
      "        [0.2479, 0.2946],\n",
      "        [0.0261, 0.0891],\n",
      "        [0.4880, 0.0860],\n",
      "        [0.5819, 0.0066],\n",
      "        [0.7291, 0.4305]])\n"
     ]
    }
   ],
   "source": [
    "# This should generate points between 0 and 1 at random:\n",
    "torch.manual_seed(19)\n",
    "xy = generate_points(2,10)\n",
    "x = xy[:,0]\n",
    "y = xy[:,1]\n",
    "print(\"x=\",x)\n",
    "print(\"y=\",y)\n",
    "print(\"xy=\", xy)"
   ]
  },
  {
   "cell_type": "code",
   "execution_count": 236,
   "metadata": {},
   "outputs": [],
   "source": [
    "# Now, let's compute an objective function:\n",
    "def real_function(xy):\n",
    "    # This is symmetric by construction\n",
    "    return (xy[:,0] - xy[:,1] ) **2\n",
    "#     return abs(x - y)"
   ]
  },
  {
   "cell_type": "code",
   "execution_count": 237,
   "metadata": {},
   "outputs": [
    {
     "data": {
      "text/plain": [
       "tensor([0.5910, 0.0474, 0.0094, 0.1190, 0.0125, 0.0022, 0.0040, 0.1617, 0.3310,\n",
       "        0.0892])"
      ]
     },
     "execution_count": 237,
     "metadata": {},
     "output_type": "execute_result"
    }
   ],
   "source": [
    "real_function(xy)"
   ]
  },
  {
   "cell_type": "code",
   "execution_count": 238,
   "metadata": {},
   "outputs": [
    {
     "name": "stdout",
     "output_type": "stream",
     "text": [
      "tensor([0.0942, 0.1036, 0.0643, 0.0673, 0.1070, 0.0779, 0.0522, 0.0765, 0.0766,\n",
      "        0.0997], grad_fn=<SelectBackward>)\n"
     ]
    }
   ],
   "source": [
    "#symm = func_symm(input_dim=2, output_dim=1)\n",
    "target = torch.t(symm(xy))[0]\n",
    "print(target)"
   ]
  },
  {
   "cell_type": "code",
   "execution_count": 239,
   "metadata": {},
   "outputs": [],
   "source": [
    "# For training the net, create optimizers:\n",
    "params = list(symm.parameters())\n",
    "optimizer =  torch.optim.Adam(params, lr=0.001)"
   ]
  },
  {
   "cell_type": "code",
   "execution_count": 248,
   "metadata": {},
   "outputs": [
    {
     "name": "stdout",
     "output_type": "stream",
     "text": [
      "loss= tensor(7.7134e-05, grad_fn=<MseLossBackward>)\n",
      "loss= tensor(6.7934e-08, grad_fn=<MseLossBackward>)\n",
      "loss= tensor(1.7408e-06, grad_fn=<MseLossBackward>)\n",
      "loss= tensor(4.5348e-08, grad_fn=<MseLossBackward>)\n",
      "loss= tensor(4.4011e-08, grad_fn=<MseLossBackward>)\n",
      "loss= tensor(3.9494e-08, grad_fn=<MseLossBackward>)\n",
      "loss= tensor(7.1034e-08, grad_fn=<MseLossBackward>)\n",
      "loss= tensor(3.4735e-08, grad_fn=<MseLossBackward>)\n",
      "loss= tensor(3.5059e-08, grad_fn=<MseLossBackward>)\n",
      "loss= tensor(2.9682e-08, grad_fn=<MseLossBackward>)\n"
     ]
    }
   ],
   "source": [
    "BATCH_SIZE = 4096\n",
    "xy = generate_points(2,BATCH_SIZE)\n",
    "for i in range(10000):\n",
    "    \n",
    "    optimizer.zero_grad()  \n",
    "    correct_answer = real_function(xy)\n",
    "#    approximation = symm(xy)\n",
    "    approximation = torch.t(symm(xy))[0]    \n",
    "#     print(correct_answer)\n",
    "#     print(approximation)\n",
    "    \n",
    "    loss = torch.nn.MSELoss()(target=correct_answer, input=approximation)\n",
    "    if i % 1000 == 0:\n",
    "#        print(\"correct_answer\", correct_answer)\n",
    "#        print(\"approximation\", approximation)\n",
    "        print(\"loss=\",loss)\n",
    "    loss.backward()\n",
    "    optimizer.step()"
   ]
  },
  {
   "cell_type": "code",
   "execution_count": 277,
   "metadata": {},
   "outputs": [
    {
     "name": "stdout",
     "output_type": "stream",
     "text": [
      "correct_answer tensor([0.5910, 0.0474, 0.0094, 0.1190, 0.0125, 0.0022, 0.0040, 0.1617, 0.3310,\n",
      "        0.0892, 0.0051, 0.0786, 0.1675, 0.1472, 0.0839, 0.0013, 0.0018, 0.0209,\n",
      "        0.1559, 0.4953])\n",
      "approximation tensor([0.5905, 0.0478, 0.0092, 0.1180, 0.0122, 0.0021, 0.0042, 0.1616, 0.3310,\n",
      "        0.0874, 0.0054, 0.0773, 0.1683, 0.1462, 0.0833, 0.0019, 0.0025, 0.0206,\n",
      "        0.1556, 0.4954], grad_fn=<SelectBackward>)\n"
     ]
    }
   ],
   "source": [
    "# This should generate points between 0 and 1 at random to check the correctness of the answer:\n",
    "torch.manual_seed(19)\n",
    "xy = generate_points(2,20)\n",
    "x = xy[:,0]\n",
    "y = xy[:,1]\n",
    "correct_answer = real_function(xy)\n",
    "approximation = torch.t(symm(xy))[0]\n",
    "print(\"correct_answer\", correct_answer)\n",
    "print(\"approximation\", approximation)"
   ]
  },
  {
   "cell_type": "code",
   "execution_count": 259,
   "metadata": {},
   "outputs": [
    {
     "name": "stdout",
     "output_type": "stream",
     "text": [
      "correct_answer tensor([0.5910, 0.0474, 0.0094, 0.1190, 0.0125, 0.0022, 0.0040, 0.1617, 0.3310,\n",
      "        0.0892, 0.0051, 0.0786, 0.1675, 0.1472, 0.0839, 0.0013, 0.0018, 0.0209,\n",
      "        0.1559, 0.4953])\n",
      "approximation tensor([0.5915, 0.0474, 0.0094, 0.1190, 0.0123, 0.0021, 0.0039, 0.1617, 0.3311,\n",
      "        0.0893, 0.0051, 0.0787, 0.1674, 0.1473, 0.0837, 0.0012, 0.0018, 0.0210,\n",
      "        0.1559, 0.4951], grad_fn=<SelectBackward>)\n"
     ]
    }
   ],
   "source": [
    "# Check for symmetry\n",
    "yx = torch.index_select(xy, 1, torch.LongTensor([1,0]))\n",
    "correct_answer = real_function(yx)\n",
    "approximation = torch.t(symm(yx))[0]\n",
    "print(\"correct_answer\", correct_answer)\n",
    "print(\"approximation\", approximation)"
   ]
  },
  {
   "cell_type": "code",
   "execution_count": 296,
   "metadata": {},
   "outputs": [],
   "source": [
    "# Set the dimension of input data and the latent size:\n",
    "DIMENSION   = 1\n",
    "LATENT_SIZE = 2\n",
    "\n",
    "# Create the 3 NN to train\n",
    "phi = func_3layer(input_dim=DIMENSION, output_dim=LATENT_SIZE)\n",
    "rho = func_2layer(input_dim=LATENT_SIZE, output_dim=1)"
   ]
  },
  {
   "cell_type": "code",
   "execution_count": 297,
   "metadata": {},
   "outputs": [
    {
     "name": "stdout",
     "output_type": "stream",
     "text": [
      "x= tensor([0.9357, 0.9449, 0.5773, 0.5564, 0.2720, 0.7857, 0.4088, 0.1350, 0.3043,\n",
      "        0.1808, 0.9956, 0.1764, 0.4303, 0.6732, 0.4642, 0.5476])\n"
     ]
    },
    {
     "ename": "RuntimeError",
     "evalue": "size mismatch, m1: [1 x 16], m2: [1 x 100] at ../aten/src/TH/generic/THTensorMath.cpp:41",
     "output_type": "error",
     "traceback": [
      "\u001b[0;31m---------------------------------------------------------------------------\u001b[0m",
      "\u001b[0;31mRuntimeError\u001b[0m                              Traceback (most recent call last)",
      "\u001b[0;32m<ipython-input-297-7d442161a17b>\u001b[0m in \u001b[0;36m<module>\u001b[0;34m\u001b[0m\n\u001b[1;32m      7\u001b[0m \u001b[0my\u001b[0m \u001b[0;34m=\u001b[0m \u001b[0mxy\u001b[0m\u001b[0;34m[\u001b[0m\u001b[0;34m:\u001b[0m\u001b[0;34m,\u001b[0m\u001b[0;36m1\u001b[0m\u001b[0;34m]\u001b[0m\u001b[0;34m\u001b[0m\u001b[0;34m\u001b[0m\u001b[0m\n\u001b[1;32m      8\u001b[0m \u001b[0mprint\u001b[0m\u001b[0;34m(\u001b[0m\u001b[0;34m\"x=\"\u001b[0m\u001b[0;34m,\u001b[0m \u001b[0mx\u001b[0m\u001b[0;34m)\u001b[0m\u001b[0;34m\u001b[0m\u001b[0;34m\u001b[0m\u001b[0m\n\u001b[0;32m----> 9\u001b[0;31m \u001b[0mprint\u001b[0m\u001b[0;34m(\u001b[0m\u001b[0;34m\"phi_x=\"\u001b[0m\u001b[0;34m,\u001b[0m \u001b[0mphi\u001b[0m\u001b[0;34m(\u001b[0m\u001b[0mx\u001b[0m\u001b[0;34m)\u001b[0m\u001b[0;34m)\u001b[0m\u001b[0;34m\u001b[0m\u001b[0;34m\u001b[0m\u001b[0m\n\u001b[0m",
      "\u001b[0;32m/usr/local/lib/python3.7/site-packages/torch/nn/modules/module.py\u001b[0m in \u001b[0;36m__call__\u001b[0;34m(self, *input, **kwargs)\u001b[0m\n\u001b[1;32m    548\u001b[0m             \u001b[0mresult\u001b[0m \u001b[0;34m=\u001b[0m \u001b[0mself\u001b[0m\u001b[0;34m.\u001b[0m\u001b[0m_slow_forward\u001b[0m\u001b[0;34m(\u001b[0m\u001b[0;34m*\u001b[0m\u001b[0minput\u001b[0m\u001b[0;34m,\u001b[0m \u001b[0;34m**\u001b[0m\u001b[0mkwargs\u001b[0m\u001b[0;34m)\u001b[0m\u001b[0;34m\u001b[0m\u001b[0;34m\u001b[0m\u001b[0m\n\u001b[1;32m    549\u001b[0m         \u001b[0;32melse\u001b[0m\u001b[0;34m:\u001b[0m\u001b[0;34m\u001b[0m\u001b[0;34m\u001b[0m\u001b[0m\n\u001b[0;32m--> 550\u001b[0;31m             \u001b[0mresult\u001b[0m \u001b[0;34m=\u001b[0m \u001b[0mself\u001b[0m\u001b[0;34m.\u001b[0m\u001b[0mforward\u001b[0m\u001b[0;34m(\u001b[0m\u001b[0;34m*\u001b[0m\u001b[0minput\u001b[0m\u001b[0;34m,\u001b[0m \u001b[0;34m**\u001b[0m\u001b[0mkwargs\u001b[0m\u001b[0;34m)\u001b[0m\u001b[0;34m\u001b[0m\u001b[0;34m\u001b[0m\u001b[0m\n\u001b[0m\u001b[1;32m    551\u001b[0m         \u001b[0;32mfor\u001b[0m \u001b[0mhook\u001b[0m \u001b[0;32min\u001b[0m \u001b[0mself\u001b[0m\u001b[0;34m.\u001b[0m\u001b[0m_forward_hooks\u001b[0m\u001b[0;34m.\u001b[0m\u001b[0mvalues\u001b[0m\u001b[0;34m(\u001b[0m\u001b[0;34m)\u001b[0m\u001b[0;34m:\u001b[0m\u001b[0;34m\u001b[0m\u001b[0;34m\u001b[0m\u001b[0m\n\u001b[1;32m    552\u001b[0m             \u001b[0mhook_result\u001b[0m \u001b[0;34m=\u001b[0m \u001b[0mhook\u001b[0m\u001b[0;34m(\u001b[0m\u001b[0mself\u001b[0m\u001b[0;34m,\u001b[0m \u001b[0minput\u001b[0m\u001b[0;34m,\u001b[0m \u001b[0mresult\u001b[0m\u001b[0;34m)\u001b[0m\u001b[0;34m\u001b[0m\u001b[0;34m\u001b[0m\u001b[0m\n",
      "\u001b[0;32m<ipython-input-260-400109b5c169>\u001b[0m in \u001b[0;36mforward\u001b[0;34m(self, inputs)\u001b[0m\n\u001b[1;32m     14\u001b[0m     \u001b[0;32mdef\u001b[0m \u001b[0mforward\u001b[0m\u001b[0;34m(\u001b[0m\u001b[0mself\u001b[0m\u001b[0;34m,\u001b[0m \u001b[0minputs\u001b[0m\u001b[0;34m)\u001b[0m\u001b[0;34m:\u001b[0m\u001b[0;34m\u001b[0m\u001b[0;34m\u001b[0m\u001b[0m\n\u001b[1;32m     15\u001b[0m \u001b[0;34m\u001b[0m\u001b[0m\n\u001b[0;32m---> 16\u001b[0;31m         \u001b[0mx\u001b[0m \u001b[0;34m=\u001b[0m \u001b[0mself\u001b[0m\u001b[0;34m.\u001b[0m\u001b[0mlayer1\u001b[0m\u001b[0;34m(\u001b[0m\u001b[0minputs\u001b[0m\u001b[0;34m)\u001b[0m\u001b[0;34m\u001b[0m\u001b[0;34m\u001b[0m\u001b[0m\n\u001b[0m\u001b[1;32m     17\u001b[0m         \u001b[0mx\u001b[0m \u001b[0;34m=\u001b[0m \u001b[0mself\u001b[0m\u001b[0;34m.\u001b[0m\u001b[0mactivation\u001b[0m\u001b[0;34m(\u001b[0m\u001b[0mx\u001b[0m\u001b[0;34m)\u001b[0m\u001b[0;34m\u001b[0m\u001b[0;34m\u001b[0m\u001b[0m\n\u001b[1;32m     18\u001b[0m         \u001b[0mx\u001b[0m \u001b[0;34m=\u001b[0m \u001b[0mself\u001b[0m\u001b[0;34m.\u001b[0m\u001b[0mlayer2\u001b[0m\u001b[0;34m(\u001b[0m\u001b[0mx\u001b[0m\u001b[0;34m)\u001b[0m\u001b[0;34m\u001b[0m\u001b[0;34m\u001b[0m\u001b[0m\n",
      "\u001b[0;32m/usr/local/lib/python3.7/site-packages/torch/nn/modules/module.py\u001b[0m in \u001b[0;36m__call__\u001b[0;34m(self, *input, **kwargs)\u001b[0m\n\u001b[1;32m    548\u001b[0m             \u001b[0mresult\u001b[0m \u001b[0;34m=\u001b[0m \u001b[0mself\u001b[0m\u001b[0;34m.\u001b[0m\u001b[0m_slow_forward\u001b[0m\u001b[0;34m(\u001b[0m\u001b[0;34m*\u001b[0m\u001b[0minput\u001b[0m\u001b[0;34m,\u001b[0m \u001b[0;34m**\u001b[0m\u001b[0mkwargs\u001b[0m\u001b[0;34m)\u001b[0m\u001b[0;34m\u001b[0m\u001b[0;34m\u001b[0m\u001b[0m\n\u001b[1;32m    549\u001b[0m         \u001b[0;32melse\u001b[0m\u001b[0;34m:\u001b[0m\u001b[0;34m\u001b[0m\u001b[0;34m\u001b[0m\u001b[0m\n\u001b[0;32m--> 550\u001b[0;31m             \u001b[0mresult\u001b[0m \u001b[0;34m=\u001b[0m \u001b[0mself\u001b[0m\u001b[0;34m.\u001b[0m\u001b[0mforward\u001b[0m\u001b[0;34m(\u001b[0m\u001b[0;34m*\u001b[0m\u001b[0minput\u001b[0m\u001b[0;34m,\u001b[0m \u001b[0;34m**\u001b[0m\u001b[0mkwargs\u001b[0m\u001b[0;34m)\u001b[0m\u001b[0;34m\u001b[0m\u001b[0;34m\u001b[0m\u001b[0m\n\u001b[0m\u001b[1;32m    551\u001b[0m         \u001b[0;32mfor\u001b[0m \u001b[0mhook\u001b[0m \u001b[0;32min\u001b[0m \u001b[0mself\u001b[0m\u001b[0;34m.\u001b[0m\u001b[0m_forward_hooks\u001b[0m\u001b[0;34m.\u001b[0m\u001b[0mvalues\u001b[0m\u001b[0;34m(\u001b[0m\u001b[0;34m)\u001b[0m\u001b[0;34m:\u001b[0m\u001b[0;34m\u001b[0m\u001b[0;34m\u001b[0m\u001b[0m\n\u001b[1;32m    552\u001b[0m             \u001b[0mhook_result\u001b[0m \u001b[0;34m=\u001b[0m \u001b[0mhook\u001b[0m\u001b[0;34m(\u001b[0m\u001b[0mself\u001b[0m\u001b[0;34m,\u001b[0m \u001b[0minput\u001b[0m\u001b[0;34m,\u001b[0m \u001b[0mresult\u001b[0m\u001b[0;34m)\u001b[0m\u001b[0;34m\u001b[0m\u001b[0;34m\u001b[0m\u001b[0m\n",
      "\u001b[0;32m/usr/local/lib/python3.7/site-packages/torch/nn/modules/linear.py\u001b[0m in \u001b[0;36mforward\u001b[0;34m(self, input)\u001b[0m\n\u001b[1;32m     85\u001b[0m \u001b[0;34m\u001b[0m\u001b[0m\n\u001b[1;32m     86\u001b[0m     \u001b[0;32mdef\u001b[0m \u001b[0mforward\u001b[0m\u001b[0;34m(\u001b[0m\u001b[0mself\u001b[0m\u001b[0;34m,\u001b[0m \u001b[0minput\u001b[0m\u001b[0;34m)\u001b[0m\u001b[0;34m:\u001b[0m\u001b[0;34m\u001b[0m\u001b[0;34m\u001b[0m\u001b[0m\n\u001b[0;32m---> 87\u001b[0;31m         \u001b[0;32mreturn\u001b[0m \u001b[0mF\u001b[0m\u001b[0;34m.\u001b[0m\u001b[0mlinear\u001b[0m\u001b[0;34m(\u001b[0m\u001b[0minput\u001b[0m\u001b[0;34m,\u001b[0m \u001b[0mself\u001b[0m\u001b[0;34m.\u001b[0m\u001b[0mweight\u001b[0m\u001b[0;34m,\u001b[0m \u001b[0mself\u001b[0m\u001b[0;34m.\u001b[0m\u001b[0mbias\u001b[0m\u001b[0;34m)\u001b[0m\u001b[0;34m\u001b[0m\u001b[0;34m\u001b[0m\u001b[0m\n\u001b[0m\u001b[1;32m     88\u001b[0m \u001b[0;34m\u001b[0m\u001b[0m\n\u001b[1;32m     89\u001b[0m     \u001b[0;32mdef\u001b[0m \u001b[0mextra_repr\u001b[0m\u001b[0;34m(\u001b[0m\u001b[0mself\u001b[0m\u001b[0;34m)\u001b[0m\u001b[0;34m:\u001b[0m\u001b[0;34m\u001b[0m\u001b[0;34m\u001b[0m\u001b[0m\n",
      "\u001b[0;32m/usr/local/lib/python3.7/site-packages/torch/nn/functional.py\u001b[0m in \u001b[0;36mlinear\u001b[0;34m(input, weight, bias)\u001b[0m\n\u001b[1;32m   1610\u001b[0m         \u001b[0mret\u001b[0m \u001b[0;34m=\u001b[0m \u001b[0mtorch\u001b[0m\u001b[0;34m.\u001b[0m\u001b[0maddmm\u001b[0m\u001b[0;34m(\u001b[0m\u001b[0mbias\u001b[0m\u001b[0;34m,\u001b[0m \u001b[0minput\u001b[0m\u001b[0;34m,\u001b[0m \u001b[0mweight\u001b[0m\u001b[0;34m.\u001b[0m\u001b[0mt\u001b[0m\u001b[0;34m(\u001b[0m\u001b[0;34m)\u001b[0m\u001b[0;34m)\u001b[0m\u001b[0;34m\u001b[0m\u001b[0;34m\u001b[0m\u001b[0m\n\u001b[1;32m   1611\u001b[0m     \u001b[0;32melse\u001b[0m\u001b[0;34m:\u001b[0m\u001b[0;34m\u001b[0m\u001b[0;34m\u001b[0m\u001b[0m\n\u001b[0;32m-> 1612\u001b[0;31m         \u001b[0moutput\u001b[0m \u001b[0;34m=\u001b[0m \u001b[0minput\u001b[0m\u001b[0;34m.\u001b[0m\u001b[0mmatmul\u001b[0m\u001b[0;34m(\u001b[0m\u001b[0mweight\u001b[0m\u001b[0;34m.\u001b[0m\u001b[0mt\u001b[0m\u001b[0;34m(\u001b[0m\u001b[0;34m)\u001b[0m\u001b[0;34m)\u001b[0m\u001b[0;34m\u001b[0m\u001b[0;34m\u001b[0m\u001b[0m\n\u001b[0m\u001b[1;32m   1613\u001b[0m         \u001b[0;32mif\u001b[0m \u001b[0mbias\u001b[0m \u001b[0;32mis\u001b[0m \u001b[0;32mnot\u001b[0m \u001b[0;32mNone\u001b[0m\u001b[0;34m:\u001b[0m\u001b[0;34m\u001b[0m\u001b[0;34m\u001b[0m\u001b[0m\n\u001b[1;32m   1614\u001b[0m             \u001b[0moutput\u001b[0m \u001b[0;34m+=\u001b[0m \u001b[0mbias\u001b[0m\u001b[0;34m\u001b[0m\u001b[0;34m\u001b[0m\u001b[0m\n",
      "\u001b[0;31mRuntimeError\u001b[0m: size mismatch, m1: [1 x 16], m2: [1 x 100] at ../aten/src/TH/generic/THTensorMath.cpp:41"
     ]
    }
   ],
   "source": [
    "# For training the net, create optimizers:\n",
    "params = list(phi.parameters()) + list(rho.parameters())\n",
    "optimizer =  torch.optim.Adam(params, lr=0.0001)\n",
    "BATCH_SIZE = 16\n",
    "xy = generate_points(2,BATCH_SIZE)\n",
    "x = xy[:,0]\n",
    "y = xy[:,1]\n",
    "print(\"x=\", x)\n",
    "print(\"phi_x=\", phi(x))"
   ]
  },
  {
   "cell_type": "code",
   "execution_count": 312,
   "metadata": {},
   "outputs": [
    {
     "name": "stdout",
     "output_type": "stream",
     "text": [
      "loss= tensor(0.0012, grad_fn=<MseLossBackward>)\n",
      "loss= tensor(6.2478e-05, grad_fn=<MseLossBackward>)\n",
      "loss= tensor(2.4542e-05, grad_fn=<MseLossBackward>)\n",
      "loss= tensor(1.0793e-05, grad_fn=<MseLossBackward>)\n",
      "loss= tensor(6.6826e-06, grad_fn=<MseLossBackward>)\n",
      "loss= tensor(4.6332e-06, grad_fn=<MseLossBackward>)\n",
      "loss= tensor(3.2047e-06, grad_fn=<MseLossBackward>)\n",
      "loss= tensor(2.3724e-06, grad_fn=<MseLossBackward>)\n",
      "loss= tensor(1.8893e-06, grad_fn=<MseLossBackward>)\n",
      "loss= tensor(1.5880e-06, grad_fn=<MseLossBackward>)\n",
      "loss= tensor(1.3524e-06, grad_fn=<MseLossBackward>)\n",
      "loss= tensor(1.2036e-06, grad_fn=<MseLossBackward>)\n",
      "loss= tensor(2.4821e-06, grad_fn=<MseLossBackward>)\n",
      "loss= tensor(1.0527e-06, grad_fn=<MseLossBackward>)\n",
      "loss= tensor(9.8178e-07, grad_fn=<MseLossBackward>)\n",
      "loss= tensor(9.3043e-07, grad_fn=<MseLossBackward>)\n",
      "loss= tensor(8.9621e-07, grad_fn=<MseLossBackward>)\n",
      "loss= tensor(8.6352e-07, grad_fn=<MseLossBackward>)\n",
      "loss= tensor(8.3760e-07, grad_fn=<MseLossBackward>)\n",
      "loss= tensor(8.2016e-07, grad_fn=<MseLossBackward>)\n"
     ]
    }
   ],
   "source": [
    "# For training the net, create optimizers:\n",
    "params = list(phi.parameters()) + list(rho.parameters())\n",
    "optimizer =  torch.optim.Adam(params, lr=0.0001)\n",
    "BATCH_SIZE = 1024\n",
    "xy = generate_points(2, BATCH_SIZE)\n",
    "x = xy[:,0].view(-1,1)\n",
    "y = xy[:,1].view(-1,1)\n",
    "#print(\"x=\", x)\n",
    "#print(\"phi_x=\", phi(x))\n",
    "\n",
    "for i in range(10000):\n",
    "    optimizer.zero_grad()  \n",
    "    correct_answer = real_function(xy)\n",
    "    phi_x = phi(x)\n",
    "#    print(\"phi_x\", phi_x)\n",
    "    phi_y = phi(y)\n",
    "    approximation = torch.t(rho(phi_x + phi_y))[0]    \n",
    "#    print(\"correct_answer\", correct_answer)\n",
    "#    print(\"approximation\", approximation)\n",
    "    \n",
    "    loss = torch.nn.MSELoss()(target=correct_answer, input=approximation)\n",
    "    if i % 500 == 0:\n",
    "#        print(\"correct_answer\", correct_answer)\n",
    "#        print(\"approximation\", approximation)\n",
    "        print(\"loss=\",loss)\n",
    "    loss.backward()\n",
    "    optimizer.step()"
   ]
  },
  {
   "cell_type": "code",
   "execution_count": 313,
   "metadata": {},
   "outputs": [
    {
     "name": "stdout",
     "output_type": "stream",
     "text": [
      "correct_answer tensor([0.5910, 0.0474])\n",
      "approximation tensor([0.5922, 0.0443], grad_fn=<SelectBackward>)\n"
     ]
    }
   ],
   "source": [
    "# This should generate points between 0 and 1 at random to check the correctness of the answer:\n",
    "torch.manual_seed(19)\n",
    "xy = generate_points(2,2)\n",
    "x = xy[:,0].view(-1,1)\n",
    "y = xy[:,1].view(-1,1)\n",
    "correct_answer = real_function(xy)\n",
    "phi_x = phi(x)\n",
    "phi_y = phi(y)\n",
    "approximation = torch.t(rho(phi_x + phi_y))[0]\n",
    "print(\"correct_answer\", correct_answer)\n",
    "print(\"approximation\", approximation)"
   ]
  },
  {
   "cell_type": "code",
   "execution_count": null,
   "metadata": {},
   "outputs": [],
   "source": []
  }
 ],
 "metadata": {
  "kernelspec": {
   "display_name": "Python 3",
   "language": "python",
   "name": "python3"
  },
  "language_info": {
   "codemirror_mode": {
    "name": "ipython",
    "version": 3
   },
   "file_extension": ".py",
   "mimetype": "text/x-python",
   "name": "python",
   "nbconvert_exporter": "python",
   "pygments_lexer": "ipython3",
   "version": "3.7.7"
  }
 },
 "nbformat": 4,
 "nbformat_minor": 2
}
