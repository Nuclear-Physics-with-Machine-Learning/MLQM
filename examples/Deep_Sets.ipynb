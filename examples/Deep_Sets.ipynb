{
 "cells": [
  {
   "cell_type": "code",
   "execution_count": 1,
   "metadata": {},
   "outputs": [],
   "source": [
    "import torch\n",
    "import numpy"
   ]
  },
  {
   "cell_type": "code",
   "execution_count": 2,
   "metadata": {},
   "outputs": [],
   "source": [
    "def generate_points(dimension, n_points):\n",
    "    ''' Generate a set of input points.  Continuously sampled during training.'''\n",
    "    return torch.rand(n_points, dimension)"
   ]
  },
  {
   "cell_type": "code",
   "execution_count": 3,
   "metadata": {},
   "outputs": [],
   "source": [
    "class func_3layer(torch.nn.Module):\n",
    "    '''\n",
    "    Three layer network for phi, as per the paper (in appendix)\n",
    "    '''\n",
    "    def __init__(self, input_dim, output_dim, bias=True):\n",
    "        torch.nn.Module.__init__(self)\n",
    "        \n",
    "        self.layer1 = torch.nn.Linear(input_dim, 100, bias=bias)\n",
    "        self.layer2 = torch.nn.Linear(100, 100, bias=bias)\n",
    "        self.layer3 = torch.nn.Linear(100, output_dim, bias=bias)\n",
    "        \n",
    "        self.activation = torch.relu\n",
    "        \n",
    "    def forward(self, inputs):\n",
    "        \n",
    "        x = self.layer1(inputs)\n",
    "        x = self.activation(x)\n",
    "        x = self.layer2(x)\n",
    "        x = self.activation(x)\n",
    "        x = self.layer3(x)\n",
    "        \n",
    "        return x\n",
    "\n",
    "class func_2layer(torch.nn.Module):\n",
    "    '''\n",
    "    Two layer network for rho, as per the paper (in appendix)\n",
    "    '''\n",
    "    def __init__(self, input_dim, output_dim, bias=True):\n",
    "        torch.nn.Module.__init__(self)\n",
    "        \n",
    "        self.layer1 = torch.nn.Linear(input_dim, 100, bias=bias)\n",
    "        self.layer2 = torch.nn.Linear(100, output_dim, bias=bias)\n",
    "        \n",
    "        self.activation = torch.relu\n",
    "        \n",
    "    def forward(self, inputs):\n",
    "        \n",
    "        x = self.layer1(inputs)\n",
    "        x = self.activation(x)\n",
    "        x = self.layer2(x)\n",
    "        \n",
    "        return x"
   ]
  },
  {
   "cell_type": "code",
   "execution_count": 4,
   "metadata": {},
   "outputs": [],
   "source": [
    "class func_symm(torch.nn.Module):\n",
    "    '''\n",
    "    Explicitly symmetric function (essentially, no rho)\n",
    "    '''\n",
    "    def __init__(self, input_dim, output_dim, bias=True):\n",
    "        torch.nn.Module.__init__(self)\n",
    "        \n",
    "        self.layer1 = torch.nn.Linear(input_dim, 256, bias=bias)\n",
    "        self.layer2 = torch.nn.Linear(256, 256, bias=True)\n",
    "        self.layer3 = torch.nn.Linear(256, output_dim, bias=bias)\n",
    "        \n",
    "        self.activation = torch.relu\n",
    "#        self.input_dim = input_dim\n",
    "        \n",
    "    def forward(self, inputs):\n",
    "        if (2 == 2):\n",
    "            inputs_12 = torch.zeros_like(inputs)\n",
    "            inputs_12[:,0] = inputs[:,1]\n",
    "            inputs_12[:,1] = inputs[:,0]\n",
    "            \n",
    "            x = self.layer1(inputs)\n",
    "            x = self.activation(x)\n",
    "            x = self.layer2(x)\n",
    "            x = self.activation(x)\n",
    "            x = self.layer3(x) \n",
    "            \n",
    "            x_12 = self.layer1(inputs_12)\n",
    "            x_12 = self.activation(x_12)\n",
    "            x_12 = self.layer2(x_12)\n",
    "            x_12 = self.activation(x_12)\n",
    "            x_12 = self.layer3(x_12)\n",
    "            \n",
    "            output = ( x + x_12 ) / 2\n",
    "        else: \n",
    "            output = 0\n",
    "            print(\"PROBLEM, ONLY 2-D INPUTS FOR NOW\")\n",
    "        return output"
   ]
  },
  {
   "cell_type": "code",
   "execution_count": 5,
   "metadata": {},
   "outputs": [],
   "source": [
    "# Define the explicitly symmetric function\n",
    "symm = func_symm(input_dim=2, output_dim=1)"
   ]
  },
  {
   "cell_type": "code",
   "execution_count": 6,
   "metadata": {},
   "outputs": [
    {
     "name": "stdout",
     "output_type": "stream",
     "text": [
      "x= tensor([0.9686, 0.8799, 0.2161, 0.3617, 0.8503, 0.2479, 0.0261, 0.4880, 0.5819,\n",
      "        0.7291])\n",
      "y= tensor([0.1999, 0.6622, 0.1192, 0.0167, 0.9620, 0.2946, 0.0891, 0.0860, 0.0066,\n",
      "        0.4305])\n",
      "xy= tensor([[0.9686, 0.1999],\n",
      "        [0.8799, 0.6622],\n",
      "        [0.2161, 0.1192],\n",
      "        [0.3617, 0.0167],\n",
      "        [0.8503, 0.9620],\n",
      "        [0.2479, 0.2946],\n",
      "        [0.0261, 0.0891],\n",
      "        [0.4880, 0.0860],\n",
      "        [0.5819, 0.0066],\n",
      "        [0.7291, 0.4305]])\n"
     ]
    }
   ],
   "source": [
    "# This should generate points between 0 and 1 at random:\n",
    "torch.manual_seed(19)\n",
    "xy = generate_points(2,10)\n",
    "x = xy[:,0]\n",
    "y = xy[:,1]\n",
    "print(\"x=\",x)\n",
    "print(\"y=\",y)\n",
    "print(\"xy=\", xy)"
   ]
  },
  {
   "cell_type": "code",
   "execution_count": 7,
   "metadata": {},
   "outputs": [],
   "source": [
    "# Now, let's compute an objective function:\n",
    "def real_function(xy):\n",
    "    # This is symmetric by construction\n",
    "    return (xy[:,0] - xy[:,1] ) **2\n",
    "#     return abs(x - y)"
   ]
  },
  {
   "cell_type": "code",
   "execution_count": 8,
   "metadata": {},
   "outputs": [
    {
     "data": {
      "text/plain": [
       "tensor([0.5910, 0.0474, 0.0094, 0.1190, 0.0125, 0.0022, 0.0040, 0.1617, 0.3310,\n",
       "        0.0892])"
      ]
     },
     "execution_count": 8,
     "metadata": {},
     "output_type": "execute_result"
    }
   ],
   "source": [
    "real_function(xy)"
   ]
  },
  {
   "cell_type": "code",
   "execution_count": 9,
   "metadata": {},
   "outputs": [
    {
     "name": "stdout",
     "output_type": "stream",
     "text": [
      "tensor([ 0.0274,  0.0462, -0.0192, -0.0155,  0.0519, -0.0088, -0.0269, -0.0025,\n",
      "         0.0019,  0.0324], grad_fn=<SelectBackward>)\n"
     ]
    }
   ],
   "source": [
    "#symm = func_symm(input_dim=2, output_dim=1)\n",
    "target = torch.t(symm(xy))[0]\n",
    "print(target)"
   ]
  },
  {
   "cell_type": "code",
   "execution_count": 10,
   "metadata": {},
   "outputs": [],
   "source": [
    "# For training the net, create optimizers:\n",
    "params = list(symm.parameters())\n",
    "optimizer =  torch.optim.Adam(params, lr=0.001)"
   ]
  },
  {
   "cell_type": "code",
   "execution_count": 11,
   "metadata": {},
   "outputs": [
    {
     "name": "stdout",
     "output_type": "stream",
     "text": [
      "loss= tensor(0.0596, grad_fn=<MseLossBackward>)\n",
      "loss= tensor(7.6629e-07, grad_fn=<MseLossBackward>)\n",
      "loss= tensor(8.2745e-07, grad_fn=<MseLossBackward>)\n"
     ]
    },
    {
     "ename": "KeyboardInterrupt",
     "evalue": "",
     "output_type": "error",
     "traceback": [
      "\u001b[0;31m---------------------------------------------------------------------------\u001b[0m",
      "\u001b[0;31mKeyboardInterrupt\u001b[0m                         Traceback (most recent call last)",
      "\u001b[0;32m<ipython-input-11-de9279c45e5f>\u001b[0m in \u001b[0;36m<module>\u001b[0;34m\u001b[0m\n\u001b[1;32m     16\u001b[0m \u001b[0;31m#        print(\"approximation\", approximation)\u001b[0m\u001b[0;34m\u001b[0m\u001b[0;34m\u001b[0m\u001b[0;34m\u001b[0m\u001b[0m\n\u001b[1;32m     17\u001b[0m         \u001b[0mprint\u001b[0m\u001b[0;34m(\u001b[0m\u001b[0;34m\"loss=\"\u001b[0m\u001b[0;34m,\u001b[0m\u001b[0mloss\u001b[0m\u001b[0;34m)\u001b[0m\u001b[0;34m\u001b[0m\u001b[0;34m\u001b[0m\u001b[0m\n\u001b[0;32m---> 18\u001b[0;31m     \u001b[0mloss\u001b[0m\u001b[0;34m.\u001b[0m\u001b[0mbackward\u001b[0m\u001b[0;34m(\u001b[0m\u001b[0;34m)\u001b[0m\u001b[0;34m\u001b[0m\u001b[0;34m\u001b[0m\u001b[0m\n\u001b[0m\u001b[1;32m     19\u001b[0m     \u001b[0moptimizer\u001b[0m\u001b[0;34m.\u001b[0m\u001b[0mstep\u001b[0m\u001b[0;34m(\u001b[0m\u001b[0;34m)\u001b[0m\u001b[0;34m\u001b[0m\u001b[0;34m\u001b[0m\u001b[0m\n",
      "\u001b[0;32m/opt/local/Library/Frameworks/Python.framework/Versions/3.6/lib/python3.6/site-packages/torch/tensor.py\u001b[0m in \u001b[0;36mbackward\u001b[0;34m(self, gradient, retain_graph, create_graph)\u001b[0m\n\u001b[1;32m    193\u001b[0m                 \u001b[0mproducts\u001b[0m\u001b[0;34m.\u001b[0m \u001b[0mDefaults\u001b[0m \u001b[0mto\u001b[0m\u001b[0;31m \u001b[0m\u001b[0;31m`\u001b[0m\u001b[0;31m`\u001b[0m\u001b[0;32mFalse\u001b[0m\u001b[0;31m`\u001b[0m\u001b[0;31m`\u001b[0m\u001b[0;34m.\u001b[0m\u001b[0;34m\u001b[0m\u001b[0;34m\u001b[0m\u001b[0m\n\u001b[1;32m    194\u001b[0m         \"\"\"\n\u001b[0;32m--> 195\u001b[0;31m         \u001b[0mtorch\u001b[0m\u001b[0;34m.\u001b[0m\u001b[0mautograd\u001b[0m\u001b[0;34m.\u001b[0m\u001b[0mbackward\u001b[0m\u001b[0;34m(\u001b[0m\u001b[0mself\u001b[0m\u001b[0;34m,\u001b[0m \u001b[0mgradient\u001b[0m\u001b[0;34m,\u001b[0m \u001b[0mretain_graph\u001b[0m\u001b[0;34m,\u001b[0m \u001b[0mcreate_graph\u001b[0m\u001b[0;34m)\u001b[0m\u001b[0;34m\u001b[0m\u001b[0;34m\u001b[0m\u001b[0m\n\u001b[0m\u001b[1;32m    196\u001b[0m \u001b[0;34m\u001b[0m\u001b[0m\n\u001b[1;32m    197\u001b[0m     \u001b[0;32mdef\u001b[0m \u001b[0mregister_hook\u001b[0m\u001b[0;34m(\u001b[0m\u001b[0mself\u001b[0m\u001b[0;34m,\u001b[0m \u001b[0mhook\u001b[0m\u001b[0;34m)\u001b[0m\u001b[0;34m:\u001b[0m\u001b[0;34m\u001b[0m\u001b[0;34m\u001b[0m\u001b[0m\n",
      "\u001b[0;32m/opt/local/Library/Frameworks/Python.framework/Versions/3.6/lib/python3.6/site-packages/torch/autograd/__init__.py\u001b[0m in \u001b[0;36mbackward\u001b[0;34m(tensors, grad_tensors, retain_graph, create_graph, grad_variables)\u001b[0m\n\u001b[1;32m     97\u001b[0m     Variable._execution_engine.run_backward(\n\u001b[1;32m     98\u001b[0m         \u001b[0mtensors\u001b[0m\u001b[0;34m,\u001b[0m \u001b[0mgrad_tensors\u001b[0m\u001b[0;34m,\u001b[0m \u001b[0mretain_graph\u001b[0m\u001b[0;34m,\u001b[0m \u001b[0mcreate_graph\u001b[0m\u001b[0;34m,\u001b[0m\u001b[0;34m\u001b[0m\u001b[0;34m\u001b[0m\u001b[0m\n\u001b[0;32m---> 99\u001b[0;31m         allow_unreachable=True)  # allow_unreachable flag\n\u001b[0m\u001b[1;32m    100\u001b[0m \u001b[0;34m\u001b[0m\u001b[0m\n\u001b[1;32m    101\u001b[0m \u001b[0;34m\u001b[0m\u001b[0m\n",
      "\u001b[0;31mKeyboardInterrupt\u001b[0m: "
     ]
    }
   ],
   "source": [
    "BATCH_SIZE = 4096\n",
    "for i in range(10000):\n",
    "    xy = generate_points(2,BATCH_SIZE)\n",
    "\n",
    "\n",
    "    optimizer.zero_grad()  \n",
    "    correct_answer = real_function(xy)\n",
    "#    approximation = symm(xy)\n",
    "    approximation = torch.t(symm(xy))[0]    \n",
    "#     print(correct_answer)\n",
    "#     print(approximation)\n",
    "    \n",
    "    loss = torch.nn.MSELoss()(target=correct_answer, input=approximation)\n",
    "    if i % 1000 == 0:\n",
    "#        print(\"correct_answer\", correct_answer)\n",
    "#        print(\"approximation\", approximation)\n",
    "        print(\"loss=\",loss)\n",
    "    loss.backward()\n",
    "    optimizer.step()"
   ]
  },
  {
   "cell_type": "code",
   "execution_count": null,
   "metadata": {},
   "outputs": [],
   "source": [
    "# This should generate points between 0 and 1 at random to check the correctness of the answer:\n",
    "torch.manual_seed(19)\n",
    "xy = generate_points(2,20)\n",
    "x = xy[:,0]\n",
    "y = xy[:,1]\n",
    "correct_answer = real_function(xy)\n",
    "approximation = torch.t(symm(xy))[0]\n",
    "print(\"correct_answer\", correct_answer)\n",
    "print(\"approximation\", approximation)"
   ]
  },
  {
   "cell_type": "code",
   "execution_count": null,
   "metadata": {},
   "outputs": [],
   "source": [
    "# Check for symmetry\n",
    "yx = torch.index_select(xy, 1, torch.LongTensor([1,0]))\n",
    "correct_answer = real_function(yx)\n",
    "approximation = torch.t(symm(yx))[0]\n",
    "print(\"correct_answer\", correct_answer)\n",
    "print(\"approximation\", approximation)"
   ]
  },
  {
   "cell_type": "code",
   "execution_count": null,
   "metadata": {},
   "outputs": [],
   "source": [
    "# Set the dimension of input data and the latent size:\n",
    "DIMENSION   = 1\n",
    "LATENT_SIZE = 2\n",
    "\n",
    "# Create the 3 NN to train\n",
    "phi = func_3layer(input_dim=DIMENSION, output_dim=LATENT_SIZE)\n",
    "rho = func_2layer(input_dim=LATENT_SIZE, output_dim=1)"
   ]
  },
  {
   "cell_type": "code",
   "execution_count": null,
   "metadata": {},
   "outputs": [],
   "source": [
    "# For training the net, create optimizers:\n",
    "params = list(phi.parameters()) + list(rho.parameters())\n",
    "optimizer =  torch.optim.Adam(params, lr=0.0001)\n",
    "BATCH_SIZE = 16\n",
    "xy = generate_points(2,BATCH_SIZE)\n",
    "x = xy[:,0]\n",
    "y = xy[:,1]\n",
    "print(\"x=\", x)\n",
    "print(\"phi_x=\", phi(x))"
   ]
  },
  {
   "cell_type": "code",
   "execution_count": null,
   "metadata": {},
   "outputs": [],
   "source": [
    "# For training the net, create optimizers:\n",
    "params = list(phi.parameters()) + list(rho.parameters())\n",
    "optimizer =  torch.optim.Adam(params, lr=0.0001)\n",
    "BATCH_SIZE = 1024\n",
    "xy = generate_points(2, BATCH_SIZE)\n",
    "x = xy[:,0].view(-1,1)\n",
    "y = xy[:,1].view(-1,1)\n",
    "#print(\"x=\", x)\n",
    "#print(\"phi_x=\", phi(x))\n",
    "\n",
    "for i in range(10000):\n",
    "    optimizer.zero_grad()  \n",
    "    correct_answer = real_function(xy)\n",
    "    phi_x = phi(x)\n",
    "#    print(\"phi_x\", phi_x)\n",
    "    phi_y = phi(y)\n",
    "    approximation = torch.t(rho(phi_x + phi_y))[0]    \n",
    "#    print(\"correct_answer\", correct_answer)\n",
    "#    print(\"approximation\", approximation)\n",
    "    \n",
    "    loss = torch.nn.MSELoss()(target=correct_answer, input=approximation)\n",
    "    if i % 500 == 0:\n",
    "#        print(\"correct_answer\", correct_answer)\n",
    "#        print(\"approximation\", approximation)\n",
    "        print(\"loss=\",loss)\n",
    "    loss.backward()\n",
    "    optimizer.step()"
   ]
  },
  {
   "cell_type": "code",
   "execution_count": null,
   "metadata": {},
   "outputs": [],
   "source": [
    "# This should generate points between 0 and 1 at random to check the correctness of the answer:\n",
    "torch.manual_seed(19)\n",
    "xy = generate_points(2,2)\n",
    "x = xy[:,0].view(-1,1)\n",
    "y = xy[:,1].view(-1,1)\n",
    "correct_answer = real_function(xy)\n",
    "phi_x = phi(x)\n",
    "phi_y = phi(y)\n",
    "approximation = torch.t(rho(phi_x + phi_y))[0]\n",
    "print(\"correct_answer\", correct_answer)\n",
    "print(\"approximation\", approximation)"
   ]
  },
  {
   "cell_type": "code",
   "execution_count": null,
   "metadata": {},
   "outputs": [],
   "source": []
  }
 ],
 "metadata": {
  "kernelspec": {
   "display_name": "Python 3",
   "language": "python",
   "name": "python3"
  },
  "language_info": {
   "codemirror_mode": {
    "name": "ipython",
    "version": 3
   },
   "file_extension": ".py",
   "mimetype": "text/x-python",
   "name": "python",
   "nbconvert_exporter": "python",
   "pygments_lexer": "ipython3",
   "version": "3.6.10"
  }
 },
 "nbformat": 4,
 "nbformat_minor": 2
}
