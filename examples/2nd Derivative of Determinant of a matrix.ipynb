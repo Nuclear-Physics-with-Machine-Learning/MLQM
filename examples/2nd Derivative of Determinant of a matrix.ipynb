{
 "cells": [
  {
   "cell_type": "markdown",
   "id": "94562c7c",
   "metadata": {},
   "source": [
    "In tensorflow, the 2nd derivative of a matrix determinant does not match the numerical expectation."
   ]
  },
  {
   "cell_type": "code",
   "execution_count": 1,
   "id": "498ecb51",
   "metadata": {},
   "outputs": [],
   "source": [
    "import tensorflow as tf\n",
    "import numpy\n",
    "\n",
    "DEFAULT_TENSOR_TYPE = \"float64\"\n",
    "\n",
    "nwalkers=1\n",
    "nparticles=2\n",
    "ndim=2"
   ]
  },
  {
   "cell_type": "code",
   "execution_count": 2,
   "id": "841e3add",
   "metadata": {},
   "outputs": [],
   "source": [
    "\n",
    "def generate_inputs(nwalkers, nparticles, ndim):\n",
    "\n",
    "    inputs = numpy.random.uniform(size=[nwalkers, nparticles, ndim])\n",
    "\n",
    "    return inputs"
   ]
  },
  {
   "cell_type": "code",
   "execution_count": 3,
   "id": "a46d7a20",
   "metadata": {},
   "outputs": [],
   "source": [
    "inputs = generate_inputs(nwalkers, nparticles, ndim)"
   ]
  },
  {
   "cell_type": "code",
   "execution_count": null,
   "id": "1c00bb35",
   "metadata": {},
   "outputs": [],
   "source": []
  },
  {
   "cell_type": "code",
   "execution_count": 4,
   "id": "b77ec63a",
   "metadata": {},
   "outputs": [],
   "source": [
    "# Create a low-level function for each row:\n",
    "class f:\n",
    "    def __init__(self, _alpha):\n",
    "        self.alpha = _alpha\n",
    "\n",
    "    def __call__(self, this_input):\n",
    "        return tf.exp(- tf.reduce_sum(self.alpha * this_input**2, axis=(2)))\n",
    "\n",
    "nets = []\n",
    "for i in range(nparticles):\n",
    "    val = numpy.random.random()\n",
    "    a = f(val)\n",
    "    nets.append(a)\n"
   ]
  },
  {
   "cell_type": "code",
   "execution_count": 5,
   "id": "98ca0cad",
   "metadata": {},
   "outputs": [],
   "source": [
    "def compute_matrix(inputs, _nets):\n",
    "    rows = [_n(inputs) for _n in _nets]\n",
    "    matrix = tf.stack(rows, axis=1)\n",
    "    return matrix"
   ]
  },
  {
   "cell_type": "code",
   "execution_count": 6,
   "id": "7bb93de7",
   "metadata": {},
   "outputs": [
    {
     "data": {
      "text/plain": [
       "<tf.Tensor: shape=(1, 2, 2), dtype=float64, numpy=\n",
       "array([[[0.5290295 , 0.61907671],\n",
       "        [0.89510065, 0.91992681]]])>"
      ]
     },
     "execution_count": 6,
     "metadata": {},
     "output_type": "execute_result"
    }
   ],
   "source": [
    "compute_matrix(inputs, nets)"
   ]
  },
  {
   "cell_type": "code",
   "execution_count": 7,
   "id": "9b683897",
   "metadata": {},
   "outputs": [],
   "source": [
    "detmat = lambda x : tf.reshape(tf.linalg.det(compute_matrix(x, nets)), (-1,1))"
   ]
  },
  {
   "cell_type": "code",
   "execution_count": 8,
   "id": "83bf52bd",
   "metadata": {},
   "outputs": [
    {
     "data": {
      "text/plain": [
       "<tf.Tensor: shape=(1, 1), dtype=float64, numpy=array([[-0.06746755]])>"
      ]
     },
     "execution_count": 8,
     "metadata": {},
     "output_type": "execute_result"
    }
   ],
   "source": [
    "detmat(inputs)"
   ]
  },
  {
   "cell_type": "markdown",
   "id": "5e6a4e26",
   "metadata": {},
   "source": [
    "## Tensorflow computation of derivatives of a callable:"
   ]
  },
  {
   "cell_type": "code",
   "execution_count": 12,
   "id": "3cca74d9",
   "metadata": {},
   "outputs": [],
   "source": [
    "@tf.function\n",
    "def derivatives(w, inputs):\n",
    "\n",
    "        n_walkers = inputs.shape[0]\n",
    "        n_particles = inputs.shape[1]\n",
    "        n_dim = inputs.shape[2]\n",
    "        # Using the outer-most tape to watch the computation of the first derivative:\n",
    "        with tf.GradientTape() as tape:\n",
    "            # Use the inner tape to watch the computation of the wavefunction:\n",
    "            tape.watch(inputs)\n",
    "            with tf.GradientTape() as second_tape:\n",
    "                second_tape.watch(inputs)\n",
    "                w_of_x = w(inputs)\n",
    "                print(\"w_of_x: \", w_of_x)\n",
    "            # Get the derivative of logw_of_x with respect to inputs\n",
    "            dw_dx = second_tape.jacobian(w_of_x, inputs)\n",
    "            print(dw_dx.shape)\n",
    "            dw_dx = tf.reshape(dw_dx, (n_walkers, n_particles, n_dim))\n",
    "\n",
    "\n",
    "            \n",
    "        # Get the derivative of dlogw_dx with respect to inputs (aka second derivative)\n",
    "\n",
    "        # We have to extract the diagonal of the jacobian, which comes out with shape\n",
    "        # [nwalkers, nparticles, dimension, nwalkers, nparticles, dimension]\n",
    "\n",
    "        # The indexes represent partial derivative indexes, so,\n",
    "        # d2w_dx2[i_w, n1,d1, n2, d2] represents the second derivative of the\n",
    "        # wavefunction at dimension d1\n",
    "\n",
    "        # This is the full hessian computation:\n",
    "        d2w_dx2 = tape.batch_jacobian(dw_dx, inputs)\n",
    "\n",
    "\n",
    "        \n",
    "        # Extract the diagonal parts:\n",
    "#         d2w_dx2 = tf.vectorized_map(tf.linalg.tensor_diag_part, d2w_dx2)\n",
    "#         print(d2w_dx2)\n",
    "\n",
    "        # # And this contracts:\n",
    "#         d2w_dx2 = tf.einsum(\"wpdpd->wpd\",d2w_dx2)\n",
    "        d2w_dx2 = tf.einsum(\"wpdpp->wpd\",d2w_dx2)\n",
    "#         print(d2w_dx2)\n",
    "        #\n",
    "        # print(\"First einsum: \", d2w_dx2[0])\n",
    "        #\n",
    "        # print(\"Method diff 0: \", d2w_dx2_t[0] - d2w_dx2[0])\n",
    "        # # TODO: test that the second derivative is correct with finite differences\n",
    "\n",
    "        return w_of_x, dw_dx, d2w_dx2"
   ]
  },
  {
   "cell_type": "code",
   "execution_count": 13,
   "id": "d8b4577a",
   "metadata": {
    "scrolled": false
   },
   "outputs": [
    {
     "name": "stdout",
     "output_type": "stream",
     "text": [
      "w_of_x:  Tensor(\"Reshape:0\", shape=(1, 1), dtype=float64)\n",
      "(1, 1, 1, 2, 2)\n"
     ]
    }
   ],
   "source": [
    "w_of_x, dw_dx, d2w_dx2 = derivatives(detmat, tf.convert_to_tensor(inputs))"
   ]
  },
  {
   "cell_type": "code",
   "execution_count": 14,
   "id": "a5b94f85",
   "metadata": {},
   "outputs": [
    {
     "name": "stdout",
     "output_type": "stream",
     "text": [
      "tf.Tensor(\n",
      "[[[-0.50746991  0.07901408]\n",
      "  [-0.82868638 -1.82150049]]], shape=(1, 2, 2), dtype=float64)\n"
     ]
    }
   ],
   "source": [
    "print(d2w_dx2)"
   ]
  },
  {
   "cell_type": "code",
   "execution_count": null,
   "id": "a28a6a88",
   "metadata": {},
   "outputs": [],
   "source": []
  },
  {
   "cell_type": "code",
   "execution_count": null,
   "id": "c8eb2279",
   "metadata": {},
   "outputs": [],
   "source": []
  },
  {
   "cell_type": "code",
   "execution_count": null,
   "id": "75244eeb",
   "metadata": {},
   "outputs": [],
   "source": []
  },
  {
   "cell_type": "code",
   "execution_count": 20,
   "id": "fdd6b853",
   "metadata": {},
   "outputs": [
    {
     "name": "stdout",
     "output_type": "stream",
     "text": [
      "(1, 2, 2)\n"
     ]
    }
   ],
   "source": [
    "print(inputs.shape)"
   ]
  },
  {
   "cell_type": "code",
   "execution_count": 21,
   "id": "6959747e",
   "metadata": {},
   "outputs": [
    {
     "data": {
      "text/plain": [
       "<tf.Tensor: shape=(1, 1), dtype=float64, numpy=array([[-0.06746755]])>"
      ]
     },
     "execution_count": 21,
     "metadata": {},
     "output_type": "execute_result"
    }
   ],
   "source": [
    "w_of_x"
   ]
  },
  {
   "cell_type": "code",
   "execution_count": 22,
   "id": "1ba57317",
   "metadata": {},
   "outputs": [
    {
     "data": {
      "text/plain": [
       "<tf.Tensor: shape=(1, 2, 2), dtype=float64, numpy=\n",
       "array([[[-0.12301516, -0.49675014],\n",
       "        [ 0.1708377 ,  0.50621721]]])>"
      ]
     },
     "execution_count": 22,
     "metadata": {},
     "output_type": "execute_result"
    }
   ],
   "source": [
    "dw_dx"
   ]
  },
  {
   "cell_type": "code",
   "execution_count": 23,
   "id": "bfedce03",
   "metadata": {},
   "outputs": [
    {
     "data": {
      "text/plain": [
       "<tf.Tensor: shape=(1, 2, 2), dtype=float64, numpy=\n",
       "array([[[-0.50746991,  0.07901408],\n",
       "        [-0.82868638, -1.82150049]]])>"
      ]
     },
     "execution_count": 23,
     "metadata": {},
     "output_type": "execute_result"
    }
   ],
   "source": [
    "d2w_dx2"
   ]
  },
  {
   "cell_type": "markdown",
   "id": "4ca1145b",
   "metadata": {},
   "source": [
    "# Compare with numerical derivatives"
   ]
  },
  {
   "cell_type": "code",
   "execution_count": 24,
   "id": "f54c1fcd",
   "metadata": {},
   "outputs": [],
   "source": [
    "def numerical_derivatives(f, x, dim, part, kick_size=1e-4):\n",
    "    # Get the shapes:\n",
    "    nwalkers = x.shape[0]\n",
    "    nparticles = x.shape[1]\n",
    "    # Placeholder for a kick:\n",
    "    kick = numpy.zeros(shape = x.shape)\n",
    "    kick_size = 1e-4\n",
    "    \n",
    "    walkers = numpy.arange(nwalkers)\n",
    "\n",
    "    if len(kick.shape) == 3:\n",
    "        # Not single-particle\n",
    "        kick[walkers,part, dim] += kick_size\n",
    "    elif len(kick.shape) == 2:\n",
    "        # single particle:\n",
    "        kick[walkers, dim] += kick_size\n",
    "\n",
    "#     print(kick)\n",
    "    \n",
    "    # x + dx:\n",
    "    kicked_up_input = x + \\\n",
    "            tf.convert_to_tensor(kick, dtype=DEFAULT_TENSOR_TYPE)\n",
    "\n",
    "#     # x + 2*dx:\n",
    "#     kicked_double_up_input = x + \\\n",
    "#         tf.convert_to_tensor(2*kick, dtype=DEFAULT_TENSOR_TYPE)\n",
    "    \n",
    "    # x - dx\n",
    "    kicked_down_input = x - \\\n",
    "        tf.convert_to_tensor(kick, dtype=DEFAULT_TENSOR_TYPE)\n",
    "\n",
    "#     # x - 2*dx\n",
    "#     kicked_double_down_input = x - \\\n",
    "#         tf.convert_to_tensor(2*kick, dtype=DEFAULT_TENSOR_TYPE)\n",
    "    \n",
    "    central_value = f(x)\n",
    "    w_up = f(kicked_up_input)\n",
    "    w_down = f(kicked_down_input)\n",
    "\n",
    "    \n",
    "    # Use numpy to make slicing easier\n",
    "    w_prime_fd = tf.reshape((w_up - w_down) / (2*kick_size), (nwalkers,)).numpy()\n",
    "    # What about the second derivative?\n",
    "\n",
    "    # https://math.stackexchange.com/questions/3756717/finite-differences-second-derivative-as-successive-application-of-the-first-deri\n",
    "    # This gives precision of O(kick**4)\n",
    "#     w_prime_prime_num = -w_down_down + 16*w_down - 30* w_of_x + 16 * w_up - w_up_up\n",
    "    w_prime_prime_num = w_up + w_down - 2*central_value\n",
    "    w_prime_prime_fd = tf.reshape(w_prime_prime_num/ (kick_size**2), (nwalkers,)).numpy()\n",
    "\n",
    "    return w_prime_fd, w_prime_prime_fd"
   ]
  },
  {
   "cell_type": "code",
   "execution_count": 25,
   "id": "f2a6e1c5",
   "metadata": {},
   "outputs": [
    {
     "name": "stdout",
     "output_type": "stream",
     "text": [
      "(1, 2, 2)\n",
      "(1, 2, 2)\n"
     ]
    }
   ],
   "source": [
    "\n",
    "first = []\n",
    "second = []\n",
    "for dim in range(ndim):\n",
    "    first.append([])\n",
    "    second.append([])\n",
    "    for part in range(nparticles):\n",
    "\n",
    "        t_num_dw_dx, t_num_d2w_dx2 = numerical_derivatives(detmat, inputs, dim, part, kick_size=1e-6)\n",
    "        first[dim].append(t_num_dw_dx)\n",
    "        second[dim].append(t_num_d2w_dx2)\n",
    "    # At the end of the loop, the list should be length n_particles, with nwalker entries each.\n",
    "    # stack and flip it\n",
    "    first[-1] = numpy.stack(first[-1]).T\n",
    "    second[-1] = numpy.stack(second[-1]).T\n",
    "\n",
    "num_dw_dx = numpy.stack(first, axis=-1)\n",
    "num_d2w_dx2 = numpy.stack(second, axis=-1)\n",
    "print(num_dw_dx.shape)\n",
    "print(num_d2w_dx2.shape)"
   ]
  },
  {
   "cell_type": "code",
   "execution_count": 26,
   "id": "cf08463e",
   "metadata": {},
   "outputs": [
    {
     "name": "stdout",
     "output_type": "stream",
     "text": [
      "(1, 2, 2)\n",
      "(1, 2, 2)\n"
     ]
    }
   ],
   "source": [
    "print(num_dw_dx.shape)\n",
    "print(num_d2w_dx2.shape)"
   ]
  },
  {
   "cell_type": "code",
   "execution_count": 27,
   "id": "0c286792",
   "metadata": {},
   "outputs": [
    {
     "name": "stdout",
     "output_type": "stream",
     "text": [
      "[[[-0.48034052  0.23441486]\n",
      "  [ 0.56258124  0.00677793]]]\n"
     ]
    }
   ],
   "source": [
    "print(num_d2w_dx2)"
   ]
  },
  {
   "cell_type": "code",
   "execution_count": 390,
   "id": "13daedf3",
   "metadata": {},
   "outputs": [],
   "source": [
    "# Check against tensorflow derivatives:"
   ]
  },
  {
   "cell_type": "code",
   "execution_count": 391,
   "id": "369b0cbc",
   "metadata": {},
   "outputs": [
    {
     "data": {
      "text/plain": [
       "<tf.Tensor: shape=(1, 2, 2), dtype=float64, numpy=\n",
       "array([[[ 2.27338068e-09,  1.13477260e-09],\n",
       "        [-1.84688673e-09, -2.03367861e-09]]])>"
      ]
     },
     "execution_count": 391,
     "metadata": {},
     "output_type": "execute_result"
    }
   ],
   "source": [
    "num_dw_dx - dw_dx"
   ]
  },
  {
   "cell_type": "code",
   "execution_count": 291,
   "id": "c097ab4d",
   "metadata": {},
   "outputs": [
    {
     "data": {
      "text/plain": [
       "array([[[[[[[-0.19548536, -0.52591633, -0.63573312],\n",
       "            [ 1.1818334 ,  0.77107426,  0.89058484]]],\n",
       "\n",
       "\n",
       "          [[[-0.28713068, -0.0014551 , -0.45978581],\n",
       "            [ 0.29752065,  0.4560978 ,  0.4358391 ]]],\n",
       "\n",
       "\n",
       "          [[[-0.44206962, -0.50490796, -0.03812006],\n",
       "            [ 0.64139798,  0.57858078,  0.61267331]]]],\n",
       "\n",
       "\n",
       "\n",
       "         [[[[-0.09396909, -0.47487514, -0.37448749],\n",
       "            [-0.78143362,  0.23464322,  0.11611512]]],\n",
       "\n",
       "\n",
       "          [[[-0.19410837, -0.48351478, -0.41870805],\n",
       "            [ 0.02230778, -0.09913718,  0.29431464]]],\n",
       "\n",
       "\n",
       "          [[[-0.16952467, -0.48139379, -0.40785212],\n",
       "            [-0.06276422,  0.32777074, -0.20664152]]]]]]])"
      ]
     },
     "execution_count": 291,
     "metadata": {},
     "output_type": "execute_result"
    }
   ],
   "source": [
    "num_d2w_dx2 - d2w_dx2"
   ]
  },
  {
   "cell_type": "code",
   "execution_count": 292,
   "id": "62440fea",
   "metadata": {},
   "outputs": [
    {
     "data": {
      "text/plain": [
       "array([[[[[[[ 7.83480563e-01,  1.07704734e+00,  1.43450527e+00],\n",
       "            [ 5.52203344e+00,  1.80851849e+00,  2.26669158e+00]]],\n",
       "\n",
       "\n",
       "          [[[ 1.15078339e+00,  2.97995424e-03,  1.03748750e+00],\n",
       "            [ 1.39014429e+00,  1.06975598e+00,  1.10928546e+00]]],\n",
       "\n",
       "\n",
       "          [[[ 1.77175904e+00,  1.03402337e+00,  8.60163352e-02],\n",
       "            [ 2.99688694e+00,  1.35703407e+00,  1.55935895e+00]]]],\n",
       "\n",
       "\n",
       "\n",
       "         [[[[ 3.76616196e-01,  9.72517822e-01,  8.45015402e-01],\n",
       "            [-3.65119362e+00,  5.50344659e-01,  2.95532953e-01]]],\n",
       "\n",
       "\n",
       "          [[[ 7.77961785e-01,  9.90211337e-01,  9.44797245e-01],\n",
       "            [ 1.04231511e-01, -2.32521602e-01,  7.49081377e-01]]],\n",
       "\n",
       "\n",
       "          [[[ 6.79433401e-01,  9.85867666e-01,  9.20301289e-01],\n",
       "            [-2.93261424e-01,  7.68770888e-01, -5.25938210e-01]]]]]]])"
      ]
     },
     "execution_count": 292,
     "metadata": {},
     "output_type": "execute_result"
    }
   ],
   "source": [
    "(num_d2w_dx2 - d2w_dx2)/num_d2w_dx2"
   ]
  },
  {
   "cell_type": "markdown",
   "id": "5cc1e5c6",
   "metadata": {},
   "source": [
    "There is quite poor agreement in the second derivative!"
   ]
  },
  {
   "cell_type": "markdown",
   "id": "06991da6",
   "metadata": {},
   "source": [
    "## Even simpler case"
   ]
  },
  {
   "cell_type": "markdown",
   "id": "5404d76a",
   "metadata": {},
   "source": [
    "Let's create a matrix of just one variable:"
   ]
  },
  {
   "cell_type": "code",
   "execution_count": 688,
   "id": "4ee39e66",
   "metadata": {},
   "outputs": [],
   "source": [
    "simple_inputs = tf.random.uniform((nwalkers,1), dtype=DEFAULT_TENSOR_TYPE)"
   ]
  },
  {
   "cell_type": "code",
   "execution_count": 689,
   "id": "7fc46c8a",
   "metadata": {},
   "outputs": [],
   "source": [
    "class simple_matrix:\n",
    "    \n",
    "    def __init__(self):\n",
    "        \n",
    "        self.weights = tf.random.uniform((1,2,2), dtype=DEFAULT_TENSOR_TYPE)\n",
    "        print(tf.reduce_sum(self.weights))\n",
    "        \n",
    "    def sm_base(self, x):\n",
    "        return tf.reshape(x**3, (-1, 1,1)) * self.weights\n",
    "    \n",
    "    def matrix_first_deriv(self,x):\n",
    "        return tf.reshape(3*x**2, (-1, 1, 1)) * self.weights\n",
    "            \n",
    "    \n",
    "    def __call__(self, x):\n",
    "        return tf.reshape(tf.linalg.det(self.sm_base(x)), (-1, 1))"
   ]
  },
  {
   "cell_type": "code",
   "execution_count": 690,
   "id": "5286fbf3",
   "metadata": {},
   "outputs": [
    {
     "name": "stdout",
     "output_type": "stream",
     "text": [
      "tf.Tensor(2.5066429626366755, shape=(), dtype=float64)\n"
     ]
    }
   ],
   "source": [
    "sm = simple_matrix()"
   ]
  },
  {
   "cell_type": "code",
   "execution_count": 691,
   "id": "a9335748",
   "metadata": {},
   "outputs": [
    {
     "data": {
      "text/plain": [
       "<tf.Tensor: shape=(4, 1), dtype=float64, numpy=\n",
       "array([[1.29166460e-03],\n",
       "       [1.42177728e-05],\n",
       "       [1.00243685e-06],\n",
       "       [6.45791307e-04]])>"
      ]
     },
     "execution_count": 691,
     "metadata": {},
     "output_type": "execute_result"
    }
   ],
   "source": [
    "sm(simple_inputs)"
   ]
  },
  {
   "cell_type": "code",
   "execution_count": 692,
   "id": "17538703",
   "metadata": {},
   "outputs": [],
   "source": [
    "def simple_derivatives(w, inputs):\n",
    "\n",
    "    \n",
    "        # Using the outer-most tape to watch the computation of the first derivative:\n",
    "        with tf.GradientTape() as tape:\n",
    "            # Use the inner tape to watch the computation of the wavefunction:\n",
    "            tape.watch(inputs)\n",
    "            with tf.GradientTape() as second_tape:\n",
    "                second_tape.watch(inputs)\n",
    "                w_of_x = w(inputs)\n",
    "\n",
    "            # Get the derivative of logw_of_x with respect to inputs\n",
    "            dw_dx = second_tape.batch_jacobian(w_of_x, inputs)\n",
    "\n",
    "        # Get the derivative of dlogw_dx with respect to inputs (aka second derivative)\n",
    "\n",
    "        # We have to extract the diagonal of the jacobian, which comes out with shape\n",
    "        # [nwalkers, nparticles, dimension, nwalkers, nparticles, dimension]\n",
    "\n",
    "        # The indexes represent partial derivative indexes, so,\n",
    "        # d2w_dx2[i_w, n1,d1, n2, d2] represents the second derivative of the\n",
    "        # wavefunction at dimension d1\n",
    "\n",
    "        # This is the full hessian computation:\n",
    "        print(\"dw_dx: \", dw_dx)\n",
    "        d2w_dx2 = tape.batch_jacobian(dw_dx, inputs)\n",
    "\n",
    "        print(\"d2w_dx2: \", d2w_dx2)\n",
    "        \n",
    "        # Extract the diagonal parts:\n",
    "#         d2w_dx2 = tf.linalg.tensor_diag_part(d2w_dx2)\n",
    "        \n",
    "#         print(tf.hessians(w_of_x, inputs))\n",
    "\n",
    "        # # And this contracts:\n",
    "        # d2w_dx2 = tf.einsum(\"wpdpd->wpd\",d2w_dx2)\n",
    "        #\n",
    "        # print(\"First einsum: \", d2w_dx2[0])\n",
    "        #\n",
    "        # print(\"Method diff 0: \", d2w_dx2_t[0] - d2w_dx2[0])\n",
    "        # # TODO: test that the second derivative is correct with finite differences\n",
    "\n",
    "        return w_of_x, tf.reshape(dw_dx, (-1,)), tf.reshape(d2w_dx2, (-1,))"
   ]
  },
  {
   "cell_type": "code",
   "execution_count": 693,
   "id": "7998beec",
   "metadata": {},
   "outputs": [],
   "source": [
    "def simple_numerical_derivatives(f, x, kick_size=1e-5):\n",
    "    # Get the shapes:\n",
    "    nwalkers = x.shape[0]\n",
    "    # Placeholder for a kick:\n",
    "    kick = numpy.zeros(shape = x.shape) + kick_size\n",
    "    \n",
    "#     print(kick)\n",
    "    \n",
    "    # x + dx:\n",
    "    kicked_up_input = x + \\\n",
    "            tf.convert_to_tensor(kick, dtype=DEFAULT_TENSOR_TYPE)\n",
    "\n",
    "    # x + 2*dx:\n",
    "    kicked_double_up_input = x + \\\n",
    "        tf.convert_to_tensor(2*kick, dtype=DEFAULT_TENSOR_TYPE)\n",
    "    \n",
    "    # x - dx\n",
    "    kicked_down_input = x - \\\n",
    "        tf.convert_to_tensor(kick, dtype=DEFAULT_TENSOR_TYPE)\n",
    "\n",
    "    # x - 2*dx\n",
    "    kicked_double_down_input = x - \\\n",
    "        tf.convert_to_tensor(2*kick, dtype=DEFAULT_TENSOR_TYPE)\n",
    "    \n",
    "    central_value = f(x)\n",
    "    w_up = f(kicked_up_input)\n",
    "    w_down = f(kicked_down_input)\n",
    "    w_up_up = f(kicked_double_up_input)\n",
    "    w_down_down = f(kicked_double_down_input)\n",
    "\n",
    "    print(w_up)\n",
    "    print(w_down_down)\n",
    "    \n",
    "    # Use numpy to make slicing easier\n",
    "    w_prime_fd = tf.reshape((w_up - w_down) / (2*kick_size), (nwalkers,)).numpy()\n",
    "    # What about the second derivative?\n",
    "\n",
    "    # https://math.stackexchange.com/questions/3756717/finite-differences-second-derivative-as-successive-application-of-the-first-deri\n",
    "    # This gives precision of O(kick**4)\n",
    "    w_prime_prime_num = -w_down_down + 16*w_down - 30* central_value + 16 * w_up - w_up_up\n",
    "    print(w_prime_prime_num)\n",
    "#     w_prime_prime_num = w_up + w_down - 2*central_value\n",
    "    w_prime_prime_fd = tf.reshape(w_prime_prime_num/ (12*kick_size**2), (nwalkers,)).numpy()\n",
    "\n",
    "    return w_prime_fd, w_prime_prime_fd"
   ]
  },
  {
   "cell_type": "code",
   "execution_count": 694,
   "id": "9ff52aa4",
   "metadata": {},
   "outputs": [
    {
     "name": "stdout",
     "output_type": "stream",
     "text": [
      "dw_dx:  tf.Tensor(\n",
      "[[[1.29393773e-02]]\n",
      "\n",
      " [[3.01982345e-04]]\n",
      "\n",
      " [[3.31260329e-05]]\n",
      "\n",
      " [[7.26159581e-03]]], shape=(4, 1, 1), dtype=float64)\n",
      "d2w_dx2:  tf.Tensor(\n",
      "[[[[0.12360076]]]\n",
      "\n",
      "\n",
      " [[[0.00611612]]]\n",
      "\n",
      "\n",
      " [[[0.00104382]]]\n",
      "\n",
      "\n",
      " [[[0.0778603 ]]]], shape=(4, 1, 1, 1), dtype=float64)\n"
     ]
    }
   ],
   "source": [
    "sm_of_x, dsm_dx, d2sm_dx2 = simple_derivatives(sm, simple_inputs)"
   ]
  },
  {
   "cell_type": "code",
   "execution_count": 695,
   "id": "3992df72",
   "metadata": {},
   "outputs": [
    {
     "data": {
      "text/plain": [
       "<tf.Tensor: shape=(4, 1), dtype=float64, numpy=\n",
       "array([[1.29166460e-03],\n",
       "       [1.42177728e-05],\n",
       "       [1.00243685e-06],\n",
       "       [6.45791307e-04]])>"
      ]
     },
     "execution_count": 695,
     "metadata": {},
     "output_type": "execute_result"
    }
   ],
   "source": [
    "sm_of_x"
   ]
  },
  {
   "cell_type": "code",
   "execution_count": 696,
   "id": "4d33ff0f",
   "metadata": {},
   "outputs": [
    {
     "data": {
      "text/plain": [
       "<tf.Tensor: shape=(4,), dtype=float64, numpy=array([1.29393773e-02, 3.01982345e-04, 3.31260329e-05, 7.26159581e-03])>"
      ]
     },
     "execution_count": 696,
     "metadata": {},
     "output_type": "execute_result"
    }
   ],
   "source": [
    "dsm_dx"
   ]
  },
  {
   "cell_type": "code",
   "execution_count": 697,
   "id": "d8820cc1",
   "metadata": {},
   "outputs": [
    {
     "data": {
      "text/plain": [
       "<tf.Tensor: shape=(4,), dtype=float64, numpy=array([0.12360076, 0.00611612, 0.00104382, 0.0778603 ])>"
      ]
     },
     "execution_count": 697,
     "metadata": {},
     "output_type": "execute_result"
    }
   ],
   "source": [
    "d2sm_dx2"
   ]
  },
  {
   "cell_type": "code",
   "execution_count": 698,
   "id": "0434e6b6",
   "metadata": {},
   "outputs": [
    {
     "name": "stdout",
     "output_type": "stream",
     "text": [
      "tf.Tensor(\n",
      "[[1.42658102e-03]\n",
      " [1.75178017e-05]\n",
      " [1.38279914e-06]\n",
      " [7.21895689e-04]], shape=(4, 1), dtype=float64)\n",
      "tf.Tensor(\n",
      "[[1.05354256e-03]\n",
      " [9.15142762e-06]\n",
      " [4.97683121e-07]\n",
      " [5.13506943e-04]], shape=(4, 1), dtype=float64)\n",
      "tf.Tensor(\n",
      "[[1.29621482e-04]\n",
      " [6.41403539e-06]\n",
      " [1.09466383e-06]\n",
      " [8.16529604e-05]], shape=(4, 1), dtype=float64)\n"
     ]
    }
   ],
   "source": [
    "part=0; dim=0\n",
    "num_dsm_dx, num_d2sm_dx2 = simple_numerical_derivatives(sm, simple_inputs,kick_size=1e-2)"
   ]
  },
  {
   "cell_type": "code",
   "execution_count": 699,
   "id": "bfe4e80a",
   "metadata": {},
   "outputs": [
    {
     "data": {
      "text/plain": [
       "array([1.29514014e-02, 3.03244233e-04, 3.34612803e-05, 7.27009806e-03])"
      ]
     },
     "execution_count": 699,
     "metadata": {},
     "output_type": "execute_result"
    }
   ],
   "source": [
    "num_dsm_dx"
   ]
  },
  {
   "cell_type": "code",
   "execution_count": 700,
   "id": "3593ba5e",
   "metadata": {},
   "outputs": [
    {
     "data": {
      "text/plain": [
       "<tf.Tensor: shape=(4,), dtype=float64, numpy=array([0.00092927, 0.00417868, 0.01012036, 0.00117085])>"
      ]
     },
     "execution_count": 700,
     "metadata": {},
     "output_type": "execute_result"
    }
   ],
   "source": [
    "(num_dsm_dx - dsm_dx) / dsm_dx"
   ]
  },
  {
   "cell_type": "code",
   "execution_count": 701,
   "id": "f4fe5b3c",
   "metadata": {},
   "outputs": [
    {
     "data": {
      "text/plain": [
       "array([0.1080179 , 0.00534503, 0.00091222, 0.06804413])"
      ]
     },
     "execution_count": 701,
     "metadata": {},
     "output_type": "execute_result"
    }
   ],
   "source": [
    "num_d2sm_dx2"
   ]
  },
  {
   "cell_type": "code",
   "execution_count": 702,
   "id": "15bf3347",
   "metadata": {},
   "outputs": [
    {
     "data": {
      "text/plain": [
       "<tf.Tensor: shape=(4,), dtype=float64, numpy=array([-0.01558286, -0.00077109, -0.0001316 , -0.00981617])>"
      ]
     },
     "execution_count": 702,
     "metadata": {},
     "output_type": "execute_result"
    }
   ],
   "source": [
    "(num_d2sm_dx2 - d2sm_dx2)"
   ]
  },
  {
   "cell_type": "code",
   "execution_count": 703,
   "id": "28ea3d67",
   "metadata": {},
   "outputs": [
    {
     "data": {
      "text/plain": [
       "<tf.Tensor: shape=(4,), dtype=float64, numpy=array([-0.14426179, -0.14426225, -0.14426458, -0.14426181])>"
      ]
     },
     "execution_count": 703,
     "metadata": {},
     "output_type": "execute_result"
    }
   ],
   "source": [
    "(num_d2sm_dx2 - d2sm_dx2) / num_d2sm_dx2"
   ]
  },
  {
   "cell_type": "markdown",
   "id": "eaafdf58",
   "metadata": {},
   "source": [
    "# Analytic Derivatives"
   ]
  },
  {
   "cell_type": "markdown",
   "id": "c7ebeb8f",
   "metadata": {},
   "source": [
    "By Jacobi's formula, for a matrix A:\n",
    "\n",
    "$ \\frac{\\partial det(A)}{\\partial t} = det(A) tr[A^{-1} \\frac{\\partial A}{\\partial t }] $"
   ]
  },
  {
   "cell_type": "code",
   "execution_count": 336,
   "id": "842a9ca6",
   "metadata": {},
   "outputs": [],
   "source": [
    "def jacobi_formula(A_callable, inputs):\n",
    "    with tf.GradientTape() as tape:\n",
    "        tape.watch(inputs)\n",
    "        matrix = A_callable.sm_base(inputs)\n",
    "    print(\"matrix.shape: \", matrix.shape)\n",
    "    inverse = tf.linalg.inv(matrix)\n",
    "    print(\"inverse: \", inverse)\n",
    "    print(inputs.shape)\n",
    "    partial = A_callable.matrix_first_deriv(inputs)\n",
    "    print(\"partial: \", partial)\n",
    "    partial = tape.batch_jacobian(matrix, inputs)\n",
    "    print(\"partial: \", partial)\n",
    "    product = tf.matmul(inverse, partial)\n",
    "    print(\"product: \", product)\n",
    "    \n",
    "    return tf.linalg.det(matrix) * tf.linalg.trace(product)\n"
   ]
  },
  {
   "cell_type": "code",
   "execution_count": 337,
   "id": "a01654ea",
   "metadata": {},
   "outputs": [
    {
     "name": "stdout",
     "output_type": "stream",
     "text": [
      "matrix.shape:  (4, 2, 2)\n",
      "inverse:  tf.Tensor(\n",
      "[[[ 3.39209789e+07 -1.96147934e+07]\n",
      "  [-9.55033055e+06  1.14404444e+07]]\n",
      "\n",
      " [[ 5.92428478e+02 -3.42571546e+02]\n",
      "  [-1.66796124e+02  1.99806882e+02]]\n",
      "\n",
      " [[ 2.59318320e+02 -1.49950722e+02]\n",
      "  [-7.30101476e+01  8.74596463e+01]]\n",
      "\n",
      " [[ 1.99946036e+01 -1.15618721e+01]\n",
      "  [-5.62940929e+00  6.74353034e+00]]], shape=(4, 2, 2), dtype=float64)\n",
      "(4, 1)\n",
      "partial:  tf.Tensor(\n",
      "[[[2.90427976e-05 4.97942612e-05]\n",
      "  [2.42445406e-05 8.61120507e-05]]\n",
      "\n",
      " [[4.31446300e-02 7.39720396e-02]\n",
      "  [3.60165624e-02 1.27924059e-01]]\n",
      "\n",
      " [[7.48391018e-02 1.28312631e-01]\n",
      "  [6.24746852e-02 2.21898338e-01]]\n",
      "\n",
      " [[4.13119315e-01 7.08298537e-01]\n",
      "  [3.44866501e-01 1.22490098e+00]]], shape=(4, 2, 2), dtype=float64)\n",
      "partial:  tf.Tensor(\n",
      "[[[[2.90427976e-05]\n",
      "   [4.97942612e-05]]\n",
      "\n",
      "  [[2.42445406e-05]\n",
      "   [8.61120507e-05]]]\n",
      "\n",
      "\n",
      " [[[4.31446300e-02]\n",
      "   [7.39720396e-02]]\n",
      "\n",
      "  [[3.60165624e-02]\n",
      "   [1.27924059e-01]]]\n",
      "\n",
      "\n",
      " [[[7.48391018e-02]\n",
      "   [1.28312631e-01]]\n",
      "\n",
      "  [[6.24746852e-02]\n",
      "   [2.21898338e-01]]]\n",
      "\n",
      "\n",
      " [[[4.13119315e-01]\n",
      "   [7.08298537e-01]]\n",
      "\n",
      "  [[3.44866501e-01]\n",
      "   [1.22490098e+00]]]], shape=(4, 2, 2, 1), dtype=float64)\n"
     ]
    },
    {
     "ename": "InvalidArgumentError",
     "evalue": "In[0] and In[1] must have compatible batch dimensions: [4,2,2] vs. [4,2,2,1] [Op:BatchMatMulV2]",
     "output_type": "error",
     "traceback": [
      "\u001b[0;31m---------------------------------------------------------------------------\u001b[0m",
      "\u001b[0;31mInvalidArgumentError\u001b[0m                      Traceback (most recent call last)",
      "\u001b[0;32m/var/folders/f_/5dsy8_2x1wd93w36cdk7twz9s8nq7s/T/ipykernel_11068/3659324693.py\u001b[0m in \u001b[0;36m<module>\u001b[0;34m\u001b[0m\n\u001b[0;32m----> 1\u001b[0;31m \u001b[0mjacobi_formula\u001b[0m\u001b[0;34m(\u001b[0m\u001b[0msm\u001b[0m\u001b[0;34m,\u001b[0m \u001b[0msimple_inputs\u001b[0m\u001b[0;34m)\u001b[0m\u001b[0;34m\u001b[0m\u001b[0;34m\u001b[0m\u001b[0m\n\u001b[0m",
      "\u001b[0;32m/var/folders/f_/5dsy8_2x1wd93w36cdk7twz9s8nq7s/T/ipykernel_11068/1074446910.py\u001b[0m in \u001b[0;36mjacobi_formula\u001b[0;34m(A_callable, inputs)\u001b[0m\n\u001b[1;32m     11\u001b[0m     \u001b[0mpartial\u001b[0m \u001b[0;34m=\u001b[0m \u001b[0mtape\u001b[0m\u001b[0;34m.\u001b[0m\u001b[0mbatch_jacobian\u001b[0m\u001b[0;34m(\u001b[0m\u001b[0mmatrix\u001b[0m\u001b[0;34m,\u001b[0m \u001b[0minputs\u001b[0m\u001b[0;34m)\u001b[0m\u001b[0;34m\u001b[0m\u001b[0;34m\u001b[0m\u001b[0m\n\u001b[1;32m     12\u001b[0m     \u001b[0mprint\u001b[0m\u001b[0;34m(\u001b[0m\u001b[0;34m\"partial: \"\u001b[0m\u001b[0;34m,\u001b[0m \u001b[0mpartial\u001b[0m\u001b[0;34m)\u001b[0m\u001b[0;34m\u001b[0m\u001b[0;34m\u001b[0m\u001b[0m\n\u001b[0;32m---> 13\u001b[0;31m     \u001b[0mproduct\u001b[0m \u001b[0;34m=\u001b[0m \u001b[0mtf\u001b[0m\u001b[0;34m.\u001b[0m\u001b[0mmatmul\u001b[0m\u001b[0;34m(\u001b[0m\u001b[0minverse\u001b[0m\u001b[0;34m,\u001b[0m \u001b[0mpartial\u001b[0m\u001b[0;34m)\u001b[0m\u001b[0;34m\u001b[0m\u001b[0;34m\u001b[0m\u001b[0m\n\u001b[0m\u001b[1;32m     14\u001b[0m     \u001b[0mprint\u001b[0m\u001b[0;34m(\u001b[0m\u001b[0;34m\"product: \"\u001b[0m\u001b[0;34m,\u001b[0m \u001b[0mproduct\u001b[0m\u001b[0;34m)\u001b[0m\u001b[0;34m\u001b[0m\u001b[0;34m\u001b[0m\u001b[0m\n\u001b[1;32m     15\u001b[0m \u001b[0;34m\u001b[0m\u001b[0m\n",
      "\u001b[0;32m~/SOFTWARE/larcv-env/lib/python3.8/site-packages/tensorflow/python/util/traceback_utils.py\u001b[0m in \u001b[0;36merror_handler\u001b[0;34m(*args, **kwargs)\u001b[0m\n\u001b[1;32m    151\u001b[0m     \u001b[0;32mexcept\u001b[0m \u001b[0mException\u001b[0m \u001b[0;32mas\u001b[0m \u001b[0me\u001b[0m\u001b[0;34m:\u001b[0m\u001b[0;34m\u001b[0m\u001b[0;34m\u001b[0m\u001b[0m\n\u001b[1;32m    152\u001b[0m       \u001b[0mfiltered_tb\u001b[0m \u001b[0;34m=\u001b[0m \u001b[0m_process_traceback_frames\u001b[0m\u001b[0;34m(\u001b[0m\u001b[0me\u001b[0m\u001b[0;34m.\u001b[0m\u001b[0m__traceback__\u001b[0m\u001b[0;34m)\u001b[0m\u001b[0;34m\u001b[0m\u001b[0;34m\u001b[0m\u001b[0m\n\u001b[0;32m--> 153\u001b[0;31m       \u001b[0;32mraise\u001b[0m \u001b[0me\u001b[0m\u001b[0;34m.\u001b[0m\u001b[0mwith_traceback\u001b[0m\u001b[0;34m(\u001b[0m\u001b[0mfiltered_tb\u001b[0m\u001b[0;34m)\u001b[0m \u001b[0;32mfrom\u001b[0m \u001b[0;32mNone\u001b[0m\u001b[0;34m\u001b[0m\u001b[0;34m\u001b[0m\u001b[0m\n\u001b[0m\u001b[1;32m    154\u001b[0m     \u001b[0;32mfinally\u001b[0m\u001b[0;34m:\u001b[0m\u001b[0;34m\u001b[0m\u001b[0;34m\u001b[0m\u001b[0m\n\u001b[1;32m    155\u001b[0m       \u001b[0;32mdel\u001b[0m \u001b[0mfiltered_tb\u001b[0m\u001b[0;34m\u001b[0m\u001b[0;34m\u001b[0m\u001b[0m\n",
      "\u001b[0;32m~/SOFTWARE/larcv-env/lib/python3.8/site-packages/tensorflow/python/framework/ops.py\u001b[0m in \u001b[0;36mraise_from_not_ok_status\u001b[0;34m(e, name)\u001b[0m\n\u001b[1;32m   7184\u001b[0m \u001b[0;32mdef\u001b[0m \u001b[0mraise_from_not_ok_status\u001b[0m\u001b[0;34m(\u001b[0m\u001b[0me\u001b[0m\u001b[0;34m,\u001b[0m \u001b[0mname\u001b[0m\u001b[0;34m)\u001b[0m\u001b[0;34m:\u001b[0m\u001b[0;34m\u001b[0m\u001b[0;34m\u001b[0m\u001b[0m\n\u001b[1;32m   7185\u001b[0m   \u001b[0me\u001b[0m\u001b[0;34m.\u001b[0m\u001b[0mmessage\u001b[0m \u001b[0;34m+=\u001b[0m \u001b[0;34m(\u001b[0m\u001b[0;34m\" name: \"\u001b[0m \u001b[0;34m+\u001b[0m \u001b[0mname\u001b[0m \u001b[0;32mif\u001b[0m \u001b[0mname\u001b[0m \u001b[0;32mis\u001b[0m \u001b[0;32mnot\u001b[0m \u001b[0;32mNone\u001b[0m \u001b[0;32melse\u001b[0m \u001b[0;34m\"\"\u001b[0m\u001b[0;34m)\u001b[0m\u001b[0;34m\u001b[0m\u001b[0;34m\u001b[0m\u001b[0m\n\u001b[0;32m-> 7186\u001b[0;31m   \u001b[0;32mraise\u001b[0m \u001b[0mcore\u001b[0m\u001b[0;34m.\u001b[0m\u001b[0m_status_to_exception\u001b[0m\u001b[0;34m(\u001b[0m\u001b[0me\u001b[0m\u001b[0;34m)\u001b[0m \u001b[0;32mfrom\u001b[0m \u001b[0;32mNone\u001b[0m  \u001b[0;31m# pylint: disable=protected-access\u001b[0m\u001b[0;34m\u001b[0m\u001b[0;34m\u001b[0m\u001b[0m\n\u001b[0m\u001b[1;32m   7187\u001b[0m \u001b[0;34m\u001b[0m\u001b[0m\n\u001b[1;32m   7188\u001b[0m \u001b[0;34m\u001b[0m\u001b[0m\n",
      "\u001b[0;31mInvalidArgumentError\u001b[0m: In[0] and In[1] must have compatible batch dimensions: [4,2,2] vs. [4,2,2,1] [Op:BatchMatMulV2]"
     ]
    }
   ],
   "source": [
    "jacobi_formula(sm, simple_inputs)"
   ]
  },
  {
   "cell_type": "code",
   "execution_count": 304,
   "id": "bfe017a9",
   "metadata": {},
   "outputs": [
    {
     "name": "stdout",
     "output_type": "stream",
     "text": [
      "tf.Tensor([-5.82653770e-01 -1.74059201e-02 -1.19563478e-04 -4.90531300e-02], shape=(4,), dtype=float64)\n"
     ]
    }
   ],
   "source": [
    "print(dsm_dx)"
   ]
  },
  {
   "cell_type": "code",
   "execution_count": null,
   "id": "2c4a561b",
   "metadata": {},
   "outputs": [],
   "source": []
  }
 ],
 "metadata": {
  "kernelspec": {
   "display_name": "Python 3 (ipykernel)",
   "language": "python",
   "name": "python3"
  },
  "language_info": {
   "codemirror_mode": {
    "name": "ipython",
    "version": 3
   },
   "file_extension": ".py",
   "mimetype": "text/x-python",
   "name": "python",
   "nbconvert_exporter": "python",
   "pygments_lexer": "ipython3",
   "version": "3.8.6"
  }
 },
 "nbformat": 4,
 "nbformat_minor": 5
}
